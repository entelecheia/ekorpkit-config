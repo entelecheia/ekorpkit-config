{
 "cells": [
  {
   "cell_type": "markdown",
   "metadata": {
    "id": "AESO0odcxhzs"
   },
   "source": [
    "# LM Dictionary vs. finbert vs. T5"
   ]
  },
  {
   "cell_type": "markdown",
   "metadata": {
    "id": "pzjBtQqpnqcy"
   },
   "source": [
    "## Prepare `financial_phrasebank` dataset"
   ]
  },
  {
   "cell_type": "code",
   "execution_count": 1,
   "metadata": {
    "colab": {
     "base_uri": "https://localhost:8080/"
    },
    "id": "RdpBCIbBny8z",
    "outputId": "0b8e14c5-ba5c-4782-dcf8-e86524138efd"
   },
   "outputs": [
    {
     "data": {
      "text/plain": [
       "{'name': 'financial_phrasebank',\n",
       " 'domain': 'econ',\n",
       " 'task': 'classification',\n",
       " 'lang': 'en',\n",
       " 'column_info': {'keys': {'id': 'id', 'text': 'text'},\n",
       "  'data': {'id': 'int', 'labels': 'str', 'text': 'str'}},\n",
       " 'splits': {'train': {'name': 'train',\n",
       "   'dataset_name': 'financial_phrasebank',\n",
       "   'data_file': 'financial_phrasebank-train.csv',\n",
       "   'num_examples': 1445,\n",
       "   'num_bytes': 176485,\n",
       "   'num_bytes_median': 112.0,\n",
       "   'num_bytes_max': 315,\n",
       "   'num_bytes_min': 15,\n",
       "   'human_bytes': '172.35 KiB'},\n",
       "  'test': {'name': 'test',\n",
       "   'dataset_name': 'financial_phrasebank',\n",
       "   'data_file': 'financial_phrasebank-test.csv',\n",
       "   'num_examples': 452,\n",
       "   'num_bytes': 55518,\n",
       "   'num_bytes_median': 110.0,\n",
       "   'num_bytes_max': 296,\n",
       "   'num_bytes_min': 11,\n",
       "   'human_bytes': '54.22 KiB'},\n",
       "  'dev': {'name': 'dev',\n",
       "   'dataset_name': 'financial_phrasebank',\n",
       "   'data_file': 'financial_phrasebank-dev.csv',\n",
       "   'num_examples': 362,\n",
       "   'num_bytes': 43404,\n",
       "   'num_bytes_median': 109.0,\n",
       "   'num_bytes_max': 296,\n",
       "   'num_bytes_min': 9,\n",
       "   'human_bytes': '42.39 KiB'}},\n",
       " 'num_examples': 2259,\n",
       " 'size_in_bytes': 275407,\n",
       " 'size_in_human_bytes': '268.95 KiB',\n",
       " 'data_files': {'train': 'financial_phrasebank-train.csv',\n",
       "  'test': 'financial_phrasebank-test.csv',\n",
       "  'dev': 'financial_phrasebank-dev.csv'},\n",
       " 'meta_files': {},\n",
       " 'data_files_modified': '2022-04-22 03:18:20',\n",
       " 'info_updated': '2022-04-22 03:18:20'}"
      ]
     },
     "execution_count": 1,
     "metadata": {},
     "output_type": "execute_result"
    }
   ],
   "source": [
    "%config InlineBackend.figure_format='retina'\n",
    "from ekorpkit import eKonf\n",
    "\n",
    "ds_cfg = eKonf.compose(config_group='dataset=dataset')\n",
    "ds_cfg['name'] = 'financial_phrasebank'\n",
    "ds_cfg.data_dir = \"${cached_path:'https://github.com/entelecheia/ekorpkit-config/raw/main/data/financial_phrasebank.zip',true,false}\"\n",
    "ds_cfg.use_name_as_subdir = True\n",
    "ds = eKonf.instantiate(ds_cfg)\n",
    "ds.info"
   ]
  },
  {
   "cell_type": "markdown",
   "metadata": {
    "id": "dOpN8AxSxhzv"
   },
   "source": [
    "## Compose a config for the LM sentiment analyser class"
   ]
  },
  {
   "cell_type": "code",
   "execution_count": 2,
   "metadata": {
    "id": "w7F_qmC8nUue"
   },
   "outputs": [],
   "source": [
    "from ekorpkit import eKonf\n",
    "\n",
    "config_group='model/sentiment=lm'\n",
    "model_cfg = eKonf.compose(config_group=config_group)\n",
    "model_cfg.preprocessor.tokenizer.nltk.lemmatize = True"
   ]
  },
  {
   "cell_type": "markdown",
   "metadata": {
    "id": "U26yEB4gotyT"
   },
   "source": [
    "## Instantiating a sentiment analyser class with `financial_phrasebank` dataset"
   ]
  },
  {
   "cell_type": "code",
   "execution_count": 3,
   "metadata": {
    "colab": {
     "base_uri": "https://localhost:8080/",
     "height": 1000,
     "referenced_widgets": [
      "98d3daeac3be453d9b44a5053a7abe6a",
      "5ee05bf96c1f463aa509c16a7395c463",
      "fe195a0b0fda444195955889592bc45d",
      "f3dea9dfc37142049fd737f8a50ec026",
      "9ac22990f27c49f993d88d3ce48eb3d1",
      "77888040987d46e9ab75f84604fa5f3d",
      "0e708cb7b3ca4c3e929fd2e18774ad4a",
      "cb40768df2e947c6ac166b516caec7a0",
      "01236e6336c24feaa8d7f0ff5d21f85b",
      "153558da0003458e81b24369e30bb336",
      "58e26bce8bd14bb39260dffde0d0ed03",
      "c9778ba2f46f4642a2711338c26326ad",
      "1939e0c2882d4cbe9c16769dca5adacf",
      "fd4d844e984c404f8bd6ccb8557d704c",
      "3456fc79473744bd984e0b44ce6a2f05",
      "1add5a42907f439eaee6e66c5f138448",
      "bfe773099e5a47babe3b38f20d507fea",
      "01c9d41660994ba39d8d8ccf1d8e6519",
      "e6b0949807e84cf698ef7988867a557c",
      "817a64b1ca944b2cbafaf50debae77df",
      "17a21cff535d4d73be349d58006aff71",
      "cca29ad5f884456a865889ec15f57a4e",
      "298b15837d004c49ae71e0f97af12583",
      "c55169f8451a452e83d69bb1ea45cbde",
      "732ec6cb7017488eae53280001311c0d",
      "777e5c0fe59e4949997339bafe3b8add",
      "43f4cbd0d15040269fcb84cc2637939a",
      "cde1ed6117fc47d18d4422f1e1f46ca6",
      "51386331618f4eb0870e722625c6bbd8",
      "7da2dc345f174083af474ad6fd2be411",
      "480c016aec26423a9bf317787a09fdb0",
      "bcccaa6e2f624e998c05e8816d856e19",
      "3215e7b5c35a499b8311c4ad23b24052"
     ]
    },
    "id": "SEBHqvYvnUui",
    "outputId": "ae90c601-0991-46c0-9d7c-157dbc48b06b"
   },
   "outputs": [
    {
     "name": "stdout",
     "output_type": "stream",
     "text": [
      "{'autoload': True,\n",
      " 'column_info': {'data': {'id': 'int', 'labels': 'str', 'text': 'str'},\n",
      "                 'keys': {'id': 'id', 'text': 'text'}},\n",
      " 'data_dir': '/root/.ekorpkit/.cache/cached_path/49a839699a03cebce770185da2650f8f9617b2a6b123483c9dd844fc72152cbf.93114266beb1264222949b1d3eb5704095408b3d0edee605c8ff6ece6921f321-extracted',\n",
      " 'data_files': {'dev': 'financial_phrasebank-dev.csv',\n",
      "                'test': 'financial_phrasebank-test.csv',\n",
      "                'train': 'financial_phrasebank-train.csv'},\n",
      " 'data_files_modified': '2022-04-22 03:18:20',\n",
      " 'domain': 'econ',\n",
      " 'filetype': 'csv',\n",
      " 'info_updated': '2022-04-22 03:18:20',\n",
      " 'lang': 'en',\n",
      " 'meta_files': {},\n",
      " 'name': 'financial_phrasebank',\n",
      " 'num_examples': 2259,\n",
      " 'size_in_bytes': 275407,\n",
      " 'size_in_human_bytes': '268.95 KiB',\n",
      " 'splits': {'dev': {'data_file': 'financial_phrasebank-dev.csv',\n",
      "                    'dataset_name': 'financial_phrasebank',\n",
      "                    'human_bytes': '42.39 KiB',\n",
      "                    'name': 'dev',\n",
      "                    'num_bytes': 43404,\n",
      "                    'num_bytes_max': 296,\n",
      "                    'num_bytes_median': 109.0,\n",
      "                    'num_bytes_min': 9,\n",
      "                    'num_examples': 362},\n",
      "            'test': {'data_file': 'financial_phrasebank-test.csv',\n",
      "                     'dataset_name': 'financial_phrasebank',\n",
      "                     'human_bytes': '54.22 KiB',\n",
      "                     'name': 'test',\n",
      "                     'num_bytes': 55518,\n",
      "                     'num_bytes_max': 296,\n",
      "                     'num_bytes_median': 110.0,\n",
      "                     'num_bytes_min': 11,\n",
      "                     'num_examples': 452},\n",
      "            'train': {'data_file': 'financial_phrasebank-train.csv',\n",
      "                      'dataset_name': 'financial_phrasebank',\n",
      "                      'human_bytes': '172.35 KiB',\n",
      "                      'name': 'train',\n",
      "                      'num_bytes': 176485,\n",
      "                      'num_bytes_max': 315,\n",
      "                      'num_bytes_median': 112.0,\n",
      "                      'num_bytes_min': 15,\n",
      "                      'num_examples': 1445}},\n",
      " 'task': 'classification',\n",
      " 'use_name_as_subdir': True,\n",
      " 'verbose': True}\n"
     ]
    },
    {
     "data": {
      "application/vnd.jupyter.widget-view+json": {
       "model_id": "2597de06f0c247879d4c43e7eb35634b",
       "version_major": 2,
       "version_minor": 0
      },
      "text/plain": [
       "Predicting [text]:   0%|          | 0/1445 [00:00<?, ?it/s]"
      ]
     },
     "metadata": {},
     "output_type": "display_data"
    },
    {
     "name": "stdout",
     "output_type": "stream",
     "text": [
      " >> saved dataframe to ./data/predict/financial_phrasebank-train.parquet\n"
     ]
    },
    {
     "data": {
      "application/vnd.jupyter.widget-view+json": {
       "model_id": "07d4180a859f4960a243836faa545593",
       "version_major": 2,
       "version_minor": 0
      },
      "text/plain": [
       "Predicting [text]:   0%|          | 0/452 [00:00<?, ?it/s]"
      ]
     },
     "metadata": {},
     "output_type": "display_data"
    },
    {
     "name": "stdout",
     "output_type": "stream",
     "text": [
      " >> saved dataframe to ./data/predict/financial_phrasebank-test.parquet\n"
     ]
    },
    {
     "data": {
      "application/vnd.jupyter.widget-view+json": {
       "model_id": "459fcfc6c137416d92d5275d6a08b3cc",
       "version_major": 2,
       "version_minor": 0
      },
      "text/plain": [
       "Predicting [text]:   0%|          | 0/362 [00:00<?, ?it/s]"
      ]
     },
     "metadata": {},
     "output_type": "display_data"
    },
    {
     "name": "stdout",
     "output_type": "stream",
     "text": [
      " >> saved dataframe to ./data/predict/financial_phrasebank-dev.parquet\n"
     ]
    },
    {
     "data": {
      "text/plain": [
       "{'train':         id    labels                                               text  \\\n",
       " 0      655   neutral  Customers in a wide range of industries use ou...   \n",
       " 1      634   neutral  The writing and publication of Lemmink+ñinen -...   \n",
       " 2     1030   neutral  Sullivan said some of the boards `` really inv...   \n",
       " 3      317  positive  The six breweries recorded a 5.2 percent growt...   \n",
       " 4      868  positive  In the second quarter of 2010 , the company 's...   \n",
       " ...    ...       ...                                                ...   \n",
       " 1440   136  positive  In the fourth quarter of 2009 , Orion 's net p...   \n",
       " 1441  2170  negative  Profit for the period totalled EUR 1.1 mn , do...   \n",
       " 1442   344  positive  The diluted loss per share narrowed to EUR 0.2...   \n",
       " 1443   573   neutral  LKAB , headquartered in Lulea , Sweden , is a ...   \n",
       " 1444  1768   neutral  The EBRD is using its own funds to provide a 2...   \n",
       " \n",
       "       split  polarity  subjectivity polarity_label  uncertainty  \n",
       " 0     train  0.000000      0.000000        neutral          0.0  \n",
       " 1     train  0.999999      0.045455       positive          0.0  \n",
       " 2     train  0.000000      0.000000        neutral          0.0  \n",
       " 3     train  0.000000      0.000000        neutral          0.0  \n",
       " 4     train -0.999999      0.034483       negative          0.0  \n",
       " ...     ...       ...           ...            ...          ...  \n",
       " 1440  train  0.000000      0.000000        neutral          0.0  \n",
       " 1441  train  0.000000      0.000000        neutral          0.0  \n",
       " 1442  train -0.999999      0.076923       negative          0.0  \n",
       " 1443  train  0.000000      0.000000        neutral          0.0  \n",
       " 1444  train  0.000000      0.000000        neutral          0.0  \n",
       " \n",
       " [1445 rows x 8 columns],\n",
       " 'test':        id    labels                                               text split  \\\n",
       " 0     505   neutral  Los Angeles-based Pacific Office Properties Tr...  test   \n",
       " 1     783  positive  Investors will continue being interested in th...  test   \n",
       " 2    2253  negative  Repeats sees 2008 operating profit down y-y ( ...  test   \n",
       " 3    1374   neutral  The acquisition was financed with $ 2.56 billi...  test   \n",
       " 4     243  positive  Profit per share was EUR 1.03 , up from EUR 0....  test   \n",
       " ..    ...       ...                                                ...   ...   \n",
       " 447   605   neutral  The commission said the hydrogen peroxide and ...  test   \n",
       " 448  2258  negative  Sales in Finland decreased by 2.0 % , and inte...  test   \n",
       " 449   254  positive  The earnings per share for the quarter came in...  test   \n",
       " 450  1390   neutral  The company can not give up palm oil altogethe...  test   \n",
       " 451   181  positive  Pretax profit rose to EUR 1,019 mn from EUR 1,...  test   \n",
       " \n",
       "      polarity  subjectivity polarity_label  uncertainty  \n",
       " 0         0.0           0.0        neutral          0.0  \n",
       " 1         0.0           0.0        neutral          0.0  \n",
       " 2         0.0           0.0        neutral          0.0  \n",
       " 3         0.0           0.0        neutral          0.0  \n",
       " 4         0.0           0.0        neutral          0.0  \n",
       " ..        ...           ...            ...          ...  \n",
       " 447       0.0           0.0        neutral          0.0  \n",
       " 448       0.0           0.0        neutral          0.0  \n",
       " 449       0.0           0.0        neutral          0.0  \n",
       " 450       0.0           0.0        neutral          0.0  \n",
       " 451       0.0           0.0        neutral          0.0  \n",
       " \n",
       " [452 rows x 8 columns],\n",
       " 'dev':        id    labels                                               text split  \\\n",
       " 0    1449   neutral       The identity of the buyer is not yet known .   dev   \n",
       " 1     165  positive  Operating profit rose to EUR 3.2 mn from EUR 1...   dev   \n",
       " 2    1334   neutral  Previously , Grimaldi held a 46.43 pct stake i...   dev   \n",
       " 3     907   neutral  A total of $ 78 million will be invested in th...   dev   \n",
       " 4    1371   neutral  The 19,200-square metre technology center is l...   dev   \n",
       " ..    ...       ...                                                ...   ...   \n",
       " 357  1120   neutral  Under a preliminary estimation , the technolog...   dev   \n",
       " 358   404  positive  Operating profit improved by 27 % to EUR 579.8...   dev   \n",
       " 359  1708   neutral  Rohwedder Group is an automotive supplies , te...   dev   \n",
       " 360   225  positive  In January-September 2007 , the group 's net s...   dev   \n",
       " 361  1008   neutral  Payment of shares shall be effected on subscri...   dev   \n",
       " \n",
       "      polarity  subjectivity polarity_label  uncertainty  \n",
       " 0    0.000000      0.000000        neutral     0.000000  \n",
       " 1    0.000000      0.000000        neutral     0.000000  \n",
       " 2    0.000000      0.000000        neutral     0.000000  \n",
       " 3    0.000000      0.000000        neutral     0.000000  \n",
       " 4    0.000000      0.000000        neutral     0.000000  \n",
       " ..        ...           ...            ...          ...  \n",
       " 357  0.000000      0.000000        neutral     0.066667  \n",
       " 358  0.999999      0.058824       positive     0.000000  \n",
       " 359  0.000000      0.000000        neutral     0.000000  \n",
       " 360  0.000000      0.000000        neutral     0.000000  \n",
       " 361  0.000000      0.000000        neutral     0.000000  \n",
       " \n",
       " [362 rows x 8 columns]}"
      ]
     },
     "execution_count": 3,
     "metadata": {},
     "output_type": "execute_result"
    }
   ],
   "source": [
    "cfg = eKonf.compose(config_group='pipeline=pipeline')\n",
    "cfg.verbose = True\n",
    "cfg.dataset = ds_cfg\n",
    "cfg._pipeline_ = ['predict']\n",
    "cfg.predict.model = model_cfg\n",
    "cfg.predict.output_dir = \"./data/predict\"\n",
    "cfg.predict.output_file = f'{ds_cfg.name}.parquet'\n",
    "cfg.num_workers = 1\n",
    "df = eKonf.instantiate(cfg)\n",
    "df"
   ]
  },
  {
   "cell_type": "code",
   "execution_count": 4,
   "metadata": {
    "colab": {
     "base_uri": "https://localhost:8080/"
    },
    "id": "MS2eYHjSnUui",
    "outputId": "7a96479e-2df7-4472-f501-49835eef4eb9"
   },
   "outputs": [
    {
     "name": "stdout",
     "output_type": "stream",
     "text": [
      "./data/predict\n",
      "financial_phrasebank.parquet\n"
     ]
    }
   ],
   "source": [
    "print(cfg.predict.output_dir)\n",
    "print(cfg.predict.output_file)"
   ]
  },
  {
   "cell_type": "code",
   "execution_count": 5,
   "metadata": {
    "colab": {
     "base_uri": "https://localhost:8080/",
     "height": 685
    },
    "id": "pPrQSwo1nUui",
    "outputId": "30d92652-2ab2-48e7-bfeb-8501e55dbc5e"
   },
   "outputs": [
    {
     "name": "stdout",
     "output_type": "stream",
     "text": [
      "Loading 3 dataframes from ['./data/predict/financial_phrasebank-train.parquet', './data/predict/financial_phrasebank-test.parquet', './data/predict/financial_phrasebank-dev.parquet']\n",
      "Accuracy:  0.6418769366976538\n",
      "Precison:  0.6332357082536276\n",
      "Recall:  0.6418769366976538\n",
      "F1 Score:  0.5976583790508804\n",
      "Model Report: \n",
      "___________________________________________________\n",
      "              precision    recall  f1-score   support\n",
      "\n",
      "    negative       0.38      0.36      0.37       303\n",
      "     neutral       0.68      0.89      0.77      1386\n",
      "    positive       0.65      0.19      0.29       570\n",
      "\n",
      "    accuracy                           0.64      2259\n",
      "   macro avg       0.57      0.48      0.48      2259\n",
      "weighted avg       0.63      0.64      0.60      2259\n",
      "\n"
     ]
    },
    {
     "data": {
      "image/png": "[encoded data removed]",
      "text/plain": [
       "<Figure size 720x360 with 2 Axes>"
      ]
     },
     "metadata": {},
     "output_type": "display_data"
    }
   ],
   "source": [
    "eval_cfg = eKonf.compose(config_group='model/eval=classification')\n",
    "eval_cfg.to_eval.actual = 'labels'\n",
    "eval_cfg.to_eval.predicted = 'polarity_label'\n",
    "eval_cfg.to_eval.labels = ['positive','neutral','negative']\n",
    "eval_cfg.data_dir = './data/predict'\n",
    "eval_cfg.data_file = 'financial_phrasebank-*.parquet'\n",
    "eval_cfg.output_dir = './data/eval'\n",
    "# eval_cfg.method.average = None\n",
    "# eKonf.print(eval_cfg)\n",
    "eKonf.instantiate(eval_cfg)"
   ]
  },
  {
   "cell_type": "markdown",
   "metadata": {
    "id": "3uhF3cDynUuj",
    "outputId": "a50d12e1-9ab3-4496-af54-cae58051f1ed"
   },
   "source": [
    "## Instantiating a transformer classficiation model with `financial_phrasebank` dataset"
   ]
  },
  {
   "cell_type": "code",
   "execution_count": 6,
   "metadata": {
    "colab": {
     "base_uri": "https://localhost:8080/",
     "height": 1000,
     "referenced_widgets": [
      "25b2d15afaa84f588cda51e5dc7a29d5",
      "f7015732f95d4e8fbc75f045ff35b24d",
      "89e7d07c7422492480e58ca178296f7f",
      "7e5ece198ecc4010a3e600c02add4421",
      "1cea0648d38d4d9fa1d7eb3d75d50e9a",
      "89ddd567b6c04934b1ba9339b1f4db23",
      "e304ce2737f341e693298f7d153f1a8e",
      "c5518928583d47c28e2bea2f98fe9926",
      "38653edbaa0e415b9b62a2ca7278364b",
      "e5ccbf26e5f6494498d7241462a0f7a0",
      "676ce4b5eefb472ea432dab8fcb872a4",
      "0d12d52d5fe2445c97e04a450651ad23",
      "c2e99f3e0e1b465ca35ca0e6f2c9be00",
      "f6cbd16d7d354ba587ecb6936b0d4d2c",
      "22eec9f473c043e7bd8c1501eb3cf998",
      "baefe6a40a3942eb9004931feb47b8ce",
      "e31e57369fc94c50b80909373eb0cb7f",
      "b2483e9a1691414db951f31ae2175f9c",
      "311ea35a5285482eb7c22ba4a49993a6",
      "a1dbb25eadf64c31af6e5e0aa7950763",
      "0622ab783e1743b0b480233d78703fd3",
      "92b52a0d8a32412f9536e89045f9515b",
      "89968b05a09f4bf9a2c2e488a61917dd",
      "45b03c71817c43cbb1358de1457ad05d",
      "60e8436363844e3aa01eda8ae38e2f67",
      "9ccd3882da5c4426953f5455f8959bb1",
      "46e343ae4cab4402b78688830cabee3e",
      "a317983022c8410fb54753f4fc08c9a0",
      "27d9f4a57cb64c20bbf0d71e983b9696",
      "b6f6258d31e74c6d90e31a3e7bb9ae5e",
      "047f08c3f2964c578d82c272f8801cb8",
      "664540f2f93144db9480db9b01bb0a7a",
      "03a359fba6374965b4dfb4e502497952",
      "06f00aef004544dbb433eb66e610208d",
      "f63d7dc9e2ce4edc87151e97cede7e30",
      "077b5ee6de7843d99ae0cabf3bc1d100",
      "1fcd1624ff7f4eb0a47353bbdc4f52be",
      "e55300dbf4d049d6a88be12da0fc5116",
      "a923cd4c68094d18b9211bbb1c37e93a",
      "073848139deb41d1b1c91d30c9be1d52",
      "3f1768adbafa49d488a7b9e6970f2e26",
      "6ed566df4aaa4c6c9355df4d2555ec4e",
      "5213e2722a8b4598b5f246fcf509c7c1",
      "9332e85e04504096a3f32e2ad06586e9",
      "12e79026e3564b65bba74bf0b91bd4b9",
      "51069eac73034aeb9a80b6f67cc9ed15",
      "f82e84210b9d4f128ab40eaf39a7f632",
      "7b4ab34502044390ab9d368ac3c2a781",
      "fdc588b2165641f6a91545bee31d571a",
      "30db2a28db4e4989af858c6496bb7949",
      "b3328ea3cef342fe9c3e74f5a964bb59",
      "a614290ba7044b53970afb260f92ff11",
      "881b584e9ad240bc83ef7eb5750a4bc5",
      "f48f8b9749b94d68be1e7654eb0ff23a",
      "02d11213898f45d7b496d287897c83ac",
      "18bf1b86815c4739af05a19b10869d47",
      "fc146726ca904cc49808640e2f1b5320",
      "11240a70fbba4be68a41e20e99980a28",
      "dee2257bd47d4a60987899eb8a0c2bac",
      "553e116d2b954553af4ddec4c07ee62f",
      "d4c77274b80948ff9db6923a8f8c0c31",
      "3a9af4131ad24c3aa89e3d598814331d",
      "55d4e4b016cd43caa388c898e247fb89",
      "a0283fc5b2284e8c87c3979d91c749b7",
      "6b6bc559f85b4c3c88d67b950ecf3cad",
      "23686ac620384e5188110818aefd412c",
      "c14fd814d58b4532ac5fb2913900de38",
      "6560dee8a0a14c1990a13e6837fc626e",
      "1108aa2cdcba46db85086b33eca5bc73",
      "9991c133d8f547f4b13193fea2e2467c",
      "1185f07e236f47299845d639584abb40",
      "e1de101007424e059d8b37cd8cc2482b",
      "fee0e8c97cb140dda41aee7fc951d4c2",
      "c5d86ebf1a974e469ab05db7aba2a7c8",
      "28debee44b8d4b6794003d02a614811d",
      "5f0e169a9b9f46a5a74fc16656558540",
      "41073b4c1ab84879a8d57d3b9430fba3",
      "8758f2b2330c44b89bd81f85f4ea17ec",
      "ff5c277faecf41c289581e48cd237cd6",
      "fdf710ab9a114be59f106e35e42da3fd",
      "93d41a84ab3e4c509d0fc095a0b30013",
      "249af493b1724c3897f28ff64bdadd15",
      "8314fdc0077b4b4aba73f65eaa8add98",
      "527976f3875241659b3f1bc214832c7b",
      "5efbecdb351240b490efd9de319841f0",
      "e843c2ddc1d64df0951b6eea0d3e9a5c",
      "c3ea99fdd42b4c4090d6855bec03f005",
      "0263a829d8f742599cd7d284670cda64",
      "717028c6592e4a009c682b31315c4b3b",
      "206dc1c5ce324abd84daa1ccd06c686d",
      "bff4f68e77a3454e8d812ec9472dbb3c",
      "7144e8d53b7c4cca9c7c7105451304d8",
      "0a3670b1573348f7b2e74675e3b06905",
      "37e4cfa4b2ea4122a9795e145e4b803b",
      "70a68e2277a54df2a3075b79ba37cd83",
      "8be0a6afc7dc49e4b4c65ce536d282f1",
      "870012c9a7cd44678250a2d13308bd3a",
      "b759b6a53f12482a9980bad415f1b2c4",
      "33c80bfb3794432384e631606b83ed52",
      "0681c9641aa3470593a3b3d463cf45bc",
      "ad9cc439b971474d83f4c4f198a85d8f",
      "c54a6db54d2a4d379ba615980c3ee95c",
      "53803b974b23414e8a4948438217cb14",
      "da56752d8e2543e397d3f05f9c046498",
      "38858a2e6ae446e5a6bb90ad57651bc3",
      "3cca4a6a386c413e91d7da91c3e0dfd9",
      "028c92dd29114acab0d9d54ce164bf73",
      "7473ac288e7a47efabd0a9b4b34e2e41",
      "eede37df3e01451eaf41c89520029fca",
      "7b5a2f1f6eeb4d5bb5487a97cb7a8c20",
      "88082f8d9ec9488594a46f342adfa99d",
      "002a5b27a0d04a52b90db961913cc857",
      "b3958b6e46b040b49bf3b7b40f2581f0",
      "b6e5bd7b3d0d4cff88fb86a9f234cdf9",
      "2a776b147a23429dbc777184d73ee927",
      "81dbecedb6e742ddb6652decbd131b81",
      "c8e9efa30ba34ac292024c0a8fea6cfb",
      "a530728703394affab5d98c105a3d7e1",
      "ff6f745714934560a2895f5c0e33b0cb",
      "3b101280042349d092778b8788eb8c23",
      "367449d63b2f4bc08c49786b301c802d",
      "e3afc31e530c446997132977339e3a74",
      "21fb5baf9b344649bc8133d6460397fc",
      "afcbea10e97f41a6a94cb1149d6f5244",
      "464c7a8184bd46ce839af89c8581d906",
      "94cf55ecd05742b6ac78c3d4142549b0",
      "03dfdeea1d6444d699a849b1db3fafe6",
      "317479f9eb3544d4a350e075b81d3fbb",
      "6af90e0bf0904e32a208fc816285e14a"
     ]
    },
    "id": "i9__LTKOnUuj",
    "outputId": "bcf2613d-c5f5-495e-a43b-2bdcd459bcb9"
   },
   "outputs": [
    {
     "data": {
      "application/vnd.jupyter.widget-view+json": {
       "model_id": "b4e90afc6fea4f19a9281300eb275b37",
       "version_major": 2,
       "version_minor": 0
      },
      "text/plain": [
       "  0%|          | 0/1445 [00:00<?, ?it/s]"
      ]
     },
     "metadata": {},
     "output_type": "display_data"
    },
    {
     "name": "stderr",
     "output_type": "stream",
     "text": [
      "/opt/conda/lib/python3.8/site-packages/transformers/optimization.py:306: FutureWarning: This implementation of AdamW is deprecated and will be removed in a future version. Use the PyTorch implementation torch.optim.AdamW instead, or set `no_deprecation_warning=True` to disable this warning\n",
      "  warnings.warn(\n"
     ]
    },
    {
     "data": {
      "application/vnd.jupyter.widget-view+json": {
       "model_id": "626985f6208a4d09be6d44c9dc275825",
       "version_major": 2,
       "version_minor": 0
      },
      "text/plain": [
       "Epoch:   0%|          | 0/2 [00:00<?, ?it/s]"
      ]
     },
     "metadata": {},
     "output_type": "display_data"
    },
    {
     "name": "stderr",
     "output_type": "stream",
     "text": [
      "\u001b[34m\u001b[1mwandb\u001b[0m: Currently logged in as: \u001b[33mentelecheia\u001b[0m. Use \u001b[1m`wandb login --relogin`\u001b[0m to force relogin\n"
     ]
    },
    {
     "data": {
      "text/html": [
       "Tracking run with wandb version 0.12.16"
      ],
      "text/plain": [
       "<IPython.core.display.HTML object>"
      ]
     },
     "metadata": {},
     "output_type": "display_data"
    },
    {
     "data": {
      "text/html": [
       "Run data is saved locally in <code>/workspace/projects/default/outputs/default-model/finbert/wandb/run-20220509_014224-17pac5te</code>"
      ],
      "text/plain": [
       "<IPython.core.display.HTML object>"
      ]
     },
     "metadata": {},
     "output_type": "display_data"
    },
    {
     "data": {
      "text/html": [
       "Syncing run <strong><a href=\"https://wandb.ai/entelecheia/default-model/runs/17pac5te\" target=\"_blank\">unique-moon-33</a></strong> to <a href=\"https://wandb.ai/entelecheia/default-model\" target=\"_blank\">Weights & Biases</a> (<a href=\"https://wandb.me/run\" target=\"_blank\">docs</a>)<br/>"
      ],
      "text/plain": [
       "<IPython.core.display.HTML object>"
      ]
     },
     "metadata": {},
     "output_type": "display_data"
    },
    {
     "data": {
      "application/vnd.jupyter.widget-view+json": {
       "model_id": "0dccba75c11c4dd59cb56fcea11f7ea4",
       "version_major": 2,
       "version_minor": 0
      },
      "text/plain": [
       "Running Epoch 0 of 2:   0%|          | 0/46 [00:00<?, ?it/s]"
      ]
     },
     "metadata": {},
     "output_type": "display_data"
    },
    {
     "data": {
      "application/vnd.jupyter.widget-view+json": {
       "model_id": "77725a0636bf47bda39f7b05d0b3ef77",
       "version_major": 2,
       "version_minor": 0
      },
      "text/plain": [
       "Running Epoch 1 of 2:   0%|          | 0/46 [00:00<?, ?it/s]"
      ]
     },
     "metadata": {},
     "output_type": "display_data"
    },
    {
     "data": {
      "application/vnd.jupyter.widget-view+json": {
       "model_id": "f4ee13392db043feab3d89b8d7f6a45f",
       "version_major": 2,
       "version_minor": 0
      },
      "text/plain": [
       "  0%|          | 0/452 [00:00<?, ?it/s]"
      ]
     },
     "metadata": {},
     "output_type": "display_data"
    },
    {
     "data": {
      "application/vnd.jupyter.widget-view+json": {
       "model_id": "a2d990f800e64382a24a972ad0fb4219",
       "version_major": 2,
       "version_minor": 0
      },
      "text/plain": [
       "Running Evaluation:   0%|          | 0/15 [00:00<?, ?it/s]"
      ]
     },
     "metadata": {},
     "output_type": "display_data"
    },
    {
     "data": {
      "text/html": [
       "Finishing last run (ID:17pac5te) before initializing another..."
      ],
      "text/plain": [
       "<IPython.core.display.HTML object>"
      ]
     },
     "metadata": {},
     "output_type": "display_data"
    },
    {
     "data": {
      "text/html": [
       "Waiting for W&B process to finish... <strong style=\"color:green\">(success).</strong>"
      ],
      "text/plain": [
       "<IPython.core.display.HTML object>"
      ]
     },
     "metadata": {},
     "output_type": "display_data"
    },
    {
     "data": {
      "application/vnd.jupyter.widget-view+json": {
       "model_id": "",
       "version_major": 2,
       "version_minor": 0
      },
      "text/plain": [
       "VBox(children=(Label(value='0.001 MB of 0.001 MB uploaded (0.000 MB deduped)\\r'), FloatProgress(value=1.0, max…"
      ]
     },
     "metadata": {},
     "output_type": "display_data"
    },
    {
     "data": {
      "text/html": [
       "<style>\n",
       "    table.wandb td:nth-child(1) { padding: 0 10px; text-align: left ; width: auto;} td:nth-child(2) {text-align: left ; width: 100%}\n",
       "    .wandb-row { display: flex; flex-direction: row; flex-wrap: wrap; justify-content: flex-start; width: 100% }\n",
       "    .wandb-col { display: flex; flex-direction: column; flex-basis: 100%; flex: 1; padding: 10px; }\n",
       "    </style>\n",
       "<div class=\"wandb-row\"><div class=\"wandb-col\"><h3>Run history:</h3><br/><table class=\"wandb\"><tr><td>Training loss</td><td>▁</td></tr><tr><td>acc</td><td>▁█</td></tr><tr><td>eval_loss</td><td>█▁</td></tr><tr><td>global_step</td><td>▁▂█</td></tr><tr><td>lr</td><td>▁</td></tr><tr><td>mcc</td><td>▁█</td></tr><tr><td>train_loss</td><td>█▁</td></tr></table><br/></div><div class=\"wandb-col\"><h3>Run summary:</h3><br/><table class=\"wandb\"><tr><td>Training loss</td><td>0.58354</td></tr><tr><td>acc</td><td>0.86464</td></tr><tr><td>eval_loss</td><td>0.41429</td></tr><tr><td>global_step</td><td>92</td></tr><tr><td>lr</td><td>2e-05</td></tr><tr><td>mcc</td><td>0.74563</td></tr><tr><td>train_loss</td><td>0.43466</td></tr></table><br/></div></div>"
      ],
      "text/plain": [
       "<IPython.core.display.HTML object>"
      ]
     },
     "metadata": {},
     "output_type": "display_data"
    },
    {
     "data": {
      "text/html": [
       "Synced <strong style=\"color:#cdcd00\">unique-moon-33</strong>: <a href=\"https://wandb.ai/entelecheia/default-model/runs/17pac5te\" target=\"_blank\">https://wandb.ai/entelecheia/default-model/runs/17pac5te</a><br/>Synced 4 W&B file(s), 0 media file(s), 0 artifact file(s) and 0 other file(s)"
      ],
      "text/plain": [
       "<IPython.core.display.HTML object>"
      ]
     },
     "metadata": {},
     "output_type": "display_data"
    },
    {
     "data": {
      "text/html": [
       "Find logs at: <code>/workspace/projects/default/outputs/default-model/finbert/wandb/run-20220509_014224-17pac5te/logs</code>"
      ],
      "text/plain": [
       "<IPython.core.display.HTML object>"
      ]
     },
     "metadata": {},
     "output_type": "display_data"
    },
    {
     "data": {
      "text/html": [
       "Successfully finished last run (ID:17pac5te). Initializing new run:<br/>"
      ],
      "text/plain": [
       "<IPython.core.display.HTML object>"
      ]
     },
     "metadata": {},
     "output_type": "display_data"
    },
    {
     "data": {
      "text/html": [
       "Tracking run with wandb version 0.12.16"
      ],
      "text/plain": [
       "<IPython.core.display.HTML object>"
      ]
     },
     "metadata": {},
     "output_type": "display_data"
    },
    {
     "data": {
      "text/html": [
       "Run data is saved locally in <code>/workspace/projects/default/outputs/default-model/finbert/wandb/run-20220509_014248-1idwvgio</code>"
      ],
      "text/plain": [
       "<IPython.core.display.HTML object>"
      ]
     },
     "metadata": {},
     "output_type": "display_data"
    },
    {
     "data": {
      "text/html": [
       "Syncing run <strong><a href=\"https://wandb.ai/entelecheia/default-model/runs/1idwvgio\" target=\"_blank\">revived-cloud-34</a></strong> to <a href=\"https://wandb.ai/entelecheia/default-model\" target=\"_blank\">Weights & Biases</a> (<a href=\"https://wandb.me/run\" target=\"_blank\">docs</a>)<br/>"
      ],
      "text/plain": [
       "<IPython.core.display.HTML object>"
      ]
     },
     "metadata": {},
     "output_type": "display_data"
    },
    {
     "data": {
      "text/plain": [
       "<ekorpkit.models.transformer.simple.SimpleClassification at 0x7fb65c7c5940>"
      ]
     },
     "execution_count": 6,
     "metadata": {},
     "output_type": "execute_result"
    }
   ],
   "source": [
    "overrides=[\n",
    "    '+model/transformer=simple_classification',\n",
    "    '+model/transformer/pretrained=finbert',\n",
    "]\n",
    "model_cfg = eKonf.compose(overrides=overrides, config_group='model/transformer=simple_classification')\n",
    "model_cfg.dataset = ds_cfg\n",
    "model_cfg.verbose = False\n",
    "model_cfg.config.num_train_epochs = 2\n",
    "model_cfg.config.max_seq_length = 256\n",
    "model_cfg.config.train_batch_size = 32\n",
    "model_cfg.config.eval_batch_size = 32\n",
    "model_cfg.labels = ['positive','neutral','negative']\n",
    "model_cfg._call_ = ['train']\n",
    "eKonf.instantiate(model_cfg)"
   ]
  },
  {
   "cell_type": "code",
   "execution_count": 7,
   "metadata": {
    "colab": {
     "base_uri": "https://localhost:8080/",
     "height": 729,
     "referenced_widgets": [
      "596ef1ab7ee64964a457a9d9215fefde",
      "2a74cb5f539b41c1b981f26ef353e8ae",
      "3499c94de2ad4ddead0de1466f4b2d9a",
      "845ecb3e87854b429c1412156b507f01",
      "a7798838c3494f2580e6ae13bcee16a9",
      "dd452aac0200496390256fb806e4aae9",
      "9eb363e387ce494eaeee895c552c93d3",
      "12f9a6e877e34773bf661951a981d9bf",
      "ed81d7597e6b40018bbb081089f95dcb",
      "04a86381ac6241dd8ece5fc30e5d2990",
      "41230ea1a8414c9a9f547479bbfb71a8",
      "0b5cc1d3611e44899babbf2e22931b0c",
      "32dc22965da44535b62c1767315b4a76",
      "e360883f1c9946a2964e2b9be8a1d069",
      "a4dd4680227442b2aea41a4626d46131",
      "d3c4e5efd7d74c7fb5b28fcf2fcb1a46",
      "a393c25d365040018ccdcce992b4c1a2",
      "861f33cdc81d40dcacd183320d798656",
      "2f2dd94e8aa14d6dbade7b9656a6f1bc",
      "444a70d3286f4275ac14feb5ac778538",
      "b8802f24f78042f48b0a3fd4fa7bb690",
      "7099d87c43334d2ab3d44cb221e9ce61"
     ]
    },
    "id": "haXvOqiOrFJD",
    "outputId": "7bb4e010-b580-4596-a7ae-70a654aba5c9"
   },
   "outputs": [
    {
     "data": {
      "application/vnd.jupyter.widget-view+json": {
       "model_id": "376c5e3b72974a2c81fda6705e7c3df0",
       "version_major": 2,
       "version_minor": 0
      },
      "text/plain": [
       "  0%|          | 0/452 [00:00<?, ?it/s]"
      ]
     },
     "metadata": {},
     "output_type": "display_data"
    },
    {
     "data": {
      "application/vnd.jupyter.widget-view+json": {
       "model_id": "7a92b1e517d84ac7bacb1bbbb6e63963",
       "version_major": 2,
       "version_minor": 0
      },
      "text/plain": [
       "  0%|          | 0/15 [00:00<?, ?it/s]"
      ]
     },
     "metadata": {},
     "output_type": "display_data"
    },
    {
     "name": "stdout",
     "output_type": "stream",
     "text": [
      "Accuracy:  0.8407079646017699\n",
      "Precison:  0.8598547980904857\n",
      "Recall:  0.8407079646017699\n",
      "F1 Score:  0.8331250498933335\n",
      "Model Report: \n",
      "___________________________________________________\n",
      "              precision    recall  f1-score   support\n",
      "\n",
      "    negative       0.96      0.41      0.57        61\n",
      "     neutral       0.92      0.95      0.94       277\n",
      "    positive       0.65      0.81      0.72       114\n",
      "\n",
      "    accuracy                           0.84       452\n",
      "   macro avg       0.85      0.72      0.74       452\n",
      "weighted avg       0.86      0.84      0.83       452\n",
      "\n"
     ]
    },
    {
     "data": {
      "text/plain": [
       "<ekorpkit.models.transformer.simple.SimpleClassification at 0x7fb5b8058820>"
      ]
     },
     "execution_count": 7,
     "metadata": {},
     "output_type": "execute_result"
    },
    {
     "data": {
      "image/png": "[encoded data removed]",
      "text/plain": [
       "<Figure size 720x360 with 2 Axes>"
      ]
     },
     "metadata": {},
     "output_type": "display_data"
    }
   ],
   "source": [
    "overrides=[\n",
    "    '+model/transformer=simple_classification',\n",
    "    '+model/transformer/pretrained=finbert',\n",
    "]\n",
    "model_cfg = eKonf.compose(overrides=overrides, config_group='model/transformer=simple_classification')\n",
    "model_cfg.dataset = ds_cfg\n",
    "model_cfg.verbose = False\n",
    "model_cfg.config.num_train_epochs = 2\n",
    "model_cfg.config.max_seq_length = 256\n",
    "model_cfg.config.train_batch_size = 32\n",
    "model_cfg.config.eval_batch_size = 32\n",
    "model_cfg.labels = ['positive','neutral','negative']\n",
    "model_cfg._call_ = ['eval']\n",
    "eKonf.instantiate(model_cfg)"
   ]
  },
  {
   "cell_type": "markdown",
   "metadata": {
    "id": "aJE7rczy139h"
   },
   "source": [
    "## Instantiating a T5 classficiation model with `financial_phrasebank` dataset"
   ]
  },
  {
   "cell_type": "code",
   "execution_count": 8,
   "metadata": {
    "colab": {
     "base_uri": "https://localhost:8080/",
     "height": 1000,
     "referenced_widgets": [
      "c27071661fd0477e833e6c0766528de9",
      "9816bf6519a54bd0839f890a7ccc3f69",
      "d9bec0eabea846b6ae3d73ba51cbbb2e",
      "330f39206b584d43bfe88f1a96e41418",
      "eb7ba6871d19435283af5a12c37cae80",
      "fbd3016045564e28a4b2ea77d917ccdb",
      "22296efa0d6347acbbd155c2b7b0f31a",
      "e32f107cfce5463cb98cfbc891ef0f80",
      "1afcc006e6cb4130bb12ef4b959a1284",
      "9a5f6598bc53485091dcbb0a3a8f0fec",
      "c75cd9886af14bd1aa8447f13359d094",
      "6db8d8627eef4cff97b8f0f609537ad9",
      "d01dbb1575ed4207ba2d5e3e0b47430d",
      "71f5d4a636fd45c7a5de4ed62d258e29",
      "8cb4f28626e14b52a23dc5171a75fbf6",
      "23a5e9c6bfc942f596709d3e47442234",
      "2968c15689cd4133b7f13cd0b4c35617",
      "99e932f1bb1f413781f7f0489b9b75cc",
      "453185313b024e13b7e1845f014d224e",
      "db55306707104a829d05bf8f37b6ea50",
      "1dff5db3e56048d78b9b3f253498d4a8",
      "787f807b082a43c5b0002b91366a3f74",
      "dceeb23cf11e4cc99a5bb99973f52ad7",
      "ccaec052b16b4ed882677d661367bc26",
      "75bf32d9d2cf4bea8610ad0acbf76c16",
      "8d6ff125fc9940f6b2ef9da8894ddff2",
      "2136e396a3684fbfbd175193ddb388e1",
      "869159c94f2947d99855ede359fc05bb",
      "a16e7da4f19b405698d03905fc655805",
      "2f04f7874fa44f409fec8072b59ea4b2",
      "c2b84e16998f47fd9552865507ac734f",
      "5b6b0042493d400ebff78a6153237acf",
      "7179d8093bf14423bb5b9f15605299b9",
      "cd4b6454bea94019b588a0c540ce5209",
      "bc84efa999c944378910bd0a04bd6205",
      "7a487d4f517b41828b9f912edfa69785",
      "d8724400d30c4f9da6bb1e7c9e8d7482",
      "a55f7469e1da4c4490656ea389cb9664",
      "9a698877e51b447fbbd2d8e045333811",
      "f653fc55d44548d2ab354221a3d25223",
      "efc6d3a810644dce9fa99c4c5c051c36",
      "a464801451684332b546f9dfc84415f2",
      "b23ed336194d4d7aa81dd9fe63ca2ac8",
      "66cf1f0b4d854f04bb49dfeefafb8452",
      "179e2dc0dc904500ae903a1b1a45c28d",
      "86bd81fa28134c95811d3f8abb803b99",
      "55238d4e78644b45971a7c0089348f81",
      "a5fe75f09c814d25907b44b50bf5dba6",
      "d4e6f5cfb0a04009b231dc55495cdf9b",
      "9cbf7b10c4244b458a0b0373bb3e3bcf",
      "fddf67cf40da4d6d8193b4959681f595",
      "a63a6796a4094ccebc31d183c54fd43a",
      "fbcc798e5cb842d0b334cedd26ccaf85",
      "4e2932303bb64b5aae71ff0ea1914f1f",
      "3cef028152e54ed3a885569aec4a4b1c",
      "cbbec2832a9749b5967ee57672cf4c18",
      "0f837860d31e4fa7ad3be8a2f8d5b5d0",
      "28132e41da74460e93a52766e1c7df4b",
      "a990b83d9e7d4e8f8f3e3bcef3c8696c",
      "8e97a9fe29d043fa8f26795be7d55bf3",
      "d870dd6d05fe44d38247410a867015f6",
      "31914e2d95ee41d0b94e2a1f134b9421",
      "a9c2c71c8daa4eac8017c4b1ff12f432",
      "655c7476dfa047978cd25cd1a7fb5dce",
      "f5f300d1f33346b6b8edfc3672c4ba3c",
      "b2655a40540c4e01a8443a7c57cc9d6d",
      "c7e27427243e4a2399669c4b8ea3d8b3",
      "48c70fde227e4feb9639f40939331ad3",
      "62a909ee09e144b685670d533b64f70a",
      "e0e9cc4060264b1f8e5148f12a893342",
      "99084737eadb474786af5eb4bd7cc57a",
      "97868574b327461d96fc6cd19d47798a",
      "e6b3221fc0eb4aac849d4d78af3cd333",
      "fcdd49622134436384ff24b190c50d6f",
      "b4923b32c61b4a718cd40747e476bc15",
      "5ada48683de94f00a968ddd27bac789a",
      "49927f1a6e68466982c40ae9760ec1e5",
      "74312ca94f004115a0348260f0aed0f8",
      "6002318dbaa1404fac99d8234ddbcf69",
      "f6e65d823de340518fc257a61baf313c",
      "1394946d05824751acd18d1c94f9e1ee",
      "732a401997c041bf9a1d063f916ef415",
      "24a2dfb8cdff48108737f638bbb9a9f6",
      "c41febf8f50c4bbfbca70b9f92b660fd",
      "4daae17e28754b40b41a73ef39af0ae3",
      "0ffd1c5dce4b44f9b2d333f95ff3ca2e",
      "ae93f34d600d4acf96f8860a2e5143b1",
      "4f560d7fbb214225abd0433ec34f7683",
      "a34d3dc0b62e4e41ae76e27a6292e274",
      "549b3826f95d416e9de7b964ee549c9c",
      "33ec626de57c46919f7fc66ce1426de4",
      "efedc6abd67f4c7381f08153e9713468",
      "1b6ec6709d7f426e82e06224cc6b59b4",
      "5c4e7550eaa54f368e377f58ea17a3b0",
      "c32e27eb968d41c094194e2338adcdb0",
      "cf4e01567bc840a4a587de01953ea86c",
      "6731fb6d35a14f489de3cf8c64ac36c9",
      "0e5f922235804536858da248f16fe21a",
      "68fb6fb764144ecdb729891346351817",
      "94e800b5d3ed489b872c153a68c5c27e",
      "698e31982157448691c9086380033afd",
      "2dc5e2d71bb340799eb4917a14cf6d53",
      "ec5b052ebfe44dfd979ca7c237b56130",
      "4ce9fea00588490db041818f3007653e",
      "1ccab9b0b46141c09c5841cc7412c10e",
      "0f73118584d949e6bd40b42100784d00",
      "4a481c46677048fca9c1e8bbf075cd53",
      "5dbf262641004b1a9ecd099862e7521a",
      "aec9b22996ad46b399e55d9820625484",
      "cc0ec6c5829a468db5d957c88828a76e",
      "698636b6c3f74cf58f0e07e8267001b9",
      "b537095e0728430093a6c4480d3909ca",
      "93cd309006ad4f33a6f8023df316660a",
      "7bb31ab884e54d6ab66a67395199bd1b",
      "c258ba6d0c2545af9782ccee350815a2",
      "416586ecafbb496ba9c6d47273f22308",
      "a5f9f3840166422399f9f7e61d802ad7",
      "89d8990fd7ca44b1b394c83194eee3ba",
      "1f41755e7e40400bbf6bddd00c3e2774",
      "6f57b0f70f604afd9e6529ee236c7291",
      "774769e04c5d4eb2bce00bbff1a57b70",
      "d36af2c82897415fa9ce87313877f405",
      "3b2c74e318014eecbbe38c718ffd065c",
      "c404465330074baea15a3c1331dc20d4",
      "4c2f72f69e284e418d7d199eb6301023",
      "64509317dbd14bc68047871933e5aa0b",
      "8e678ecfb40a4f198758b32b2a39bf6f",
      "68b8550ada934780b908926af2d395d9",
      "b0b27963f80c4918b7c1e6f0ae4072bf",
      "0885cbe16c7a4d26a506757b77dce53d",
      "6b0e8182ebf443319424ebd478a4553d",
      "97fa6d8a443541d7bb8f8d8c60003a06",
      "f37da849fb3d4478ad243efb75995d22",
      "dcba7ab91fa24494b7efe80ae23ad464",
      "1092785525f14169816efe8a3f15e3ef",
      "97a453b615f8478ea6d80f8570dde35a",
      "0aff77510a574daebf869dc7ab1a9d55",
      "29c16c2fdefc465f8061df8449927e2d",
      "da2c765031e846879d4795dab7d2a540",
      "5b1c626e85b64febb1e970ea14286654"
     ]
    },
    "id": "SHvUcxWQ139h",
    "outputId": "b72a6441-6817-4c25-c985-f8cc10ad8124"
   },
   "outputs": [
    {
     "data": {
      "application/vnd.jupyter.widget-view+json": {
       "model_id": "af34200af75e4c5e9fce564847132e0e",
       "version_major": 2,
       "version_minor": 0
      },
      "text/plain": [
       "  0%|          | 0/1445 [00:00<?, ?it/s]"
      ]
     },
     "metadata": {},
     "output_type": "display_data"
    },
    {
     "data": {
      "application/vnd.jupyter.widget-view+json": {
       "model_id": "47bf9cefe6be49a3b55e094e2d7acc0d",
       "version_major": 2,
       "version_minor": 0
      },
      "text/plain": [
       "Epoch:   0%|          | 0/2 [00:00<?, ?it/s]"
      ]
     },
     "metadata": {},
     "output_type": "display_data"
    },
    {
     "data": {
      "text/html": [
       "Finishing last run (ID:1idwvgio) before initializing another..."
      ],
      "text/plain": [
       "<IPython.core.display.HTML object>"
      ]
     },
     "metadata": {},
     "output_type": "display_data"
    },
    {
     "data": {
      "text/html": [
       "Waiting for W&B process to finish... <strong style=\"color:green\">(success).</strong>"
      ],
      "text/plain": [
       "<IPython.core.display.HTML object>"
      ]
     },
     "metadata": {},
     "output_type": "display_data"
    },
    {
     "data": {
      "application/vnd.jupyter.widget-view+json": {
       "model_id": "",
       "version_major": 2,
       "version_minor": 0
      },
      "text/plain": [
       "VBox(children=(Label(value='0.002 MB of 0.002 MB uploaded (0.000 MB deduped)\\r'), FloatProgress(value=1.0, max…"
      ]
     },
     "metadata": {},
     "output_type": "display_data"
    },
    {
     "data": {
      "text/html": [
       "Synced <strong style=\"color:#cdcd00\">revived-cloud-34</strong>: <a href=\"https://wandb.ai/entelecheia/default-model/runs/1idwvgio\" target=\"_blank\">https://wandb.ai/entelecheia/default-model/runs/1idwvgio</a><br/>Synced 5 W&B file(s), 1 media file(s), 1 artifact file(s) and 0 other file(s)"
      ],
      "text/plain": [
       "<IPython.core.display.HTML object>"
      ]
     },
     "metadata": {},
     "output_type": "display_data"
    },
    {
     "data": {
      "text/html": [
       "Find logs at: <code>/workspace/projects/default/outputs/default-model/finbert/wandb/run-20220509_014248-1idwvgio/logs</code>"
      ],
      "text/plain": [
       "<IPython.core.display.HTML object>"
      ]
     },
     "metadata": {},
     "output_type": "display_data"
    },
    {
     "data": {
      "text/html": [
       "Successfully finished last run (ID:1idwvgio). Initializing new run:<br/>"
      ],
      "text/plain": [
       "<IPython.core.display.HTML object>"
      ]
     },
     "metadata": {},
     "output_type": "display_data"
    },
    {
     "data": {
      "text/html": [
       "Tracking run with wandb version 0.12.16"
      ],
      "text/plain": [
       "<IPython.core.display.HTML object>"
      ]
     },
     "metadata": {},
     "output_type": "display_data"
    },
    {
     "data": {
      "text/html": [
       "Run data is saved locally in <code>/workspace/projects/default/outputs/default-model/t5-base/wandb/run-20220509_014314-lg8vfjst</code>"
      ],
      "text/plain": [
       "<IPython.core.display.HTML object>"
      ]
     },
     "metadata": {},
     "output_type": "display_data"
    },
    {
     "data": {
      "text/html": [
       "Syncing run <strong><a href=\"https://wandb.ai/entelecheia/default-model/runs/lg8vfjst\" target=\"_blank\">treasured-yogurt-35</a></strong> to <a href=\"https://wandb.ai/entelecheia/default-model\" target=\"_blank\">Weights & Biases</a> (<a href=\"https://wandb.me/run\" target=\"_blank\">docs</a>)<br/>"
      ],
      "text/plain": [
       "<IPython.core.display.HTML object>"
      ]
     },
     "metadata": {},
     "output_type": "display_data"
    },
    {
     "data": {
      "application/vnd.jupyter.widget-view+json": {
       "model_id": "69611ee1263541eaa1bf5874862c3880",
       "version_major": 2,
       "version_minor": 0
      },
      "text/plain": [
       "Running Epoch 0 of 2:   0%|          | 0/181 [00:00<?, ?it/s]"
      ]
     },
     "metadata": {},
     "output_type": "display_data"
    },
    {
     "data": {
      "application/vnd.jupyter.widget-view+json": {
       "model_id": "d5c52fd0897e4a6892041acf4b2acc5b",
       "version_major": 2,
       "version_minor": 0
      },
      "text/plain": [
       "  0%|          | 0/362 [00:00<?, ?it/s]"
      ]
     },
     "metadata": {},
     "output_type": "display_data"
    },
    {
     "data": {
      "application/vnd.jupyter.widget-view+json": {
       "model_id": "af5a83f44b9a49cb82d877f4d350bf63",
       "version_major": 2,
       "version_minor": 0
      },
      "text/plain": [
       "Running Epoch 1 of 2:   0%|          | 0/181 [00:00<?, ?it/s]"
      ]
     },
     "metadata": {},
     "output_type": "display_data"
    },
    {
     "data": {
      "application/vnd.jupyter.widget-view+json": {
       "model_id": "c694aa4b7ca34f3aa48954be7fbb4c6d",
       "version_major": 2,
       "version_minor": 0
      },
      "text/plain": [
       "  0%|          | 0/362 [00:00<?, ?it/s]"
      ]
     },
     "metadata": {},
     "output_type": "display_data"
    },
    {
     "data": {
      "application/vnd.jupyter.widget-view+json": {
       "model_id": "6dffd434be604d99b50760c7b1ff9a93",
       "version_major": 2,
       "version_minor": 0
      },
      "text/plain": [
       "  0%|          | 0/452 [00:00<?, ?it/s]"
      ]
     },
     "metadata": {},
     "output_type": "display_data"
    },
    {
     "data": {
      "application/vnd.jupyter.widget-view+json": {
       "model_id": "bbe538d740ee4ec5bf7753360f000b98",
       "version_major": 2,
       "version_minor": 0
      },
      "text/plain": [
       "Running Evaluation:   0%|          | 0/57 [00:00<?, ?it/s]"
      ]
     },
     "metadata": {},
     "output_type": "display_data"
    },
    {
     "name": "stdout",
     "output_type": "stream",
     "text": [
      "{'eval_loss': 0.05082466445859162}\n"
     ]
    },
    {
     "data": {
      "application/vnd.jupyter.widget-view+json": {
       "model_id": "06cdaba815784d5bb5a66f2b8b7d1d21",
       "version_major": 2,
       "version_minor": 0
      },
      "text/plain": [
       "Generating outputs:   0%|          | 0/57 [00:00<?, ?it/s]"
      ]
     },
     "metadata": {},
     "output_type": "display_data"
    },
    {
     "name": "stdout",
     "output_type": "stream",
     "text": [
      "Accuracy:  0.9601769911504425\n",
      "Precison:  0.9605473158314043\n",
      "Recall:  0.9601769911504425\n",
      "F1 Score:  0.9598337326658595\n",
      "Model Report: \n",
      "___________________________________________________\n",
      "              precision    recall  f1-score   support\n",
      "\n",
      "    negative       0.98      0.87      0.92        61\n",
      "     neutral       0.97      0.99      0.98       277\n",
      "    positive       0.92      0.94      0.93       114\n",
      "\n",
      "    accuracy                           0.96       452\n",
      "   macro avg       0.96      0.93      0.94       452\n",
      "weighted avg       0.96      0.96      0.96       452\n",
      "\n"
     ]
    },
    {
     "data": {
      "text/plain": [
       "<ekorpkit.models.transformer.simple_t5.SimpleT5 at 0x7fb2b009de20>"
      ]
     },
     "execution_count": 8,
     "metadata": {},
     "output_type": "execute_result"
    },
    {
     "data": {
      "image/png": "[encoded data removed]",
      "text/plain": [
       "<Figure size 720x360 with 2 Axes>"
      ]
     },
     "metadata": {},
     "output_type": "display_data"
    }
   ],
   "source": [
    "overrides=[\n",
    "    '+model/transformer=simple_t5_classification',\n",
    "    '+model/transformer/pretrained=t5-base',\n",
    "]\n",
    "model_cfg = eKonf.compose(overrides=overrides, config_group='model/transformer=simple_t5_classification')\n",
    "model_cfg.dataset = ds_cfg\n",
    "model_cfg.verbose = False\n",
    "model_cfg.config.num_train_epochs = 2\n",
    "model_cfg.config.max_seq_length = 256\n",
    "model_cfg.config.train_batch_size = 8\n",
    "model_cfg.config.eval_batch_size = 8\n",
    "model_cfg.labels = ['positive','neutral','negative']\n",
    "model_cfg._call_ = ['train', 'eval']\n",
    "eKonf.instantiate(model_cfg)"
   ]
  },
  {
   "cell_type": "code",
   "execution_count": null,
   "metadata": {
    "id": "R9b2w0_s139h"
   },
   "outputs": [],
   "source": []
  }
 ],
 "metadata": {
  "accelerator": "GPU",
  "colab": {
   "include_colab_link": true,
   "name": "preprocessor.ipynb",
   "provenance": []
  },
  "interpreter": {
   "hash": "f869af7787e6a1c49e09e367fc6e1b81d93d1c6583b43249c80edc047bd13cb2"
  },
  "kernelspec": {
   "display_name": "Python 3",
   "language": "python",
   "name": "python3"
  },
  "language_info": {
   "codemirror_mode": {
    "name": "ipython",
    "version": 3
   },
   "file_extension": ".py",
   "mimetype": "text/x-python",
   "name": "python",
   "nbconvert_exporter": "python",
   "pygments_lexer": "ipython3",
   "version": "3.8.8"
  },
  "widgets": {
   "application/vnd.jupyter.widget-state+json": {
    "state": {
     "02584045073142f5ac9328d0eca15b4b": {
      "model_module": "@jupyter-widgets/base",
      "model_module_version": "1.2.0",
      "model_name": "LayoutModel",
      "state": {}
     },
     "03685e93074a4994bdc0b35a03ca17be": {
      "model_module": "@jupyter-widgets/controls",
      "model_module_version": "1.5.0",
      "model_name": "DescriptionStyleModel",
      "state": {
       "description_width": ""
      }
     },
     "0554bdf4050b4b2bb5d7ed0026597451": {
      "model_module": "@jupyter-widgets/base",
      "model_module_version": "1.2.0",
      "model_name": "LayoutModel",
      "state": {}
     },
     "06cdaba815784d5bb5a66f2b8b7d1d21": {
      "model_module": "@jupyter-widgets/controls",
      "model_module_version": "1.5.0",
      "model_name": "HBoxModel",
      "state": {
       "children": [
        "IPY_MODEL_cacaeb68e515494a81c75ba315c1ba7d",
        "IPY_MODEL_7cb780fc141646f88053a0f733f5cfdb",
        "IPY_MODEL_33bbd444da7c47948992c1a4422d2a1c"
       ],
       "layout": "IPY_MODEL_d912037225fd47608425a7200433e767"
      }
     },
     "06fbf01a8eac457f8da8e842f7e04284": {
      "model_module": "@jupyter-widgets/base",
      "model_module_version": "1.2.0",
      "model_name": "LayoutModel",
      "state": {}
     },
     "07082cfa5c43401db1871ebe36c4af97": {
      "model_module": "@jupyter-widgets/base",
      "model_module_version": "1.2.0",
      "model_name": "LayoutModel",
      "state": {}
     },
     "0746fdfca89749d7891adc0a9637cc04": {
      "model_module": "@jupyter-widgets/base",
      "model_module_version": "1.2.0",
      "model_name": "LayoutModel",
      "state": {}
     },
     "076973f4bb4744e3b63c2a7f369fccbb": {
      "model_module": "@jupyter-widgets/controls",
      "model_module_version": "1.5.0",
      "model_name": "ProgressStyleModel",
      "state": {
       "description_width": ""
      }
     },
     "07d4180a859f4960a243836faa545593": {
      "model_module": "@jupyter-widgets/controls",
      "model_module_version": "1.5.0",
      "model_name": "HBoxModel",
      "state": {
       "children": [
        "IPY_MODEL_b1004d29742b491ab54563caa76690fb",
        "IPY_MODEL_99b51d3fd62548f7ab902d146453eabb",
        "IPY_MODEL_e075df3e6b7345e6beab56660838f045"
       ],
       "layout": "IPY_MODEL_a75481a64f17477b9224e0b937533dd6"
      }
     },
     "07eb21202f26436ea774914d94a4d4e0": {
      "model_module": "@jupyter-widgets/base",
      "model_module_version": "1.2.0",
      "model_name": "LayoutModel",
      "state": {}
     },
     "087eb416839647f2a4045bcd36fe0dd6": {
      "model_module": "@jupyter-widgets/base",
      "model_module_version": "1.2.0",
      "model_name": "LayoutModel",
      "state": {}
     },
     "0961949f94f145b7a626cda55ffb28b4": {
      "model_module": "@jupyter-widgets/controls",
      "model_module_version": "1.5.0",
      "model_name": "LabelModel",
      "state": {
       "layout": "IPY_MODEL_6f1987cff46e4cc28749122041c82f52",
       "style": "IPY_MODEL_e3c618236e3640afad1b9f5353b0fb8e"
      }
     },
     "0b3e9a9dfb88411a995c7ce617d5bed1": {
      "model_module": "@jupyter-widgets/controls",
      "model_module_version": "1.5.0",
      "model_name": "HTMLModel",
      "state": {
       "layout": "IPY_MODEL_7f8871e5d51b42bdaf6734f32b926f45",
       "style": "IPY_MODEL_27a4f43f38344de7ab20cf9d9dfcb789",
       "value": " 362/362 [00:00&lt;00:00, 1794.68it/s]"
      }
     },
     "0b6de6100c224087aba1ffe9a6e72cb3": {
      "model_module": "@jupyter-widgets/base",
      "model_module_version": "1.2.0",
      "model_name": "LayoutModel",
      "state": {}
     },
     "0bf60517c1de4e25a8a6a6a361a672f7": {
      "model_module": "@jupyter-widgets/controls",
      "model_module_version": "1.5.0",
      "model_name": "FloatProgressModel",
      "state": {
       "layout": "IPY_MODEL_bb9c0e39a48c4545940b05a2b84469b3",
       "max": 1,
       "style": "IPY_MODEL_58b75924096a4373be8f3c753a417f11",
       "value": 1
      }
     },
     "0dccba75c11c4dd59cb56fcea11f7ea4": {
      "model_module": "@jupyter-widgets/controls",
      "model_module_version": "1.5.0",
      "model_name": "HBoxModel",
      "state": {
       "children": [
        "IPY_MODEL_b569b626ed454eb88cc2df38726b35ef",
        "IPY_MODEL_f77af39df9c140aca0f729e703e1fb59",
        "IPY_MODEL_3aa59df07e7d4e9bae34b2a66f670724"
       ],
       "layout": "IPY_MODEL_fa6620d97bb44e67a0abc7aee80ff470"
      }
     },
     "0ef65f1b8ea247de96195f160a59790a": {
      "model_module": "@jupyter-widgets/base",
      "model_module_version": "1.2.0",
      "model_name": "LayoutModel",
      "state": {}
     },
     "0f61d178f8f6450b931c631a6e7a9e18": {
      "model_module": "@jupyter-widgets/base",
      "model_module_version": "1.2.0",
      "model_name": "LayoutModel",
      "state": {}
     },
     "11e6af3ea4944f24965efed6b01c28a5": {
      "model_module": "@jupyter-widgets/base",
      "model_module_version": "1.2.0",
      "model_name": "LayoutModel",
      "state": {}
     },
     "1240f41fd3c64dfe940639ed29fb8c86": {
      "model_module": "@jupyter-widgets/controls",
      "model_module_version": "1.5.0",
      "model_name": "DescriptionStyleModel",
      "state": {
       "description_width": ""
      }
     },
     "124349f807914df0990df9d475254a36": {
      "model_module": "@jupyter-widgets/controls",
      "model_module_version": "1.5.0",
      "model_name": "HTMLModel",
      "state": {
       "layout": "IPY_MODEL_59df1ad0c2cf47a9bd6fb73d869fecfe",
       "style": "IPY_MODEL_746e5f5b510d4886994c97f912fae46b",
       "value": " 362/362 [00:00&lt;00:00, 1834.46it/s]"
      }
     },
     "14b4395dd1934f4cb80df72b1a2349b7": {
      "model_module": "@jupyter-widgets/controls",
      "model_module_version": "1.5.0",
      "model_name": "DescriptionStyleModel",
      "state": {
       "description_width": ""
      }
     },
     "14d27e7e5d934848811b5f4f5367652e": {
      "model_module": "@jupyter-widgets/base",
      "model_module_version": "1.2.0",
      "model_name": "LayoutModel",
      "state": {}
     },
     "16e09cb0138143a7aed5038d7d8a71dc": {
      "model_module": "@jupyter-widgets/controls",
      "model_module_version": "1.5.0",
      "model_name": "ProgressStyleModel",
      "state": {
       "description_width": ""
      }
     },
     "18309405a61843a683ce3ba0f4f5fed8": {
      "model_module": "@jupyter-widgets/controls",
      "model_module_version": "1.5.0",
      "model_name": "HTMLModel",
      "state": {
       "layout": "IPY_MODEL_0b6de6100c224087aba1ffe9a6e72cb3",
       "style": "IPY_MODEL_29dc73807d8045e9b21bcc5cea769622",
       "value": " 15/15 [00:00&lt;00:00, 27.40it/s]"
      }
     },
     "1880c0cc53c949399e4814bdd10acc69": {
      "model_module": "@jupyter-widgets/base",
      "model_module_version": "1.2.0",
      "model_name": "LayoutModel",
      "state": {}
     },
     "1959b5de1dee4ac69b868a9df4921618": {
      "model_module": "@jupyter-widgets/base",
      "model_module_version": "1.2.0",
      "model_name": "LayoutModel",
      "state": {}
     },
     "1b31cfff42744fde925d183496f2cbc0": {
      "model_module": "@jupyter-widgets/base",
      "model_module_version": "1.2.0",
      "model_name": "LayoutModel",
      "state": {}
     },
     "1c4ce44e4d844172ad7c689bedf52c07": {
      "model_module": "@jupyter-widgets/controls",
      "model_module_version": "1.5.0",
      "model_name": "DescriptionStyleModel",
      "state": {
       "description_width": ""
      }
     },
     "1e6ea285a10d45c88cb2210e29f443e4": {
      "model_module": "@jupyter-widgets/base",
      "model_module_version": "1.2.0",
      "model_name": "LayoutModel",
      "state": {}
     },
     "1f4025321a4f4f53a08f8c277ecfeee7": {
      "model_module": "@jupyter-widgets/base",
      "model_module_version": "1.2.0",
      "model_name": "LayoutModel",
      "state": {}
     },
     "222aadf3a6df45768edb89c94fae67ed": {
      "model_module": "@jupyter-widgets/controls",
      "model_module_version": "1.5.0",
      "model_name": "FloatProgressModel",
      "state": {
       "layout": "IPY_MODEL_cafc481b095a4e5386747a2432453a85",
       "max": 1,
       "style": "IPY_MODEL_e33e18948d204417b2a19b13c64cff73"
      }
     },
     "23c394eafae4425cae30ec2de6e30041": {
      "model_module": "@jupyter-widgets/controls",
      "model_module_version": "1.5.0",
      "model_name": "DescriptionStyleModel",
      "state": {
       "description_width": ""
      }
     },
     "2455bf06116d4988a5f23ae2cb0e98ca": {
      "model_module": "@jupyter-widgets/base",
      "model_module_version": "1.2.0",
      "model_name": "LayoutModel",
      "state": {}
     },
     "24e9a09c3ac041c680d232c347120c3c": {
      "model_module": "@jupyter-widgets/controls",
      "model_module_version": "1.5.0",
      "model_name": "ProgressStyleModel",
      "state": {
       "description_width": ""
      }
     },
     "2597de06f0c247879d4c43e7eb35634b": {
      "model_module": "@jupyter-widgets/controls",
      "model_module_version": "1.5.0",
      "model_name": "HBoxModel",
      "state": {
       "children": [
        "IPY_MODEL_8f7452396f764e7f8ccf222ff6a20ebe",
        "IPY_MODEL_d65f9b65486a4893b16fe0a565fe9fb4",
        "IPY_MODEL_682c39aad2294df3a8362b6e67afa974"
       ],
       "layout": "IPY_MODEL_f6b42e4a6f794ed9a91964c10d3b23f9"
      }
     },
     "266f50b03aab48db92cb9afd0b6b7f78": {
      "model_module": "@jupyter-widgets/controls",
      "model_module_version": "1.5.0",
      "model_name": "DescriptionStyleModel",
      "state": {
       "description_width": ""
      }
     },
     "2760bf36073742d995cb2bf60d2928d3": {
      "model_module": "@jupyter-widgets/base",
      "model_module_version": "1.2.0",
      "model_name": "LayoutModel",
      "state": {}
     },
     "27a4f43f38344de7ab20cf9d9dfcb789": {
      "model_module": "@jupyter-widgets/controls",
      "model_module_version": "1.5.0",
      "model_name": "DescriptionStyleModel",
      "state": {
       "description_width": ""
      }
     },
     "2877e10d173e4f2686432b95f3c0f32c": {
      "model_module": "@jupyter-widgets/controls",
      "model_module_version": "1.5.0",
      "model_name": "DescriptionStyleModel",
      "state": {
       "description_width": ""
      }
     },
     "29936696e42849aa913493091542274f": {
      "model_module": "@jupyter-widgets/base",
      "model_module_version": "1.2.0",
      "model_name": "LayoutModel",
      "state": {}
     },
     "29dc73807d8045e9b21bcc5cea769622": {
      "model_module": "@jupyter-widgets/controls",
      "model_module_version": "1.5.0",
      "model_name": "DescriptionStyleModel",
      "state": {
       "description_width": ""
      }
     },
     "29f1adda06f14b57a2df624b24e73ee9": {
      "model_module": "@jupyter-widgets/controls",
      "model_module_version": "1.5.0",
      "model_name": "FloatProgressModel",
      "state": {
       "bar_style": "success",
       "layout": "IPY_MODEL_4e1e45cf2fd149daa1b3ccbd9455d1bd",
       "max": 452,
       "style": "IPY_MODEL_9370732e48da404ba64998866a349415",
       "value": 452
      }
     },
     "2a398c78e59d439198286fc4042e9eed": {
      "model_module": "@jupyter-widgets/controls",
      "model_module_version": "1.5.0",
      "model_name": "DescriptionStyleModel",
      "state": {
       "description_width": ""
      }
     },
     "2d36c60df2f34c24b426f393d1dd2ab5": {
      "model_module": "@jupyter-widgets/controls",
      "model_module_version": "1.5.0",
      "model_name": "HTMLModel",
      "state": {
       "layout": "IPY_MODEL_0f61d178f8f6450b931c631a6e7a9e18",
       "style": "IPY_MODEL_e7c6775a0f004df4910aba856648e286",
       "value": " 1445/1445 [00:00&lt;00:00, 6133.15it/s]"
      }
     },
     "2d3d845b7649478d9f76bb6929af10b6": {
      "model_module": "@jupyter-widgets/base",
      "model_module_version": "1.2.0",
      "model_name": "LayoutModel",
      "state": {}
     },
     "2ebd5adc5f5543b4b35f54d808e6118c": {
      "model_module": "@jupyter-widgets/controls",
      "model_module_version": "1.5.0",
      "model_name": "HTMLModel",
      "state": {
       "layout": "IPY_MODEL_d4acf62e1ffe42fbb240f239ecb9be0c",
       "style": "IPY_MODEL_5833a308312a4950a915cb5bfc8a0c98",
       "value": "Epochs 0/2. Running Loss:    0.0001: 100%"
      }
     },
     "2f6e8208a4e349198907ff530da5c5eb": {
      "model_module": "@jupyter-widgets/controls",
      "model_module_version": "1.5.0",
      "model_name": "FloatProgressModel",
      "state": {
       "bar_style": "success",
       "layout": "IPY_MODEL_8641c7365e6c4763ae99ad98b46eb517",
       "max": 452,
       "style": "IPY_MODEL_a35e8af5b51049eb9a428267047d7c56",
       "value": 452
      }
     },
     "2f7335a18fcf4c6ea84446dbf5ff9d79": {
      "model_module": "@jupyter-widgets/controls",
      "model_module_version": "1.5.0",
      "model_name": "FloatProgressModel",
      "state": {
       "bar_style": "success",
       "layout": "IPY_MODEL_71f6306dade747418fca4533b83d0965",
       "max": 362,
       "style": "IPY_MODEL_6f5471be66d54d3ea3ac0d9560604bd7",
       "value": 362
      }
     },
     "3074b5ed45144085ba8a16d18601e736": {
      "model_module": "@jupyter-widgets/controls",
      "model_module_version": "1.5.0",
      "model_name": "DescriptionStyleModel",
      "state": {
       "description_width": ""
      }
     },
     "312247ea1f27423a95900b8200c111f1": {
      "model_module": "@jupyter-widgets/base",
      "model_module_version": "1.2.0",
      "model_name": "LayoutModel",
      "state": {}
     },
     "31f026a28ca14eaf85c18b842f5fb4ec": {
      "model_module": "@jupyter-widgets/base",
      "model_module_version": "1.2.0",
      "model_name": "LayoutModel",
      "state": {}
     },
     "321b19a340264921878bb6afdde65c00": {
      "model_module": "@jupyter-widgets/controls",
      "model_module_version": "1.5.0",
      "model_name": "HTMLModel",
      "state": {
       "layout": "IPY_MODEL_6302bf8426ed44549a7c213bc3818403",
       "style": "IPY_MODEL_5912e0302aa44dc18fe108a1d926fb18",
       "value": "Epochs 1/2. Running Loss:    0.0003: 100%"
      }
     },
     "33bbd444da7c47948992c1a4422d2a1c": {
      "model_module": "@jupyter-widgets/controls",
      "model_module_version": "1.5.0",
      "model_name": "HTMLModel",
      "state": {
       "layout": "IPY_MODEL_37ab5e2a03934ac0a878d148cc6841cc",
       "style": "IPY_MODEL_76a5b3ba316542e49a6f31d61dd5ec0c",
       "value": " 57/57 [00:02&lt;00:00, 24.54it/s]"
      }
     },
     "35f2335202884f7f9637c09570f76147": {
      "model_module": "@jupyter-widgets/controls",
      "model_module_version": "1.5.0",
      "model_name": "VBoxModel",
      "state": {
       "children": [
        "IPY_MODEL_69c7e379d6f54f1e944f54bd098fa0a7",
        "IPY_MODEL_92a7fda363f9445bb91d44f500b2f2c4"
       ],
       "layout": "IPY_MODEL_31f026a28ca14eaf85c18b842f5fb4ec"
      }
     },
     "369bde1955b740868186581a8fb87e82": {
      "model_module": "@jupyter-widgets/controls",
      "model_module_version": "1.5.0",
      "model_name": "FloatProgressModel",
      "state": {
       "bar_style": "success",
       "layout": "IPY_MODEL_b99050a5b20e4aa989b22cda234a460f",
       "max": 1445,
       "style": "IPY_MODEL_16e09cb0138143a7aed5038d7d8a71dc",
       "value": 1445
      }
     },
     "376c5e3b72974a2c81fda6705e7c3df0": {
      "model_module": "@jupyter-widgets/controls",
      "model_module_version": "1.5.0",
      "model_name": "HBoxModel",
      "state": {
       "children": [
        "IPY_MODEL_d4c0c23da8aa41d9bac265873fc97354",
        "IPY_MODEL_2f6e8208a4e349198907ff530da5c5eb",
        "IPY_MODEL_87aad04cb4444cfb97b178c82acdfdb2"
       ],
       "layout": "IPY_MODEL_986cf4d80df0449e95b35cdc6d79e6a2"
      }
     },
     "37ab5e2a03934ac0a878d148cc6841cc": {
      "model_module": "@jupyter-widgets/base",
      "model_module_version": "1.2.0",
      "model_name": "LayoutModel",
      "state": {}
     },
     "37eb6b440a804267a0089286ef814cca": {
      "model_module": "@jupyter-widgets/controls",
      "model_module_version": "1.5.0",
      "model_name": "FloatProgressModel",
      "state": {
       "bar_style": "success",
       "layout": "IPY_MODEL_e78fba94c4034cf6b1ce76eb0e53fa65",
       "max": 1445,
       "style": "IPY_MODEL_d778b5c13f7b4607a08efd9c923c2ba4",
       "value": 1445
      }
     },
     "383c4787e00843c780ae4ffbc45856ed": {
      "model_module": "@jupyter-widgets/controls",
      "model_module_version": "1.5.0",
      "model_name": "ProgressStyleModel",
      "state": {
       "description_width": ""
      }
     },
     "396e7d4283f94b4d9c67e28802cbecbd": {
      "model_module": "@jupyter-widgets/base",
      "model_module_version": "1.2.0",
      "model_name": "LayoutModel",
      "state": {}
     },
     "3a445dd50d2247b7bfa7055bf7a5f1b4": {
      "model_module": "@jupyter-widgets/controls",
      "model_module_version": "1.5.0",
      "model_name": "FloatProgressModel",
      "state": {
       "bar_style": "success",
       "layout": "IPY_MODEL_976317fe683b468f89ed5bff4f47eac7",
       "max": 57,
       "style": "IPY_MODEL_fc8554eb00a54dfbbb5bf840252c2a98",
       "value": 57
      }
     },
     "3aa59df07e7d4e9bae34b2a66f670724": {
      "model_module": "@jupyter-widgets/controls",
      "model_module_version": "1.5.0",
      "model_name": "HTMLModel",
      "state": {
       "layout": "IPY_MODEL_673401000404432f8c10659675b57c70",
       "style": "IPY_MODEL_d75709f133614b97a43238ba28c92108",
       "value": " 46/46 [00:06&lt;00:00,  9.69it/s]"
      }
     },
     "3b9426782d3240b5a87ebef81e0a2890": {
      "model_module": "@jupyter-widgets/base",
      "model_module_version": "1.2.0",
      "model_name": "LayoutModel",
      "state": {}
     },
     "3d05bd0410e8475387e999684bd5abf4": {
      "model_module": "@jupyter-widgets/controls",
      "model_module_version": "1.5.0",
      "model_name": "DescriptionStyleModel",
      "state": {
       "description_width": ""
      }
     },
     "459fcfc6c137416d92d5275d6a08b3cc": {
      "model_module": "@jupyter-widgets/controls",
      "model_module_version": "1.5.0",
      "model_name": "HBoxModel",
      "state": {
       "children": [
        "IPY_MODEL_e6e25503d01e4a98beebb9820aee638e",
        "IPY_MODEL_d7003cfde87d4af5b60d466dd6377d6c",
        "IPY_MODEL_71574010a32b4fecaeeeea24b742e897"
       ],
       "layout": "IPY_MODEL_620dedee64f74fd99a52fbd2709a36a7"
      }
     },
     "462d0d6a22434bde957164e39dba6dc1": {
      "model_module": "@jupyter-widgets/base",
      "model_module_version": "1.2.0",
      "model_name": "LayoutModel",
      "state": {}
     },
     "46662777404746e9bf0d6e955e6dc0ae": {
      "model_module": "@jupyter-widgets/controls",
      "model_module_version": "1.5.0",
      "model_name": "HTMLModel",
      "state": {
       "layout": "IPY_MODEL_f6ef2e848adb45b09ebdfadce6e53f4e",
       "style": "IPY_MODEL_3d05bd0410e8475387e999684bd5abf4",
       "value": "100%"
      }
     },
     "46d1fa2f7c314d69b14f1496c648e9a6": {
      "model_module": "@jupyter-widgets/controls",
      "model_module_version": "1.5.0",
      "model_name": "DescriptionStyleModel",
      "state": {
       "description_width": ""
      }
     },
     "470e7b6880c4412a9ec44bfcb26653a8": {
      "model_module": "@jupyter-widgets/base",
      "model_module_version": "1.2.0",
      "model_name": "LayoutModel",
      "state": {}
     },
     "47833b1cdfd84467b98edf3d3008b1ac": {
      "model_module": "@jupyter-widgets/controls",
      "model_module_version": "1.5.0",
      "model_name": "HTMLModel",
      "state": {
       "layout": "IPY_MODEL_7fc4cbc6cace4124bbfbff49dec97631",
       "style": "IPY_MODEL_8dae1d27f93c4efeb933aa2591de496b",
       "value": " 2/2 [00:23&lt;00:00, 10.97s/it]"
      }
     },
     "47bf9cefe6be49a3b55e094e2d7acc0d": {
      "model_module": "@jupyter-widgets/controls",
      "model_module_version": "1.5.0",
      "model_name": "HBoxModel",
      "state": {
       "children": [
        "IPY_MODEL_48f99e90261f4ee485ffb4c496c39f81",
        "IPY_MODEL_bd026b3746f84765be44ef2c67b77113",
        "IPY_MODEL_87b66681db344ddfbce8fb8e63eea559"
       ],
       "layout": "IPY_MODEL_1959b5de1dee4ac69b868a9df4921618"
      }
     },
     "487edbf2941e4efe876e482640e860a2": {
      "model_module": "@jupyter-widgets/base",
      "model_module_version": "1.2.0",
      "model_name": "LayoutModel",
      "state": {}
     },
     "48f99e90261f4ee485ffb4c496c39f81": {
      "model_module": "@jupyter-widgets/controls",
      "model_module_version": "1.5.0",
      "model_name": "HTMLModel",
      "state": {
       "layout": "IPY_MODEL_a32519e31d784917825a07b797473c2e",
       "style": "IPY_MODEL_2a398c78e59d439198286fc4042e9eed",
       "value": "Epoch 2 of 2: 100%"
      }
     },
     "4a2519f4e4fe486ba100fa249f4b49e1": {
      "model_module": "@jupyter-widgets/base",
      "model_module_version": "1.2.0",
      "model_name": "LayoutModel",
      "state": {}
     },
     "4aaf277641ee47f289665bf79e4d2075": {
      "model_module": "@jupyter-widgets/base",
      "model_module_version": "1.2.0",
      "model_name": "LayoutModel",
      "state": {}
     },
     "4b27bd3ee67840cbbae7fbb18030e523": {
      "model_module": "@jupyter-widgets/base",
      "model_module_version": "1.2.0",
      "model_name": "LayoutModel",
      "state": {}
     },
     "4c1a0be8c9334e3eaadda8ed79a3f4c2": {
      "model_module": "@jupyter-widgets/base",
      "model_module_version": "1.2.0",
      "model_name": "LayoutModel",
      "state": {}
     },
     "4c2eb2d821324561b1d2c12c81dd69ca": {
      "model_module": "@jupyter-widgets/controls",
      "model_module_version": "1.5.0",
      "model_name": "HTMLModel",
      "state": {
       "layout": "IPY_MODEL_cc98212675c64a639a260660b31d4f05",
       "style": "IPY_MODEL_ca290c23ef18400b99f57bd40670e713",
       "value": " 452/452 [00:00&lt;00:00, 5979.56it/s]"
      }
     },
     "4cdc1d1e94674523a77795a82e71037f": {
      "model_module": "@jupyter-widgets/controls",
      "model_module_version": "1.5.0",
      "model_name": "ProgressStyleModel",
      "state": {
       "description_width": ""
      }
     },
     "4e1e45cf2fd149daa1b3ccbd9455d1bd": {
      "model_module": "@jupyter-widgets/base",
      "model_module_version": "1.2.0",
      "model_name": "LayoutModel",
      "state": {}
     },
     "4e5557dfdb324455bc69e52f9708a594": {
      "model_module": "@jupyter-widgets/controls",
      "model_module_version": "1.5.0",
      "model_name": "DescriptionStyleModel",
      "state": {
       "description_width": ""
      }
     },
     "4f78063db5c648409721825d59b72ae2": {
      "model_module": "@jupyter-widgets/controls",
      "model_module_version": "1.5.0",
      "model_name": "DescriptionStyleModel",
      "state": {
       "description_width": ""
      }
     },
     "4fce9caa42f44898aa306eccb9c309a8": {
      "model_module": "@jupyter-widgets/controls",
      "model_module_version": "1.5.0",
      "model_name": "HTMLModel",
      "state": {
       "layout": "IPY_MODEL_4a2519f4e4fe486ba100fa249f4b49e1",
       "style": "IPY_MODEL_14b4395dd1934f4cb80df72b1a2349b7",
       "value": "100%"
      }
     },
     "50f45dcb50a24220a98362508206bed7": {
      "model_module": "@jupyter-widgets/controls",
      "model_module_version": "1.5.0",
      "model_name": "DescriptionStyleModel",
      "state": {
       "description_width": ""
      }
     },
     "5115f7e3b9f54978b0e4841a4b09df00": {
      "model_module": "@jupyter-widgets/controls",
      "model_module_version": "1.5.0",
      "model_name": "DescriptionStyleModel",
      "state": {
       "description_width": ""
      }
     },
     "516123a2c4be4f25856973c7af501cb0": {
      "model_module": "@jupyter-widgets/controls",
      "model_module_version": "1.5.0",
      "model_name": "DescriptionStyleModel",
      "state": {
       "description_width": ""
      }
     },
     "5369ed34506949c99a2c6e8c3b15c2e7": {
      "model_module": "@jupyter-widgets/base",
      "model_module_version": "1.2.0",
      "model_name": "LayoutModel",
      "state": {}
     },
     "5833a308312a4950a915cb5bfc8a0c98": {
      "model_module": "@jupyter-widgets/controls",
      "model_module_version": "1.5.0",
      "model_name": "DescriptionStyleModel",
      "state": {
       "description_width": ""
      }
     },
     "58b75924096a4373be8f3c753a417f11": {
      "model_module": "@jupyter-widgets/controls",
      "model_module_version": "1.5.0",
      "model_name": "ProgressStyleModel",
      "state": {
       "description_width": ""
      }
     },
     "590d969fbf164ddbbe803aa5e181272e": {
      "model_module": "@jupyter-widgets/controls",
      "model_module_version": "1.5.0",
      "model_name": "HTMLModel",
      "state": {
       "layout": "IPY_MODEL_14d27e7e5d934848811b5f4f5367652e",
       "style": "IPY_MODEL_c6d8712b8ec94b8b90575c1fefdf201e",
       "value": " 181/181 [00:27&lt;00:00,  6.68it/s]"
      }
     },
     "5912e0302aa44dc18fe108a1d926fb18": {
      "model_module": "@jupyter-widgets/controls",
      "model_module_version": "1.5.0",
      "model_name": "DescriptionStyleModel",
      "state": {
       "description_width": ""
      }
     },
     "59df1ad0c2cf47a9bd6fb73d869fecfe": {
      "model_module": "@jupyter-widgets/base",
      "model_module_version": "1.2.0",
      "model_name": "LayoutModel",
      "state": {}
     },
     "5a4027ffe1764fafa9fccae6a3ada5ab": {
      "model_module": "@jupyter-widgets/controls",
      "model_module_version": "1.5.0",
      "model_name": "HTMLModel",
      "state": {
       "layout": "IPY_MODEL_312247ea1f27423a95900b8200c111f1",
       "style": "IPY_MODEL_1240f41fd3c64dfe940639ed29fb8c86",
       "value": " 46/46 [00:05&lt;00:00,  9.74it/s]"
      }
     },
     "5e6274c435ba41939eb70aa6eed11c36": {
      "model_module": "@jupyter-widgets/base",
      "model_module_version": "1.2.0",
      "model_name": "LayoutModel",
      "state": {}
     },
     "5ff254d724144dde985443ee796a6f59": {
      "model_module": "@jupyter-widgets/controls",
      "model_module_version": "1.5.0",
      "model_name": "HTMLModel",
      "state": {
       "layout": "IPY_MODEL_1e6ea285a10d45c88cb2210e29f443e4",
       "style": "IPY_MODEL_e2e527e4257f430491e2d29de3ae977e",
       "value": "100%"
      }
     },
     "609ad62952504e48acc794ef20cd245f": {
      "model_module": "@jupyter-widgets/controls",
      "model_module_version": "1.5.0",
      "model_name": "FloatProgressModel",
      "state": {
       "layout": "IPY_MODEL_e4c99a4b79a14a88a2be91403c64195b",
       "max": 1,
       "style": "IPY_MODEL_7ee18e1f7e5b4de0bbb1c7107883fd00",
       "value": 1
      }
     },
     "620dedee64f74fd99a52fbd2709a36a7": {
      "model_module": "@jupyter-widgets/base",
      "model_module_version": "1.2.0",
      "model_name": "LayoutModel",
      "state": {}
     },
     "626985f6208a4d09be6d44c9dc275825": {
      "model_module": "@jupyter-widgets/controls",
      "model_module_version": "1.5.0",
      "model_name": "HBoxModel",
      "state": {
       "children": [
        "IPY_MODEL_769b4b6bfaf04615b622bf4962db24a7",
        "IPY_MODEL_ca1cda6147e7430bae76cfbd45f0c156",
        "IPY_MODEL_47833b1cdfd84467b98edf3d3008b1ac"
       ],
       "layout": "IPY_MODEL_06fbf01a8eac457f8da8e842f7e04284"
      }
     },
     "6302bf8426ed44549a7c213bc3818403": {
      "model_module": "@jupyter-widgets/base",
      "model_module_version": "1.2.0",
      "model_name": "LayoutModel",
      "state": {}
     },
     "63f036cba4a74bf4bdcc04bd611ad7c9": {
      "model_module": "@jupyter-widgets/base",
      "model_module_version": "1.2.0",
      "model_name": "LayoutModel",
      "state": {}
     },
     "64b6683476594ae89d54328b5d96483a": {
      "model_module": "@jupyter-widgets/base",
      "model_module_version": "1.2.0",
      "model_name": "LayoutModel",
      "state": {}
     },
     "66ee426877a34c03a0f70e2280c635d8": {
      "model_module": "@jupyter-widgets/controls",
      "model_module_version": "1.5.0",
      "model_name": "ProgressStyleModel",
      "state": {
       "description_width": ""
      }
     },
     "670a90fd94334f9c9230caf549790d5c": {
      "model_module": "@jupyter-widgets/controls",
      "model_module_version": "1.5.0",
      "model_name": "DescriptionStyleModel",
      "state": {
       "description_width": ""
      }
     },
     "673401000404432f8c10659675b57c70": {
      "model_module": "@jupyter-widgets/base",
      "model_module_version": "1.2.0",
      "model_name": "LayoutModel",
      "state": {}
     },
     "677f793883b14400b0f5fe4f26632779": {
      "model_module": "@jupyter-widgets/base",
      "model_module_version": "1.2.0",
      "model_name": "LayoutModel",
      "state": {}
     },
     "682c39aad2294df3a8362b6e67afa974": {
      "model_module": "@jupyter-widgets/controls",
      "model_module_version": "1.5.0",
      "model_name": "HTMLModel",
      "state": {
       "layout": "IPY_MODEL_8a76f12f5a8643bca4043c8c7e19607c",
       "style": "IPY_MODEL_f50505a56e5f4382884360ebe887b29b",
       "value": " 1445/1445 [00:17&lt;00:00, 93.62it/s]"
      }
     },
     "6870e3d876314d8aa91304d44fc71f6e": {
      "model_module": "@jupyter-widgets/controls",
      "model_module_version": "1.5.0",
      "model_name": "HTMLModel",
      "state": {
       "layout": "IPY_MODEL_a9d77a8e18764192bdd1f4c7a619f4a3",
       "style": "IPY_MODEL_1c4ce44e4d844172ad7c689bedf52c07",
       "value": " 15/15 [00:00&lt;00:00, 27.18it/s]"
      }
     },
     "68e36e211f0c4f7694386b7672fd1251": {
      "model_module": "@jupyter-widgets/base",
      "model_module_version": "1.2.0",
      "model_name": "LayoutModel",
      "state": {}
     },
     "69611ee1263541eaa1bf5874862c3880": {
      "model_module": "@jupyter-widgets/controls",
      "model_module_version": "1.5.0",
      "model_name": "HBoxModel",
      "state": {
       "children": [
        "IPY_MODEL_2ebd5adc5f5543b4b35f54d808e6118c",
        "IPY_MODEL_fef6ad02e0994545b41e45b1fd30db50",
        "IPY_MODEL_dc92055021ee4973b0f4915b6b74d3d7"
       ],
       "layout": "IPY_MODEL_4c1a0be8c9334e3eaadda8ed79a3f4c2"
      }
     },
     "69c7e379d6f54f1e944f54bd098fa0a7": {
      "model_module": "@jupyter-widgets/controls",
      "model_module_version": "1.5.0",
      "model_name": "LabelModel",
      "state": {
       "layout": "IPY_MODEL_5e6274c435ba41939eb70aa6eed11c36",
       "style": "IPY_MODEL_9dc30472bdaf4fb1826c1e1639c20312"
      }
     },
     "69dfcbce2e274a83b1543e8349588145": {
      "model_module": "@jupyter-widgets/base",
      "model_module_version": "1.2.0",
      "model_name": "LayoutModel",
      "state": {}
     },
     "6ae61dffcf1c441a966a128f7c2e4ef8": {
      "model_module": "@jupyter-widgets/controls",
      "model_module_version": "1.5.0",
      "model_name": "HTMLModel",
      "state": {
       "layout": "IPY_MODEL_e016c83834a54daaa370a6b40d5f9d98",
       "style": "IPY_MODEL_763635ea551b483faa650425a2470741",
       "value": "100%"
      }
     },
     "6b013abd1e96418097e603a292a39bf4": {
      "model_module": "@jupyter-widgets/controls",
      "model_module_version": "1.5.0",
      "model_name": "ProgressStyleModel",
      "state": {
       "description_width": ""
      }
     },
     "6c272d905a3340ce8dc42b1250136156": {
      "model_module": "@jupyter-widgets/base",
      "model_module_version": "1.2.0",
      "model_name": "LayoutModel",
      "state": {}
     },
     "6cefde944472460b835a73c47169e2e7": {
      "model_module": "@jupyter-widgets/controls",
      "model_module_version": "1.5.0",
      "model_name": "DescriptionStyleModel",
      "state": {
       "description_width": ""
      }
     },
     "6d158029cd544c53bb31822c69b2b93b": {
      "model_module": "@jupyter-widgets/controls",
      "model_module_version": "1.5.0",
      "model_name": "ProgressStyleModel",
      "state": {
       "description_width": ""
      }
     },
     "6dffd434be604d99b50760c7b1ff9a93": {
      "model_module": "@jupyter-widgets/controls",
      "model_module_version": "1.5.0",
      "model_name": "HBoxModel",
      "state": {
       "children": [
        "IPY_MODEL_eddd581ad4e64c85a2859e3373f95ef1",
        "IPY_MODEL_dd6e2df319834d00a662c3e1fb69d07b",
        "IPY_MODEL_7f52fb4cf4de4f4f8a6eb7d6e1e23835"
       ],
       "layout": "IPY_MODEL_64b6683476594ae89d54328b5d96483a"
      }
     },
     "6f197118bffd4f988e37a4c3407372e7": {
      "model_module": "@jupyter-widgets/base",
      "model_module_version": "1.2.0",
      "model_name": "LayoutModel",
      "state": {}
     },
     "6f1987cff46e4cc28749122041c82f52": {
      "model_module": "@jupyter-widgets/base",
      "model_module_version": "1.2.0",
      "model_name": "LayoutModel",
      "state": {}
     },
     "6f5471be66d54d3ea3ac0d9560604bd7": {
      "model_module": "@jupyter-widgets/controls",
      "model_module_version": "1.5.0",
      "model_name": "ProgressStyleModel",
      "state": {
       "description_width": ""
      }
     },
     "70a8a38974fb4f1faf98d9e31e1e0099": {
      "model_module": "@jupyter-widgets/controls",
      "model_module_version": "1.5.0",
      "model_name": "ProgressStyleModel",
      "state": {
       "description_width": ""
      }
     },
     "71574010a32b4fecaeeeea24b742e897": {
      "model_module": "@jupyter-widgets/controls",
      "model_module_version": "1.5.0",
      "model_name": "HTMLModel",
      "state": {
       "layout": "IPY_MODEL_ab01885832ea48edbe53857e9a550495",
       "style": "IPY_MODEL_4f78063db5c648409721825d59b72ae2",
       "value": " 362/362 [00:03&lt;00:00, 90.33it/s]"
      }
     },
     "71f6306dade747418fca4533b83d0965": {
      "model_module": "@jupyter-widgets/base",
      "model_module_version": "1.2.0",
      "model_name": "LayoutModel",
      "state": {}
     },
     "746e5f5b510d4886994c97f912fae46b": {
      "model_module": "@jupyter-widgets/controls",
      "model_module_version": "1.5.0",
      "model_name": "DescriptionStyleModel",
      "state": {
       "description_width": ""
      }
     },
     "74c3eb1e6af7443cb7ec1d826ed2b9cb": {
      "model_module": "@jupyter-widgets/base",
      "model_module_version": "1.2.0",
      "model_name": "LayoutModel",
      "state": {}
     },
     "74f1c383f60d4fc2afd08adf3d7fa346": {
      "model_module": "@jupyter-widgets/base",
      "model_module_version": "1.2.0",
      "model_name": "LayoutModel",
      "state": {}
     },
     "7575331387b24c778f2d84b3654b0abf": {
      "model_module": "@jupyter-widgets/controls",
      "model_module_version": "1.5.0",
      "model_name": "DescriptionStyleModel",
      "state": {
       "description_width": ""
      }
     },
     "763635ea551b483faa650425a2470741": {
      "model_module": "@jupyter-widgets/controls",
      "model_module_version": "1.5.0",
      "model_name": "DescriptionStyleModel",
      "state": {
       "description_width": ""
      }
     },
     "769b4b6bfaf04615b622bf4962db24a7": {
      "model_module": "@jupyter-widgets/controls",
      "model_module_version": "1.5.0",
      "model_name": "HTMLModel",
      "state": {
       "layout": "IPY_MODEL_9e1fe2055adc4a51b178582b79095e0b",
       "style": "IPY_MODEL_6cefde944472460b835a73c47169e2e7",
       "value": "Epoch 2 of 2: 100%"
      }
     },
     "76a5b3ba316542e49a6f31d61dd5ec0c": {
      "model_module": "@jupyter-widgets/controls",
      "model_module_version": "1.5.0",
      "model_name": "DescriptionStyleModel",
      "state": {
       "description_width": ""
      }
     },
     "77725a0636bf47bda39f7b05d0b3ef77": {
      "model_module": "@jupyter-widgets/controls",
      "model_module_version": "1.5.0",
      "model_name": "HBoxModel",
      "state": {
       "children": [
        "IPY_MODEL_d3d1681e89c64bb59995e91a1def647b",
        "IPY_MODEL_fa7310ff4d2f4ecf98a4e551c8668a3a",
        "IPY_MODEL_5a4027ffe1764fafa9fccae6a3ada5ab"
       ],
       "layout": "IPY_MODEL_63f036cba4a74bf4bdcc04bd611ad7c9"
      }
     },
     "77ab5945b41e4b66b589d463ebe1052a": {
      "model_module": "@jupyter-widgets/controls",
      "model_module_version": "1.5.0",
      "model_name": "FloatProgressModel",
      "state": {
       "layout": "IPY_MODEL_aea52d48a1fd4a4bb6b1ad2528c41eaf",
       "max": 1,
       "style": "IPY_MODEL_ef7b00fb4ec044059c65613b2ebac276"
      }
     },
     "7821efb164fe4dcea242aa9bd16a10bf": {
      "model_module": "@jupyter-widgets/base",
      "model_module_version": "1.2.0",
      "model_name": "LayoutModel",
      "state": {}
     },
     "783c5f0470f24d828e756cea30194279": {
      "model_module": "@jupyter-widgets/controls",
      "model_module_version": "1.5.0",
      "model_name": "FloatProgressModel",
      "state": {
       "bar_style": "success",
       "layout": "IPY_MODEL_81284470b0dd41a28654a1f85ca72664",
       "max": 15,
       "style": "IPY_MODEL_a133ab0e90b6430988d1e1907303389a",
       "value": 15
      }
     },
     "7a92b1e517d84ac7bacb1bbbb6e63963": {
      "model_module": "@jupyter-widgets/controls",
      "model_module_version": "1.5.0",
      "model_name": "HBoxModel",
      "state": {
       "children": [
        "IPY_MODEL_b74ee8efd23747acbd9bcf3b1098ab29",
        "IPY_MODEL_9f2860b6c875448da176203662fdaa5e",
        "IPY_MODEL_18309405a61843a683ce3ba0f4f5fed8"
       ],
       "layout": "IPY_MODEL_85116b9226ae4cfd957a3e91b816dfb5"
      }
     },
     "7cb780fc141646f88053a0f733f5cfdb": {
      "model_module": "@jupyter-widgets/controls",
      "model_module_version": "1.5.0",
      "model_name": "FloatProgressModel",
      "state": {
       "bar_style": "success",
       "layout": "IPY_MODEL_97a4027935dc495ea6f38aaacf493bc5",
       "max": 57,
       "style": "IPY_MODEL_076973f4bb4744e3b63c2a7f369fccbb",
       "value": 57
      }
     },
     "7d4d5f3fcb824d55917a8c82cc1f7df8": {
      "model_module": "@jupyter-widgets/base",
      "model_module_version": "1.2.0",
      "model_name": "LayoutModel",
      "state": {}
     },
     "7ee18e1f7e5b4de0bbb1c7107883fd00": {
      "model_module": "@jupyter-widgets/controls",
      "model_module_version": "1.5.0",
      "model_name": "ProgressStyleModel",
      "state": {
       "description_width": ""
      }
     },
     "7f2e1b2036044921acd4d2230426002b": {
      "model_module": "@jupyter-widgets/controls",
      "model_module_version": "1.5.0",
      "model_name": "DescriptionStyleModel",
      "state": {
       "description_width": ""
      }
     },
     "7f52fb4cf4de4f4f8a6eb7d6e1e23835": {
      "model_module": "@jupyter-widgets/controls",
      "model_module_version": "1.5.0",
      "model_name": "HTMLModel",
      "state": {
       "layout": "IPY_MODEL_677f793883b14400b0f5fe4f26632779",
       "style": "IPY_MODEL_46d1fa2f7c314d69b14f1496c648e9a6",
       "value": " 452/452 [00:00&lt;00:00, 1833.59it/s]"
      }
     },
     "7f8871e5d51b42bdaf6734f32b926f45": {
      "model_module": "@jupyter-widgets/base",
      "model_module_version": "1.2.0",
      "model_name": "LayoutModel",
      "state": {}
     },
     "7fc4cbc6cace4124bbfbff49dec97631": {
      "model_module": "@jupyter-widgets/base",
      "model_module_version": "1.2.0",
      "model_name": "LayoutModel",
      "state": {}
     },
     "7fe9832864be435381b5afe62fb2cd6d": {
      "model_module": "@jupyter-widgets/controls",
      "model_module_version": "1.5.0",
      "model_name": "HTMLModel",
      "state": {
       "layout": "IPY_MODEL_07eb21202f26436ea774914d94a4d4e0",
       "style": "IPY_MODEL_03685e93074a4994bdc0b35a03ca17be",
       "value": " 1445/1445 [00:00&lt;00:00, 1971.95it/s]"
      }
     },
     "81284470b0dd41a28654a1f85ca72664": {
      "model_module": "@jupyter-widgets/base",
      "model_module_version": "1.2.0",
      "model_name": "LayoutModel",
      "state": {}
     },
     "8219665a2b3c46808135d778d0280bc0": {
      "model_module": "@jupyter-widgets/controls",
      "model_module_version": "1.5.0",
      "model_name": "DescriptionStyleModel",
      "state": {
       "description_width": ""
      }
     },
     "85116b9226ae4cfd957a3e91b816dfb5": {
      "model_module": "@jupyter-widgets/base",
      "model_module_version": "1.2.0",
      "model_name": "LayoutModel",
      "state": {}
     },
     "8641c7365e6c4763ae99ad98b46eb517": {
      "model_module": "@jupyter-widgets/base",
      "model_module_version": "1.2.0",
      "model_name": "LayoutModel",
      "state": {}
     },
     "87aad04cb4444cfb97b178c82acdfdb2": {
      "model_module": "@jupyter-widgets/controls",
      "model_module_version": "1.5.0",
      "model_name": "HTMLModel",
      "state": {
       "layout": "IPY_MODEL_3b9426782d3240b5a87ebef81e0a2890",
       "style": "IPY_MODEL_8219665a2b3c46808135d778d0280bc0",
       "value": " 452/452 [00:00&lt;00:00, 5853.79it/s]"
      }
     },
     "87b66681db344ddfbce8fb8e63eea559": {
      "model_module": "@jupyter-widgets/controls",
      "model_module_version": "1.5.0",
      "model_name": "HTMLModel",
      "state": {
       "layout": "IPY_MODEL_d0c87013d3364b81b7133a05567882ac",
       "style": "IPY_MODEL_bcd963221a6544daabd150594af27588",
       "value": " 2/2 [01:11&lt;00:00, 34.60s/it]"
      }
     },
     "8a76f12f5a8643bca4043c8c7e19607c": {
      "model_module": "@jupyter-widgets/base",
      "model_module_version": "1.2.0",
      "model_name": "LayoutModel",
      "state": {}
     },
     "8dae1d27f93c4efeb933aa2591de496b": {
      "model_module": "@jupyter-widgets/controls",
      "model_module_version": "1.5.0",
      "model_name": "DescriptionStyleModel",
      "state": {
       "description_width": ""
      }
     },
     "8f7452396f764e7f8ccf222ff6a20ebe": {
      "model_module": "@jupyter-widgets/controls",
      "model_module_version": "1.5.0",
      "model_name": "HTMLModel",
      "state": {
       "layout": "IPY_MODEL_07082cfa5c43401db1871ebe36c4af97",
       "style": "IPY_MODEL_d9ff93da52e14fab9e9ecd09f4004228",
       "value": "Predicting [text]: 100%"
      }
     },
     "92a7fda363f9445bb91d44f500b2f2c4": {
      "model_module": "@jupyter-widgets/controls",
      "model_module_version": "1.5.0",
      "model_name": "FloatProgressModel",
      "state": {
       "layout": "IPY_MODEL_470e7b6880c4412a9ec44bfcb26653a8",
       "max": 1,
       "style": "IPY_MODEL_9c0f7db9512c463ab04b7d5a3e65d34a"
      }
     },
     "9370732e48da404ba64998866a349415": {
      "model_module": "@jupyter-widgets/controls",
      "model_module_version": "1.5.0",
      "model_name": "ProgressStyleModel",
      "state": {
       "description_width": ""
      }
     },
     "93a1f9a5ab6a49cb8d3ab57e7a2b3300": {
      "model_module": "@jupyter-widgets/base",
      "model_module_version": "1.2.0",
      "model_name": "LayoutModel",
      "state": {}
     },
     "942c85b902b944019417ea47df964398": {
      "model_module": "@jupyter-widgets/base",
      "model_module_version": "1.2.0",
      "model_name": "LayoutModel",
      "state": {}
     },
     "958615a51e844b95ad74019002e73f97": {
      "model_module": "@jupyter-widgets/controls",
      "model_module_version": "1.5.0",
      "model_name": "DescriptionStyleModel",
      "state": {
       "description_width": ""
      }
     },
     "976317fe683b468f89ed5bff4f47eac7": {
      "model_module": "@jupyter-widgets/base",
      "model_module_version": "1.2.0",
      "model_name": "LayoutModel",
      "state": {}
     },
     "97a4027935dc495ea6f38aaacf493bc5": {
      "model_module": "@jupyter-widgets/base",
      "model_module_version": "1.2.0",
      "model_name": "LayoutModel",
      "state": {}
     },
     "986cf4d80df0449e95b35cdc6d79e6a2": {
      "model_module": "@jupyter-widgets/base",
      "model_module_version": "1.2.0",
      "model_name": "LayoutModel",
      "state": {}
     },
     "99b51d3fd62548f7ab902d146453eabb": {
      "model_module": "@jupyter-widgets/controls",
      "model_module_version": "1.5.0",
      "model_name": "FloatProgressModel",
      "state": {
       "bar_style": "success",
       "layout": "IPY_MODEL_2455bf06116d4988a5f23ae2cb0e98ca",
       "max": 452,
       "style": "IPY_MODEL_4cdc1d1e94674523a77795a82e71037f",
       "value": 452
      }
     },
     "9b76ebff45cc4197a5a1a47b051c6dec": {
      "model_module": "@jupyter-widgets/controls",
      "model_module_version": "1.5.0",
      "model_name": "HTMLModel",
      "state": {
       "layout": "IPY_MODEL_74f1c383f60d4fc2afd08adf3d7fa346",
       "style": "IPY_MODEL_50f45dcb50a24220a98362508206bed7",
       "value": "Running Evaluation: 100%"
      }
     },
     "9c0f7db9512c463ab04b7d5a3e65d34a": {
      "model_module": "@jupyter-widgets/controls",
      "model_module_version": "1.5.0",
      "model_name": "ProgressStyleModel",
      "state": {
       "description_width": ""
      }
     },
     "9d218bfaa18d4bbf84c127a5eea55ece": {
      "model_module": "@jupyter-widgets/controls",
      "model_module_version": "1.5.0",
      "model_name": "DescriptionStyleModel",
      "state": {
       "description_width": ""
      }
     },
     "9dc30472bdaf4fb1826c1e1639c20312": {
      "model_module": "@jupyter-widgets/controls",
      "model_module_version": "1.5.0",
      "model_name": "DescriptionStyleModel",
      "state": {
       "description_width": ""
      }
     },
     "9e1fe2055adc4a51b178582b79095e0b": {
      "model_module": "@jupyter-widgets/base",
      "model_module_version": "1.2.0",
      "model_name": "LayoutModel",
      "state": {}
     },
     "9f2860b6c875448da176203662fdaa5e": {
      "model_module": "@jupyter-widgets/controls",
      "model_module_version": "1.5.0",
      "model_name": "FloatProgressModel",
      "state": {
       "bar_style": "success",
       "layout": "IPY_MODEL_942c85b902b944019417ea47df964398",
       "max": 15,
       "style": "IPY_MODEL_a91e0f9873d44f1189ea51e82f7850eb",
       "value": 15
      }
     },
     "a1069f7ecbdb496ca03de184c4f209e9": {
      "model_module": "@jupyter-widgets/controls",
      "model_module_version": "1.5.0",
      "model_name": "DescriptionStyleModel",
      "state": {
       "description_width": ""
      }
     },
     "a129db9c410c40968937dfc6ee5806ac": {
      "model_module": "@jupyter-widgets/controls",
      "model_module_version": "1.5.0",
      "model_name": "DescriptionStyleModel",
      "state": {
       "description_width": ""
      }
     },
     "a133ab0e90b6430988d1e1907303389a": {
      "model_module": "@jupyter-widgets/controls",
      "model_module_version": "1.5.0",
      "model_name": "ProgressStyleModel",
      "state": {
       "description_width": ""
      }
     },
     "a2c8ebbe3b01477987f304ca42322776": {
      "model_module": "@jupyter-widgets/controls",
      "model_module_version": "1.5.0",
      "model_name": "ProgressStyleModel",
      "state": {
       "description_width": ""
      }
     },
     "a2d990f800e64382a24a972ad0fb4219": {
      "model_module": "@jupyter-widgets/controls",
      "model_module_version": "1.5.0",
      "model_name": "HBoxModel",
      "state": {
       "children": [
        "IPY_MODEL_9b76ebff45cc4197a5a1a47b051c6dec",
        "IPY_MODEL_783c5f0470f24d828e756cea30194279",
        "IPY_MODEL_6870e3d876314d8aa91304d44fc71f6e"
       ],
       "layout": "IPY_MODEL_69dfcbce2e274a83b1543e8349588145"
      }
     },
     "a32519e31d784917825a07b797473c2e": {
      "model_module": "@jupyter-widgets/base",
      "model_module_version": "1.2.0",
      "model_name": "LayoutModel",
      "state": {}
     },
     "a35e8af5b51049eb9a428267047d7c56": {
      "model_module": "@jupyter-widgets/controls",
      "model_module_version": "1.5.0",
      "model_name": "ProgressStyleModel",
      "state": {
       "description_width": ""
      }
     },
     "a3696e1fb7da445dac0c25e9dfec4fd6": {
      "model_module": "@jupyter-widgets/controls",
      "model_module_version": "1.5.0",
      "model_name": "ProgressStyleModel",
      "state": {
       "description_width": ""
      }
     },
     "a55de7c4a1874d9aadc03013e07cfc24": {
      "model_module": "@jupyter-widgets/base",
      "model_module_version": "1.2.0",
      "model_name": "LayoutModel",
      "state": {}
     },
     "a75481a64f17477b9224e0b937533dd6": {
      "model_module": "@jupyter-widgets/base",
      "model_module_version": "1.2.0",
      "model_name": "LayoutModel",
      "state": {}
     },
     "a91e0f9873d44f1189ea51e82f7850eb": {
      "model_module": "@jupyter-widgets/controls",
      "model_module_version": "1.5.0",
      "model_name": "ProgressStyleModel",
      "state": {
       "description_width": ""
      }
     },
     "a9d77a8e18764192bdd1f4c7a619f4a3": {
      "model_module": "@jupyter-widgets/base",
      "model_module_version": "1.2.0",
      "model_name": "LayoutModel",
      "state": {}
     },
     "ab01885832ea48edbe53857e9a550495": {
      "model_module": "@jupyter-widgets/base",
      "model_module_version": "1.2.0",
      "model_name": "LayoutModel",
      "state": {}
     },
     "abc6983d417746bb9fdd44907522a567": {
      "model_module": "@jupyter-widgets/base",
      "model_module_version": "1.2.0",
      "model_name": "LayoutModel",
      "state": {}
     },
     "ae3a1c53450c403dbed11cfad1bd07a1": {
      "model_module": "@jupyter-widgets/base",
      "model_module_version": "1.2.0",
      "model_name": "LayoutModel",
      "state": {}
     },
     "aea52d48a1fd4a4bb6b1ad2528c41eaf": {
      "model_module": "@jupyter-widgets/base",
      "model_module_version": "1.2.0",
      "model_name": "LayoutModel",
      "state": {}
     },
     "af34200af75e4c5e9fce564847132e0e": {
      "model_module": "@jupyter-widgets/controls",
      "model_module_version": "1.5.0",
      "model_name": "HBoxModel",
      "state": {
       "children": [
        "IPY_MODEL_46662777404746e9bf0d6e955e6dc0ae",
        "IPY_MODEL_369bde1955b740868186581a8fb87e82",
        "IPY_MODEL_7fe9832864be435381b5afe62fb2cd6d"
       ],
       "layout": "IPY_MODEL_2760bf36073742d995cb2bf60d2928d3"
      }
     },
     "af5a83f44b9a49cb82d877f4d350bf63": {
      "model_module": "@jupyter-widgets/controls",
      "model_module_version": "1.5.0",
      "model_name": "HBoxModel",
      "state": {
       "children": [
        "IPY_MODEL_321b19a340264921878bb6afdde65c00",
        "IPY_MODEL_b4ca338c9faa4f4a9125f00a790487e8",
        "IPY_MODEL_590d969fbf164ddbbe803aa5e181272e"
       ],
       "layout": "IPY_MODEL_68e36e211f0c4f7694386b7672fd1251"
      }
     },
     "b1004d29742b491ab54563caa76690fb": {
      "model_module": "@jupyter-widgets/controls",
      "model_module_version": "1.5.0",
      "model_name": "HTMLModel",
      "state": {
       "layout": "IPY_MODEL_74c3eb1e6af7443cb7ec1d826ed2b9cb",
       "style": "IPY_MODEL_2877e10d173e4f2686432b95f3c0f32c",
       "value": "Predicting [text]: 100%"
      }
     },
     "b4ca338c9faa4f4a9125f00a790487e8": {
      "model_module": "@jupyter-widgets/controls",
      "model_module_version": "1.5.0",
      "model_name": "FloatProgressModel",
      "state": {
       "bar_style": "success",
       "layout": "IPY_MODEL_4aaf277641ee47f289665bf79e4d2075",
       "max": 181,
       "style": "IPY_MODEL_383c4787e00843c780ae4ffbc45856ed",
       "value": 181
      }
     },
     "b4e90afc6fea4f19a9281300eb275b37": {
      "model_module": "@jupyter-widgets/controls",
      "model_module_version": "1.5.0",
      "model_name": "HBoxModel",
      "state": {
       "children": [
        "IPY_MODEL_6ae61dffcf1c441a966a128f7c2e4ef8",
        "IPY_MODEL_37eb6b440a804267a0089286ef814cca",
        "IPY_MODEL_2d36c60df2f34c24b426f393d1dd2ab5"
       ],
       "layout": "IPY_MODEL_487edbf2941e4efe876e482640e860a2"
      }
     },
     "b569b626ed454eb88cc2df38726b35ef": {
      "model_module": "@jupyter-widgets/controls",
      "model_module_version": "1.5.0",
      "model_name": "HTMLModel",
      "state": {
       "layout": "IPY_MODEL_abc6983d417746bb9fdd44907522a567",
       "style": "IPY_MODEL_7575331387b24c778f2d84b3654b0abf",
       "value": "Epochs 0/2. Running Loss:    0.6930: 100%"
      }
     },
     "b5b7be3cecda4738873acfb4b418ef81": {
      "model_module": "@jupyter-widgets/controls",
      "model_module_version": "1.5.0",
      "model_name": "VBoxModel",
      "state": {
       "children": [
        "IPY_MODEL_dd2fea6e116149b0a66e2faf5ad4ed80",
        "IPY_MODEL_f5ea7540900d4a39be8ec1e9919c2611"
       ],
       "layout": "IPY_MODEL_e078e82c51a944a6ae287b88fc3ad0d3"
      }
     },
     "b63272753de249459764c861c265d25c": {
      "model_module": "@jupyter-widgets/controls",
      "model_module_version": "1.5.0",
      "model_name": "LabelModel",
      "state": {
       "layout": "IPY_MODEL_d3949d098fdc474c8fcfae910292322d",
       "style": "IPY_MODEL_23c394eafae4425cae30ec2de6e30041"
      }
     },
     "b73b9dc2a8f74bd88bfe314ad7189747": {
      "model_module": "@jupyter-widgets/controls",
      "model_module_version": "1.5.0",
      "model_name": "LabelModel",
      "state": {
       "layout": "IPY_MODEL_d4ddbc335a204e119e47b4140e010a71",
       "style": "IPY_MODEL_9d218bfaa18d4bbf84c127a5eea55ece",
       "value": "0.013 MB of 0.013 MB uploaded (0.000 MB deduped)\r"
      }
     },
     "b74ee8efd23747acbd9bcf3b1098ab29": {
      "model_module": "@jupyter-widgets/controls",
      "model_module_version": "1.5.0",
      "model_name": "HTMLModel",
      "state": {
       "layout": "IPY_MODEL_1880c0cc53c949399e4814bdd10acc69",
       "style": "IPY_MODEL_cb119598f16a4a62ae57b543949a2210",
       "value": "100%"
      }
     },
     "b82ae4667c9340529afd1342c22c4c0d": {
      "model_module": "@jupyter-widgets/base",
      "model_module_version": "1.2.0",
      "model_name": "LayoutModel",
      "state": {}
     },
     "b99050a5b20e4aa989b22cda234a460f": {
      "model_module": "@jupyter-widgets/base",
      "model_module_version": "1.2.0",
      "model_name": "LayoutModel",
      "state": {}
     },
     "ba45cb1ec2e64af58ae13a807825c27d": {
      "model_module": "@jupyter-widgets/controls",
      "model_module_version": "1.5.0",
      "model_name": "ProgressStyleModel",
      "state": {
       "description_width": ""
      }
     },
     "bb9c0e39a48c4545940b05a2b84469b3": {
      "model_module": "@jupyter-widgets/base",
      "model_module_version": "1.2.0",
      "model_name": "LayoutModel",
      "state": {}
     },
     "bbe538d740ee4ec5bf7753360f000b98": {
      "model_module": "@jupyter-widgets/controls",
      "model_module_version": "1.5.0",
      "model_name": "HBoxModel",
      "state": {
       "children": [
        "IPY_MODEL_e6637663ae50432a8024283abb33518c",
        "IPY_MODEL_3a445dd50d2247b7bfa7055bf7a5f1b4",
        "IPY_MODEL_c047ddd299b948b08fabc2c91c9025af"
       ],
       "layout": "IPY_MODEL_4b27bd3ee67840cbbae7fbb18030e523"
      }
     },
     "bcd963221a6544daabd150594af27588": {
      "model_module": "@jupyter-widgets/controls",
      "model_module_version": "1.5.0",
      "model_name": "DescriptionStyleModel",
      "state": {
       "description_width": ""
      }
     },
     "bd026b3746f84765be44ef2c67b77113": {
      "model_module": "@jupyter-widgets/controls",
      "model_module_version": "1.5.0",
      "model_name": "FloatProgressModel",
      "state": {
       "bar_style": "success",
       "layout": "IPY_MODEL_02584045073142f5ac9328d0eca15b4b",
       "max": 2,
       "style": "IPY_MODEL_fb39cb0c6f2a4ff5a01e5a7e4b931a76",
       "value": 2
      }
     },
     "bd7c7f8d5a7c453280e6961fcbaaf9df": {
      "model_module": "@jupyter-widgets/controls",
      "model_module_version": "1.5.0",
      "model_name": "ProgressStyleModel",
      "state": {
       "description_width": ""
      }
     },
     "c047ddd299b948b08fabc2c91c9025af": {
      "model_module": "@jupyter-widgets/controls",
      "model_module_version": "1.5.0",
      "model_name": "HTMLModel",
      "state": {
       "layout": "IPY_MODEL_6c272d905a3340ce8dc42b1250136156",
       "style": "IPY_MODEL_5115f7e3b9f54978b0e4841a4b09df00",
       "value": " 57/57 [00:01&lt;00:00, 41.23it/s]"
      }
     },
     "c694aa4b7ca34f3aa48954be7fbb4c6d": {
      "model_module": "@jupyter-widgets/controls",
      "model_module_version": "1.5.0",
      "model_name": "HBoxModel",
      "state": {
       "children": [
        "IPY_MODEL_cfc8c730993e42fa99bbbba07b6880cc",
        "IPY_MODEL_2f7335a18fcf4c6ea84446dbf5ff9d79",
        "IPY_MODEL_124349f807914df0990df9d475254a36"
       ],
       "layout": "IPY_MODEL_0554bdf4050b4b2bb5d7ed0026597451"
      }
     },
     "c6d8712b8ec94b8b90575c1fefdf201e": {
      "model_module": "@jupyter-widgets/controls",
      "model_module_version": "1.5.0",
      "model_name": "DescriptionStyleModel",
      "state": {
       "description_width": ""
      }
     },
     "ca1cda6147e7430bae76cfbd45f0c156": {
      "model_module": "@jupyter-widgets/controls",
      "model_module_version": "1.5.0",
      "model_name": "FloatProgressModel",
      "state": {
       "bar_style": "success",
       "layout": "IPY_MODEL_b82ae4667c9340529afd1342c22c4c0d",
       "max": 2,
       "style": "IPY_MODEL_a3696e1fb7da445dac0c25e9dfec4fd6",
       "value": 2
      }
     },
     "ca290c23ef18400b99f57bd40670e713": {
      "model_module": "@jupyter-widgets/controls",
      "model_module_version": "1.5.0",
      "model_name": "DescriptionStyleModel",
      "state": {
       "description_width": ""
      }
     },
     "cab1c24b189c46989c65c153dddc2e7c": {
      "model_module": "@jupyter-widgets/base",
      "model_module_version": "1.2.0",
      "model_name": "LayoutModel",
      "state": {}
     },
     "cacaeb68e515494a81c75ba315c1ba7d": {
      "model_module": "@jupyter-widgets/controls",
      "model_module_version": "1.5.0",
      "model_name": "HTMLModel",
      "state": {
       "layout": "IPY_MODEL_7d4d5f3fcb824d55917a8c82cc1f7df8",
       "style": "IPY_MODEL_7f2e1b2036044921acd4d2230426002b",
       "value": "Generating outputs: 100%"
      }
     },
     "cafc481b095a4e5386747a2432453a85": {
      "model_module": "@jupyter-widgets/base",
      "model_module_version": "1.2.0",
      "model_name": "LayoutModel",
      "state": {}
     },
     "cb119598f16a4a62ae57b543949a2210": {
      "model_module": "@jupyter-widgets/controls",
      "model_module_version": "1.5.0",
      "model_name": "DescriptionStyleModel",
      "state": {
       "description_width": ""
      }
     },
     "cc98212675c64a639a260660b31d4f05": {
      "model_module": "@jupyter-widgets/base",
      "model_module_version": "1.2.0",
      "model_name": "LayoutModel",
      "state": {}
     },
     "cfae8c2328f44ebf9504f847b99f4a4e": {
      "model_module": "@jupyter-widgets/controls",
      "model_module_version": "1.5.0",
      "model_name": "DescriptionStyleModel",
      "state": {
       "description_width": ""
      }
     },
     "cfc8c730993e42fa99bbbba07b6880cc": {
      "model_module": "@jupyter-widgets/controls",
      "model_module_version": "1.5.0",
      "model_name": "HTMLModel",
      "state": {
       "layout": "IPY_MODEL_7821efb164fe4dcea242aa9bd16a10bf",
       "style": "IPY_MODEL_3074b5ed45144085ba8a16d18601e736",
       "value": "100%"
      }
     },
     "d0c87013d3364b81b7133a05567882ac": {
      "model_module": "@jupyter-widgets/base",
      "model_module_version": "1.2.0",
      "model_name": "LayoutModel",
      "state": {}
     },
     "d372f531c23e4e1a875054a5d117835d": {
      "model_module": "@jupyter-widgets/controls",
      "model_module_version": "1.5.0",
      "model_name": "DescriptionStyleModel",
      "state": {
       "description_width": ""
      }
     },
     "d3949d098fdc474c8fcfae910292322d": {
      "model_module": "@jupyter-widgets/base",
      "model_module_version": "1.2.0",
      "model_name": "LayoutModel",
      "state": {}
     },
     "d3d1681e89c64bb59995e91a1def647b": {
      "model_module": "@jupyter-widgets/controls",
      "model_module_version": "1.5.0",
      "model_name": "HTMLModel",
      "state": {
       "layout": "IPY_MODEL_2d3d845b7649478d9f76bb6929af10b6",
       "style": "IPY_MODEL_4e5557dfdb324455bc69e52f9708a594",
       "value": "Epochs 1/2. Running Loss:    0.4347: 100%"
      }
     },
     "d4acf62e1ffe42fbb240f239ecb9be0c": {
      "model_module": "@jupyter-widgets/base",
      "model_module_version": "1.2.0",
      "model_name": "LayoutModel",
      "state": {}
     },
     "d4c0c23da8aa41d9bac265873fc97354": {
      "model_module": "@jupyter-widgets/controls",
      "model_module_version": "1.5.0",
      "model_name": "HTMLModel",
      "state": {
       "layout": "IPY_MODEL_0746fdfca89749d7891adc0a9637cc04",
       "style": "IPY_MODEL_a129db9c410c40968937dfc6ee5806ac",
       "value": "100%"
      }
     },
     "d4ddbc335a204e119e47b4140e010a71": {
      "model_module": "@jupyter-widgets/base",
      "model_module_version": "1.2.0",
      "model_name": "LayoutModel",
      "state": {}
     },
     "d5c52fd0897e4a6892041acf4b2acc5b": {
      "model_module": "@jupyter-widgets/controls",
      "model_module_version": "1.5.0",
      "model_name": "HBoxModel",
      "state": {
       "children": [
        "IPY_MODEL_4fce9caa42f44898aa306eccb9c309a8",
        "IPY_MODEL_de6ac234e7aa4203a5e385e948004a9d",
        "IPY_MODEL_0b3e9a9dfb88411a995c7ce617d5bed1"
       ],
       "layout": "IPY_MODEL_1f4025321a4f4f53a08f8c277ecfeee7"
      }
     },
     "d65f9b65486a4893b16fe0a565fe9fb4": {
      "model_module": "@jupyter-widgets/controls",
      "model_module_version": "1.5.0",
      "model_name": "FloatProgressModel",
      "state": {
       "bar_style": "success",
       "layout": "IPY_MODEL_29936696e42849aa913493091542274f",
       "max": 1445,
       "style": "IPY_MODEL_bd7c7f8d5a7c453280e6961fcbaaf9df",
       "value": 1445
      }
     },
     "d7003cfde87d4af5b60d466dd6377d6c": {
      "model_module": "@jupyter-widgets/controls",
      "model_module_version": "1.5.0",
      "model_name": "FloatProgressModel",
      "state": {
       "bar_style": "success",
       "layout": "IPY_MODEL_d813e4f7922a44e8964c3131abaf0185",
       "max": 362,
       "style": "IPY_MODEL_66ee426877a34c03a0f70e2280c635d8",
       "value": 362
      }
     },
     "d75709f133614b97a43238ba28c92108": {
      "model_module": "@jupyter-widgets/controls",
      "model_module_version": "1.5.0",
      "model_name": "DescriptionStyleModel",
      "state": {
       "description_width": ""
      }
     },
     "d778b5c13f7b4607a08efd9c923c2ba4": {
      "model_module": "@jupyter-widgets/controls",
      "model_module_version": "1.5.0",
      "model_name": "ProgressStyleModel",
      "state": {
       "description_width": ""
      }
     },
     "d813e4f7922a44e8964c3131abaf0185": {
      "model_module": "@jupyter-widgets/base",
      "model_module_version": "1.2.0",
      "model_name": "LayoutModel",
      "state": {}
     },
     "d912037225fd47608425a7200433e767": {
      "model_module": "@jupyter-widgets/base",
      "model_module_version": "1.2.0",
      "model_name": "LayoutModel",
      "state": {}
     },
     "d9ff93da52e14fab9e9ecd09f4004228": {
      "model_module": "@jupyter-widgets/controls",
      "model_module_version": "1.5.0",
      "model_name": "DescriptionStyleModel",
      "state": {
       "description_width": ""
      }
     },
     "dc74d6eb8c594850b421e234730e9fd7": {
      "model_module": "@jupyter-widgets/base",
      "model_module_version": "1.2.0",
      "model_name": "LayoutModel",
      "state": {}
     },
     "dc92055021ee4973b0f4915b6b74d3d7": {
      "model_module": "@jupyter-widgets/controls",
      "model_module_version": "1.5.0",
      "model_name": "HTMLModel",
      "state": {
       "layout": "IPY_MODEL_93a1f9a5ab6a49cb8d3ab57e7a2b3300",
       "style": "IPY_MODEL_516123a2c4be4f25856973c7af501cb0",
       "value": " 181/181 [00:27&lt;00:00,  6.04it/s]"
      }
     },
     "dd2fea6e116149b0a66e2faf5ad4ed80": {
      "model_module": "@jupyter-widgets/controls",
      "model_module_version": "1.5.0",
      "model_name": "LabelModel",
      "state": {
       "layout": "IPY_MODEL_5369ed34506949c99a2c6e8c3b15c2e7",
       "style": "IPY_MODEL_d372f531c23e4e1a875054a5d117835d"
      }
     },
     "dd6e2df319834d00a662c3e1fb69d07b": {
      "model_module": "@jupyter-widgets/controls",
      "model_module_version": "1.5.0",
      "model_name": "FloatProgressModel",
      "state": {
       "bar_style": "success",
       "layout": "IPY_MODEL_ff6e3fde133d430795a9fd086bd9960e",
       "max": 452,
       "style": "IPY_MODEL_a2c8ebbe3b01477987f304ca42322776",
       "value": 452
      }
     },
     "de6ac234e7aa4203a5e385e948004a9d": {
      "model_module": "@jupyter-widgets/controls",
      "model_module_version": "1.5.0",
      "model_name": "FloatProgressModel",
      "state": {
       "bar_style": "success",
       "layout": "IPY_MODEL_e6caffbb3da343d38e1e35d68ebe25f2",
       "max": 362,
       "style": "IPY_MODEL_6b013abd1e96418097e603a292a39bf4",
       "value": 362
      }
     },
     "e016c83834a54daaa370a6b40d5f9d98": {
      "model_module": "@jupyter-widgets/base",
      "model_module_version": "1.2.0",
      "model_name": "LayoutModel",
      "state": {}
     },
     "e075df3e6b7345e6beab56660838f045": {
      "model_module": "@jupyter-widgets/controls",
      "model_module_version": "1.5.0",
      "model_name": "HTMLModel",
      "state": {
       "layout": "IPY_MODEL_11e6af3ea4944f24965efed6b01c28a5",
       "style": "IPY_MODEL_266f50b03aab48db92cb9afd0b6b7f78",
       "value": " 452/452 [00:05&lt;00:00, 91.43it/s]"
      }
     },
     "e078e82c51a944a6ae287b88fc3ad0d3": {
      "model_module": "@jupyter-widgets/base",
      "model_module_version": "1.2.0",
      "model_name": "LayoutModel",
      "state": {}
     },
     "e2e527e4257f430491e2d29de3ae977e": {
      "model_module": "@jupyter-widgets/controls",
      "model_module_version": "1.5.0",
      "model_name": "DescriptionStyleModel",
      "state": {
       "description_width": ""
      }
     },
     "e2f72c6963774784ba9b8c7b797b8f95": {
      "model_module": "@jupyter-widgets/base",
      "model_module_version": "1.2.0",
      "model_name": "LayoutModel",
      "state": {}
     },
     "e33e18948d204417b2a19b13c64cff73": {
      "model_module": "@jupyter-widgets/controls",
      "model_module_version": "1.5.0",
      "model_name": "ProgressStyleModel",
      "state": {
       "description_width": ""
      }
     },
     "e3c618236e3640afad1b9f5353b0fb8e": {
      "model_module": "@jupyter-widgets/controls",
      "model_module_version": "1.5.0",
      "model_name": "DescriptionStyleModel",
      "state": {
       "description_width": ""
      }
     },
     "e4c99a4b79a14a88a2be91403c64195b": {
      "model_module": "@jupyter-widgets/base",
      "model_module_version": "1.2.0",
      "model_name": "LayoutModel",
      "state": {}
     },
     "e6637663ae50432a8024283abb33518c": {
      "model_module": "@jupyter-widgets/controls",
      "model_module_version": "1.5.0",
      "model_name": "HTMLModel",
      "state": {
       "layout": "IPY_MODEL_087eb416839647f2a4045bcd36fe0dd6",
       "style": "IPY_MODEL_a1069f7ecbdb496ca03de184c4f209e9",
       "value": "Running Evaluation: 100%"
      }
     },
     "e671e098f5964b38a48ed008c5f9c943": {
      "model_module": "@jupyter-widgets/base",
      "model_module_version": "1.2.0",
      "model_name": "LayoutModel",
      "state": {}
     },
     "e6caffbb3da343d38e1e35d68ebe25f2": {
      "model_module": "@jupyter-widgets/base",
      "model_module_version": "1.2.0",
      "model_name": "LayoutModel",
      "state": {}
     },
     "e6e25503d01e4a98beebb9820aee638e": {
      "model_module": "@jupyter-widgets/controls",
      "model_module_version": "1.5.0",
      "model_name": "HTMLModel",
      "state": {
       "layout": "IPY_MODEL_a55de7c4a1874d9aadc03013e07cfc24",
       "style": "IPY_MODEL_670a90fd94334f9c9230caf549790d5c",
       "value": "Predicting [text]: 100%"
      }
     },
     "e758dda4b5734dcdb9512b2f4fb55c52": {
      "model_module": "@jupyter-widgets/controls",
      "model_module_version": "1.5.0",
      "model_name": "VBoxModel",
      "state": {
       "children": [
        "IPY_MODEL_b63272753de249459764c861c265d25c",
        "IPY_MODEL_77ab5945b41e4b66b589d463ebe1052a"
       ],
       "layout": "IPY_MODEL_cab1c24b189c46989c65c153dddc2e7c"
      }
     },
     "e78fba94c4034cf6b1ce76eb0e53fa65": {
      "model_module": "@jupyter-widgets/base",
      "model_module_version": "1.2.0",
      "model_name": "LayoutModel",
      "state": {}
     },
     "e7c6775a0f004df4910aba856648e286": {
      "model_module": "@jupyter-widgets/controls",
      "model_module_version": "1.5.0",
      "model_name": "DescriptionStyleModel",
      "state": {
       "description_width": ""
      }
     },
     "edc6c2c863704920a1b16a1d99e3582c": {
      "model_module": "@jupyter-widgets/base",
      "model_module_version": "1.2.0",
      "model_name": "LayoutModel",
      "state": {}
     },
     "eddd581ad4e64c85a2859e3373f95ef1": {
      "model_module": "@jupyter-widgets/controls",
      "model_module_version": "1.5.0",
      "model_name": "HTMLModel",
      "state": {
       "layout": "IPY_MODEL_0ef65f1b8ea247de96195f160a59790a",
       "style": "IPY_MODEL_958615a51e844b95ad74019002e73f97",
       "value": "100%"
      }
     },
     "ef7b00fb4ec044059c65613b2ebac276": {
      "model_module": "@jupyter-widgets/controls",
      "model_module_version": "1.5.0",
      "model_name": "ProgressStyleModel",
      "state": {
       "description_width": ""
      }
     },
     "f4ee13392db043feab3d89b8d7f6a45f": {
      "model_module": "@jupyter-widgets/controls",
      "model_module_version": "1.5.0",
      "model_name": "HBoxModel",
      "state": {
       "children": [
        "IPY_MODEL_5ff254d724144dde985443ee796a6f59",
        "IPY_MODEL_29f1adda06f14b57a2df624b24e73ee9",
        "IPY_MODEL_4c2eb2d821324561b1d2c12c81dd69ca"
       ],
       "layout": "IPY_MODEL_ae3a1c53450c403dbed11cfad1bd07a1"
      }
     },
     "f50505a56e5f4382884360ebe887b29b": {
      "model_module": "@jupyter-widgets/controls",
      "model_module_version": "1.5.0",
      "model_name": "DescriptionStyleModel",
      "state": {
       "description_width": ""
      }
     },
     "f5ea7540900d4a39be8ec1e9919c2611": {
      "model_module": "@jupyter-widgets/controls",
      "model_module_version": "1.5.0",
      "model_name": "FloatProgressModel",
      "state": {
       "layout": "IPY_MODEL_462d0d6a22434bde957164e39dba6dc1",
       "max": 1,
       "style": "IPY_MODEL_70a8a38974fb4f1faf98d9e31e1e0099"
      }
     },
     "f6b42e4a6f794ed9a91964c10d3b23f9": {
      "model_module": "@jupyter-widgets/base",
      "model_module_version": "1.2.0",
      "model_name": "LayoutModel",
      "state": {}
     },
     "f6ef2e848adb45b09ebdfadce6e53f4e": {
      "model_module": "@jupyter-widgets/base",
      "model_module_version": "1.2.0",
      "model_name": "LayoutModel",
      "state": {}
     },
     "f77af39df9c140aca0f729e703e1fb59": {
      "model_module": "@jupyter-widgets/controls",
      "model_module_version": "1.5.0",
      "model_name": "FloatProgressModel",
      "state": {
       "bar_style": "success",
       "layout": "IPY_MODEL_dc74d6eb8c594850b421e234730e9fd7",
       "max": 46,
       "style": "IPY_MODEL_ba45cb1ec2e64af58ae13a807825c27d",
       "value": 46
      }
     },
     "fa6620d97bb44e67a0abc7aee80ff470": {
      "model_module": "@jupyter-widgets/base",
      "model_module_version": "1.2.0",
      "model_name": "LayoutModel",
      "state": {}
     },
     "fa7310ff4d2f4ecf98a4e551c8668a3a": {
      "model_module": "@jupyter-widgets/controls",
      "model_module_version": "1.5.0",
      "model_name": "FloatProgressModel",
      "state": {
       "bar_style": "success",
       "layout": "IPY_MODEL_6f197118bffd4f988e37a4c3407372e7",
       "max": 46,
       "style": "IPY_MODEL_6d158029cd544c53bb31822c69b2b93b",
       "value": 46
      }
     },
     "fac24e0e0622413b9303853990dc58f0": {
      "model_module": "@jupyter-widgets/controls",
      "model_module_version": "1.5.0",
      "model_name": "VBoxModel",
      "state": {
       "children": [
        "IPY_MODEL_0961949f94f145b7a626cda55ffb28b4",
        "IPY_MODEL_222aadf3a6df45768edb89c94fae67ed"
       ],
       "layout": "IPY_MODEL_e671e098f5964b38a48ed008c5f9c943"
      }
     },
     "fb39cb0c6f2a4ff5a01e5a7e4b931a76": {
      "model_module": "@jupyter-widgets/controls",
      "model_module_version": "1.5.0",
      "model_name": "ProgressStyleModel",
      "state": {
       "description_width": ""
      }
     },
     "fc8554eb00a54dfbbb5bf840252c2a98": {
      "model_module": "@jupyter-widgets/controls",
      "model_module_version": "1.5.0",
      "model_name": "ProgressStyleModel",
      "state": {
       "description_width": ""
      }
     },
     "fef6ad02e0994545b41e45b1fd30db50": {
      "model_module": "@jupyter-widgets/controls",
      "model_module_version": "1.5.0",
      "model_name": "FloatProgressModel",
      "state": {
       "bar_style": "success",
       "layout": "IPY_MODEL_396e7d4283f94b4d9c67e28802cbecbd",
       "max": 181,
       "style": "IPY_MODEL_24e9a09c3ac041c680d232c347120c3c",
       "value": 181
      }
     },
     "ff671bcce56f4b6b9a623c0dde4c6e3c": {
      "model_module": "@jupyter-widgets/controls",
      "model_module_version": "1.5.0",
      "model_name": "LabelModel",
      "state": {
       "layout": "IPY_MODEL_edc6c2c863704920a1b16a1d99e3582c",
       "style": "IPY_MODEL_cfae8c2328f44ebf9504f847b99f4a4e",
       "value": "0.015 MB of 0.015 MB uploaded (0.000 MB deduped)\r"
      }
     },
     "ff6e3fde133d430795a9fd086bd9960e": {
      "model_module": "@jupyter-widgets/base",
      "model_module_version": "1.2.0",
      "model_name": "LayoutModel",
      "state": {}
     }
    },
    "version_major": 2,
    "version_minor": 0
   }
  }
 },
 "nbformat": 4,
 "nbformat_minor": 1
}
