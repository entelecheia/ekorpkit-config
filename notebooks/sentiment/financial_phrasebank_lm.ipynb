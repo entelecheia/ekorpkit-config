{
  "cells": [
    {
      "cell_type": "markdown",
      "metadata": {
        "colab_type": "text",
        "id": "view-in-github"
      },
      "source": [
        "<a href=\"https://colab.research.google.com/github/entelecheia/ekorpkit-config/blob/main/notebooks/sentiment/financial_phrasebank_lm.ipynb\" target=\"_parent\"><img src=\"https://colab.research.google.com/assets/colab-badge.svg\" alt=\"Open In Colab\"/></a>"
      ]
    },
    {
      "cell_type": "markdown",
      "metadata": {
        "id": "AESO0odcxhzs"
      },
      "source": [
        "# Sentiment Analysis"
      ]
    },
    {
      "cell_type": "code",
      "execution_count": 1,
      "metadata": {
        "id": "EJ0AoNl-xif_"
      },
      "outputs": [],
      "source": [
        "%%capture\n",
        "%pip install ekorpkit[model,tokenize,dataset]==0.1.25.post0.dev5"
      ]
    },
    {
      "cell_type": "markdown",
      "metadata": {
        "id": "pzjBtQqpnqcy"
      },
      "source": [
        "## Prepare `financial_phrasebank` dataset"
      ]
    },
    {
      "cell_type": "code",
      "execution_count": 1,
      "metadata": {
        "colab": {
          "base_uri": "https://localhost:8080/",
          "height": 659
        },
        "id": "RdpBCIbBny8z",
        "outputId": "f655ea5b-5afb-43a1-cfec-7df3e6d32d92"
      },
      "outputs": [
        {
          "data": {
            "text/plain": [
              "{'name': 'financial_phrasebank',\n",
              " 'domain': 'econ',\n",
              " 'task': 'classification',\n",
              " 'lang': 'en',\n",
              " 'column_info': {'keys': {'id': 'id', 'text': 'text'},\n",
              "  'data': {'id': 'int', 'labels': 'str', 'text': 'str'}},\n",
              " 'splits': {'train': {'name': 'train',\n",
              "   'dataset_name': 'financial_phrasebank',\n",
              "   'data_file': 'financial_phrasebank-train.csv',\n",
              "   'num_examples': 1445,\n",
              "   'num_bytes': 176485,\n",
              "   'num_bytes_median': 112.0,\n",
              "   'num_bytes_max': 315,\n",
              "   'num_bytes_min': 15,\n",
              "   'human_bytes': '172.35 KiB'},\n",
              "  'test': {'name': 'test',\n",
              "   'dataset_name': 'financial_phrasebank',\n",
              "   'data_file': 'financial_phrasebank-test.csv',\n",
              "   'num_examples': 452,\n",
              "   'num_bytes': 55518,\n",
              "   'num_bytes_median': 110.0,\n",
              "   'num_bytes_max': 296,\n",
              "   'num_bytes_min': 11,\n",
              "   'human_bytes': '54.22 KiB'},\n",
              "  'dev': {'name': 'dev',\n",
              "   'dataset_name': 'financial_phrasebank',\n",
              "   'data_file': 'financial_phrasebank-dev.csv',\n",
              "   'num_examples': 362,\n",
              "   'num_bytes': 43404,\n",
              "   'num_bytes_median': 109.0,\n",
              "   'num_bytes_max': 296,\n",
              "   'num_bytes_min': 9,\n",
              "   'human_bytes': '42.39 KiB'}},\n",
              " 'num_examples': 2259,\n",
              " 'size_in_bytes': 275407,\n",
              " 'size_in_human_bytes': '268.95 KiB',\n",
              " 'data_files': {'train': 'financial_phrasebank-train.csv',\n",
              "  'test': 'financial_phrasebank-test.csv',\n",
              "  'dev': 'financial_phrasebank-dev.csv'},\n",
              " 'meta_files': {},\n",
              " 'data_files_modified': '2022-04-22 03:18:20',\n",
              " 'info_updated': '2022-04-22 03:18:20'}"
            ]
          },
          "execution_count": 1,
          "metadata": {},
          "output_type": "execute_result"
        }
      ],
      "source": [
        "from ekorpkit import eKonf\n",
        "\n",
        "ds_cfg = eKonf.compose(config_group='dataset=dataset')\n",
        "ds_cfg['name'] = 'financial_phrasebank'\n",
        "ds_cfg.data_dir = \"${cached_path:'gd://15TUjIfQstCYXU82s0pcaxh2QcSWf1zyG:financial_phrasebank.zip',true,false}\"\n",
        "ds_cfg.use_name_as_subdir = False\n",
        "ds = eKonf.instantiate(ds_cfg)\n",
        "ds.info"
      ]
    },
    {
      "cell_type": "markdown",
      "metadata": {
        "id": "dOpN8AxSxhzv"
      },
      "source": [
        "## Compose a config for the LM sentiment analyser class"
      ]
    },
    {
      "cell_type": "code",
      "execution_count": 2,
      "metadata": {
        "id": "w7F_qmC8nUue"
      },
      "outputs": [],
      "source": [
        "from ekorpkit import eKonf\n",
        "\n",
        "config_group='model/sentiment=lm'\n",
        "model_cfg = eKonf.compose(config_group=config_group)\n",
        "model_cfg.preprocessor.tokenizer.nltk.lemmatize = True"
      ]
    },
    {
      "cell_type": "markdown",
      "metadata": {
        "id": "U26yEB4gotyT"
      },
      "source": [
        "## Instantiating a sentiment analyser class with `financial_phrasebank` dataset"
      ]
    },
    {
      "cell_type": "code",
      "execution_count": 4,
      "metadata": {
        "colab": {
          "base_uri": "https://localhost:8080/",
          "height": 639
        },
        "id": "SEBHqvYvnUui",
        "outputId": "945c3bc5-f669-44ac-94a9-4d917decf246"
      },
      "outputs": [
        {
          "name": "stdout",
          "output_type": "stream",
          "text": [
            "{'autoload': True,\n",
            " 'column_info': {'data': {'id': 'int', 'labels': 'str', 'text': 'str'},\n",
            "                 'keys': {'id': 'id', 'text': 'text'}},\n",
            " 'data_dir': '/root/.ekorpkit/.cache/gdown/.15TUjIfQstCYXU82s0pcaxh2QcSWf1zyG/financial_phrasebank',\n",
            " 'data_files': {'dev': 'financial_phrasebank-dev.csv',\n",
            "                'test': 'financial_phrasebank-test.csv',\n",
            "                'train': 'financial_phrasebank-train.csv'},\n",
            " 'data_files_modified': '2022-04-22 03:18:20',\n",
            " 'domain': 'econ',\n",
            " 'filetype': 'csv',\n",
            " 'info_updated': '2022-04-22 03:18:20',\n",
            " 'lang': 'en',\n",
            " 'meta_files': {},\n",
            " 'name': 'financial_phrasebank',\n",
            " 'num_examples': 2259,\n",
            " 'size_in_bytes': 275407,\n",
            " 'size_in_human_bytes': '268.95 KiB',\n",
            " 'splits': {'dev': {'data_file': 'financial_phrasebank-dev.csv',\n",
            "                    'dataset_name': 'financial_phrasebank',\n",
            "                    'human_bytes': '42.39 KiB',\n",
            "                    'name': 'dev',\n",
            "                    'num_bytes': 43404,\n",
            "                    'num_bytes_max': 296,\n",
            "                    'num_bytes_median': 109.0,\n",
            "                    'num_bytes_min': 9,\n",
            "                    'num_examples': 362},\n",
            "            'test': {'data_file': 'financial_phrasebank-test.csv',\n",
            "                     'dataset_name': 'financial_phrasebank',\n",
            "                     'human_bytes': '54.22 KiB',\n",
            "                     'name': 'test',\n",
            "                     'num_bytes': 55518,\n",
            "                     'num_bytes_max': 296,\n",
            "                     'num_bytes_median': 110.0,\n",
            "                     'num_bytes_min': 11,\n",
            "                     'num_examples': 452},\n",
            "            'train': {'data_file': 'financial_phrasebank-train.csv',\n",
            "                      'dataset_name': 'financial_phrasebank',\n",
            "                      'human_bytes': '172.35 KiB',\n",
            "                      'name': 'train',\n",
            "                      'num_bytes': 176485,\n",
            "                      'num_bytes_max': 315,\n",
            "                      'num_bytes_median': 112.0,\n",
            "                      'num_bytes_min': 15,\n",
            "                      'num_examples': 1445}},\n",
            " 'task': 'classification',\n",
            " 'use_name_as_subdir': False,\n",
            " 'verbose': True}\n"
          ]
        },
        {
          "name": "stderr",
          "output_type": "stream",
          "text": [
            "[nltk_data] Downloading package stopwords to /root/nltk_data...\n",
            "[nltk_data]   Package stopwords is already up-to-date!\n"
          ]
        },
        {
          "data": {
            "application/vnd.jupyter.widget-view+json": {
              "model_id": "538451a860454d2e8d9c14d071b78da6",
              "version_major": 2,
              "version_minor": 0
            },
            "text/plain": [
              "Predicting [text]:   0%|          | 0/1445 [00:00<?, ?it/s]"
            ]
          },
          "metadata": {},
          "output_type": "display_data"
        },
        {
          "name": "stdout",
          "output_type": "stream",
          "text": [
            " >> saved dataframe to ./data/predict/financial_phrasebank-train.parquet\n"
          ]
        },
        {
          "name": "stderr",
          "output_type": "stream",
          "text": [
            "[nltk_data] Downloading package stopwords to /root/nltk_data...\n",
            "[nltk_data]   Package stopwords is already up-to-date!\n"
          ]
        },
        {
          "data": {
            "application/vnd.jupyter.widget-view+json": {
              "model_id": "5917d834c2ef43739fc5d727b7b7fe7f",
              "version_major": 2,
              "version_minor": 0
            },
            "text/plain": [
              "Predicting [text]:   0%|          | 0/452 [00:00<?, ?it/s]"
            ]
          },
          "metadata": {},
          "output_type": "display_data"
        },
        {
          "name": "stdout",
          "output_type": "stream",
          "text": [
            " >> saved dataframe to ./data/predict/financial_phrasebank-test.parquet\n"
          ]
        },
        {
          "name": "stderr",
          "output_type": "stream",
          "text": [
            "[nltk_data] Downloading package stopwords to /root/nltk_data...\n",
            "[nltk_data]   Package stopwords is already up-to-date!\n"
          ]
        },
        {
          "data": {
            "application/vnd.jupyter.widget-view+json": {
              "model_id": "47a51cd92d4446f29c23f90ef399637d",
              "version_major": 2,
              "version_minor": 0
            },
            "text/plain": [
              "Predicting [text]:   0%|          | 0/362 [00:00<?, ?it/s]"
            ]
          },
          "metadata": {},
          "output_type": "display_data"
        },
        {
          "name": "stdout",
          "output_type": "stream",
          "text": [
            " >> saved dataframe to ./data/predict/financial_phrasebank-dev.parquet\n"
          ]
        },
        {
          "data": {
            "text/plain": [
              "{'train':         id    labels                                               text  \\\n",
              " 0      655   neutral  Customers in a wide range of industries use ou...   \n",
              " 1      634   neutral  The writing and publication of Lemmink+ñinen -...   \n",
              " 2     1030   neutral  Sullivan said some of the boards `` really inv...   \n",
              " 3      317  positive  The six breweries recorded a 5.2 percent growt...   \n",
              " 4      868  positive  In the second quarter of 2010 , the company 's...   \n",
              " ...    ...       ...                                                ...   \n",
              " 1440   136  positive  In the fourth quarter of 2009 , Orion 's net p...   \n",
              " 1441  2170  negative  Profit for the period totalled EUR 1.1 mn , do...   \n",
              " 1442   344  positive  The diluted loss per share narrowed to EUR 0.2...   \n",
              " 1443   573   neutral  LKAB , headquartered in Lulea , Sweden , is a ...   \n",
              " 1444  1768   neutral  The EBRD is using its own funds to provide a 2...   \n",
              " \n",
              "       split  polarity  subjectivity polarity_label  uncertainty  \n",
              " 0     train  0.000000      0.000000        neutral          0.0  \n",
              " 1     train  0.999999      0.045455       positive          0.0  \n",
              " 2     train  0.000000      0.000000        neutral          0.0  \n",
              " 3     train  0.000000      0.000000        neutral          0.0  \n",
              " 4     train -0.999999      0.034483       negative          0.0  \n",
              " ...     ...       ...           ...            ...          ...  \n",
              " 1440  train  0.000000      0.000000        neutral          0.0  \n",
              " 1441  train  0.000000      0.000000        neutral          0.0  \n",
              " 1442  train -0.999999      0.076923       negative          0.0  \n",
              " 1443  train  0.000000      0.000000        neutral          0.0  \n",
              " 1444  train  0.000000      0.000000        neutral          0.0  \n",
              " \n",
              " [1445 rows x 8 columns],\n",
              " 'test':        id    labels                                               text split  \\\n",
              " 0     505   neutral  Los Angeles-based Pacific Office Properties Tr...  test   \n",
              " 1     783  positive  Investors will continue being interested in th...  test   \n",
              " 2    2253  negative  Repeats sees 2008 operating profit down y-y ( ...  test   \n",
              " 3    1374   neutral  The acquisition was financed with $ 2.56 billi...  test   \n",
              " 4     243  positive  Profit per share was EUR 1.03 , up from EUR 0....  test   \n",
              " ..    ...       ...                                                ...   ...   \n",
              " 447   605   neutral  The commission said the hydrogen peroxide and ...  test   \n",
              " 448  2258  negative  Sales in Finland decreased by 2.0 % , and inte...  test   \n",
              " 449   254  positive  The earnings per share for the quarter came in...  test   \n",
              " 450  1390   neutral  The company can not give up palm oil altogethe...  test   \n",
              " 451   181  positive  Pretax profit rose to EUR 1,019 mn from EUR 1,...  test   \n",
              " \n",
              "      polarity  subjectivity polarity_label  uncertainty  \n",
              " 0         0.0           0.0        neutral          0.0  \n",
              " 1         0.0           0.0        neutral          0.0  \n",
              " 2         0.0           0.0        neutral          0.0  \n",
              " 3         0.0           0.0        neutral          0.0  \n",
              " 4         0.0           0.0        neutral          0.0  \n",
              " ..        ...           ...            ...          ...  \n",
              " 447       0.0           0.0        neutral          0.0  \n",
              " 448       0.0           0.0        neutral          0.0  \n",
              " 449       0.0           0.0        neutral          0.0  \n",
              " 450       0.0           0.0        neutral          0.0  \n",
              " 451       0.0           0.0        neutral          0.0  \n",
              " \n",
              " [452 rows x 8 columns],\n",
              " 'dev':        id    labels                                               text split  \\\n",
              " 0    1449   neutral       The identity of the buyer is not yet known .   dev   \n",
              " 1     165  positive  Operating profit rose to EUR 3.2 mn from EUR 1...   dev   \n",
              " 2    1334   neutral  Previously , Grimaldi held a 46.43 pct stake i...   dev   \n",
              " 3     907   neutral  A total of $ 78 million will be invested in th...   dev   \n",
              " 4    1371   neutral  The 19,200-square metre technology center is l...   dev   \n",
              " ..    ...       ...                                                ...   ...   \n",
              " 357  1120   neutral  Under a preliminary estimation , the technolog...   dev   \n",
              " 358   404  positive  Operating profit improved by 27 % to EUR 579.8...   dev   \n",
              " 359  1708   neutral  Rohwedder Group is an automotive supplies , te...   dev   \n",
              " 360   225  positive  In January-September 2007 , the group 's net s...   dev   \n",
              " 361  1008   neutral  Payment of shares shall be effected on subscri...   dev   \n",
              " \n",
              "      polarity  subjectivity polarity_label  uncertainty  \n",
              " 0    0.000000      0.000000        neutral     0.000000  \n",
              " 1    0.000000      0.000000        neutral     0.000000  \n",
              " 2    0.000000      0.000000        neutral     0.000000  \n",
              " 3    0.000000      0.000000        neutral     0.000000  \n",
              " 4    0.000000      0.000000        neutral     0.000000  \n",
              " ..        ...           ...            ...          ...  \n",
              " 357  0.000000      0.000000        neutral     0.066667  \n",
              " 358  0.999999      0.058824       positive     0.000000  \n",
              " 359  0.000000      0.000000        neutral     0.000000  \n",
              " 360  0.000000      0.000000        neutral     0.000000  \n",
              " 361  0.000000      0.000000        neutral     0.000000  \n",
              " \n",
              " [362 rows x 8 columns]}"
            ]
          },
          "execution_count": 4,
          "metadata": {},
          "output_type": "execute_result"
        }
      ],
      "source": [
        "cfg = eKonf.compose(config_group='pipeline=pipeline')\n",
        "cfg.verbose = True\n",
        "cfg.dataset = ds_cfg\n",
        "cfg._pipeline_ = ['predict']\n",
        "cfg.predict.model = model_cfg\n",
        "cfg.predict.output_dir = \"./data/predict\"\n",
        "cfg.predict.output_file = f'{ds_cfg.name}.parquet'\n",
        "cfg.num_workers = 1\n",
        "df = eKonf.instantiate(cfg)\n",
        "df"
      ]
    },
    {
      "cell_type": "code",
      "execution_count": 6,
      "metadata": {
        "id": "MS2eYHjSnUui",
        "outputId": "562ba0b8-6264-415e-bf48-60e120dc36ec"
      },
      "outputs": [
        {
          "name": "stdout",
          "output_type": "stream",
          "text": [
            "./data/predict\n",
            "financial_phrasebank.parquet\n"
          ]
        }
      ],
      "source": [
        "print(cfg.predict.output_dir)\n",
        "print(cfg.predict.output_file)"
      ]
    },
    {
      "cell_type": "code",
      "execution_count": 3,
      "metadata": {
        "id": "pPrQSwo1nUui",
        "outputId": "1779e5de-cc3b-40bb-a0f6-ce54a6b4225d"
      },
      "outputs": [
        {
          "name": "stdout",
          "output_type": "stream",
          "text": [
            "Loading 3 dataframes from ['./data/predict/financial_phrasebank-train.parquet', './data/predict/financial_phrasebank-test.parquet', './data/predict/financial_phrasebank-dev.parquet']\n",
            "Accuracy:  0.6418769366976538\n",
            "Precison:  0.6332357082536276\n",
            "Recall:  0.6418769366976538\n",
            "F1 Score:  0.5976583790508804\n",
            "Model Report: \n",
            "___________________________________________________\n",
            "              precision    recall  f1-score   support\n",
            "\n",
            "    negative       0.38      0.36      0.37       303\n",
            "     neutral       0.68      0.89      0.77      1386\n",
            "    positive       0.65      0.19      0.29       570\n",
            "\n",
            "    accuracy                           0.64      2259\n",
            "   macro avg       0.57      0.48      0.48      2259\n",
            "weighted avg       0.63      0.64      0.60      2259\n",
            "\n"
          ]
        },
        {
          "data": {
            "image/png": "[encoded data removed]",
            "text/plain": [
              "<Figure size 720x360 with 2 Axes>"
            ]
          },
          "metadata": {},
          "output_type": "display_data"
        }
      ],
      "source": [
        "eval_cfg = eKonf.compose(config_group='model/eval=classification')\n",
        "eval_cfg.to_eval.actual = 'labels'\n",
        "eval_cfg.to_eval.predicted = 'polarity_label'\n",
        "eval_cfg.to_eval.labels = ['positive','neutral','negative']\n",
        "eval_cfg.data_dir = './data/predict'\n",
        "eval_cfg.data_file = 'financial_phrasebank-*.parquet'\n",
        "eval_cfg.output_dir = './data/eval'\n",
        "# eval_cfg.method.average = None\n",
        "# eKonf.print(eval_cfg)\n",
        "eKonf.instantiate(eval_cfg)"
      ]
    },
    {
      "cell_type": "code",
      "execution_count": null,
      "metadata": {
        "id": "3uhF3cDynUuj",
        "outputId": "a50d12e1-9ab3-4496-af54-cae58051f1ed"
      },
      "outputs": [],
      "source": []
    },
    {
      "cell_type": "code",
      "execution_count": null,
      "metadata": {
        "id": "i9__LTKOnUuj"
      },
      "outputs": [],
      "source": []
    }
  ],
  "metadata": {
    "colab": {
      "include_colab_link": true,
      "name": "preprocessor.ipynb",
      "provenance": []
    },
    "interpreter": {
      "hash": "f869af7787e6a1c49e09e367fc6e1b81d93d1c6583b43249c80edc047bd13cb2"
    },
    "kernelspec": {
      "display_name": "Python 3.8.12 64-bit ('ekonml38')",
      "language": "python",
      "name": "python3"
    },
    "language_info": {
      "codemirror_mode": {
        "name": "ipython",
        "version": 3
      },
      "file_extension": ".py",
      "mimetype": "text/x-python",
      "name": "python",
      "nbconvert_exporter": "python",
      "pygments_lexer": "ipython3",
      "version": "3.8.12"
    }
  },
  "nbformat": 4,
  "nbformat_minor": 0
}
