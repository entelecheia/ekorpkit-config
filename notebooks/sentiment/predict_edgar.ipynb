{
 "cells": [
  {
   "cell_type": "markdown",
   "metadata": {
    "colab_type": "text",
    "id": "view-in-github"
   },
   "source": [
    "<a href=\"https://colab.research.google.com/github/entelecheia/ekorpkit-config/blob/main/notebooks/sentiment/financial_phrasebank_lm.ipynb\" target=\"_parent\"><img src=\"https://colab.research.google.com/assets/colab-badge.svg\" alt=\"Open In Colab\"/></a>"
   ]
  },
  {
   "cell_type": "markdown",
   "metadata": {
    "id": "AESO0odcxhzs"
   },
   "source": [
    "# Sentiment Analysis"
   ]
  },
  {
   "cell_type": "code",
   "execution_count": 1,
   "metadata": {
    "id": "EJ0AoNl-xif_"
   },
   "outputs": [],
   "source": [
    "%%capture\n",
    "%pip install ekorpkit[model,tokenize,dataset]==0.1.25.post0.dev5"
   ]
  },
  {
   "cell_type": "markdown",
   "metadata": {},
   "source": [
    "## Prepare `edgar` sampel dataframe"
   ]
  },
  {
   "cell_type": "code",
   "execution_count": 2,
   "metadata": {},
   "outputs": [
    {
     "name": "stderr",
     "output_type": "stream",
     "text": [
      "No pipeline specified\n"
     ]
    },
    {
     "data": {
      "text/html": [
       "<div>\n",
       "<style scoped>\n",
       "    .dataframe tbody tr th:only-of-type {\n",
       "        vertical-align: middle;\n",
       "    }\n",
       "\n",
       "    .dataframe tbody tr th {\n",
       "        vertical-align: top;\n",
       "    }\n",
       "\n",
       "    .dataframe thead th {\n",
       "        text-align: right;\n",
       "    }\n",
       "</style>\n",
       "<table border=\"1\" class=\"dataframe\">\n",
       "  <thead>\n",
       "    <tr style=\"text-align: right;\">\n",
       "      <th></th>\n",
       "      <th>id</th>\n",
       "      <th>filename</th>\n",
       "      <th>item</th>\n",
       "      <th>cik</th>\n",
       "      <th>company</th>\n",
       "      <th>text</th>\n",
       "    </tr>\n",
       "  </thead>\n",
       "  <tbody>\n",
       "    <tr>\n",
       "      <th>1410</th>\n",
       "      <td>1534</td>\n",
       "      <td>1999/320193_10K_1999_0000912057-99-010244.json</td>\n",
       "      <td>item_1</td>\n",
       "      <td>320193</td>\n",
       "      <td>APPLE COMPUTER INC</td>\n",
       "      <td>ITEM 1. \\nBUSINESS GENERAL Apple Computer, Inc...</td>\n",
       "    </tr>\n",
       "    <tr>\n",
       "      <th>1560</th>\n",
       "      <td>1697</td>\n",
       "      <td>1999/21344_10K_1999_0000021344-00-000009.json</td>\n",
       "      <td>item_1</td>\n",
       "      <td>21344</td>\n",
       "      <td>COCA COLA CO</td>\n",
       "      <td>ITEM 1. \\nBUSINESS The Coca-Cola Company (toge...</td>\n",
       "    </tr>\n",
       "    <tr>\n",
       "      <th>2746</th>\n",
       "      <td>2977</td>\n",
       "      <td>1999/70858_10K_1999_0000950168-00-000621.json</td>\n",
       "      <td>item_1</td>\n",
       "      <td>70858</td>\n",
       "      <td>BANK OF AMERICA CORP /DE/</td>\n",
       "      <td>Item 1. \\nBUSINESS General Bank of America Cor...</td>\n",
       "    </tr>\n",
       "    <tr>\n",
       "      <th>3762</th>\n",
       "      <td>4088</td>\n",
       "      <td>1999/80424_10K_1999_0000080424-99-000027.json</td>\n",
       "      <td>item_1</td>\n",
       "      <td>80424</td>\n",
       "      <td>PROCTER &amp; GAMBLE CO</td>\n",
       "      <td>Item 1. \\nBusiness. \\n--------- General Develo...</td>\n",
       "    </tr>\n",
       "    <tr>\n",
       "      <th>4806</th>\n",
       "      <td>5211</td>\n",
       "      <td>1999/1018724_10K_1999_0000891020-00-000622.json</td>\n",
       "      <td>item_1</td>\n",
       "      <td>1018724</td>\n",
       "      <td>AMAZON COM INC</td>\n",
       "      <td>ITEM 1. \\nBUSINESS This Annual Report on Form ...</td>\n",
       "    </tr>\n",
       "  </tbody>\n",
       "</table>\n",
       "</div>"
      ],
      "text/plain": [
       "        id                                         filename    item      cik  \\\n",
       "1410  1534   1999/320193_10K_1999_0000912057-99-010244.json  item_1   320193   \n",
       "1560  1697    1999/21344_10K_1999_0000021344-00-000009.json  item_1    21344   \n",
       "2746  2977    1999/70858_10K_1999_0000950168-00-000621.json  item_1    70858   \n",
       "3762  4088    1999/80424_10K_1999_0000080424-99-000027.json  item_1    80424   \n",
       "4806  5211  1999/1018724_10K_1999_0000891020-00-000622.json  item_1  1018724   \n",
       "\n",
       "                        company  \\\n",
       "1410         APPLE COMPUTER INC   \n",
       "1560               COCA COLA CO   \n",
       "2746  BANK OF AMERICA CORP /DE/   \n",
       "3762        PROCTER & GAMBLE CO   \n",
       "4806             AMAZON COM INC   \n",
       "\n",
       "                                                   text  \n",
       "1410  ITEM 1. \\nBUSINESS GENERAL Apple Computer, Inc...  \n",
       "1560  ITEM 1. \\nBUSINESS The Coca-Cola Company (toge...  \n",
       "2746  Item 1. \\nBUSINESS General Bank of America Cor...  \n",
       "3762  Item 1. \\nBusiness. \\n--------- General Develo...  \n",
       "4806  ITEM 1. \\nBUSINESS This Annual Report on Form ...  "
      ]
     },
     "execution_count": 2,
     "metadata": {},
     "output_type": "execute_result"
    }
   ],
   "source": [
    "from ekorpkit import eKonf\n",
    "\n",
    "df_cfg = eKonf.compose(config_group='pipeline=blank')\n",
    "df_cfg.name = 'edgar_sample'\n",
    "df_cfg.data_dir = \"${cached_path:'gd://15WFOGe73pIDvJEJxV90luirsT4yEInz9:edgar.zip',true,true}\"\n",
    "df_cfg.data_file = 'edgar.parquet'\n",
    "df_cfg.columns_to_keep = ['id', 'filename', 'item', 'cik', 'company', 'text']\n",
    "df = eKonf.instantiate(df_cfg)\n",
    "df.head()"
   ]
  },
  {
   "cell_type": "markdown",
   "metadata": {
    "id": "pzjBtQqpnqcy"
   },
   "source": [
    "## Prepare `financial_phrasebank` dataset"
   ]
  },
  {
   "cell_type": "code",
   "execution_count": 2,
   "metadata": {
    "colab": {
     "base_uri": "https://localhost:8080/",
     "height": 659
    },
    "id": "RdpBCIbBny8z",
    "outputId": "f655ea5b-5afb-43a1-cfec-7df3e6d32d92"
   },
   "outputs": [],
   "source": [
    "from ekorpkit import eKonf\n",
    "\n",
    "ds_cfg = eKonf.compose(config_group='dataset=dataset')\n",
    "ds_cfg.name = 'financial_phrasebank'\n",
    "ds_cfg.data_dir = \"${cached_path:'gd://15TUjIfQstCYXU82s0pcaxh2QcSWf1zyG:financial_phrasebank.zip',true,false}\"\n",
    "ds_cfg.use_name_as_subdir = False\n",
    "ds = eKonf.instantiate(ds_cfg)"
   ]
  },
  {
   "cell_type": "markdown",
   "metadata": {
    "id": "dOpN8AxSxhzv"
   },
   "source": [
    "## Compose a config for the LM sentiment analyser class"
   ]
  },
  {
   "cell_type": "code",
   "execution_count": 4,
   "metadata": {
    "id": "w7F_qmC8nUue"
   },
   "outputs": [],
   "source": [
    "from ekorpkit import eKonf\n",
    "\n",
    "config_group='model/sentiment=lm'\n",
    "model_cfg = eKonf.compose(config_group=config_group)\n",
    "model_cfg.preprocessor.tokenizer.nltk.lemmatize = True"
   ]
  },
  {
   "cell_type": "markdown",
   "metadata": {
    "id": "U26yEB4gotyT"
   },
   "source": [
    "## Instantiating a sentiment analyser class and prediting sentiments of `edgar` dataset"
   ]
  },
  {
   "cell_type": "code",
   "execution_count": 5,
   "metadata": {
    "colab": {
     "base_uri": "https://localhost:8080/",
     "height": 639
    },
    "id": "SEBHqvYvnUui",
    "outputId": "945c3bc5-f669-44ac-94a9-4d917decf246"
   },
   "outputs": [
    {
     "name": "stdout",
     "output_type": "stream",
     "text": [
      "Loading 1 dataframes from ['/root/.ekorpkit/.cache/gdown/.15WFOGe73pIDvJEJxV90luirsT4yEInz9/edgar/edgar.parquet']\n"
     ]
    },
    {
     "name": "stderr",
     "output_type": "stream",
     "text": [
      "Predicting [text]: 100%|██████████| 100/100 [00:24<00:00,  4.14it/s]\n"
     ]
    },
    {
     "name": "stdout",
     "output_type": "stream",
     "text": [
      " >> saved dataframe to ./data/predict/edgar_sentiments-lm.parquet\n"
     ]
    },
    {
     "data": {
      "text/html": [
       "<div>\n",
       "<style scoped>\n",
       "    .dataframe tbody tr th:only-of-type {\n",
       "        vertical-align: middle;\n",
       "    }\n",
       "\n",
       "    .dataframe tbody tr th {\n",
       "        vertical-align: top;\n",
       "    }\n",
       "\n",
       "    .dataframe thead th {\n",
       "        text-align: right;\n",
       "    }\n",
       "</style>\n",
       "<table border=\"1\" class=\"dataframe\">\n",
       "  <thead>\n",
       "    <tr style=\"text-align: right;\">\n",
       "      <th></th>\n",
       "      <th>id</th>\n",
       "      <th>filename</th>\n",
       "      <th>item</th>\n",
       "      <th>cik</th>\n",
       "      <th>company</th>\n",
       "      <th>text</th>\n",
       "      <th>polarity</th>\n",
       "      <th>subjectivity</th>\n",
       "      <th>polarity_label</th>\n",
       "      <th>uncertainty</th>\n",
       "    </tr>\n",
       "  </thead>\n",
       "  <tbody>\n",
       "    <tr>\n",
       "      <th>1410</th>\n",
       "      <td>1534</td>\n",
       "      <td>1999/320193_10K_1999_0000912057-99-010244.json</td>\n",
       "      <td>item_1</td>\n",
       "      <td>320193</td>\n",
       "      <td>APPLE COMPUTER INC</td>\n",
       "      <td>ITEM 1. \\nBUSINESS GENERAL Apple Computer, Inc...</td>\n",
       "      <td>-0.117647</td>\n",
       "      <td>0.017405</td>\n",
       "      <td>neutral</td>\n",
       "      <td>0.011262</td>\n",
       "    </tr>\n",
       "    <tr>\n",
       "      <th>1560</th>\n",
       "      <td>1697</td>\n",
       "      <td>1999/21344_10K_1999_0000021344-00-000009.json</td>\n",
       "      <td>item_1</td>\n",
       "      <td>21344</td>\n",
       "      <td>COCA COLA CO</td>\n",
       "      <td>ITEM 1. \\nBUSINESS The Coca-Cola Company (toge...</td>\n",
       "      <td>0.066667</td>\n",
       "      <td>0.008864</td>\n",
       "      <td>neutral</td>\n",
       "      <td>0.014773</td>\n",
       "    </tr>\n",
       "    <tr>\n",
       "      <th>2746</th>\n",
       "      <td>2977</td>\n",
       "      <td>1999/70858_10K_1999_0000950168-00-000621.json</td>\n",
       "      <td>item_1</td>\n",
       "      <td>70858</td>\n",
       "      <td>BANK OF AMERICA CORP /DE/</td>\n",
       "      <td>Item 1. \\nBUSINESS General Bank of America Cor...</td>\n",
       "      <td>-0.219512</td>\n",
       "      <td>0.011724</td>\n",
       "      <td>negative</td>\n",
       "      <td>0.008579</td>\n",
       "    </tr>\n",
       "    <tr>\n",
       "      <th>3762</th>\n",
       "      <td>4088</td>\n",
       "      <td>1999/80424_10K_1999_0000080424-99-000027.json</td>\n",
       "      <td>item_1</td>\n",
       "      <td>80424</td>\n",
       "      <td>PROCTER &amp; GAMBLE CO</td>\n",
       "      <td>Item 1. \\nBusiness. \\n--------- General Develo...</td>\n",
       "      <td>0.090909</td>\n",
       "      <td>0.008703</td>\n",
       "      <td>neutral</td>\n",
       "      <td>0.011867</td>\n",
       "    </tr>\n",
       "    <tr>\n",
       "      <th>4806</th>\n",
       "      <td>5211</td>\n",
       "      <td>1999/1018724_10K_1999_0000891020-00-000622.json</td>\n",
       "      <td>item_1</td>\n",
       "      <td>1018724</td>\n",
       "      <td>AMAZON COM INC</td>\n",
       "      <td>ITEM 1. \\nBUSINESS This Annual Report on Form ...</td>\n",
       "      <td>-0.106494</td>\n",
       "      <td>0.031141</td>\n",
       "      <td>neutral</td>\n",
       "      <td>0.019979</td>\n",
       "    </tr>\n",
       "  </tbody>\n",
       "</table>\n",
       "</div>"
      ],
      "text/plain": [
       "        id                                         filename    item      cik  \\\n",
       "1410  1534   1999/320193_10K_1999_0000912057-99-010244.json  item_1   320193   \n",
       "1560  1697    1999/21344_10K_1999_0000021344-00-000009.json  item_1    21344   \n",
       "2746  2977    1999/70858_10K_1999_0000950168-00-000621.json  item_1    70858   \n",
       "3762  4088    1999/80424_10K_1999_0000080424-99-000027.json  item_1    80424   \n",
       "4806  5211  1999/1018724_10K_1999_0000891020-00-000622.json  item_1  1018724   \n",
       "\n",
       "                        company  \\\n",
       "1410         APPLE COMPUTER INC   \n",
       "1560               COCA COLA CO   \n",
       "2746  BANK OF AMERICA CORP /DE/   \n",
       "3762        PROCTER & GAMBLE CO   \n",
       "4806             AMAZON COM INC   \n",
       "\n",
       "                                                   text  polarity  \\\n",
       "1410  ITEM 1. \\nBUSINESS GENERAL Apple Computer, Inc... -0.117647   \n",
       "1560  ITEM 1. \\nBUSINESS The Coca-Cola Company (toge...  0.066667   \n",
       "2746  Item 1. \\nBUSINESS General Bank of America Cor... -0.219512   \n",
       "3762  Item 1. \\nBusiness. \\n--------- General Develo...  0.090909   \n",
       "4806  ITEM 1. \\nBUSINESS This Annual Report on Form ... -0.106494   \n",
       "\n",
       "      subjectivity polarity_label  uncertainty  \n",
       "1410      0.017405        neutral     0.011262  \n",
       "1560      0.008864        neutral     0.014773  \n",
       "2746      0.011724       negative     0.008579  \n",
       "3762      0.008703        neutral     0.011867  \n",
       "4806      0.031141        neutral     0.019979  "
      ]
     },
     "execution_count": 5,
     "metadata": {},
     "output_type": "execute_result"
    }
   ],
   "source": [
    "cfg = eKonf.compose(config_group='pipeline=pipeline')\n",
    "cfg.verbose = True\n",
    "cfg.name = 'edgar_sentiments'\n",
    "cfg.data_dir = \"${cached_path:'gd://15WFOGe73pIDvJEJxV90luirsT4yEInz9:edgar.zip',true,true}\"\n",
    "cfg.data_file = 'edgar.parquet'\n",
    "cfg.columns_to_keep = ['id', 'filename', 'item', 'cik', 'company', 'text']\n",
    "cfg._pipeline_ = ['predict']\n",
    "cfg.predict.model = model_cfg\n",
    "cfg.predict.output_dir = \"./data/predict\"\n",
    "cfg.predict.output_file = f'{cfg.name}-lm.parquet'\n",
    "cfg.num_workers = 100\n",
    "df = eKonf.instantiate(cfg)\n",
    "df.head()"
   ]
  },
  {
   "cell_type": "code",
   "execution_count": 8,
   "metadata": {
    "id": "MS2eYHjSnUui",
    "outputId": "562ba0b8-6264-415e-bf48-60e120dc36ec"
   },
   "outputs": [
    {
     "name": "stdout",
     "output_type": "stream",
     "text": [
      "./data/predict\n",
      "edgar_sentiments-lm.parquet\n"
     ]
    }
   ],
   "source": [
    "print(cfg.predict.output_dir)\n",
    "print(cfg.predict.output_file)"
   ]
  },
  {
   "cell_type": "markdown",
   "metadata": {
    "id": "3uhF3cDynUuj",
    "outputId": "a50d12e1-9ab3-4496-af54-cae58051f1ed"
   },
   "source": [
    "## Instantiating a transformer classficiation model with `financial_phrasebank` dataset"
   ]
  },
  {
   "cell_type": "code",
   "execution_count": 8,
   "metadata": {
    "id": "i9__LTKOnUuj"
   },
   "outputs": [
    {
     "data": {
      "application/vnd.jupyter.widget-view+json": {
       "model_id": "4c2417583c1a411a906443cb867a470a",
       "version_major": 2,
       "version_minor": 0
      },
      "text/plain": [
       "  0%|          | 0/1445 [00:00<?, ?it/s]"
      ]
     },
     "metadata": {},
     "output_type": "display_data"
    },
    {
     "name": "stderr",
     "output_type": "stream",
     "text": [
      "/opt/conda/lib/python3.8/site-packages/transformers/optimization.py:306: FutureWarning: This implementation of AdamW is deprecated and will be removed in a future version. Use thePyTorch implementation torch.optim.AdamW instead, or set `no_deprecation_warning=True` to disable this warning\n",
      "  warnings.warn(\n"
     ]
    },
    {
     "data": {
      "application/vnd.jupyter.widget-view+json": {
       "model_id": "4092f03dad0b4ee797df93d4520e248b",
       "version_major": 2,
       "version_minor": 0
      },
      "text/plain": [
       "Epoch:   0%|          | 0/2 [00:00<?, ?it/s]"
      ]
     },
     "metadata": {},
     "output_type": "display_data"
    },
    {
     "name": "stderr",
     "output_type": "stream",
     "text": [
      "\u001b[34m\u001b[1mwandb\u001b[0m: Currently logged in as: \u001b[33mentelecheia\u001b[0m (use `wandb login --relogin` to force relogin)\n",
      "\u001b[34m\u001b[1mwandb\u001b[0m: wandb version 0.12.16 is available!  To upgrade, please run:\n",
      "\u001b[34m\u001b[1mwandb\u001b[0m:  $ pip install wandb --upgrade\n"
     ]
    },
    {
     "data": {
      "text/html": [
       "\n",
       "                    Syncing run <strong><a href=\"https://wandb.ai/entelecheia/default-model/runs/1sp6p2cx\" target=\"_blank\">light-droid-13</a></strong> to <a href=\"https://wandb.ai/entelecheia/default-model\" target=\"_blank\">Weights & Biases</a> (<a href=\"https://docs.wandb.com/integrations/jupyter.html\" target=\"_blank\">docs</a>).<br/>\n",
       "\n",
       "                "
      ],
      "text/plain": [
       "<IPython.core.display.HTML object>"
      ]
     },
     "metadata": {},
     "output_type": "display_data"
    },
    {
     "data": {
      "application/vnd.jupyter.widget-view+json": {
       "model_id": "854fc087764d4ed48e2850536d39f9ca",
       "version_major": 2,
       "version_minor": 0
      },
      "text/plain": [
       "Running Epoch 0 of 2:   0%|          | 0/46 [00:00<?, ?it/s]"
      ]
     },
     "metadata": {},
     "output_type": "display_data"
    },
    {
     "data": {
      "application/vnd.jupyter.widget-view+json": {
       "model_id": "2416536298b0452b952aad2507c34402",
       "version_major": 2,
       "version_minor": 0
      },
      "text/plain": [
       "Running Epoch 1 of 2:   0%|          | 0/46 [00:00<?, ?it/s]"
      ]
     },
     "metadata": {},
     "output_type": "display_data"
    },
    {
     "data": {
      "application/vnd.jupyter.widget-view+json": {
       "model_id": "afa0cf14580845c5972c4eb9cffb5ff8",
       "version_major": 2,
       "version_minor": 0
      },
      "text/plain": [
       "  0%|          | 0/452 [00:00<?, ?it/s]"
      ]
     },
     "metadata": {},
     "output_type": "display_data"
    },
    {
     "data": {
      "application/vnd.jupyter.widget-view+json": {
       "model_id": "89084ac26a2a467c9ef8711438b3c058",
       "version_major": 2,
       "version_minor": 0
      },
      "text/plain": [
       "Running Evaluation:   0%|          | 0/15 [00:00<?, ?it/s]"
      ]
     },
     "metadata": {},
     "output_type": "display_data"
    },
    {
     "data": {
      "text/html": [
       "Finishing last run (ID:1sp6p2cx) before initializing another..."
      ],
      "text/plain": [
       "<IPython.core.display.HTML object>"
      ]
     },
     "metadata": {},
     "output_type": "display_data"
    },
    {
     "data": {
      "text/html": [
       "<br/>Waiting for W&B process to finish, PID 21569... <strong style=\"color:green\">(success).</strong>"
      ],
      "text/plain": [
       "<IPython.core.display.HTML object>"
      ]
     },
     "metadata": {},
     "output_type": "display_data"
    },
    {
     "data": {
      "application/vnd.jupyter.widget-view+json": {
       "model_id": "92039a68fa5749868ba111e57db0e109",
       "version_major": 2,
       "version_minor": 0
      },
      "text/plain": [
       "VBox(children=(Label(value=' 0.00MB of 0.00MB uploaded (0.00MB deduped)\\r'), FloatProgress(value=1.0, max=1.0)…"
      ]
     },
     "metadata": {},
     "output_type": "display_data"
    },
    {
     "data": {
      "text/html": [
       "<style>\n",
       "    table.wandb td:nth-child(1) { padding: 0 10px; text-align: right }\n",
       "    .wandb-row { display: flex; flex-direction: row; flex-wrap: wrap; width: 100% }\n",
       "    .wandb-col { display: flex; flex-direction: column; flex-basis: 100%; flex: 1; padding: 10px; }\n",
       "    </style>\n",
       "<div class=\"wandb-row\"><div class=\"wandb-col\">\n",
       "<h3>Run history:</h3><br/><table class=\"wandb\"><tr><td>Training loss</td><td>▁</td></tr><tr><td>acc</td><td>▁█</td></tr><tr><td>eval_loss</td><td>█▁</td></tr><tr><td>global_step</td><td>▁▂█</td></tr><tr><td>lr</td><td>▁</td></tr><tr><td>mcc</td><td>▁█</td></tr><tr><td>train_loss</td><td>█▁</td></tr></table><br/></div><div class=\"wandb-col\">\n",
       "<h3>Run summary:</h3><br/><table class=\"wandb\"><tr><td>Training loss</td><td>0.56368</td></tr><tr><td>acc</td><td>0.85912</td></tr><tr><td>eval_loss</td><td>0.34183</td></tr><tr><td>global_step</td><td>92</td></tr><tr><td>lr</td><td>2e-05</td></tr><tr><td>mcc</td><td>0.73891</td></tr><tr><td>train_loss</td><td>0.23232</td></tr></table>\n",
       "</div></div>\n",
       "Synced 4 W&B file(s), 0 media file(s), 0 artifact file(s) and 0 other file(s)\n",
       "<br/>Synced <strong style=\"color:#cdcd00\">light-droid-13</strong>: <a href=\"https://wandb.ai/entelecheia/default-model/runs/1sp6p2cx\" target=\"_blank\">https://wandb.ai/entelecheia/default-model/runs/1sp6p2cx</a><br/>\n",
       "Find logs at: <code>/root/.ekorpkit/projects/default/outputs/default-model/finbert/wandb/run-20220505_014655-1sp6p2cx/logs</code><br/>\n"
      ],
      "text/plain": [
       "<IPython.core.display.HTML object>"
      ]
     },
     "metadata": {},
     "output_type": "display_data"
    },
    {
     "data": {
      "text/html": [
       "Successfully finished last run (ID:1sp6p2cx). Initializing new run:<br/>"
      ],
      "text/plain": [
       "<IPython.core.display.HTML object>"
      ]
     },
     "metadata": {},
     "output_type": "display_data"
    },
    {
     "name": "stderr",
     "output_type": "stream",
     "text": [
      "\u001b[34m\u001b[1mwandb\u001b[0m: wandb version 0.12.16 is available!  To upgrade, please run:\n",
      "\u001b[34m\u001b[1mwandb\u001b[0m:  $ pip install wandb --upgrade\n"
     ]
    },
    {
     "data": {
      "text/html": [
       "\n",
       "                    Syncing run <strong><a href=\"https://wandb.ai/entelecheia/default-model/runs/1hmce7sj\" target=\"_blank\">civilized-senate-14</a></strong> to <a href=\"https://wandb.ai/entelecheia/default-model\" target=\"_blank\">Weights & Biases</a> (<a href=\"https://docs.wandb.com/integrations/jupyter.html\" target=\"_blank\">docs</a>).<br/>\n",
       "\n",
       "                "
      ],
      "text/plain": [
       "<IPython.core.display.HTML object>"
      ]
     },
     "metadata": {},
     "output_type": "display_data"
    },
    {
     "data": {
      "text/plain": [
       "<ekorpkit.models.transformer.simple.SimpleClassification at 0x7f19827c46a0>"
      ]
     },
     "execution_count": 8,
     "metadata": {},
     "output_type": "execute_result"
    }
   ],
   "source": [
    "from ekorpkit import eKonf\n",
    "\n",
    "overrides=[\n",
    "    '+model/transformer=simple_classification',\n",
    "    '+model/transformer/pretrained=finbert',\n",
    "]\n",
    "model_cfg = eKonf.compose(overrides=overrides, config_group='model/transformer=simple_classification')\n",
    "model_cfg.dataset = ds_cfg\n",
    "model_cfg.verbose = False\n",
    "model_cfg.config.num_train_epochs = 2\n",
    "model_cfg.config.max_seq_length = 256\n",
    "model_cfg.config.train_batch_size = 32\n",
    "model_cfg.config.eval_batch_size = 32\n",
    "model_cfg.labels = ['positive','neutral','negative']\n",
    "model_cfg._call_ = ['train']\n",
    "eKonf.instantiate(model_cfg)"
   ]
  },
  {
   "cell_type": "code",
   "execution_count": 9,
   "metadata": {},
   "outputs": [
    {
     "name": "stdout",
     "output_type": "stream",
     "text": [
      "Loading 1 dataframes from ['/root/.ekorpkit/.cache/gdown/.15WFOGe73pIDvJEJxV90luirsT4yEInz9/edgar/edgar.parquet']\n"
     ]
    },
    {
     "data": {
      "application/vnd.jupyter.widget-view+json": {
       "model_id": "127c04a15d314ff68a56578d5a8b9779",
       "version_major": 2,
       "version_minor": 0
      },
      "text/plain": [
       "  0%|          | 0/1445 [00:00<?, ?it/s]"
      ]
     },
     "metadata": {},
     "output_type": "display_data"
    },
    {
     "data": {
      "application/vnd.jupyter.widget-view+json": {
       "model_id": "fc8738bea7da44029ee4f128feb9be45",
       "version_major": 2,
       "version_minor": 0
      },
      "text/plain": [
       "Epoch:   0%|          | 0/2 [00:00<?, ?it/s]"
      ]
     },
     "metadata": {},
     "output_type": "display_data"
    },
    {
     "data": {
      "text/html": [
       "Finishing last run (ID:1hmce7sj) before initializing another..."
      ],
      "text/plain": [
       "<IPython.core.display.HTML object>"
      ]
     },
     "metadata": {},
     "output_type": "display_data"
    },
    {
     "data": {
      "text/html": [
       "<br/>Waiting for W&B process to finish, PID 21736... <strong style=\"color:green\">(success).</strong>"
      ],
      "text/plain": [
       "<IPython.core.display.HTML object>"
      ]
     },
     "metadata": {},
     "output_type": "display_data"
    },
    {
     "data": {
      "application/vnd.jupyter.widget-view+json": {
       "model_id": "8a522fc734154b36a198206aebd39b4b",
       "version_major": 2,
       "version_minor": 0
      },
      "text/plain": [
       "VBox(children=(Label(value=' 0.00MB of 0.00MB uploaded (0.00MB deduped)\\r'), FloatProgress(value=1.0, max=1.0)…"
      ]
     },
     "metadata": {},
     "output_type": "display_data"
    },
    {
     "data": {
      "text/html": [
       "<style>\n",
       "    table.wandb td:nth-child(1) { padding: 0 10px; text-align: right }\n",
       "    .wandb-row { display: flex; flex-direction: row; flex-wrap: wrap; width: 100% }\n",
       "    .wandb-col { display: flex; flex-direction: column; flex-basis: 100%; flex: 1; padding: 10px; }\n",
       "    </style>\n",
       "<div class=\"wandb-row\"><div class=\"wandb-col\">\n",
       "</div><div class=\"wandb-col\">\n",
       "</div></div>\n",
       "Synced 5 W&B file(s), 1 media file(s), 1 artifact file(s) and 0 other file(s)\n",
       "<br/>Synced <strong style=\"color:#cdcd00\">civilized-senate-14</strong>: <a href=\"https://wandb.ai/entelecheia/default-model/runs/1hmce7sj\" target=\"_blank\">https://wandb.ai/entelecheia/default-model/runs/1hmce7sj</a><br/>\n",
       "Find logs at: <code>/root/.ekorpkit/projects/default/outputs/default-model/finbert/wandb/run-20220505_014722-1hmce7sj/logs</code><br/>\n"
      ],
      "text/plain": [
       "<IPython.core.display.HTML object>"
      ]
     },
     "metadata": {},
     "output_type": "display_data"
    },
    {
     "data": {
      "text/html": [
       "Successfully finished last run (ID:1hmce7sj). Initializing new run:<br/>"
      ],
      "text/plain": [
       "<IPython.core.display.HTML object>"
      ]
     },
     "metadata": {},
     "output_type": "display_data"
    },
    {
     "name": "stderr",
     "output_type": "stream",
     "text": [
      "\u001b[34m\u001b[1mwandb\u001b[0m: wandb version 0.12.16 is available!  To upgrade, please run:\n",
      "\u001b[34m\u001b[1mwandb\u001b[0m:  $ pip install wandb --upgrade\n"
     ]
    },
    {
     "data": {
      "text/html": [
       "\n",
       "                    Syncing run <strong><a href=\"https://wandb.ai/entelecheia/default-predict/runs/tsswa981\" target=\"_blank\">clone-pilot-1</a></strong> to <a href=\"https://wandb.ai/entelecheia/default-predict\" target=\"_blank\">Weights & Biases</a> (<a href=\"https://docs.wandb.com/integrations/jupyter.html\" target=\"_blank\">docs</a>).<br/>\n",
       "\n",
       "                "
      ],
      "text/plain": [
       "<IPython.core.display.HTML object>"
      ]
     },
     "metadata": {},
     "output_type": "display_data"
    },
    {
     "data": {
      "application/vnd.jupyter.widget-view+json": {
       "model_id": "e4d1ace82ecc481a8f8624f13e524193",
       "version_major": 2,
       "version_minor": 0
      },
      "text/plain": [
       "Running Epoch 0 of 2:   0%|          | 0/46 [00:00<?, ?it/s]"
      ]
     },
     "metadata": {},
     "output_type": "display_data"
    },
    {
     "data": {
      "application/vnd.jupyter.widget-view+json": {
       "model_id": "031fb31652a94efbb49ca2aff86fbb27",
       "version_major": 2,
       "version_minor": 0
      },
      "text/plain": [
       "Running Epoch 1 of 2:   0%|          | 0/46 [00:00<?, ?it/s]"
      ]
     },
     "metadata": {},
     "output_type": "display_data"
    },
    {
     "data": {
      "application/vnd.jupyter.widget-view+json": {
       "model_id": "c2a0065fee7d4506bb134b97dc2d9675",
       "version_major": 2,
       "version_minor": 0
      },
      "text/plain": [
       "  0%|          | 0/452 [00:00<?, ?it/s]"
      ]
     },
     "metadata": {},
     "output_type": "display_data"
    },
    {
     "data": {
      "application/vnd.jupyter.widget-view+json": {
       "model_id": "26f10f3713774e12b79c79597d5342a4",
       "version_major": 2,
       "version_minor": 0
      },
      "text/plain": [
       "Running Evaluation:   0%|          | 0/15 [00:00<?, ?it/s]"
      ]
     },
     "metadata": {},
     "output_type": "display_data"
    },
    {
     "data": {
      "text/html": [
       "Finishing last run (ID:tsswa981) before initializing another..."
      ],
      "text/plain": [
       "<IPython.core.display.HTML object>"
      ]
     },
     "metadata": {},
     "output_type": "display_data"
    },
    {
     "data": {
      "text/html": [
       "<br/>Waiting for W&B process to finish, PID 21902... <strong style=\"color:green\">(success).</strong>"
      ],
      "text/plain": [
       "<IPython.core.display.HTML object>"
      ]
     },
     "metadata": {},
     "output_type": "display_data"
    },
    {
     "data": {
      "application/vnd.jupyter.widget-view+json": {
       "model_id": "908b1eb5168b4854a19d0172e5dcdb43",
       "version_major": 2,
       "version_minor": 0
      },
      "text/plain": [
       "VBox(children=(Label(value=' 0.00MB of 0.00MB uploaded (0.00MB deduped)\\r'), FloatProgress(value=1.0, max=1.0)…"
      ]
     },
     "metadata": {},
     "output_type": "display_data"
    },
    {
     "data": {
      "text/html": [
       "<style>\n",
       "    table.wandb td:nth-child(1) { padding: 0 10px; text-align: right }\n",
       "    .wandb-row { display: flex; flex-direction: row; flex-wrap: wrap; width: 100% }\n",
       "    .wandb-col { display: flex; flex-direction: column; flex-basis: 100%; flex: 1; padding: 10px; }\n",
       "    </style>\n",
       "<div class=\"wandb-row\"><div class=\"wandb-col\">\n",
       "<h3>Run history:</h3><br/><table class=\"wandb\"><tr><td>Training loss</td><td>▁</td></tr><tr><td>acc</td><td>▁█</td></tr><tr><td>eval_loss</td><td>█▁</td></tr><tr><td>global_step</td><td>▁▂█</td></tr><tr><td>lr</td><td>▁</td></tr><tr><td>mcc</td><td>▁█</td></tr><tr><td>train_loss</td><td>█▁</td></tr></table><br/></div><div class=\"wandb-col\">\n",
       "<h3>Run summary:</h3><br/><table class=\"wandb\"><tr><td>Training loss</td><td>0.30405</td></tr><tr><td>acc</td><td>0.85635</td></tr><tr><td>eval_loss</td><td>0.39886</td></tr><tr><td>global_step</td><td>92</td></tr><tr><td>lr</td><td>2e-05</td></tr><tr><td>mcc</td><td>0.73004</td></tr><tr><td>train_loss</td><td>0.62582</td></tr></table>\n",
       "</div></div>\n",
       "Synced 4 W&B file(s), 0 media file(s), 0 artifact file(s) and 0 other file(s)\n",
       "<br/>Synced <strong style=\"color:#cdcd00\">clone-pilot-1</strong>: <a href=\"https://wandb.ai/entelecheia/default-predict/runs/tsswa981\" target=\"_blank\">https://wandb.ai/entelecheia/default-predict/runs/tsswa981</a><br/>\n",
       "Find logs at: <code>/root/.ekorpkit/projects/default/outputs/default-predict/finbert/wandb/run-20220505_014747-tsswa981/logs</code><br/>\n"
      ],
      "text/plain": [
       "<IPython.core.display.HTML object>"
      ]
     },
     "metadata": {},
     "output_type": "display_data"
    },
    {
     "data": {
      "text/html": [
       "Successfully finished last run (ID:tsswa981). Initializing new run:<br/>"
      ],
      "text/plain": [
       "<IPython.core.display.HTML object>"
      ]
     },
     "metadata": {},
     "output_type": "display_data"
    },
    {
     "name": "stderr",
     "output_type": "stream",
     "text": [
      "\u001b[34m\u001b[1mwandb\u001b[0m: wandb version 0.12.16 is available!  To upgrade, please run:\n",
      "\u001b[34m\u001b[1mwandb\u001b[0m:  $ pip install wandb --upgrade\n"
     ]
    },
    {
     "data": {
      "text/html": [
       "\n",
       "                    Syncing run <strong><a href=\"https://wandb.ai/entelecheia/default-predict/runs/1x6d09qj\" target=\"_blank\">mythical-nexu-2</a></strong> to <a href=\"https://wandb.ai/entelecheia/default-predict\" target=\"_blank\">Weights & Biases</a> (<a href=\"https://docs.wandb.com/integrations/jupyter.html\" target=\"_blank\">docs</a>).<br/>\n",
       "\n",
       "                "
      ],
      "text/plain": [
       "<IPython.core.display.HTML object>"
      ]
     },
     "metadata": {},
     "output_type": "display_data"
    },
    {
     "data": {
      "application/vnd.jupyter.widget-view+json": {
       "model_id": "8262ec6092e241639d6788f44949ecd1",
       "version_major": 2,
       "version_minor": 0
      },
      "text/plain": [
       "  0%|          | 0/1585 [00:00<?, ?it/s]"
      ]
     },
     "metadata": {},
     "output_type": "display_data"
    },
    {
     "name": "stderr",
     "output_type": "stream",
     "text": [
      "Token indices sequence length is longer than the specified maximum sequence length for this model (4252 > 512). Running this sequence through the model will result in indexing errors\n"
     ]
    },
    {
     "data": {
      "application/vnd.jupyter.widget-view+json": {
       "model_id": "f1080dc17f2c4102a49b25f6dd99f7b2",
       "version_major": 2,
       "version_minor": 0
      },
      "text/plain": [
       "  0%|          | 0/945 [00:00<?, ?it/s]"
      ]
     },
     "metadata": {},
     "output_type": "display_data"
    },
    {
     "name": "stdout",
     "output_type": "stream",
     "text": [
      " >> saved dataframe to ./data/predict/edgar_sentiments-finbert.parquet\n"
     ]
    },
    {
     "data": {
      "text/html": [
       "<div>\n",
       "<style scoped>\n",
       "    .dataframe tbody tr th:only-of-type {\n",
       "        vertical-align: middle;\n",
       "    }\n",
       "\n",
       "    .dataframe tbody tr th {\n",
       "        vertical-align: top;\n",
       "    }\n",
       "\n",
       "    .dataframe thead th {\n",
       "        text-align: right;\n",
       "    }\n",
       "</style>\n",
       "<table border=\"1\" class=\"dataframe\">\n",
       "  <thead>\n",
       "    <tr style=\"text-align: right;\">\n",
       "      <th></th>\n",
       "      <th>id</th>\n",
       "      <th>filename</th>\n",
       "      <th>item</th>\n",
       "      <th>cik</th>\n",
       "      <th>company</th>\n",
       "      <th>text</th>\n",
       "      <th>pred_labels</th>\n",
       "    </tr>\n",
       "  </thead>\n",
       "  <tbody>\n",
       "    <tr>\n",
       "      <th>1410</th>\n",
       "      <td>1534</td>\n",
       "      <td>1999/320193_10K_1999_0000912057-99-010244.json</td>\n",
       "      <td>item_1</td>\n",
       "      <td>320193</td>\n",
       "      <td>APPLE COMPUTER INC</td>\n",
       "      <td>ITEM 1. \\nBUSINESS GENERAL Apple Computer, Inc...</td>\n",
       "      <td>positive</td>\n",
       "    </tr>\n",
       "    <tr>\n",
       "      <th>1560</th>\n",
       "      <td>1697</td>\n",
       "      <td>1999/21344_10K_1999_0000021344-00-000009.json</td>\n",
       "      <td>item_1</td>\n",
       "      <td>21344</td>\n",
       "      <td>COCA COLA CO</td>\n",
       "      <td>ITEM 1. \\nBUSINESS The Coca-Cola Company (toge...</td>\n",
       "      <td>neutral</td>\n",
       "    </tr>\n",
       "    <tr>\n",
       "      <th>2746</th>\n",
       "      <td>2977</td>\n",
       "      <td>1999/70858_10K_1999_0000950168-00-000621.json</td>\n",
       "      <td>item_1</td>\n",
       "      <td>70858</td>\n",
       "      <td>BANK OF AMERICA CORP /DE/</td>\n",
       "      <td>Item 1. \\nBUSINESS General Bank of America Cor...</td>\n",
       "      <td>neutral</td>\n",
       "    </tr>\n",
       "    <tr>\n",
       "      <th>3762</th>\n",
       "      <td>4088</td>\n",
       "      <td>1999/80424_10K_1999_0000080424-99-000027.json</td>\n",
       "      <td>item_1</td>\n",
       "      <td>80424</td>\n",
       "      <td>PROCTER &amp; GAMBLE CO</td>\n",
       "      <td>Item 1. \\nBusiness. \\n--------- General Develo...</td>\n",
       "      <td>neutral</td>\n",
       "    </tr>\n",
       "    <tr>\n",
       "      <th>4806</th>\n",
       "      <td>5211</td>\n",
       "      <td>1999/1018724_10K_1999_0000891020-00-000622.json</td>\n",
       "      <td>item_1</td>\n",
       "      <td>1018724</td>\n",
       "      <td>AMAZON COM INC</td>\n",
       "      <td>ITEM 1. \\nBUSINESS This Annual Report on Form ...</td>\n",
       "      <td>positive</td>\n",
       "    </tr>\n",
       "  </tbody>\n",
       "</table>\n",
       "</div>"
      ],
      "text/plain": [
       "        id                                         filename    item      cik  \\\n",
       "1410  1534   1999/320193_10K_1999_0000912057-99-010244.json  item_1   320193   \n",
       "1560  1697    1999/21344_10K_1999_0000021344-00-000009.json  item_1    21344   \n",
       "2746  2977    1999/70858_10K_1999_0000950168-00-000621.json  item_1    70858   \n",
       "3762  4088    1999/80424_10K_1999_0000080424-99-000027.json  item_1    80424   \n",
       "4806  5211  1999/1018724_10K_1999_0000891020-00-000622.json  item_1  1018724   \n",
       "\n",
       "                        company  \\\n",
       "1410         APPLE COMPUTER INC   \n",
       "1560               COCA COLA CO   \n",
       "2746  BANK OF AMERICA CORP /DE/   \n",
       "3762        PROCTER & GAMBLE CO   \n",
       "4806             AMAZON COM INC   \n",
       "\n",
       "                                                   text pred_labels  \n",
       "1410  ITEM 1. \\nBUSINESS GENERAL Apple Computer, Inc...    positive  \n",
       "1560  ITEM 1. \\nBUSINESS The Coca-Cola Company (toge...     neutral  \n",
       "2746  Item 1. \\nBUSINESS General Bank of America Cor...     neutral  \n",
       "3762  Item 1. \\nBusiness. \\n--------- General Develo...     neutral  \n",
       "4806  ITEM 1. \\nBUSINESS This Annual Report on Form ...    positive  "
      ]
     },
     "execution_count": 9,
     "metadata": {},
     "output_type": "execute_result"
    }
   ],
   "source": [
    "cfg = eKonf.compose(config_group='pipeline=pipeline')\n",
    "cfg.verbose = True\n",
    "cfg.name = 'edgar_sentiments'\n",
    "cfg.data_dir = \"${cached_path:'gd://15WFOGe73pIDvJEJxV90luirsT4yEInz9:edgar.zip',true,true}\"\n",
    "cfg.data_file = 'edgar.parquet'\n",
    "cfg.columns_to_keep = ['id', 'filename', 'item', 'cik', 'company', 'text']\n",
    "cfg._pipeline_ = ['predict']\n",
    "cfg.predict.model = model_cfg\n",
    "cfg.predict.output_dir = \"./data/predict\"\n",
    "cfg.predict.output_file = f'{cfg.name}-finbert.parquet'\n",
    "cfg.num_workers = 1\n",
    "df = eKonf.instantiate(cfg)\n",
    "df.head()"
   ]
  },
  {
   "cell_type": "code",
   "execution_count": 10,
   "metadata": {},
   "outputs": [
    {
     "name": "stdout",
     "output_type": "stream",
     "text": [
      "<class 'pandas.core.frame.DataFrame'>\n",
      "Int64Index: 1585 entries, 1410 to 1291201\n",
      "Data columns (total 7 columns):\n",
      " #   Column       Non-Null Count  Dtype \n",
      "---  ------       --------------  ----- \n",
      " 0   id           1585 non-null   int64 \n",
      " 1   filename     1585 non-null   object\n",
      " 2   item         1585 non-null   object\n",
      " 3   cik          1585 non-null   object\n",
      " 4   company      1585 non-null   object\n",
      " 5   text         1585 non-null   object\n",
      " 6   pred_labels  1585 non-null   object\n",
      "dtypes: int64(1), object(6)\n",
      "memory usage: 99.1+ KB\n"
     ]
    }
   ],
   "source": [
    "df.info()"
   ]
  },
  {
   "cell_type": "code",
   "execution_count": null,
   "metadata": {},
   "outputs": [],
   "source": []
  }
 ],
 "metadata": {
  "colab": {
   "include_colab_link": true,
   "name": "preprocessor.ipynb",
   "provenance": []
  },
  "interpreter": {
   "hash": "f869af7787e6a1c49e09e367fc6e1b81d93d1c6583b43249c80edc047bd13cb2"
  },
  "kernelspec": {
   "display_name": "Python 3",
   "language": "python",
   "name": "python3"
  },
  "language_info": {
   "codemirror_mode": {
    "name": "ipython",
    "version": 3
   },
   "file_extension": ".py",
   "mimetype": "text/x-python",
   "name": "python",
   "nbconvert_exporter": "python",
   "pygments_lexer": "ipython3",
   "version": "3.8.8"
  }
 },
 "nbformat": 4,
 "nbformat_minor": 4
}
