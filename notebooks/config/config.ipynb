{
  "cells": [
    {
      "cell_type": "markdown",
      "metadata": {
        "colab_type": "text",
        "id": "view-in-github"
      },
      "source": [
        "<a href=\"https://colab.research.google.com/github/entelecheia/ekorpkit-config/blob/main/notebooks/config.ipynb\" target=\"_parent\"><img src=\"https://colab.research.google.com/assets/colab-badge.svg\" alt=\"Open In Colab\"/></a>"
      ]
    },
    {
      "cell_type": "markdown",
      "metadata": {
        "id": "PfSMqenAwpKI"
      },
      "source": [
        "# Compose an ekorpkit config"
      ]
    },
    {
      "cell_type": "code",
      "execution_count": 2,
      "metadata": {
        "id": "gN8kk98Rwuzs"
      },
      "outputs": [],
      "source": [
        "%%capture\n",
        "%pip install ekorpkit"
      ]
    },
    {
      "cell_type": "code",
      "execution_count": 1,
      "metadata": {
        "id": "OhqanxoywpKJ"
      },
      "outputs": [],
      "source": [
        "from ekorpkit import eKonf"
      ]
    },
    {
      "cell_type": "code",
      "execution_count": 2,
      "metadata": {
        "colab": {
          "base_uri": "https://localhost:8080/"
        },
        "id": "IS6h_RomwpKK",
        "outputId": "beac8c57-78ae-433f-8d2c-f26efceee52f"
      },
      "outputs": [
        {
          "name": "stdout",
          "output_type": "stream",
          "text": [
            "Config type: <class 'omegaconf.dictconfig.DictConfig'>\n"
          ]
        }
      ],
      "source": [
        "cfg = eKonf.compose()\n",
        "print('Config type:', type(cfg))"
      ]
    },
    {
      "cell_type": "code",
      "execution_count": 3,
      "metadata": {},
      "outputs": [
        {
          "name": "stdout",
          "output_type": "stream",
          "text": [
            "{'archive': '/root/.ekorpkit/data/archive',\n",
            " 'cache': '/root/.ekorpkit/data/tmp/.cache',\n",
            " 'corpus': '/root/.ekorpkit/data/datasets/corpus',\n",
            " 'data': '/root/.ekorpkit/data',\n",
            " 'dataset': '/root/.ekorpkit/data/datasets',\n",
            " 'ekorpkit': '/workspace/projects/ekorpkit/ekorpkit',\n",
            " 'home': '/root',\n",
            " 'log': '/root/.ekorpkit/projects/ekorpkit/logs',\n",
            " 'model': '/root/.ekorpkit/data/models',\n",
            " 'output': '/root/.ekorpkit/data/outputs',\n",
            " 'project': '/root/.ekorpkit/projects/ekorpkit',\n",
            " 'resource': '/workspace/projects/ekorpkit/ekorpkit/resources',\n",
            " 'runtime': '.',\n",
            " 'tmp': '/root/.ekorpkit/data/tmp',\n",
            " 'workspace': '/root/.ekorpkit'}\n"
          ]
        }
      ],
      "source": [
        "eKonf.pprint(cfg.dir)"
      ]
    },
    {
      "cell_type": "code",
      "execution_count": 4,
      "metadata": {
        "colab": {
          "base_uri": "https://localhost:8080/"
        },
        "id": "KwO4AMTdwpKL",
        "outputId": "3e900249-934b-4871-e5e5-d9552d32f3a1"
      },
      "outputs": [
        {
          "name": "stdout",
          "output_type": "stream",
          "text": [
            "<class 'dict'>\n"
          ]
        }
      ],
      "source": [
        "cfg = eKonf.to_dict(cfg)\n",
        "print(type(cfg))"
      ]
    },
    {
      "cell_type": "code",
      "execution_count": 6,
      "metadata": {
        "id": "BoIDUgivwpKM"
      },
      "outputs": [
        {
          "data": {
            "text/plain": [
              "'/root'"
            ]
          },
          "execution_count": 6,
          "metadata": {},
          "output_type": "execute_result"
        }
      ],
      "source": [
        "eKonf.__home_path__"
      ]
    },
    {
      "cell_type": "code",
      "execution_count": null,
      "metadata": {},
      "outputs": [],
      "source": []
    }
  ],
  "metadata": {
    "colab": {
      "include_colab_link": true,
      "name": "config.ipynb",
      "provenance": []
    },
    "interpreter": {
      "hash": "f869af7787e6a1c49e09e367fc6e1b81d93d1c6583b43249c80edc047bd13cb2"
    },
    "kernelspec": {
      "display_name": "Python 3.8.12 64-bit ('ekonml38')",
      "language": "python",
      "name": "python3"
    },
    "language_info": {
      "codemirror_mode": {
        "name": "ipython",
        "version": 3
      },
      "file_extension": ".py",
      "mimetype": "text/x-python",
      "name": "python",
      "nbconvert_exporter": "python",
      "pygments_lexer": "ipython3",
      "version": "3.8.12"
    },
    "orig_nbformat": 4
  },
  "nbformat": 4,
  "nbformat_minor": 0
}
