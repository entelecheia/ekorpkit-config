{
 "cells": [
  {
   "cell_type": "markdown",
   "metadata": {},
   "source": [
    "# Compose an ekorpkit config"
   ]
  },
  {
   "cell_type": "code",
   "execution_count": 1,
   "metadata": {},
   "outputs": [],
   "source": [
    "# import ekorpkit.ekonf as eKonf\n",
    "from ekorpkit import eKonf\n",
    "from pprint import pprint"
   ]
  },
  {
   "cell_type": "code",
   "execution_count": 2,
   "metadata": {},
   "outputs": [
    {
     "name": "stdout",
     "output_type": "stream",
     "text": [
      "Config type: <class 'dict'>\n"
     ]
    }
   ],
   "source": [
    "cfg = eKonf.compose()\n",
    "print('Config type:', type(cfg))\n",
    "# pprint(cfg)\n"
   ]
  },
  {
   "cell_type": "code",
   "execution_count": 3,
   "metadata": {},
   "outputs": [
    {
     "name": "stdout",
     "output_type": "stream",
     "text": [
      "Config type: <class 'dict'>\n",
      "{'_target_': 'ekorpkit.corpora.loader.Corpora',\n",
      " 'autoload': True,\n",
      " 'column_info': {'data': None,\n",
      "                 'keys': None,\n",
      "                 'meta': None,\n",
      "                 'timestamp': {'format': None, 'key': None, 'params': None}},\n",
      " 'data_dir': './workspace/data/datasets/corpus/ekorpkit',\n",
      " 'filetype': None,\n",
      " 'metadata_dir': None,\n",
      " 'name': None,\n",
      " 'segment_separator': '\\\\n\\\\n',\n",
      " 'sentence_separator': '\\\\n',\n",
      " 'use_name_as_subdir': True,\n",
      " 'verbose': False}\n",
      "\n",
      "Config type: <class 'omegaconf.dictconfig.DictConfig'>\n",
      "{'name': '${oc.select:.builtin.name, null}', 'data_dir': '${dir.corpus}', 'metadata_dir': None, 'filetype': '${oc.select:.builtin.filetype, null}', 'autoload': True, 'verbose': '${oc.select:..verbose, true}', 'segment_separator': \"${oc.select:.builtin.segment_separator, '\\\\n\\\\n'}\", 'sentence_separator': \"${oc.select:.builtin.sentence_separator, '\\\\n'}\", 'column_info': {'keys': '${oc.select:..builtin.column_info.keys, null}', 'data': '${oc.select:..builtin.column_info.data, null}', 'meta': '${oc.select:..builtin.column_info.meta, null}', 'timestamp': {'key': None, 'format': None, 'params': None}}, 'use_name_as_subdir': True, '_target_': 'ekorpkit.corpora.loader.Corpora'}\n"
     ]
    }
   ],
   "source": [
    "cfg = eKonf.compose(config_group='corpus', return_as_dict=True)\n",
    "print('Config type:', type(cfg))\n",
    "pprint(cfg)\n",
    "cfg = eKonf.compose(config_group='corpus', return_as_dict=False)\n",
    "print('\\nConfig type:', type(cfg))\n",
    "pprint(cfg)"
   ]
  },
  {
   "cell_type": "code",
   "execution_count": 4,
   "metadata": {},
   "outputs": [
    {
     "name": "stdout",
     "output_type": "stream",
     "text": [
      "<class 'dict'>\n",
      "{'_target_': 'ekorpkit.preprocessors.tokenizer.MecabTokenizer',\n",
      " 'extract': {'exclude_pos': ['SP'],\n",
      "             'no_space_for_non_nouns': False,\n",
      "             'noun_pos': ['NNG', 'NNP', 'XSN', 'SL', 'XR', 'NNB', 'NR'],\n",
      "             'stopwords': None,\n",
      "             'stopwords_path': None},\n",
      " 'mecab': {'backend': 'mecab-python3', 'userdic_path': None, 'verbose': False},\n",
      " 'normalize': None,\n",
      " 'tokenize': {'concat_token_and_pos': True,\n",
      "              'flatten': True,\n",
      "              'include_whitespace_token': True,\n",
      "              'lowercase': False,\n",
      "              'punct_pos': ['SF', 'SP', 'SSO', 'SSC', 'SY'],\n",
      "              'tokenize_each_word': False,\n",
      "              'userdic_path': None,\n",
      "              'wordpieces_prefix': '##'},\n",
      " 'tokenize_article': {'return_typ': 'str', 'sentence_separator': '\\\\n'},\n",
      " 'verbose': False}\n"
     ]
    }
   ],
   "source": [
    "config_group='preprocessor/tokenizer=mecab'\n",
    "cfg = eKonf.compose(config_group=config_group)\n",
    "print(type(cfg))\n",
    "pprint(cfg)"
   ]
  },
  {
   "cell_type": "code",
   "execution_count": 5,
   "metadata": {},
   "outputs": [
    {
     "name": "stdout",
     "output_type": "stream",
     "text": [
      "<class 'omegaconf.dictconfig.DictConfig'>\n"
     ]
    }
   ],
   "source": [
    "cfg = eKonf.to_config(cfg)\n",
    "print(type(cfg))"
   ]
  },
  {
   "cell_type": "code",
   "execution_count": 6,
   "metadata": {},
   "outputs": [
    {
     "name": "stdout",
     "output_type": "stream",
     "text": [
      "_target_: ekorpkit.preprocessors.tokenizer.MecabTokenizer\n",
      "normalize: null\n",
      "tokenize:\n",
      "  lowercase: false\n",
      "  flatten: true\n",
      "  concat_token_and_pos: true\n",
      "  include_whitespace_token: true\n",
      "  tokenize_each_word: false\n",
      "  punct_pos:\n",
      "  - SF\n",
      "  - SP\n",
      "  - SSO\n",
      "  - SSC\n",
      "  - SY\n",
      "  wordpieces_prefix: '##'\n",
      "  userdic_path: null\n",
      "tokenize_article:\n",
      "  sentence_separator: \\n\n",
      "  return_typ: str\n",
      "extract:\n",
      "  noun_pos:\n",
      "  - NNG\n",
      "  - NNP\n",
      "  - XSN\n",
      "  - SL\n",
      "  - XR\n",
      "  - NNB\n",
      "  - NR\n",
      "  exclude_pos:\n",
      "  - SP\n",
      "  no_space_for_non_nouns: false\n",
      "  stopwords: null\n",
      "  stopwords_path: null\n",
      "verbose: false\n",
      "mecab:\n",
      "  userdic_path: null\n",
      "  backend: mecab-python3\n",
      "  verbose: false\n",
      "\n"
     ]
    }
   ],
   "source": [
    "print(eKonf.to_yaml(cfg))"
   ]
  },
  {
   "cell_type": "code",
   "execution_count": null,
   "metadata": {},
   "outputs": [],
   "source": []
  }
 ],
 "metadata": {
  "interpreter": {
   "hash": "f869af7787e6a1c49e09e367fc6e1b81d93d1c6583b43249c80edc047bd13cb2"
  },
  "kernelspec": {
   "display_name": "Python 3.8.12 64-bit ('ekonml38')",
   "language": "python",
   "name": "python3"
  },
  "language_info": {
   "codemirror_mode": {
    "name": "ipython",
    "version": 3
   },
   "file_extension": ".py",
   "mimetype": "text/x-python",
   "name": "python",
   "nbconvert_exporter": "python",
   "pygments_lexer": "ipython3",
   "version": "3.8.12"
  },
  "orig_nbformat": 4
 },
 "nbformat": 4,
 "nbformat_minor": 2
}
