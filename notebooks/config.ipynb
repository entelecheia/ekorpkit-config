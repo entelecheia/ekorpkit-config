{
  "cells": [
    {
      "cell_type": "markdown",
      "metadata": {
        "colab_type": "text",
        "id": "view-in-github"
      },
      "source": [
        "<a href=\"https://colab.research.google.com/github/entelecheia/ekorpkit-config/blob/main/notebooks/config.ipynb\" target=\"_parent\"><img src=\"https://colab.research.google.com/assets/colab-badge.svg\" alt=\"Open In Colab\"/></a>"
      ]
    },
    {
      "cell_type": "markdown",
      "metadata": {
        "id": "PfSMqenAwpKI"
      },
      "source": [
        "# Compose an ekorpkit config"
      ]
    },
    {
      "cell_type": "code",
      "execution_count": 2,
      "metadata": {
        "id": "gN8kk98Rwuzs"
      },
      "outputs": [],
      "source": [
        "%%capture\n",
        "%pip install ekorpkit"
      ]
    },
    {
      "cell_type": "code",
      "execution_count": 1,
      "metadata": {
        "id": "OhqanxoywpKJ"
      },
      "outputs": [],
      "source": [
        "from ekorpkit import eKonf"
      ]
    },
    {
      "cell_type": "code",
      "execution_count": 2,
      "metadata": {
        "colab": {
          "base_uri": "https://localhost:8080/"
        },
        "id": "IS6h_RomwpKK",
        "outputId": "beac8c57-78ae-433f-8d2c-f26efceee52f"
      },
      "outputs": [
        {
          "name": "stdout",
          "output_type": "stream",
          "text": [
            "Config type: <class 'omegaconf.dictconfig.DictConfig'>\n"
          ]
        }
      ],
      "source": [
        "cfg = eKonf.compose()\n",
        "print('Config type:', type(cfg))"
      ]
    },
    {
      "cell_type": "code",
      "execution_count": 3,
      "metadata": {
        "colab": {
          "base_uri": "https://localhost:8080/"
        },
        "id": "-cSDdb-lwpKL",
        "outputId": "045d170f-852e-49c8-8e58-b1c2edf23c21"
      },
      "outputs": [
        {
          "name": "stdout",
          "output_type": "stream",
          "text": [
            "Config type: <class 'dict'>\n",
            "{'_target_': 'ekorpkit.corpora.loader.Corpora',\n",
            " 'autoload': True,\n",
            " 'column_info': {'data': {'id': 'int', 'text': 'str'},\n",
            "                 'keys': {'id': 'id', 'text': 'text'},\n",
            "                 'meta': None,\n",
            "                 'timestamp': {'format': None, 'key': None, 'params': None}},\n",
            " 'data_dir': './workspace/data/datasets/corpus/ekorpkit',\n",
            " 'filetype': None,\n",
            " 'metadata_dir': None,\n",
            " 'name': None,\n",
            " 'segment_separator': '\\\\n\\\\n',\n",
            " 'sentence_separator': '\\\\n',\n",
            " 'use_name_as_subdir': True,\n",
            " 'verbose': False}\n",
            "\n",
            "Config type: <class 'omegaconf.dictconfig.DictConfig'>\n",
            "{'_target_': 'ekorpkit.corpora.loader.Corpora',\n",
            " 'autoload': True,\n",
            " 'column_info': {'data': {'id': 'int', 'text': 'str'},\n",
            "                 'keys': {'id': 'id', 'text': 'text'},\n",
            "                 'meta': None,\n",
            "                 'timestamp': {'format': None, 'key': None, 'params': None}},\n",
            " 'data_dir': './workspace/data/datasets/corpus/ekorpkit',\n",
            " 'filetype': None,\n",
            " 'metadata_dir': None,\n",
            " 'name': None,\n",
            " 'segment_separator': '\\\\n\\\\n',\n",
            " 'sentence_separator': '\\\\n',\n",
            " 'use_name_as_subdir': True,\n",
            " 'verbose': False}\n"
          ]
        }
      ],
      "source": [
        "cfg = eKonf.compose(config_group='corpus', return_as_dict=True)\n",
        "print('Config type:', type(cfg))\n",
        "eKonf.pprint(cfg)\n",
        "cfg = eKonf.compose(config_group='corpus', return_as_dict=False)\n",
        "print('\\nConfig type:', type(cfg))\n",
        "eKonf.pprint(cfg)"
      ]
    },
    {
      "cell_type": "code",
      "execution_count": 5,
      "metadata": {
        "colab": {
          "base_uri": "https://localhost:8080/"
        },
        "id": "XzoqGsDhwpKL",
        "outputId": "54c0037b-99e3-4a23-becf-16b53378d237"
      },
      "outputs": [
        {
          "name": "stdout",
          "output_type": "stream",
          "text": [
            "<class 'omegaconf.dictconfig.DictConfig'>\n",
            "{'_target_': 'ekorpkit.preprocessors.tokenizer.MecabTokenizer',\n",
            " 'extract': {'no_space_for_non_nouns': False,\n",
            "             'noun_postags': ['NNG', 'NNP', 'XSN', 'SL', 'XR', 'NNB', 'NR'],\n",
            "             'postags': None,\n",
            "             'stop_postags': ['SP'],\n",
            "             'stopwords': None,\n",
            "             'stopwords_path': None},\n",
            " 'mecab': {'backend': 'mecab-python3', 'userdic_path': None, 'verbose': False},\n",
            " 'normalize': None,\n",
            " 'tokenize': {'concat_surface_and_pos': True,\n",
            "              'flatten': True,\n",
            "              'include_whitespace_token': True,\n",
            "              'lowercase': False,\n",
            "              'punct_postags': ['SF', 'SP', 'SSO', 'SSC', 'SY'],\n",
            "              'tokenize_each_word': False,\n",
            "              'userdic_path': None,\n",
            "              'wordpieces_prefix': '##'},\n",
            " 'tokenize_article': {'return_type': 'str', 'sentence_separator': '\\\\n'},\n",
            " 'verbose': False}\n"
          ]
        }
      ],
      "source": [
        "config_group='preprocessor/tokenizer=mecab'\n",
        "cfg = eKonf.compose(config_group=config_group)\n",
        "print(type(cfg))\n",
        "eKonf.pprint(cfg)"
      ]
    },
    {
      "cell_type": "code",
      "execution_count": 6,
      "metadata": {
        "colab": {
          "base_uri": "https://localhost:8080/"
        },
        "id": "KwO4AMTdwpKL",
        "outputId": "3e900249-934b-4871-e5e5-d9552d32f3a1"
      },
      "outputs": [
        {
          "name": "stdout",
          "output_type": "stream",
          "text": [
            "<class 'omegaconf.dictconfig.DictConfig'>\n"
          ]
        }
      ],
      "source": [
        "cfg = eKonf.to_config(cfg)\n",
        "print(type(cfg))"
      ]
    },
    {
      "cell_type": "code",
      "execution_count": 8,
      "metadata": {
        "colab": {
          "base_uri": "https://localhost:8080/"
        },
        "id": "jsSkkb-ywpKM",
        "outputId": "d21f66bf-2e73-466c-f5bb-df3b02331b42"
      },
      "outputs": [
        {
          "name": "stdout",
          "output_type": "stream",
          "text": [
            "name: null\n",
            "data_dir: ./workspace/data/datasets/corpus/ekorpkit\n",
            "metadata_dir: null\n",
            "filetype: null\n",
            "autoload: true\n",
            "verbose: false\n",
            "segment_separator: \\n\\n\n",
            "sentence_separator: \\n\n",
            "column_info:\n",
            "  keys:\n",
            "    id: id\n",
            "    text: text\n",
            "  data:\n",
            "    id: int\n",
            "    text: str\n",
            "  meta: null\n",
            "  timestamp:\n",
            "    key: null\n",
            "    format: null\n",
            "    params: null\n",
            "use_name_as_subdir: true\n",
            "_target_: ekorpkit.corpora.loader.Corpora\n",
            "\n"
          ]
        }
      ],
      "source": [
        "print(eKonf.to_yaml(cfg))"
      ]
    },
    {
      "cell_type": "code",
      "execution_count": 8,
      "metadata": {
        "id": "BoIDUgivwpKM"
      },
      "outputs": [],
      "source": []
    }
  ],
  "metadata": {
    "colab": {
      "include_colab_link": true,
      "name": "config.ipynb",
      "provenance": []
    },
    "interpreter": {
      "hash": "f869af7787e6a1c49e09e367fc6e1b81d93d1c6583b43249c80edc047bd13cb2"
    },
    "kernelspec": {
      "display_name": "Python 3.8.12 64-bit ('ekonml38')",
      "language": "python",
      "name": "python3"
    },
    "language_info": {
      "codemirror_mode": {
        "name": "ipython",
        "version": 3
      },
      "file_extension": ".py",
      "mimetype": "text/x-python",
      "name": "python",
      "nbconvert_exporter": "python",
      "pygments_lexer": "ipython3",
      "version": "3.8.12"
    },
    "orig_nbformat": 4
  },
  "nbformat": 4,
  "nbformat_minor": 0
}
