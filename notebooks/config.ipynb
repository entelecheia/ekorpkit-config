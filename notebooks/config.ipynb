{
 "cells": [
  {
   "cell_type": "markdown",
   "metadata": {},
   "source": [
    "# Compose an ekorpkit config"
   ]
  },
  {
   "cell_type": "code",
   "execution_count": 1,
   "metadata": {},
   "outputs": [],
   "source": [
    "# import ekorpkit.ekonf as eKonf\n",
    "from ekorpkit import eKonf\n",
    "from pprint import pprint"
   ]
  },
  {
   "cell_type": "code",
   "execution_count": 2,
   "metadata": {},
   "outputs": [
    {
     "name": "stdout",
     "output_type": "stream",
     "text": [
      "Config type: <class 'dict'>\n"
     ]
    }
   ],
   "source": [
    "cfg = eKonf.compose()\n",
    "print('Config type:', type(cfg))\n",
    "# pprint(cfg)\n"
   ]
  },
  {
   "cell_type": "code",
   "execution_count": 3,
   "metadata": {},
   "outputs": [
    {
     "name": "stdout",
     "output_type": "stream",
     "text": [
      "Config type: <class 'dict'>\n",
      "{'_target_': 'ekorpkit.corpora.loader.Corpora',\n",
      " 'autoload': True,\n",
      " 'column_info': {'data': None,\n",
      "                 'keys': None,\n",
      "                 'meta': None,\n",
      "                 'timestamp': {'format': None, 'key': None, 'params': None}},\n",
      " 'data_dir': './workspace/data/datasets/corpus/ekorpkit',\n",
      " 'filetype': None,\n",
      " 'metadata_dir': './workspace/data/datasets/corpus/ekorpkit',\n",
      " 'name': None,\n",
      " 'segment_separator': '\\\\n\\\\n',\n",
      " 'sentence_separator': '\\\\n',\n",
      " 'use_name_as_subdir': True,\n",
      " 'verbose': False}\n",
      "\n",
      "Config type: <class 'omegaconf.dictconfig.DictConfig'>\n",
      "{'name': '${oc.select:.builtin.name, null}', 'data_dir': '${dir.corpus}', 'filetype': '${oc.select:.builtin.filetype, null}', 'autoload': True, 'verbose': '${oc.select:..verbose, true}', 'segment_separator': \"${oc.select:.builtin.segment_separator, '\\\\n\\\\n'}\", 'sentence_separator': \"${oc.select:.builtin.sentence_separator, '\\\\n'}\", 'column_info': {'keys': '${oc.select:..builtin.column_info.keys, null}', 'data': '${oc.select:..builtin.column_info.data, null}', 'meta': '${oc.select:..builtin.column_info.meta, null}', 'timestamp': {'key': None, 'format': None, 'params': None}}, 'use_name_as_subdir': True, '_target_': 'ekorpkit.corpora.loader.Corpora', 'metadata_dir': '${.data_dir}'}\n"
     ]
    }
   ],
   "source": [
    "cfg = eKonf.compose(config_group='corpus', return_as_dict=True)\n",
    "print('Config type:', type(cfg))\n",
    "pprint(cfg)\n",
    "cfg = eKonf.compose(config_group='corpus', return_as_dict=False)\n",
    "print('\\nConfig type:', type(cfg))\n",
    "pprint(cfg)"
   ]
  },
  {
   "cell_type": "code",
   "execution_count": 4,
   "metadata": {},
   "outputs": [
    {
     "name": "stdout",
     "output_type": "stream",
     "text": [
      "<class 'dict'>\n",
      "{'_target_': 'ekorpkit.preprocessors.tokenizer.MecabTokenizer',\n",
      " 'concat_token_and_pos': True,\n",
      " 'exclude_pos': ['SP'],\n",
      " 'flatten': True,\n",
      " 'include_whitespace_token': True,\n",
      " 'lowercase': False,\n",
      " 'mecab': {'backend': 'mecab-python3', 'userdic_path': None, 'verbose': False},\n",
      " 'no_space_for_non_nouns': False,\n",
      " 'normalize': None,\n",
      " 'noun_pos': ['NNG', 'NNP', 'XSN', 'SL', 'XR', 'NNB', 'NR'],\n",
      " 'punct_pos': ['SF', 'SP', 'SSO', 'SSC', 'SY'],\n",
      " 'sentence_separator': '\\\\n',\n",
      " 'stopwords_path': None,\n",
      " 'tokenize_each_word': False,\n",
      " 'userdic_path': None,\n",
      " 'verbose': False,\n",
      " 'wordpieces_prefix': '##'}\n"
     ]
    }
   ],
   "source": [
    "config_group='preprocessor/tokenizer=mecab'\n",
    "cfg = eKonf.compose(config_group=config_group)\n",
    "print(type(cfg))\n",
    "pprint(cfg)"
   ]
  },
  {
   "cell_type": "code",
   "execution_count": 5,
   "metadata": {},
   "outputs": [
    {
     "name": "stdout",
     "output_type": "stream",
     "text": [
      "<class 'omegaconf.dictconfig.DictConfig'>\n"
     ]
    }
   ],
   "source": [
    "cfg = eKonf.to_config(cfg)\n",
    "print(type(cfg))"
   ]
  },
  {
   "cell_type": "code",
   "execution_count": 6,
   "metadata": {},
   "outputs": [
    {
     "name": "stdout",
     "output_type": "stream",
     "text": [
      "_target_: ekorpkit.preprocessors.tokenizer.MecabTokenizer\n",
      "normalize: null\n",
      "lowercase: false\n",
      "tokenize_each_word: false\n",
      "wordpieces_prefix: '##'\n",
      "punct_pos:\n",
      "- SF\n",
      "- SP\n",
      "- SSO\n",
      "- SSC\n",
      "- SY\n",
      "noun_pos:\n",
      "- NNG\n",
      "- NNP\n",
      "- XSN\n",
      "- SL\n",
      "- XR\n",
      "- NNB\n",
      "- NR\n",
      "exclude_pos:\n",
      "- SP\n",
      "no_space_for_non_nouns: false\n",
      "flatten: true\n",
      "concat_token_and_pos: true\n",
      "include_whitespace_token: true\n",
      "userdic_path: null\n",
      "stopwords_path: null\n",
      "sentence_separator: \\n\n",
      "verbose: false\n",
      "mecab:\n",
      "  userdic_path: null\n",
      "  backend: mecab-python3\n",
      "  verbose: false\n",
      "\n"
     ]
    }
   ],
   "source": [
    "print(eKonf.to_yaml(cfg))"
   ]
  },
  {
   "cell_type": "markdown",
   "metadata": {},
   "source": [
    "## Instantiating objects with an ekorpkit config"
   ]
  },
  {
   "cell_type": "code",
   "execution_count": 7,
   "metadata": {},
   "outputs": [
    {
     "name": "stderr",
     "output_type": "stream",
     "text": [
      "[ekorpkit]: Initializing mecab...\n"
     ]
    }
   ],
   "source": [
    "config_group='preprocessor/tokenizer=mecab'\n",
    "cfg = eKonf.compose(config_group=config_group)\n",
    "mecab = eKonf.instantiate(cfg)"
   ]
  },
  {
   "cell_type": "code",
   "execution_count": 8,
   "metadata": {},
   "outputs": [
    {
     "data": {
      "text/plain": [
       "'IMF/SL 가/JKS  /SP 推定/NNG 한/XSA+ETM  /SP 우리나라/NNG 의/JKG  /SP GDP/SL 갭/NNG 률/XSN 은/JX  /SP 今年/NNG 에/JKB 도/JX  /SP 소폭/NNG 의/JKG  /SP 마이너스/NNG (/SSO −)/SY 를/JKO  /SP 持續/NNG 하/XSV 고/EC  /SP 있/VX 다/EF ./SF'"
      ]
     },
     "execution_count": 8,
     "metadata": {},
     "output_type": "execute_result"
    }
   ],
   "source": [
    "text = 'IMF가 推定한 우리나라의 GDP갭률은 今年에도 소폭의 마이너스(−)를 持續하고 있다.'\n",
    "mecab.tokenize(text)"
   ]
  },
  {
   "cell_type": "code",
   "execution_count": 9,
   "metadata": {},
   "outputs": [],
   "source": [
    "config_group='preprocessor/normalizer=formal_ko'\n",
    "cfg_norm = eKonf.compose(config_group=config_group)\n",
    "norm = eKonf.instantiate(cfg_norm)"
   ]
  },
  {
   "cell_type": "code",
   "execution_count": 10,
   "metadata": {},
   "outputs": [
    {
     "data": {
      "text/plain": [
       "'IMF가 추정한 우리나라의 GDP갭률은 금년에도 소폭의 마이너스(-)를 지속하고 있다.'"
      ]
     },
     "execution_count": 10,
     "metadata": {},
     "output_type": "execute_result"
    }
   ],
   "source": [
    "norm(text)"
   ]
  },
  {
   "cell_type": "code",
   "execution_count": 11,
   "metadata": {},
   "outputs": [
    {
     "name": "stderr",
     "output_type": "stream",
     "text": [
      "[ekorpkit]: Initializing mecab...\n"
     ]
    },
    {
     "data": {
      "text/plain": [
       "'IMF/SL 가/JKS  /SP 추정/NNG 한/XSA+ETM  /SP 우리나라/NNG 의/JKG  /SP GDP/SL 갭/NNG 률/XSN 은/JX  /SP 금년/NNG 에/JKB 도/JX  /SP 소폭/NNG 의/JKG  /SP 마이너스/NNG (/SSO -)/SY 를/JKO  /SP 지속/NNG 하/XSV 고/EC  /SP 있/VX 다/EF ./SF'"
      ]
     },
     "execution_count": 11,
     "metadata": {},
     "output_type": "execute_result"
    }
   ],
   "source": [
    "config_group='preprocessor/tokenizer=mecab'\n",
    "cfg = eKonf.compose(config_group=config_group)\n",
    "mecab = eKonf.instantiate(cfg, normalize=norm)\n",
    "mecab.tokenize(text)"
   ]
  },
  {
   "cell_type": "code",
   "execution_count": 12,
   "metadata": {},
   "outputs": [
    {
     "name": "stderr",
     "output_type": "stream",
     "text": [
      "[ekorpkit]: Initializing mecab...\n"
     ]
    },
    {
     "data": {
      "text/plain": [
       "'IMF/SL 가/JKS  /SP 추정/NNG 한/XSA+ETM  /SP 우리나라/NNG 의/JKG  /SP GDP/SL 갭/NNG 률/XSN 은/JX  /SP 금년/NNG 에/JKB 도/JX  /SP 소폭/NNG 의/JKG  /SP 마이너스/NNG (/SSO -)/SY 를/JKO  /SP 지속/NNG 하/XSV 고/EC  /SP 있/VX 다/EF ./SF'"
      ]
     },
     "execution_count": 12,
     "metadata": {},
     "output_type": "execute_result"
    }
   ],
   "source": [
    "config_group='preprocessor/tokenizer=mecab'\n",
    "cfg = eKonf.compose(config_group=config_group)\n",
    "cfg['normalize'] = cfg_norm\n",
    "mecab = eKonf.instantiate(cfg)\n",
    "mecab.tokenize(text)"
   ]
  },
  {
   "cell_type": "code",
   "execution_count": 13,
   "metadata": {},
   "outputs": [],
   "source": [
    "config_group='preprocessor/segmenter=pysbd'\n",
    "cfg_seg = eKonf.compose(config_group=config_group)\n",
    "seg = eKonf.instantiate(cfg_seg)"
   ]
  },
  {
   "cell_type": "code",
   "execution_count": 14,
   "metadata": {},
   "outputs": [
    {
     "data": {
      "text/plain": [
       "['For strains harboring the pYV plasmid and Yop-encoding plasmids, bacteria were grown with aeration at 26 °C overnight in broth supplemented with 2.5 mm CaCl2 and 100 μg/ml ampicillin and then subcultured and grown at 26 °C until A600 of 0.2. ',\n",
       " 'At this point, the cultures were shifted to 37 °C and aerated for 1 h. ',\n",
       " 'A multiplicity of infection of 50:1 was used for YPIII(p-) incubations, and a multiplicity of infection of 25:1 was used for other derivatives. ',\n",
       " 'For the pYopE-expressing plasmid, 0.1 mm isopropyl-β-d-thiogalactopyranoside was supplemented during infection to induce YopE expression.']"
      ]
     },
     "execution_count": 14,
     "metadata": {},
     "output_type": "execute_result"
    }
   ],
   "source": [
    "text = \"For strains harboring the pYV plasmid and Yop-encoding plasmids, bacteria were grown with aeration at 26 °C overnight in broth supplemented with 2.5 mm CaCl2 and 100 μg/ml ampicillin and then subcultured and grown at 26 °C until A600 of 0.2. At this point, the cultures were shifted to 37 °C and aerated for 1 h. A multiplicity of infection of 50:1 was used for YPIII(p-) incubations, and a multiplicity of infection of 25:1 was used for other derivatives. For the pYopE-expressing plasmid, 0.1 mm isopropyl-β-d-thiogalactopyranoside was supplemented during infection to induce YopE expression.\"\n",
    "seg(text)"
   ]
  },
  {
   "cell_type": "code",
   "execution_count": 15,
   "metadata": {},
   "outputs": [],
   "source": [
    "config_group='preprocessor/segmenter=kss'\n",
    "cfg_seg = eKonf.compose(config_group=config_group)\n",
    "seg = eKonf.instantiate(cfg_seg)"
   ]
  },
  {
   "cell_type": "code",
   "execution_count": 16,
   "metadata": {},
   "outputs": [
    {
     "data": {
      "text/plain": [
       "['일본기상청과 태평양지진해일경보센터는 3월 11일 오후 2시 49분경에 일본 동해안을 비롯하여 대만, 알래스카, 하와이, 괌, 캘리포니아, 칠레 등 태평양 연안 50여 국가에 지진해일 주의보와 경보를 발령하였다.',\n",
       " '다행히도 우리나라는 지진발생위치로부터 1,000km 이상 떨어진데다 일본 열도가 가로막아 지진해일이 도달하지 않았다.',\n",
       " '지진해일은 일본 소마항에 7.3m, 카마이시항에 4.1m, 미야코항에 4m 등 일본 동해안 전역에서 관측되었다.',\n",
       " '지진해일이 원해로 전파되면서 대만(19시 40분)에서 소규모 지진해일과 하와이 섬에서 1.4m(23시 9분)의 지진해일이 관측되었다.',\n",
       " '다음날인 3월 12일 새벽 1시 57분경에는 진앙지로부터 약 7,500km 떨어진 캘리포니아 크레센트시티에서 2.2m의 지진해일이 관측되었다.']"
      ]
     },
     "execution_count": 16,
     "metadata": {},
     "output_type": "execute_result"
    }
   ],
   "source": [
    "text = \"일본기상청과 태평양지진해일경보센터는 3월 11일 오후 2시 49분경에 일본 동해안을 비롯하여 대만, 알래스카, 하와이, 괌, 캘리포니아, 칠레 등 태평양 연안 50여 국가에 지진해일 주의보와 경보를 발령하였다. 다행히도 우리나라는 지진발생위치로부터 1,000km 이상 떨어진데다 일본 열도가 가로막아 지진해일이 도달하지 않았다. 지진해일은 일본 소마항에 7.3m, 카마이시항에 4.1m, 미야코항에 4m 등 일본 동해안 전역에서 관측되었다. 지진해일이 원해로 전파되면서 대만(19시 40분)에서 소규모 지진해일과 하와이 섬에서 1.4m(23시 9분)의 지진해일이 관측되었다. 다음날인 3월 12일 새벽 1시 57분경에는 진앙지로부터 약 7,500km 떨어진 캘리포니아 크레센트시티에서 2.2m의 지진해일이 관측되었다.\"\n",
    "seg(text)"
   ]
  },
  {
   "cell_type": "code",
   "execution_count": null,
   "metadata": {},
   "outputs": [],
   "source": []
  }
 ],
 "metadata": {
  "interpreter": {
   "hash": "f869af7787e6a1c49e09e367fc6e1b81d93d1c6583b43249c80edc047bd13cb2"
  },
  "kernelspec": {
   "display_name": "Python 3.8.12 64-bit ('ekonml38')",
   "language": "python",
   "name": "python3"
  },
  "language_info": {
   "codemirror_mode": {
    "name": "ipython",
    "version": 3
   },
   "file_extension": ".py",
   "mimetype": "text/x-python",
   "name": "python",
   "nbconvert_exporter": "python",
   "pygments_lexer": "ipython3",
   "version": "3.8.12"
  },
  "orig_nbformat": 4
 },
 "nbformat": 4,
 "nbformat_minor": 2
}
