{
  "cells": [
    {
      "cell_type": "markdown",
      "metadata": {
        "colab_type": "text",
        "id": "view-in-github"
      },
      "source": [
        "<a href=\"https://colab.research.google.com/github/entelecheia/ekorpkit-config/blob/main/notebooks/config.ipynb\" target=\"_parent\"><img src=\"https://colab.research.google.com/assets/colab-badge.svg\" alt=\"Open In Colab\"/></a>"
      ]
    },
    {
      "cell_type": "markdown",
      "metadata": {
        "id": "PfSMqenAwpKI"
      },
      "source": [
        "# Compose an ekorpkit config"
      ]
    },
    {
      "cell_type": "code",
      "execution_count": 2,
      "metadata": {
        "id": "gN8kk98Rwuzs"
      },
      "outputs": [],
      "source": [
        "%%capture\n",
        "%pip install ekorpkit"
      ]
    },
    {
      "cell_type": "code",
      "execution_count": 1,
      "metadata": {
        "id": "OhqanxoywpKJ"
      },
      "outputs": [],
      "source": [
        "from ekorpkit import eKonf"
      ]
    },
    {
      "cell_type": "code",
      "execution_count": 2,
      "metadata": {
        "colab": {
          "base_uri": "https://localhost:8080/"
        },
        "id": "IS6h_RomwpKK",
        "outputId": "beac8c57-78ae-433f-8d2c-f26efceee52f"
      },
      "outputs": [
        {
          "name": "stdout",
          "output_type": "stream",
          "text": [
            "Config type: <class 'omegaconf.dictconfig.DictConfig'>\n"
          ]
        }
      ],
      "source": [
        "cfg = eKonf.compose()\n",
        "print('Config type:', type(cfg))"
      ]
    },
    {
      "cell_type": "code",
      "execution_count": 3,
      "metadata": {
        "colab": {
          "base_uri": "https://localhost:8080/"
        },
        "id": "-cSDdb-lwpKL",
        "outputId": "045d170f-852e-49c8-8e58-b1c2edf23c21"
      },
      "outputs": [
        {
          "name": "stdout",
          "output_type": "stream",
          "text": [
            "Config type: <class 'dict'>\n",
            "{'_target_': 'ekorpkit.corpora.loader.Corpora',\n",
            " 'autoload': True,\n",
            " 'automerge': False,\n",
            " 'column_info': {'data': {'id': 'int', 'text': 'str'},\n",
            "                 'keys': {'id': 'id', 'text': 'text'},\n",
            "                 'meta': None,\n",
            "                 'timestamp': {'format': None, 'key': None, 'params': None}},\n",
            " 'data_dir': '/root/.ekorpkit/data/datasets/corpus',\n",
            " 'filetype': None,\n",
            " 'metadata_dir': None,\n",
            " 'name': None,\n",
            " 'segment_separator': '\\\\n\\\\n',\n",
            " 'sentence_separator': '\\\\n',\n",
            " 'use_name_as_subdir': True,\n",
            " 'verbose': False}\n",
            "\n",
            "Config type: <class 'omegaconf.dictconfig.DictConfig'>\n",
            "{'_target_': 'ekorpkit.corpora.loader.Corpora',\n",
            " 'autoload': True,\n",
            " 'automerge': False,\n",
            " 'column_info': {'data': {'id': 'int', 'text': 'str'},\n",
            "                 'keys': {'id': 'id', 'text': 'text'},\n",
            "                 'meta': None,\n",
            "                 'timestamp': {'format': None, 'key': None, 'params': None}},\n",
            " 'data_dir': '/root/.ekorpkit/data/datasets/corpus',\n",
            " 'filetype': None,\n",
            " 'metadata_dir': None,\n",
            " 'name': None,\n",
            " 'segment_separator': '\\\\n\\\\n',\n",
            " 'sentence_separator': '\\\\n',\n",
            " 'use_name_as_subdir': True,\n",
            " 'verbose': False}\n"
          ]
        }
      ],
      "source": [
        "cfg = eKonf.compose(config_group='corpus', return_as_dict=True)\n",
        "print('Config type:', type(cfg))\n",
        "eKonf.pprint(cfg)\n",
        "cfg = eKonf.compose(config_group='corpus', return_as_dict=False)\n",
        "print('\\nConfig type:', type(cfg))\n",
        "eKonf.pprint(cfg)"
      ]
    },
    {
      "cell_type": "code",
      "execution_count": 4,
      "metadata": {
        "colab": {
          "base_uri": "https://localhost:8080/"
        },
        "id": "XzoqGsDhwpKL",
        "outputId": "54c0037b-99e3-4a23-becf-16b53378d237"
      },
      "outputs": [
        {
          "name": "stdout",
          "output_type": "stream",
          "text": [
            "<class 'omegaconf.dictconfig.DictConfig'>\n",
            "{'_target_': 'ekorpkit.preprocessors.tokenizer.MecabTokenizer',\n",
            " 'extract': {'no_space_for_non_nouns': False,\n",
            "             'noun_postags': ['NNG', 'NNP', 'XSN', 'SL', 'XR', 'NNB', 'NR'],\n",
            "             'postags': None,\n",
            "             'stop_postags': ['SP'],\n",
            "             'stopwords': None,\n",
            "             'stopwords_path': None},\n",
            " 'mecab': {'backend': 'mecab-python3', 'userdic_path': None, 'verbose': False},\n",
            " 'normalize': None,\n",
            " 'tagset': {'EC': '연결 어미',\n",
            "            'EF': '종결 어미',\n",
            "            'EP': '선어말 어미',\n",
            "            'ETM': '관형형 전성 어미',\n",
            "            'ETN': '명사형 전성 어미',\n",
            "            'IC': '감탄사',\n",
            "            'JC': '접속 조사',\n",
            "            'JKB': '부사격 조사',\n",
            "            'JKC': '보격 조사',\n",
            "            'JKG': '관형격 조사',\n",
            "            'JKO': '목적격 조사',\n",
            "            'JKQ': '인용격 조사',\n",
            "            'JKS': '주격 조사',\n",
            "            'JKV': '호격 조사',\n",
            "            'JX': '보조사',\n",
            "            'MAG': '일반 부사',\n",
            "            'MAJ': '접속 부사',\n",
            "            'MM': '관형사',\n",
            "            'NNB': '의존 명사',\n",
            "            'NNBC': '단위를 나타내는 명사',\n",
            "            'NNG': '일반 명사',\n",
            "            'NNP': '고유 명사',\n",
            "            'NP': '대명사',\n",
            "            'NR': '수사',\n",
            "            'SC': '구분자 , · / :',\n",
            "            'SE': '줄임표 …',\n",
            "            'SF': '마침표, 물음표, 느낌표',\n",
            "            'SH': '한자',\n",
            "            'SL': '외국어',\n",
            "            'SN': '숫자',\n",
            "            'SSC': '닫는 괄호 ), ]',\n",
            "            'SSO': '여는 괄호 (, [',\n",
            "            'SY': '기타 기호',\n",
            "            'VA': '형용사',\n",
            "            'VCN': '부정 지정사',\n",
            "            'VCP': '긍정 지정사',\n",
            "            'VV': '동사',\n",
            "            'VX': '보조 용언',\n",
            "            'XPN': '체언 접두사',\n",
            "            'XR': '어근',\n",
            "            'XSA': '형용사 파생 접미사',\n",
            "            'XSN': '명사 파생 접미사',\n",
            "            'XSV': '동사 파생 접미사'},\n",
            " 'tokenize': {'concat_surface_and_pos': True,\n",
            "              'flatten': True,\n",
            "              'include_whitespace_token': True,\n",
            "              'lowercase': False,\n",
            "              'punct_postags': ['SF', 'SP', 'SSO', 'SSC', 'SY'],\n",
            "              'tokenize_each_word': False,\n",
            "              'userdic_path': None,\n",
            "              'wordpieces_prefix': '##'},\n",
            " 'tokenize_article': {'return_as_list': False, 'sentence_separator': '\\\\n'},\n",
            " 'verbose': False}\n"
          ]
        }
      ],
      "source": [
        "config_group='preprocessor/tokenizer=mecab'\n",
        "cfg = eKonf.compose(config_group=config_group)\n",
        "print(type(cfg))\n",
        "eKonf.pprint(cfg)"
      ]
    },
    {
      "cell_type": "code",
      "execution_count": 5,
      "metadata": {
        "colab": {
          "base_uri": "https://localhost:8080/"
        },
        "id": "KwO4AMTdwpKL",
        "outputId": "3e900249-934b-4871-e5e5-d9552d32f3a1"
      },
      "outputs": [
        {
          "name": "stdout",
          "output_type": "stream",
          "text": [
            "<class 'omegaconf.dictconfig.DictConfig'>\n"
          ]
        }
      ],
      "source": [
        "cfg = eKonf.to_config(cfg)\n",
        "print(type(cfg))"
      ]
    },
    {
      "cell_type": "code",
      "execution_count": 6,
      "metadata": {
        "colab": {
          "base_uri": "https://localhost:8080/"
        },
        "id": "jsSkkb-ywpKM",
        "outputId": "d21f66bf-2e73-466c-f5bb-df3b02331b42"
      },
      "outputs": [
        {
          "name": "stdout",
          "output_type": "stream",
          "text": [
            "_target_: ekorpkit.preprocessors.tokenizer.MecabTokenizer\n",
            "normalize: null\n",
            "tokenize:\n",
            "  lowercase: false\n",
            "  flatten: true\n",
            "  concat_surface_and_pos: true\n",
            "  include_whitespace_token: true\n",
            "  tokenize_each_word: false\n",
            "  punct_postags:\n",
            "  - SF\n",
            "  - SP\n",
            "  - SSO\n",
            "  - SSC\n",
            "  - SY\n",
            "  wordpieces_prefix: '##'\n",
            "  userdic_path: ${oc.select:..userdic_path, null}\n",
            "tokenize_article:\n",
            "  sentence_separator: \\n\n",
            "  return_as_list: false\n",
            "extract:\n",
            "  postags: null\n",
            "  noun_postags:\n",
            "  - NNG\n",
            "  - NNP\n",
            "  - XSN\n",
            "  - SL\n",
            "  - XR\n",
            "  - NNB\n",
            "  - NR\n",
            "  stop_postags:\n",
            "  - SP\n",
            "  no_space_for_non_nouns: false\n",
            "  stopwords: null\n",
            "  stopwords_path: ${oc.select:..stopwords_path, null}\n",
            "tagset:\n",
            "  NNG: 일반 명사\n",
            "  NNP: 고유 명사\n",
            "  NNB: 의존 명사\n",
            "  NNBC: 단위를 나타내는 명사\n",
            "  NR: 수사\n",
            "  NP: 대명사\n",
            "  VV: 동사\n",
            "  VA: 형용사\n",
            "  VX: 보조 용언\n",
            "  VCP: 긍정 지정사\n",
            "  VCN: 부정 지정사\n",
            "  MM: 관형사\n",
            "  MAG: 일반 부사\n",
            "  MAJ: 접속 부사\n",
            "  IC: 감탄사\n",
            "  JKS: 주격 조사\n",
            "  JKC: 보격 조사\n",
            "  JKG: 관형격 조사\n",
            "  JKO: 목적격 조사\n",
            "  JKB: 부사격 조사\n",
            "  JKV: 호격 조사\n",
            "  JKQ: 인용격 조사\n",
            "  JX: 보조사\n",
            "  JC: 접속 조사\n",
            "  EP: 선어말 어미\n",
            "  EF: 종결 어미\n",
            "  EC: 연결 어미\n",
            "  ETN: 명사형 전성 어미\n",
            "  ETM: 관형형 전성 어미\n",
            "  XPN: 체언 접두사\n",
            "  XSN: 명사 파생 접미사\n",
            "  XSV: 동사 파생 접미사\n",
            "  XSA: 형용사 파생 접미사\n",
            "  XR: 어근\n",
            "  SF: 마침표, 물음표, 느낌표\n",
            "  SE: 줄임표 …\n",
            "  SSO: 여는 괄호 (, [\n",
            "  SSC: 닫는 괄호 ), ]\n",
            "  SC: '구분자 , · / :'\n",
            "  SY: 기타 기호\n",
            "  SL: 외국어\n",
            "  SH: 한자\n",
            "  SN: 숫자\n",
            "verbose: ${oc.select:..verbose, false}\n",
            "mecab:\n",
            "  userdic_path: ${..tokenize.userdic_path}\n",
            "  backend: mecab-python3\n",
            "  verbose: ${oc.select:..verbose, false}\n",
            "\n"
          ]
        }
      ],
      "source": [
        "print(eKonf.to_yaml(cfg))"
      ]
    },
    {
      "cell_type": "code",
      "execution_count": 8,
      "metadata": {
        "id": "BoIDUgivwpKM"
      },
      "outputs": [],
      "source": []
    }
  ],
  "metadata": {
    "colab": {
      "include_colab_link": true,
      "name": "config.ipynb",
      "provenance": []
    },
    "interpreter": {
      "hash": "f869af7787e6a1c49e09e367fc6e1b81d93d1c6583b43249c80edc047bd13cb2"
    },
    "kernelspec": {
      "display_name": "Python 3.8.12 64-bit ('ekonml38')",
      "language": "python",
      "name": "python3"
    },
    "language_info": {
      "codemirror_mode": {
        "name": "ipython",
        "version": 3
      },
      "file_extension": ".py",
      "mimetype": "text/x-python",
      "name": "python",
      "nbconvert_exporter": "python",
      "pygments_lexer": "ipython3",
      "version": "3.8.12"
    },
    "orig_nbformat": 4
  },
  "nbformat": 4,
  "nbformat_minor": 0
}
