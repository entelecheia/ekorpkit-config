{
  "cells": [
    {
      "cell_type": "markdown",
      "metadata": {
        "id": "Fr7h2EfVPWec"
      },
      "source": [
        "<a href=\"https://colab.research.google.com/github/entelecheia/ekorpkit-config/blob/main/notebooks/dataset.ipynb\" target=\"_parent\"><img src=\"https://colab.research.google.com/assets/colab-badge.svg\" alt=\"Open In Colab\"/></a>"
      ]
    },
    {
      "cell_type": "markdown",
      "metadata": {
        "id": "cjgz1WTcPWee"
      },
      "source": [
        "# Instantiating dataset and datasets class"
      ]
    },
    {
      "cell_type": "code",
      "execution_count": 7,
      "metadata": {
        "id": "gvwWxUgxPZDG"
      },
      "outputs": [],
      "source": [
        "%%capture\n",
        "%pip install -U ekorpkit[dataset,tokenize]"
      ]
    },
    {
      "cell_type": "code",
      "execution_count": 1,
      "metadata": {
        "id": "BzxPwsOVPWef"
      },
      "outputs": [
        {
          "name": "stdout",
          "output_type": "stream",
          "text": [
            "0.1.25+9.g229d691\n"
          ]
        }
      ],
      "source": [
        "from ekorpkit import eKonf\n",
        "print(eKonf.__version__)"
      ]
    },
    {
      "cell_type": "code",
      "execution_count": 2,
      "metadata": {},
      "outputs": [
        {
          "data": {
            "text/plain": [
              "{'name': 'financial_phrasebank',\n",
              " 'domain': 'econ',\n",
              " 'task': 'classification',\n",
              " 'lang': 'en',\n",
              " 'column_info': {'keys': {'id': 'id', 'text': 'text'},\n",
              "  'data': {'id': 'int', 'labels': 'str', 'text': 'str'}},\n",
              " 'splits': {'train': {'name': 'train',\n",
              "   'dataset_name': 'financial_phrasebank',\n",
              "   'data_file': 'financial_phrasebank-train.csv',\n",
              "   'num_examples': 1445,\n",
              "   'num_bytes': 176485,\n",
              "   'num_bytes_median': 112.0,\n",
              "   'num_bytes_max': 315,\n",
              "   'num_bytes_min': 15,\n",
              "   'human_bytes': '172.35 KiB'},\n",
              "  'test': {'name': 'test',\n",
              "   'dataset_name': 'financial_phrasebank',\n",
              "   'data_file': 'financial_phrasebank-test.csv',\n",
              "   'num_examples': 452,\n",
              "   'num_bytes': 55518,\n",
              "   'num_bytes_median': 110.0,\n",
              "   'num_bytes_max': 296,\n",
              "   'num_bytes_min': 11,\n",
              "   'human_bytes': '54.22 KiB'},\n",
              "  'dev': {'name': 'dev',\n",
              "   'dataset_name': 'financial_phrasebank',\n",
              "   'data_file': 'financial_phrasebank-dev.csv',\n",
              "   'num_examples': 362,\n",
              "   'num_bytes': 43404,\n",
              "   'num_bytes_median': 109.0,\n",
              "   'num_bytes_max': 296,\n",
              "   'num_bytes_min': 9,\n",
              "   'human_bytes': '42.39 KiB'}},\n",
              " 'num_examples': 2259,\n",
              " 'size_in_bytes': 275407,\n",
              " 'size_in_human_bytes': '268.95 KiB',\n",
              " 'data_files': {'train': 'financial_phrasebank-train.csv',\n",
              "  'test': 'financial_phrasebank-test.csv',\n",
              "  'dev': 'financial_phrasebank-dev.csv'},\n",
              " 'meta_files': {},\n",
              " 'data_files_modified': '2022-04-22 03:18:20',\n",
              " 'info_updated': '2022-04-22 03:18:20'}"
            ]
          },
          "execution_count": 2,
          "metadata": {},
          "output_type": "execute_result"
        }
      ],
      "source": [
        "from ekorpkit import eKonf\n",
        "\n",
        "cfg = eKonf.compose(config_group='dataset=dataset')\n",
        "cfg['name'] = 'financial_phrasebank'\n",
        "cfg.data_dir = \"${cached_path:'gd://15TUjIfQstCYXU82s0pcaxh2QcSWf1zyG:financial_phrasebank.zip',true,false}\"\n",
        "cfg.use_name_as_subdir = False\n",
        "ds = eKonf.instantiate(cfg)\n",
        "ds.info"
      ]
    },
    {
      "cell_type": "markdown",
      "metadata": {
        "id": "it1Y0MVPXRsJ"
      },
      "source": [
        "## Build a dataset with the ekorpkit configs"
      ]
    },
    {
      "cell_type": "code",
      "execution_count": 9,
      "metadata": {
        "colab": {
          "base_uri": "https://localhost:8080/",
          "height": 1000,
          "referenced_widgets": [
            "883862d4a2ef4661a5243821e3fc7e7f",
            "3f3eb5f289dc4dd79696e948813015a2",
            "eab17f982697403b96a750092972279d",
            "c2da3837568a4f50987f0d16fbe6d3ba",
            "2b75bf52886c43d481cebc041da85e06",
            "2b052b7d80be4055884ff04a89119f57",
            "439251714f2343a4a0160e1687ca5505",
            "a02343d8d7234cca89e4fa7e2468cde2",
            "25b706f197cc4f398f6e93958af941e7",
            "0c24745b30bb4769b239cdc88cf61699",
            "0a58f214f94b40c88ebf9eac65d44b13",
            "5b3583dced8f4a69a73261fb69472b67",
            "c0754b36891e4ebabede6d511bc1f6f4",
            "e521f82ffb4447e98d6b1df8093cc2b4",
            "82f144b6faa346d290b4d81162dbfc69",
            "853be4d34b2e4f04934360489ff19ab9",
            "7ee79e4c5f17432db9b849842b839ba8",
            "c34c811d8a4a40b29ec08b52cdbb2903",
            "e8156a81d6484e80acd7a89d6abad582",
            "72f26dc301e3462593beb98110c2eb84",
            "5be43c170816475184e568e61c108a9e",
            "a8150cd5c44e4e7aaaec253ce8597337",
            "4b2a305a168649eb905d851ffbb6b829",
            "3af080894f0b41b7873e5b291caeda44",
            "4aef418296c049339ae0c2442a16ebfe",
            "eeb82365750743728187c3b5c5e3040c",
            "086e8a7f0c39406bada1f59f8777ef15",
            "511d0ee308d346a2a442e943fe4dce41",
            "91be68d8c02b4d9996155856de872f84",
            "da4460d1e4b144b2a310d029327c7894",
            "eda93e8f13f64a42b3bc4c8723113f61",
            "d74f467059f44062aa6edf5cbdedba82",
            "3411c4eae52e40ac96aa580335e5382f",
            "ab9db57f5b5d45dc9e7890437420b3b1",
            "26bdbab498fa4bf1bf6412296ea8574f",
            "0c6ae522e11c426e88546462d8b9eb62",
            "70bb62dacde1425986c9bed313ae31c6",
            "dee205a463514767bacd748ccd6b4932",
            "d8a38915ca874382b1c9c9c11858d653",
            "9b196b2f76cb4d92a66a7d0e98c44bcd",
            "fdbc9abf2fcc4fe8bea49e0b2566ceff",
            "192ec1a18ddf45e1a545049e1c261bed",
            "0bee177f590040bf9c26811aeb192f4b",
            "283fa5a46bee4689a8f1b9940e01d925",
            "48349b534e08425dbcf8d68063a8f862",
            "7f434a0e7bbb475dbfd44137fb01f08a",
            "448423fca9884abc92b1ec92fb147d37",
            "812c4daa46e840d5b4b8e89217702c9c",
            "b86f6b4af5a240968e33ddc2ec09d9a4",
            "84f5e227df904f32b2415967314e5285",
            "1d2b3c5ef9204ffc9b5743d835f6de20",
            "846533fb1a5d4d2bb304869d80503109",
            "1df444cf8eed49c4bcecf66cf3749ee9",
            "c92efebbb54b4685a55cc4bcb1602112",
            "cf7daa35d07e4a5b9c9d1cc85b647d0e",
            "70121bfc030d4d6fb5ad91559c731336",
            "58f2b0cb021648b5a693f5dfafe5566f",
            "46b8db59bffe4666b702412bdd59924a",
            "cbddbb06d67246278592f9d2bf964a68",
            "609b4461e98241088dfaec87ab9d8425",
            "5a2e4366d39a41d29661854f74f1894a",
            "c81fe9b7f2aa437e976a34b97f7c3bd1",
            "7bee836d6b8f4b0c9ba8f2a7887293b3",
            "225de94ebb1e4529b9884480b8352a01",
            "b7c6875183db45c4b5800f4679036e10",
            "a21f58c4f1434dfba3b864e00e8f281e",
            "5e40faeefcd345758f541679bb929854",
            "9948313f4f5046a9b02a541fe8067723",
            "fe1d5fae301e4233bafff9f6f4bd3c8c",
            "55684cbc918644b3bb7da1f27dbd2a73",
            "39e0a18bb70542c4a4b9a3f8849ed3f5",
            "30fe934c714346dcbbcd8d448870cc56",
            "e5a1c687690d4f1a96ddf13dfc4f0609",
            "d7e9eaa90f394a348da47b9ad8ec7576",
            "00b572f571994a4a95973157a5f105b1",
            "4173f4b9372e4d2d8dfe1fc4a20a3234",
            "ae971f83dc164506be41cfcd0c4b38a2"
          ]
        },
        "id": "efZ77OvmPWeh",
        "outputId": "e28fd775-6159-4d36-b572-5c7aaa5288a3"
      },
      "outputs": [
        {
          "data": {
            "application/vnd.jupyter.widget-view+json": {
              "model_id": "7fcd14436ba841999c14bb7eb799851e",
              "version_major": 2,
              "version_minor": 0
            },
            "text/plain": [
              "apply len_bytes to num_bytes:   0%|          | 0/1445 [00:00<?, ?it/s]"
            ]
          },
          "metadata": {},
          "output_type": "display_data"
        },
        {
          "data": {
            "application/vnd.jupyter.widget-view+json": {
              "model_id": "516069fcb4ea4c7ab9c9af0457747ecd",
              "version_major": 2,
              "version_minor": 0
            },
            "text/plain": [
              "apply len_bytes to num_bytes:   0%|          | 0/452 [00:00<?, ?it/s]"
            ]
          },
          "metadata": {},
          "output_type": "display_data"
        },
        {
          "data": {
            "application/vnd.jupyter.widget-view+json": {
              "model_id": "496182b28c8b461cb0d93611463ff1dd",
              "version_major": 2,
              "version_minor": 0
            },
            "text/plain": [
              "apply len_bytes to num_bytes:   0%|          | 0/362 [00:00<?, ?it/s]"
            ]
          },
          "metadata": {},
          "output_type": "display_data"
        },
        {
          "data": {
            "application/vnd.jupyter.widget-view+json": {
              "model_id": "0ea60d06fc6d407babddca5aa784ca95",
              "version_major": 2,
              "version_minor": 0
            },
            "text/plain": [
              "apply len_bytes to num_bytes:   0%|          | 0/1445 [00:00<?, ?it/s]"
            ]
          },
          "metadata": {},
          "output_type": "display_data"
        },
        {
          "data": {
            "application/vnd.jupyter.widget-view+json": {
              "model_id": "2d796e69da95476785bb5ba9cb73edf2",
              "version_major": 2,
              "version_minor": 0
            },
            "text/plain": [
              "apply len_bytes to num_bytes:   0%|          | 0/452 [00:00<?, ?it/s]"
            ]
          },
          "metadata": {},
          "output_type": "display_data"
        },
        {
          "data": {
            "application/vnd.jupyter.widget-view+json": {
              "model_id": "588fd94d15e64583b785e09a697a7b62",
              "version_major": 2,
              "version_minor": 0
            },
            "text/plain": [
              "apply len_bytes to num_bytes:   0%|          | 0/362 [00:00<?, ?it/s]"
            ]
          },
          "metadata": {},
          "output_type": "display_data"
        }
      ],
      "source": [
        "cfg = eKonf.compose(config_group='dataset/simple=financial_phrasebank')\n",
        "cfg.data_dir = './data/financial_phrasebank'\n",
        "cfg.fetch.data_dir = cfg.data_dir\n",
        "cfg.fetch.overwrite = True\n",
        "cfg.fetch.calculate_stats = True\n",
        "db = eKonf.instantiate(cfg)\n",
        "db.build()"
      ]
    },
    {
      "cell_type": "code",
      "execution_count": 10,
      "metadata": {},
      "outputs": [
        {
          "name": "stderr",
          "output_type": "stream",
          "text": [
            "Using custom data configuration default\n",
            "Reusing dataset nsmc (/root/.cache/huggingface/datasets/nsmc/default/1.1.0/bfd4729bf1a67114e5267e6916b9e4807010aeb238e4a3c2b95fbfa3a014b5f3)\n"
          ]
        },
        {
          "name": "stdout",
          "output_type": "stream",
          "text": [
            "Dataset({\n",
            "    features: ['id', 'document', 'label'],\n",
            "    num_rows: 150000\n",
            "})\n"
          ]
        },
        {
          "data": {
            "application/vnd.jupyter.widget-view+json": {
              "model_id": "0ba1dc69559140aea8927a805a6a842d",
              "version_major": 2,
              "version_minor": 0
            },
            "text/plain": [
              "apply len_bytes to num_bytes:   0%|          | 0/150000 [00:00<?, ?it/s]"
            ]
          },
          "metadata": {},
          "output_type": "display_data"
        },
        {
          "name": "stderr",
          "output_type": "stream",
          "text": [
            "Using custom data configuration default\n",
            "Reusing dataset nsmc (/root/.cache/huggingface/datasets/nsmc/default/1.1.0/bfd4729bf1a67114e5267e6916b9e4807010aeb238e4a3c2b95fbfa3a014b5f3)\n"
          ]
        },
        {
          "name": "stdout",
          "output_type": "stream",
          "text": [
            "Dataset({\n",
            "    features: ['id', 'document', 'label'],\n",
            "    num_rows: 50000\n",
            "})\n"
          ]
        },
        {
          "data": {
            "application/vnd.jupyter.widget-view+json": {
              "model_id": "a046a6885fec42b3bb027111a0dfc3c7",
              "version_major": 2,
              "version_minor": 0
            },
            "text/plain": [
              "apply len_bytes to num_bytes:   0%|          | 0/50000 [00:00<?, ?it/s]"
            ]
          },
          "metadata": {},
          "output_type": "display_data"
        },
        {
          "name": "stderr",
          "output_type": "stream",
          "text": [
            "Using custom data configuration default\n",
            "Reusing dataset nsmc (/root/.cache/huggingface/datasets/nsmc/default/1.1.0/bfd4729bf1a67114e5267e6916b9e4807010aeb238e4a3c2b95fbfa3a014b5f3)\n"
          ]
        },
        {
          "name": "stdout",
          "output_type": "stream",
          "text": [
            "Dataset({\n",
            "    features: ['id', 'document', 'label'],\n",
            "    num_rows: 150000\n",
            "})\n"
          ]
        },
        {
          "data": {
            "application/vnd.jupyter.widget-view+json": {
              "model_id": "cd95daa8a7d94af6a41cb6fd891f8aa9",
              "version_major": 2,
              "version_minor": 0
            },
            "text/plain": [
              "apply len_bytes to num_bytes:   0%|          | 0/150000 [00:00<?, ?it/s]"
            ]
          },
          "metadata": {},
          "output_type": "display_data"
        },
        {
          "name": "stderr",
          "output_type": "stream",
          "text": [
            "Using custom data configuration default\n",
            "Reusing dataset nsmc (/root/.cache/huggingface/datasets/nsmc/default/1.1.0/bfd4729bf1a67114e5267e6916b9e4807010aeb238e4a3c2b95fbfa3a014b5f3)\n"
          ]
        },
        {
          "name": "stdout",
          "output_type": "stream",
          "text": [
            "Dataset({\n",
            "    features: ['id', 'document', 'label'],\n",
            "    num_rows: 50000\n",
            "})\n"
          ]
        },
        {
          "data": {
            "application/vnd.jupyter.widget-view+json": {
              "model_id": "b61ee3e2e46c4d23b0761f1b3d6a565b",
              "version_major": 2,
              "version_minor": 0
            },
            "text/plain": [
              "apply len_bytes to num_bytes:   0%|          | 0/50000 [00:00<?, ?it/s]"
            ]
          },
          "metadata": {},
          "output_type": "display_data"
        }
      ],
      "source": [
        "cfg = eKonf.compose(config_group='dataset/simple=nsmc')\n",
        "cfg.data_dir = './data/nsmc'\n",
        "cfg.fetch.data_dir = cfg.data_dir\n",
        "cfg.fetch.overwrite = True\n",
        "cfg.fetch.calculate_stats = True\n",
        "db = eKonf.instantiate(cfg)\n",
        "db.build()"
      ]
    },
    {
      "cell_type": "code",
      "execution_count": 11,
      "metadata": {},
      "outputs": [
        {
          "name": "stderr",
          "output_type": "stream",
          "text": [
            "Reusing dataset glue (/root/.cache/huggingface/datasets/glue/sst2/1.0.0/dacbe3125aa31d7f70367a07a8a9e72a5a0bfeb5fc42e75c9db75b96da6053ad)\n"
          ]
        },
        {
          "name": "stdout",
          "output_type": "stream",
          "text": [
            "Dataset({\n",
            "    features: ['sentence', 'label', 'idx'],\n",
            "    num_rows: 67349\n",
            "})\n"
          ]
        },
        {
          "data": {
            "application/vnd.jupyter.widget-view+json": {
              "model_id": "1b28016c053a4d318c6f8a9106ed05cc",
              "version_major": 2,
              "version_minor": 0
            },
            "text/plain": [
              "apply len_bytes to num_bytes:   0%|          | 0/67349 [00:00<?, ?it/s]"
            ]
          },
          "metadata": {},
          "output_type": "display_data"
        },
        {
          "name": "stderr",
          "output_type": "stream",
          "text": [
            "Reusing dataset glue (/root/.cache/huggingface/datasets/glue/sst2/1.0.0/dacbe3125aa31d7f70367a07a8a9e72a5a0bfeb5fc42e75c9db75b96da6053ad)\n"
          ]
        },
        {
          "name": "stdout",
          "output_type": "stream",
          "text": [
            "Dataset({\n",
            "    features: ['sentence', 'label', 'idx'],\n",
            "    num_rows: 1821\n",
            "})\n"
          ]
        },
        {
          "data": {
            "application/vnd.jupyter.widget-view+json": {
              "model_id": "a453d355d26442b0af99bb869eaf1acf",
              "version_major": 2,
              "version_minor": 0
            },
            "text/plain": [
              "apply len_bytes to num_bytes:   0%|          | 0/1821 [00:00<?, ?it/s]"
            ]
          },
          "metadata": {},
          "output_type": "display_data"
        },
        {
          "name": "stderr",
          "output_type": "stream",
          "text": [
            "Reusing dataset glue (/root/.cache/huggingface/datasets/glue/sst2/1.0.0/dacbe3125aa31d7f70367a07a8a9e72a5a0bfeb5fc42e75c9db75b96da6053ad)\n"
          ]
        },
        {
          "name": "stdout",
          "output_type": "stream",
          "text": [
            "Dataset({\n",
            "    features: ['sentence', 'label', 'idx'],\n",
            "    num_rows: 872\n",
            "})\n"
          ]
        },
        {
          "data": {
            "application/vnd.jupyter.widget-view+json": {
              "model_id": "cbaf369d6b6b4748919a2aa1b3ac4894",
              "version_major": 2,
              "version_minor": 0
            },
            "text/plain": [
              "apply len_bytes to num_bytes:   0%|          | 0/872 [00:00<?, ?it/s]"
            ]
          },
          "metadata": {},
          "output_type": "display_data"
        },
        {
          "name": "stderr",
          "output_type": "stream",
          "text": [
            "Reusing dataset glue (/root/.cache/huggingface/datasets/glue/sst2/1.0.0/dacbe3125aa31d7f70367a07a8a9e72a5a0bfeb5fc42e75c9db75b96da6053ad)\n"
          ]
        },
        {
          "name": "stdout",
          "output_type": "stream",
          "text": [
            "Dataset({\n",
            "    features: ['sentence', 'label', 'idx'],\n",
            "    num_rows: 67349\n",
            "})\n"
          ]
        },
        {
          "data": {
            "application/vnd.jupyter.widget-view+json": {
              "model_id": "c272f083f6f4410eb94d2c37b6dcc618",
              "version_major": 2,
              "version_minor": 0
            },
            "text/plain": [
              "apply len_bytes to num_bytes:   0%|          | 0/67349 [00:00<?, ?it/s]"
            ]
          },
          "metadata": {},
          "output_type": "display_data"
        },
        {
          "name": "stderr",
          "output_type": "stream",
          "text": [
            "Reusing dataset glue (/root/.cache/huggingface/datasets/glue/sst2/1.0.0/dacbe3125aa31d7f70367a07a8a9e72a5a0bfeb5fc42e75c9db75b96da6053ad)\n"
          ]
        },
        {
          "name": "stdout",
          "output_type": "stream",
          "text": [
            "Dataset({\n",
            "    features: ['sentence', 'label', 'idx'],\n",
            "    num_rows: 1821\n",
            "})\n"
          ]
        },
        {
          "data": {
            "application/vnd.jupyter.widget-view+json": {
              "model_id": "96c1ee76ff124d35928ebe86d70fabaa",
              "version_major": 2,
              "version_minor": 0
            },
            "text/plain": [
              "apply len_bytes to num_bytes:   0%|          | 0/1821 [00:00<?, ?it/s]"
            ]
          },
          "metadata": {},
          "output_type": "display_data"
        },
        {
          "name": "stderr",
          "output_type": "stream",
          "text": [
            "Reusing dataset glue (/root/.cache/huggingface/datasets/glue/sst2/1.0.0/dacbe3125aa31d7f70367a07a8a9e72a5a0bfeb5fc42e75c9db75b96da6053ad)\n"
          ]
        },
        {
          "name": "stdout",
          "output_type": "stream",
          "text": [
            "Dataset({\n",
            "    features: ['sentence', 'label', 'idx'],\n",
            "    num_rows: 872\n",
            "})\n"
          ]
        },
        {
          "data": {
            "application/vnd.jupyter.widget-view+json": {
              "model_id": "b8eeb7d8169b4f43970845a6d9c14e45",
              "version_major": 2,
              "version_minor": 0
            },
            "text/plain": [
              "apply len_bytes to num_bytes:   0%|          | 0/872 [00:00<?, ?it/s]"
            ]
          },
          "metadata": {},
          "output_type": "display_data"
        }
      ],
      "source": [
        "cfg = eKonf.compose(config_group='dataset/simple=sst2')\n",
        "cfg.data_dir = './data/sst2'\n",
        "cfg.fetch.data_dir = cfg.data_dir\n",
        "cfg.fetch.overwrite = True\n",
        "cfg.fetch.calculate_stats = True\n",
        "db = eKonf.instantiate(cfg)\n",
        "db.build()"
      ]
    },
    {
      "cell_type": "markdown",
      "metadata": {
        "id": "tJpz9ehuPWeh"
      },
      "source": [
        "## Instantiating datasets with an ekorpkit config"
      ]
    },
    {
      "cell_type": "code",
      "execution_count": 12,
      "metadata": {
        "colab": {
          "base_uri": "https://localhost:8080/"
        },
        "id": "iAc66OeiPWei",
        "outputId": "96912de9-2861-47fc-b037-c65ec9f31f2b"
      },
      "outputs": [
        {
          "name": "stdout",
          "output_type": "stream",
          "text": [
            "{'_target_': 'ekorpkit.datasets.loader.Datasets',\n",
            " 'autoload': True,\n",
            " 'autorun': ['load'],\n",
            " 'column_info': {'data': None, 'keys': {'id': 'id', 'text': 'text'}},\n",
            " 'data_dir': './data',\n",
            " 'datasets': None,\n",
            " 'filetype': 'csv',\n",
            " 'info': {'_target_': 'ekorpkit.pipelines.stat.SummaryInfo',\n",
            "          'aggregate_info': {'num_examples': 'num_examples',\n",
            "                             'size_in_bytes': 'num_bytes'},\n",
            "          'data_dir': './data',\n",
            "          'info_file': \"info-['financial_phrasebank', 'sst2'].yaml\",\n",
            "          'info_list': ['name',\n",
            "                        'fullname',\n",
            "                        'domain',\n",
            "                        'task',\n",
            "                        'lang',\n",
            "                        'description',\n",
            "                        'license',\n",
            "                        'homepage',\n",
            "                        'version',\n",
            "                        'num_examples',\n",
            "                        'size_in_bytes',\n",
            "                        'size_in_human_bytes',\n",
            "                        'data_files_modified',\n",
            "                        'info_updated',\n",
            "                        'data_files',\n",
            "                        'column_info'],\n",
            "          'key_columns': {'id': 'id', 'text': 'text'},\n",
            "          'modified_info': {'data_files_modified': 'data_file'},\n",
            "          'name': ['financial_phrasebank', 'sst2'],\n",
            "          'stats': {'_partial_': True,\n",
            "                    '_target_': 'ekorpkit.pipelines.stat.summary_stats',\n",
            "                    'agg_funcs': {'num_bytes': ['count',\n",
            "                                                'sum',\n",
            "                                                'median',\n",
            "                                                'max',\n",
            "                                                'min']},\n",
            "                    'convert_to_humanbytes': {'num_bytes': 'human_bytes'},\n",
            "                    'key_columns': {'id': 'id', 'text': 'text'},\n",
            "                    'method': {'len_bytes': {'_partial_': True,\n",
            "                                             '_target_': 'ekorpkit.utils.func.len_bytes'}},\n",
            "                    'num_columns': {'num_bytes': 'len_bytes'},\n",
            "                    'num_workers': 1,\n",
            "                    'rename_columns': {'num_bytes_count': 'num_examples',\n",
            "                                       'num_bytes_sum': 'num_bytes'},\n",
            "                    'text_keys': 'text'},\n",
            "          'update_files_info': {'data_files': 'data_file',\n",
            "                                'meta_files': 'meta_file'},\n",
            "          'update_info': ['fullname',\n",
            "                          'lang',\n",
            "                          'domain',\n",
            "                          'task',\n",
            "                          'description',\n",
            "                          'license',\n",
            "                          'homepage',\n",
            "                          'version'],\n",
            "          'verbose': False},\n",
            " 'name': ['financial_phrasebank', 'sst2'],\n",
            " 'use_name_as_subdir': True,\n",
            " 'verbose': False}\n"
          ]
        }
      ],
      "source": [
        "from ekorpkit import eKonf\n",
        "\n",
        "cfg = eKonf.compose(config_group='dataset=datasets')\n",
        "cfg['name'] = ['financial_phrasebank', 'sst2']\n",
        "cfg['data_dir'] = './data'\n",
        "eKonf.pprint(cfg)\n",
        "ds = eKonf.instantiate(cfg)"
      ]
    },
    {
      "cell_type": "code",
      "execution_count": 14,
      "metadata": {
        "colab": {
          "base_uri": "https://localhost:8080/"
        },
        "id": "ds2y2-PAPWej",
        "outputId": "ac6d5b18-cad5-4be6-f1ca-c42ec0c0b0fe"
      },
      "outputs": [
        {
          "name": "stdout",
          "output_type": "stream",
          "text": [
            "Datasets\n",
            "----------\n",
            "financial_phrasebank\n",
            "sst2\n",
            "\n"
          ]
        }
      ],
      "source": [
        "print(ds)"
      ]
    },
    {
      "cell_type": "code",
      "execution_count": 15,
      "metadata": {},
      "outputs": [
        {
          "name": "stderr",
          "output_type": "stream",
          "text": [
            "datasets not concatenated yet, calling concatenate()\n"
          ]
        },
        {
          "data": {
            "application/vnd.jupyter.widget-view+json": {
              "model_id": "57c98eaa0d474b20957c2ca71b21b451",
              "version_major": 2,
              "version_minor": 0
            },
            "text/plain": [
              "apply len_bytes to num_bytes:   0%|          | 0/68794 [00:00<?, ?it/s]"
            ]
          },
          "metadata": {},
          "output_type": "display_data"
        },
        {
          "data": {
            "application/vnd.jupyter.widget-view+json": {
              "model_id": "abe63ac97116494c8aa871ed21e6106a",
              "version_major": 2,
              "version_minor": 0
            },
            "text/plain": [
              "apply len_bytes to num_bytes:   0%|          | 0/2273 [00:00<?, ?it/s]"
            ]
          },
          "metadata": {},
          "output_type": "display_data"
        },
        {
          "data": {
            "application/vnd.jupyter.widget-view+json": {
              "model_id": "d4f0031167ce406c8aaa4e2e139584dd",
              "version_major": 2,
              "version_minor": 0
            },
            "text/plain": [
              "apply len_bytes to num_bytes:   0%|          | 0/1234 [00:00<?, ?it/s]"
            ]
          },
          "metadata": {},
          "output_type": "display_data"
        }
      ],
      "source": [
        "ds.persist()"
      ]
    },
    {
      "cell_type": "code",
      "execution_count": 16,
      "metadata": {
        "id": "lGPnTMPpX4LB"
      },
      "outputs": [],
      "source": [
        "ds.concat_datasets()"
      ]
    },
    {
      "cell_type": "code",
      "execution_count": 17,
      "metadata": {},
      "outputs": [
        {
          "data": {
            "text/plain": [
              "'financial_phrasebank-sst2'"
            ]
          },
          "execution_count": 17,
          "metadata": {},
          "output_type": "execute_result"
        }
      ],
      "source": [
        "ds.name"
      ]
    },
    {
      "cell_type": "code",
      "execution_count": 18,
      "metadata": {
        "colab": {
          "base_uri": "https://localhost:8080/",
          "height": 423
        },
        "id": "YKcqI8eBPWej",
        "outputId": "581b09b2-3e9e-4b45-e11f-c7e9826381aa"
      },
      "outputs": [
        {
          "data": {
            "text/plain": [
              "{'id': 'int64',\n",
              " 'labels': 'object',\n",
              " 'text': 'object',\n",
              " 'split': 'object',\n",
              " 'dataset': 'object'}"
            ]
          },
          "execution_count": 18,
          "metadata": {},
          "output_type": "execute_result"
        }
      ],
      "source": [
        "ds.splits['train'].dtypes.apply(lambda x: x.name).to_dict()"
      ]
    },
    {
      "cell_type": "markdown",
      "metadata": {
        "id": "zpdqyeyPPWek"
      },
      "source": [
        "## Instantiating a dataset with an ekorpkit config"
      ]
    },
    {
      "cell_type": "code",
      "execution_count": 19,
      "metadata": {
        "colab": {
          "base_uri": "https://localhost:8080/"
        },
        "id": "DFsykazvPWel",
        "outputId": "f8ee38e9-59e7-472e-eb98-da032c0c209e"
      },
      "outputs": [],
      "source": [
        "cfg = eKonf.compose(config_group='dataset=dataset')\n",
        "cfg['name'] = 'financial_phrasebank'\n",
        "cfg['data_dir'] = './data'\n",
        "ds = eKonf.instantiate(cfg)"
      ]
    },
    {
      "cell_type": "code",
      "execution_count": 20,
      "metadata": {
        "colab": {
          "base_uri": "https://localhost:8080/",
          "height": 423
        },
        "id": "MHrSWGlq_r2P",
        "outputId": "9a1f4304-0b6b-49ca-c044-1b2c6554078b"
      },
      "outputs": [
        {
          "data": {
            "text/html": [
              "<div>\n",
              "<style scoped>\n",
              "    .dataframe tbody tr th:only-of-type {\n",
              "        vertical-align: middle;\n",
              "    }\n",
              "\n",
              "    .dataframe tbody tr th {\n",
              "        vertical-align: top;\n",
              "    }\n",
              "\n",
              "    .dataframe thead th {\n",
              "        text-align: right;\n",
              "    }\n",
              "</style>\n",
              "<table border=\"1\" class=\"dataframe\">\n",
              "  <thead>\n",
              "    <tr style=\"text-align: right;\">\n",
              "      <th></th>\n",
              "      <th>id</th>\n",
              "      <th>labels</th>\n",
              "      <th>text</th>\n",
              "      <th>split</th>\n",
              "    </tr>\n",
              "  </thead>\n",
              "  <tbody>\n",
              "    <tr>\n",
              "      <th>0</th>\n",
              "      <td>655</td>\n",
              "      <td>neutral</td>\n",
              "      <td>Customers in a wide range of industries use ou...</td>\n",
              "      <td>train</td>\n",
              "    </tr>\n",
              "    <tr>\n",
              "      <th>1</th>\n",
              "      <td>634</td>\n",
              "      <td>neutral</td>\n",
              "      <td>The writing and publication of Lemmink+ñinen -...</td>\n",
              "      <td>train</td>\n",
              "    </tr>\n",
              "    <tr>\n",
              "      <th>2</th>\n",
              "      <td>1030</td>\n",
              "      <td>neutral</td>\n",
              "      <td>Sullivan said some of the boards `` really inv...</td>\n",
              "      <td>train</td>\n",
              "    </tr>\n",
              "    <tr>\n",
              "      <th>3</th>\n",
              "      <td>317</td>\n",
              "      <td>positive</td>\n",
              "      <td>The six breweries recorded a 5.2 percent growt...</td>\n",
              "      <td>train</td>\n",
              "    </tr>\n",
              "    <tr>\n",
              "      <th>4</th>\n",
              "      <td>868</td>\n",
              "      <td>positive</td>\n",
              "      <td>In the second quarter of 2010 , the company 's...</td>\n",
              "      <td>train</td>\n",
              "    </tr>\n",
              "    <tr>\n",
              "      <th>...</th>\n",
              "      <td>...</td>\n",
              "      <td>...</td>\n",
              "      <td>...</td>\n",
              "      <td>...</td>\n",
              "    </tr>\n",
              "    <tr>\n",
              "      <th>1440</th>\n",
              "      <td>136</td>\n",
              "      <td>positive</td>\n",
              "      <td>In the fourth quarter of 2009 , Orion 's net p...</td>\n",
              "      <td>train</td>\n",
              "    </tr>\n",
              "    <tr>\n",
              "      <th>1441</th>\n",
              "      <td>2170</td>\n",
              "      <td>negative</td>\n",
              "      <td>Profit for the period totalled EUR 1.1 mn , do...</td>\n",
              "      <td>train</td>\n",
              "    </tr>\n",
              "    <tr>\n",
              "      <th>1442</th>\n",
              "      <td>344</td>\n",
              "      <td>positive</td>\n",
              "      <td>The diluted loss per share narrowed to EUR 0.2...</td>\n",
              "      <td>train</td>\n",
              "    </tr>\n",
              "    <tr>\n",
              "      <th>1443</th>\n",
              "      <td>573</td>\n",
              "      <td>neutral</td>\n",
              "      <td>LKAB , headquartered in Lulea , Sweden , is a ...</td>\n",
              "      <td>train</td>\n",
              "    </tr>\n",
              "    <tr>\n",
              "      <th>1444</th>\n",
              "      <td>1768</td>\n",
              "      <td>neutral</td>\n",
              "      <td>The EBRD is using its own funds to provide a 2...</td>\n",
              "      <td>train</td>\n",
              "    </tr>\n",
              "  </tbody>\n",
              "</table>\n",
              "<p>1445 rows × 4 columns</p>\n",
              "</div>"
            ],
            "text/plain": [
              "        id    labels                                               text  split\n",
              "0      655   neutral  Customers in a wide range of industries use ou...  train\n",
              "1      634   neutral  The writing and publication of Lemmink+ñinen -...  train\n",
              "2     1030   neutral  Sullivan said some of the boards `` really inv...  train\n",
              "3      317  positive  The six breweries recorded a 5.2 percent growt...  train\n",
              "4      868  positive  In the second quarter of 2010 , the company 's...  train\n",
              "...    ...       ...                                                ...    ...\n",
              "1440   136  positive  In the fourth quarter of 2009 , Orion 's net p...  train\n",
              "1441  2170  negative  Profit for the period totalled EUR 1.1 mn , do...  train\n",
              "1442   344  positive  The diluted loss per share narrowed to EUR 0.2...  train\n",
              "1443   573   neutral  LKAB , headquartered in Lulea , Sweden , is a ...  train\n",
              "1444  1768   neutral  The EBRD is using its own funds to provide a 2...  train\n",
              "\n",
              "[1445 rows x 4 columns]"
            ]
          },
          "execution_count": 20,
          "metadata": {},
          "output_type": "execute_result"
        }
      ],
      "source": [
        "ds.splits['train']"
      ]
    },
    {
      "cell_type": "code",
      "execution_count": 21,
      "metadata": {
        "colab": {
          "base_uri": "https://localhost:8080/"
        },
        "id": "kArHj0GHPWem",
        "outputId": "dab02e68-13d8-4396-873a-8f28905526a4"
      },
      "outputs": [
        {
          "name": "stdout",
          "output_type": "stream",
          "text": [
            "{'column_info': {'data': {'id': 'int', 'labels': 'str', 'text': 'str'},\n",
            "                 'keys': {'id': 'id', 'text': 'text'}},\n",
            " 'data_files': {'dev': 'financial_phrasebank-dev.csv',\n",
            "                'test': 'financial_phrasebank-test.csv',\n",
            "                'train': 'financial_phrasebank-train.csv'},\n",
            " 'data_files_modified': '2022-05-03 09:35:34',\n",
            " 'domain': 'econ',\n",
            " 'info_updated': '2022-05-03 09:35:34',\n",
            " 'lang': 'en',\n",
            " 'meta_files': {},\n",
            " 'name': 'financial_phrasebank',\n",
            " 'num_examples': 2259,\n",
            " 'size_in_bytes': 275407,\n",
            " 'size_in_human_bytes': '268.95 KiB',\n",
            " 'splits': {'dev': {'data_file': 'financial_phrasebank-dev.csv',\n",
            "                    'dataset_name': 'financial_phrasebank',\n",
            "                    'human_bytes': '42.39 KiB',\n",
            "                    'name': 'dev',\n",
            "                    'num_bytes': 43404,\n",
            "                    'num_bytes_max': 296,\n",
            "                    'num_bytes_median': 109.0,\n",
            "                    'num_bytes_min': 9,\n",
            "                    'num_examples': 362},\n",
            "            'test': {'data_file': 'financial_phrasebank-test.csv',\n",
            "                     'dataset_name': 'financial_phrasebank',\n",
            "                     'human_bytes': '54.22 KiB',\n",
            "                     'name': 'test',\n",
            "                     'num_bytes': 55518,\n",
            "                     'num_bytes_max': 296,\n",
            "                     'num_bytes_median': 110.0,\n",
            "                     'num_bytes_min': 11,\n",
            "                     'num_examples': 452},\n",
            "            'train': {'data_file': 'financial_phrasebank-train.csv',\n",
            "                      'dataset_name': 'financial_phrasebank',\n",
            "                      'human_bytes': '172.35 KiB',\n",
            "                      'name': 'train',\n",
            "                      'num_bytes': 176485,\n",
            "                      'num_bytes_max': 315,\n",
            "                      'num_bytes_median': 112.0,\n",
            "                      'num_bytes_min': 15,\n",
            "                      'num_examples': 1445}},\n",
            " 'task': 'classification'}\n"
          ]
        }
      ],
      "source": [
        "eKonf.pprint(ds.info)"
      ]
    },
    {
      "cell_type": "markdown",
      "metadata": {
        "id": "tRbL-y3t_r2Q"
      },
      "source": [
        "## Instantiating datasets with an ekorpkit config (autorun)"
      ]
    },
    {
      "cell_type": "code",
      "execution_count": 2,
      "metadata": {
        "colab": {
          "base_uri": "https://localhost:8080/"
        },
        "id": "u6ibZ97b_r2Q",
        "outputId": "6e73b55d-d713-4a4b-cd57-db2cfa004157"
      },
      "outputs": [
        {
          "name": "stdout",
          "output_type": "stream",
          "text": [
            "{'_target_': 'ekorpkit.datasets.loader.Datasets',\n",
            " 'autoload': True,\n",
            " 'autorun': ['load'],\n",
            " 'call': {'_call_': ['load', 'concatenate']},\n",
            " 'column_info': {'data': None, 'keys': {'id': 'id', 'text': 'text'}},\n",
            " 'data_dir': './data',\n",
            " 'datasets': None,\n",
            " 'filetype': 'csv',\n",
            " 'info': {'_target_': 'ekorpkit.pipelines.stat.SummaryInfo',\n",
            "          'aggregate_info': {'num_examples': 'num_examples',\n",
            "                             'size_in_bytes': 'num_bytes'},\n",
            "          'data_dir': './data',\n",
            "          'info_file': \"info-['financial_phrasebank'].yaml\",\n",
            "          'info_list': ['name',\n",
            "                        'fullname',\n",
            "                        'domain',\n",
            "                        'task',\n",
            "                        'lang',\n",
            "                        'description',\n",
            "                        'license',\n",
            "                        'homepage',\n",
            "                        'version',\n",
            "                        'num_examples',\n",
            "                        'size_in_bytes',\n",
            "                        'size_in_human_bytes',\n",
            "                        'data_files_modified',\n",
            "                        'info_updated',\n",
            "                        'data_files',\n",
            "                        'column_info'],\n",
            "          'key_columns': {'id': 'id', 'text': 'text'},\n",
            "          'modified_info': {'data_files_modified': 'data_file'},\n",
            "          'name': ['financial_phrasebank'],\n",
            "          'stats': {'_partial_': True,\n",
            "                    '_target_': 'ekorpkit.pipelines.stat.summary_stats',\n",
            "                    'agg_funcs': {'num_bytes': ['count',\n",
            "                                                'sum',\n",
            "                                                'median',\n",
            "                                                'max',\n",
            "                                                'min']},\n",
            "                    'convert_to_humanbytes': {'num_bytes': 'human_bytes'},\n",
            "                    'key_columns': {'id': 'id', 'text': 'text'},\n",
            "                    'method': {'len_bytes': {'_partial_': True,\n",
            "                                             '_target_': 'ekorpkit.utils.func.len_bytes'}},\n",
            "                    'num_columns': {'num_bytes': 'len_bytes'},\n",
            "                    'num_workers': 1,\n",
            "                    'rename_columns': {'num_bytes_count': 'num_examples',\n",
            "                                       'num_bytes_sum': 'num_bytes'},\n",
            "                    'text_keys': 'text'},\n",
            "          'update_files_info': {'data_files': 'data_file',\n",
            "                                'meta_files': 'meta_file'},\n",
            "          'update_info': ['fullname',\n",
            "                          'lang',\n",
            "                          'domain',\n",
            "                          'task',\n",
            "                          'description',\n",
            "                          'license',\n",
            "                          'homepage',\n",
            "                          'version'],\n",
            "          'verbose': True},\n",
            " 'name': ['financial_phrasebank'],\n",
            " 'use_name_as_subdir': True,\n",
            " 'verbose': True}\n",
            "{'autoload': True,\n",
            " 'autorun': ['load'],\n",
            " 'call': {'_call_': ['load', 'concatenate']},\n",
            " 'column_info': {'data': {'id': 'int', 'labels': 'str', 'text': 'str'},\n",
            "                 'keys': {'id': 'id', 'text': 'text'}},\n",
            " 'data_dir': './data',\n",
            " 'data_files': {'dev': 'financial_phrasebank-dev.csv',\n",
            "                'test': 'financial_phrasebank-test.csv',\n",
            "                'train': 'financial_phrasebank-train.csv'},\n",
            " 'data_files_modified': '2022-05-03 09:35:34',\n",
            " 'datasets': None,\n",
            " 'domain': 'econ',\n",
            " 'filetype': 'csv',\n",
            " 'info': {'_target_': 'ekorpkit.pipelines.stat.SummaryInfo',\n",
            "          'aggregate_info': {'num_examples': 'num_examples',\n",
            "                             'size_in_bytes': 'num_bytes'},\n",
            "          'data_dir': './data',\n",
            "          'info_file': \"info-['financial_phrasebank'].yaml\",\n",
            "          'info_list': ['name',\n",
            "                        'fullname',\n",
            "                        'domain',\n",
            "                        'task',\n",
            "                        'lang',\n",
            "                        'description',\n",
            "                        'license',\n",
            "                        'homepage',\n",
            "                        'version',\n",
            "                        'num_examples',\n",
            "                        'size_in_bytes',\n",
            "                        'size_in_human_bytes',\n",
            "                        'data_files_modified',\n",
            "                        'info_updated',\n",
            "                        'data_files',\n",
            "                        'column_info'],\n",
            "          'key_columns': {'id': 'id', 'text': 'text'},\n",
            "          'modified_info': {'data_files_modified': 'data_file'},\n",
            "          'name': ['financial_phrasebank'],\n",
            "          'stats': {'_partial_': True,\n",
            "                    '_target_': 'ekorpkit.pipelines.stat.summary_stats',\n",
            "                    'agg_funcs': {'num_bytes': ['count',\n",
            "                                                'sum',\n",
            "                                                'median',\n",
            "                                                'max',\n",
            "                                                'min']},\n",
            "                    'convert_to_humanbytes': {'num_bytes': 'human_bytes'},\n",
            "                    'key_columns': {'id': 'id', 'text': 'text'},\n",
            "                    'method': {'len_bytes': {'_partial_': True,\n",
            "                                             '_target_': 'ekorpkit.utils.func.len_bytes'}},\n",
            "                    'num_columns': {'num_bytes': 'len_bytes'},\n",
            "                    'num_workers': 1,\n",
            "                    'rename_columns': {'num_bytes_count': 'num_examples',\n",
            "                                       'num_bytes_sum': 'num_bytes'},\n",
            "                    'text_keys': 'text'},\n",
            "          'update_files_info': {'data_files': 'data_file',\n",
            "                                'meta_files': 'meta_file'},\n",
            "          'update_info': ['fullname',\n",
            "                          'lang',\n",
            "                          'domain',\n",
            "                          'task',\n",
            "                          'description',\n",
            "                          'license',\n",
            "                          'homepage',\n",
            "                          'version'],\n",
            "          'verbose': True},\n",
            " 'info_updated': '2022-05-03 09:35:34',\n",
            " 'lang': 'en',\n",
            " 'meta_files': {},\n",
            " 'name': 'financial_phrasebank',\n",
            " 'num_examples': 2259,\n",
            " 'size_in_bytes': 275407,\n",
            " 'size_in_human_bytes': '268.95 KiB',\n",
            " 'splits': {'dev': {'data_file': 'financial_phrasebank-dev.csv',\n",
            "                    'dataset_name': 'financial_phrasebank',\n",
            "                    'human_bytes': '42.39 KiB',\n",
            "                    'name': 'dev',\n",
            "                    'num_bytes': 43404,\n",
            "                    'num_bytes_max': 296,\n",
            "                    'num_bytes_median': 109.0,\n",
            "                    'num_bytes_min': 9,\n",
            "                    'num_examples': 362},\n",
            "            'test': {'data_file': 'financial_phrasebank-test.csv',\n",
            "                     'dataset_name': 'financial_phrasebank',\n",
            "                     'human_bytes': '54.22 KiB',\n",
            "                     'name': 'test',\n",
            "                     'num_bytes': 55518,\n",
            "                     'num_bytes_max': 296,\n",
            "                     'num_bytes_median': 110.0,\n",
            "                     'num_bytes_min': 11,\n",
            "                     'num_examples': 452},\n",
            "            'train': {'data_file': 'financial_phrasebank-train.csv',\n",
            "                      'dataset_name': 'financial_phrasebank',\n",
            "                      'human_bytes': '172.35 KiB',\n",
            "                      'name': 'train',\n",
            "                      'num_bytes': 176485,\n",
            "                      'num_bytes_max': 315,\n",
            "                      'num_bytes_median': 112.0,\n",
            "                      'num_bytes_min': 15,\n",
            "                      'num_examples': 1445}},\n",
            " 'task': 'classification',\n",
            " 'use_name_as_subdir': True,\n",
            " 'verbose': True}\n"
          ]
        }
      ],
      "source": [
        "cfg = eKonf.compose(config_group='dataset=simple_auto')\n",
        "cfg.name = ['financial_phrasebank']\n",
        "cfg.data_dir = './data'\n",
        "cfg.verbose = True\n",
        "eKonf.pprint(cfg)\n",
        "ds = eKonf.instantiate(cfg)"
      ]
    },
    {
      "cell_type": "code",
      "execution_count": 3,
      "metadata": {
        "colab": {
          "base_uri": "https://localhost:8080/"
        },
        "id": "Z0e0cZVm_r2R",
        "outputId": "c78437ba-b1da-4231-ea6a-d3937ca0259e"
      },
      "outputs": [
        {
          "data": {
            "text/plain": [
              "{'train':         id    labels                                               text  \\\n",
              " 0      655   neutral  Customers in a wide range of industries use ou...   \n",
              " 1      634   neutral  The writing and publication of Lemmink+ñinen -...   \n",
              " 2     1030   neutral  Sullivan said some of the boards `` really inv...   \n",
              " 3      317  positive  The six breweries recorded a 5.2 percent growt...   \n",
              " 4      868  positive  In the second quarter of 2010 , the company 's...   \n",
              " ...    ...       ...                                                ...   \n",
              " 1440   136  positive  In the fourth quarter of 2009 , Orion 's net p...   \n",
              " 1441  2170  negative  Profit for the period totalled EUR 1.1 mn , do...   \n",
              " 1442   344  positive  The diluted loss per share narrowed to EUR 0.2...   \n",
              " 1443   573   neutral  LKAB , headquartered in Lulea , Sweden , is a ...   \n",
              " 1444  1768   neutral  The EBRD is using its own funds to provide a 2...   \n",
              " \n",
              "                    dataset  \n",
              " 0     financial_phrasebank  \n",
              " 1     financial_phrasebank  \n",
              " 2     financial_phrasebank  \n",
              " 3     financial_phrasebank  \n",
              " 4     financial_phrasebank  \n",
              " ...                    ...  \n",
              " 1440  financial_phrasebank  \n",
              " 1441  financial_phrasebank  \n",
              " 1442  financial_phrasebank  \n",
              " 1443  financial_phrasebank  \n",
              " 1444  financial_phrasebank  \n",
              " \n",
              " [1445 rows x 4 columns],\n",
              " 'test':        id    labels                                               text  \\\n",
              " 0     505   neutral  Los Angeles-based Pacific Office Properties Tr...   \n",
              " 1     783  positive  Investors will continue being interested in th...   \n",
              " 2    2253  negative  Repeats sees 2008 operating profit down y-y ( ...   \n",
              " 3    1374   neutral  The acquisition was financed with $ 2.56 billi...   \n",
              " 4     243  positive  Profit per share was EUR 1.03 , up from EUR 0....   \n",
              " ..    ...       ...                                                ...   \n",
              " 447   605   neutral  The commission said the hydrogen peroxide and ...   \n",
              " 448  2258  negative  Sales in Finland decreased by 2.0 % , and inte...   \n",
              " 449   254  positive  The earnings per share for the quarter came in...   \n",
              " 450  1390   neutral  The company can not give up palm oil altogethe...   \n",
              " 451   181  positive  Pretax profit rose to EUR 1,019 mn from EUR 1,...   \n",
              " \n",
              "                   dataset  \n",
              " 0    financial_phrasebank  \n",
              " 1    financial_phrasebank  \n",
              " 2    financial_phrasebank  \n",
              " 3    financial_phrasebank  \n",
              " 4    financial_phrasebank  \n",
              " ..                    ...  \n",
              " 447  financial_phrasebank  \n",
              " 448  financial_phrasebank  \n",
              " 449  financial_phrasebank  \n",
              " 450  financial_phrasebank  \n",
              " 451  financial_phrasebank  \n",
              " \n",
              " [452 rows x 4 columns],\n",
              " 'dev':        id    labels                                               text  \\\n",
              " 0    1449   neutral       The identity of the buyer is not yet known .   \n",
              " 1     165  positive  Operating profit rose to EUR 3.2 mn from EUR 1...   \n",
              " 2    1334   neutral  Previously , Grimaldi held a 46.43 pct stake i...   \n",
              " 3     907   neutral  A total of $ 78 million will be invested in th...   \n",
              " 4    1371   neutral  The 19,200-square metre technology center is l...   \n",
              " ..    ...       ...                                                ...   \n",
              " 357  1120   neutral  Under a preliminary estimation , the technolog...   \n",
              " 358   404  positive  Operating profit improved by 27 % to EUR 579.8...   \n",
              " 359  1708   neutral  Rohwedder Group is an automotive supplies , te...   \n",
              " 360   225  positive  In January-September 2007 , the group 's net s...   \n",
              " 361  1008   neutral  Payment of shares shall be effected on subscri...   \n",
              " \n",
              "                   dataset  \n",
              " 0    financial_phrasebank  \n",
              " 1    financial_phrasebank  \n",
              " 2    financial_phrasebank  \n",
              " 3    financial_phrasebank  \n",
              " 4    financial_phrasebank  \n",
              " ..                    ...  \n",
              " 357  financial_phrasebank  \n",
              " 358  financial_phrasebank  \n",
              " 359  financial_phrasebank  \n",
              " 360  financial_phrasebank  \n",
              " 361  financial_phrasebank  \n",
              " \n",
              " [362 rows x 4 columns]}"
            ]
          },
          "execution_count": 3,
          "metadata": {},
          "output_type": "execute_result"
        }
      ],
      "source": [
        "ds.splits"
      ]
    },
    {
      "cell_type": "code",
      "execution_count": null,
      "metadata": {
        "id": "I7lQRCRJ_r2S"
      },
      "outputs": [],
      "source": []
    }
  ],
  "metadata": {
    "colab": {
      "name": "corpus.ipynb",
      "provenance": []
    },
    "interpreter": {
      "hash": "f869af7787e6a1c49e09e367fc6e1b81d93d1c6583b43249c80edc047bd13cb2"
    },
    "kernelspec": {
      "display_name": "Python 3.8.12 64-bit ('ekonml38')",
      "language": "python",
      "name": "python3"
    },
    "language_info": {
      "codemirror_mode": {
        "name": "ipython",
        "version": 3
      },
      "file_extension": ".py",
      "mimetype": "text/x-python",
      "name": "python",
      "nbconvert_exporter": "python",
      "pygments_lexer": "ipython3",
      "version": "3.8.12"
    },
    "orig_nbformat": 4,
    "widgets": {
      "application/vnd.jupyter.widget-state+json": {
        "00b572f571994a4a95973157a5f105b1": {
          "model_module": "@jupyter-widgets/controls",
          "model_module_version": "1.5.0",
          "model_name": "ProgressStyleModel",
          "state": {
            "_model_module": "@jupyter-widgets/controls",
            "_model_module_version": "1.5.0",
            "_model_name": "ProgressStyleModel",
            "_view_count": null,
            "_view_module": "@jupyter-widgets/base",
            "_view_module_version": "1.2.0",
            "_view_name": "StyleView",
            "bar_color": null,
            "description_width": ""
          }
        },
        "086e8a7f0c39406bada1f59f8777ef15": {
          "model_module": "@jupyter-widgets/base",
          "model_module_version": "1.2.0",
          "model_name": "LayoutModel",
          "state": {
            "_model_module": "@jupyter-widgets/base",
            "_model_module_version": "1.2.0",
            "_model_name": "LayoutModel",
            "_view_count": null,
            "_view_module": "@jupyter-widgets/base",
            "_view_module_version": "1.2.0",
            "_view_name": "LayoutView",
            "align_content": null,
            "align_items": null,
            "align_self": null,
            "border": null,
            "bottom": null,
            "display": null,
            "flex": null,
            "flex_flow": null,
            "grid_area": null,
            "grid_auto_columns": null,
            "grid_auto_flow": null,
            "grid_auto_rows": null,
            "grid_column": null,
            "grid_gap": null,
            "grid_row": null,
            "grid_template_areas": null,
            "grid_template_columns": null,
            "grid_template_rows": null,
            "height": null,
            "justify_content": null,
            "justify_items": null,
            "left": null,
            "margin": null,
            "max_height": null,
            "max_width": null,
            "min_height": null,
            "min_width": null,
            "object_fit": null,
            "object_position": null,
            "order": null,
            "overflow": null,
            "overflow_x": null,
            "overflow_y": null,
            "padding": null,
            "right": null,
            "top": null,
            "visibility": null,
            "width": null
          }
        },
        "0a58f214f94b40c88ebf9eac65d44b13": {
          "model_module": "@jupyter-widgets/controls",
          "model_module_version": "1.5.0",
          "model_name": "DescriptionStyleModel",
          "state": {
            "_model_module": "@jupyter-widgets/controls",
            "_model_module_version": "1.5.0",
            "_model_name": "DescriptionStyleModel",
            "_view_count": null,
            "_view_module": "@jupyter-widgets/base",
            "_view_module_version": "1.2.0",
            "_view_name": "StyleView",
            "description_width": ""
          }
        },
        "0bee177f590040bf9c26811aeb192f4b": {
          "model_module": "@jupyter-widgets/base",
          "model_module_version": "1.2.0",
          "model_name": "LayoutModel",
          "state": {
            "_model_module": "@jupyter-widgets/base",
            "_model_module_version": "1.2.0",
            "_model_name": "LayoutModel",
            "_view_count": null,
            "_view_module": "@jupyter-widgets/base",
            "_view_module_version": "1.2.0",
            "_view_name": "LayoutView",
            "align_content": null,
            "align_items": null,
            "align_self": null,
            "border": null,
            "bottom": null,
            "display": null,
            "flex": null,
            "flex_flow": null,
            "grid_area": null,
            "grid_auto_columns": null,
            "grid_auto_flow": null,
            "grid_auto_rows": null,
            "grid_column": null,
            "grid_gap": null,
            "grid_row": null,
            "grid_template_areas": null,
            "grid_template_columns": null,
            "grid_template_rows": null,
            "height": null,
            "justify_content": null,
            "justify_items": null,
            "left": null,
            "margin": null,
            "max_height": null,
            "max_width": null,
            "min_height": null,
            "min_width": null,
            "object_fit": null,
            "object_position": null,
            "order": null,
            "overflow": null,
            "overflow_x": null,
            "overflow_y": null,
            "padding": null,
            "right": null,
            "top": null,
            "visibility": null,
            "width": null
          }
        },
        "0c24745b30bb4769b239cdc88cf61699": {
          "model_module": "@jupyter-widgets/base",
          "model_module_version": "1.2.0",
          "model_name": "LayoutModel",
          "state": {
            "_model_module": "@jupyter-widgets/base",
            "_model_module_version": "1.2.0",
            "_model_name": "LayoutModel",
            "_view_count": null,
            "_view_module": "@jupyter-widgets/base",
            "_view_module_version": "1.2.0",
            "_view_name": "LayoutView",
            "align_content": null,
            "align_items": null,
            "align_self": null,
            "border": null,
            "bottom": null,
            "display": null,
            "flex": null,
            "flex_flow": null,
            "grid_area": null,
            "grid_auto_columns": null,
            "grid_auto_flow": null,
            "grid_auto_rows": null,
            "grid_column": null,
            "grid_gap": null,
            "grid_row": null,
            "grid_template_areas": null,
            "grid_template_columns": null,
            "grid_template_rows": null,
            "height": null,
            "justify_content": null,
            "justify_items": null,
            "left": null,
            "margin": null,
            "max_height": null,
            "max_width": null,
            "min_height": null,
            "min_width": null,
            "object_fit": null,
            "object_position": null,
            "order": null,
            "overflow": null,
            "overflow_x": null,
            "overflow_y": null,
            "padding": null,
            "right": null,
            "top": null,
            "visibility": null,
            "width": null
          }
        },
        "0c6ae522e11c426e88546462d8b9eb62": {
          "model_module": "@jupyter-widgets/controls",
          "model_module_version": "1.5.0",
          "model_name": "FloatProgressModel",
          "state": {
            "_dom_classes": [],
            "_model_module": "@jupyter-widgets/controls",
            "_model_module_version": "1.5.0",
            "_model_name": "FloatProgressModel",
            "_view_count": null,
            "_view_module": "@jupyter-widgets/controls",
            "_view_module_version": "1.5.0",
            "_view_name": "ProgressView",
            "bar_style": "",
            "description": "",
            "description_tooltip": null,
            "layout": "IPY_MODEL_fdbc9abf2fcc4fe8bea49e0b2566ceff",
            "max": 2264,
            "min": 0,
            "orientation": "horizontal",
            "style": "IPY_MODEL_192ec1a18ddf45e1a545049e1c261bed",
            "value": 2264
          }
        },
        "192ec1a18ddf45e1a545049e1c261bed": {
          "model_module": "@jupyter-widgets/controls",
          "model_module_version": "1.5.0",
          "model_name": "ProgressStyleModel",
          "state": {
            "_model_module": "@jupyter-widgets/controls",
            "_model_module_version": "1.5.0",
            "_model_name": "ProgressStyleModel",
            "_view_count": null,
            "_view_module": "@jupyter-widgets/base",
            "_view_module_version": "1.2.0",
            "_view_name": "StyleView",
            "bar_color": null,
            "description_width": ""
          }
        },
        "1d2b3c5ef9204ffc9b5743d835f6de20": {
          "model_module": "@jupyter-widgets/controls",
          "model_module_version": "1.5.0",
          "model_name": "DescriptionStyleModel",
          "state": {
            "_model_module": "@jupyter-widgets/controls",
            "_model_module_version": "1.5.0",
            "_model_name": "DescriptionStyleModel",
            "_view_count": null,
            "_view_module": "@jupyter-widgets/base",
            "_view_module_version": "1.2.0",
            "_view_name": "StyleView",
            "description_width": ""
          }
        },
        "1df444cf8eed49c4bcecf66cf3749ee9": {
          "model_module": "@jupyter-widgets/controls",
          "model_module_version": "1.5.0",
          "model_name": "ProgressStyleModel",
          "state": {
            "_model_module": "@jupyter-widgets/controls",
            "_model_module_version": "1.5.0",
            "_model_name": "ProgressStyleModel",
            "_view_count": null,
            "_view_module": "@jupyter-widgets/base",
            "_view_module_version": "1.2.0",
            "_view_name": "StyleView",
            "bar_color": null,
            "description_width": ""
          }
        },
        "225de94ebb1e4529b9884480b8352a01": {
          "model_module": "@jupyter-widgets/controls",
          "model_module_version": "1.5.0",
          "model_name": "ProgressStyleModel",
          "state": {
            "_model_module": "@jupyter-widgets/controls",
            "_model_module_version": "1.5.0",
            "_model_name": "ProgressStyleModel",
            "_view_count": null,
            "_view_module": "@jupyter-widgets/base",
            "_view_module_version": "1.2.0",
            "_view_name": "StyleView",
            "bar_color": null,
            "description_width": ""
          }
        },
        "25b706f197cc4f398f6e93958af941e7": {
          "model_module": "@jupyter-widgets/controls",
          "model_module_version": "1.5.0",
          "model_name": "ProgressStyleModel",
          "state": {
            "_model_module": "@jupyter-widgets/controls",
            "_model_module_version": "1.5.0",
            "_model_name": "ProgressStyleModel",
            "_view_count": null,
            "_view_module": "@jupyter-widgets/base",
            "_view_module_version": "1.2.0",
            "_view_name": "StyleView",
            "bar_color": null,
            "description_width": ""
          }
        },
        "26bdbab498fa4bf1bf6412296ea8574f": {
          "model_module": "@jupyter-widgets/controls",
          "model_module_version": "1.5.0",
          "model_name": "HTMLModel",
          "state": {
            "_dom_classes": [],
            "_model_module": "@jupyter-widgets/controls",
            "_model_module_version": "1.5.0",
            "_model_name": "HTMLModel",
            "_view_count": null,
            "_view_module": "@jupyter-widgets/controls",
            "_view_module_version": "1.5.0",
            "_view_name": "HTMLView",
            "description": "",
            "description_tooltip": null,
            "layout": "IPY_MODEL_d8a38915ca874382b1c9c9c11858d653",
            "placeholder": "​",
            "style": "IPY_MODEL_9b196b2f76cb4d92a66a7d0e98c44bcd",
            "value": "Generating train split:  31%"
          }
        },
        "283fa5a46bee4689a8f1b9940e01d925": {
          "model_module": "@jupyter-widgets/controls",
          "model_module_version": "1.5.0",
          "model_name": "DescriptionStyleModel",
          "state": {
            "_model_module": "@jupyter-widgets/controls",
            "_model_module_version": "1.5.0",
            "_model_name": "DescriptionStyleModel",
            "_view_count": null,
            "_view_module": "@jupyter-widgets/base",
            "_view_module_version": "1.2.0",
            "_view_name": "StyleView",
            "description_width": ""
          }
        },
        "2b052b7d80be4055884ff04a89119f57": {
          "model_module": "@jupyter-widgets/base",
          "model_module_version": "1.2.0",
          "model_name": "LayoutModel",
          "state": {
            "_model_module": "@jupyter-widgets/base",
            "_model_module_version": "1.2.0",
            "_model_name": "LayoutModel",
            "_view_count": null,
            "_view_module": "@jupyter-widgets/base",
            "_view_module_version": "1.2.0",
            "_view_name": "LayoutView",
            "align_content": null,
            "align_items": null,
            "align_self": null,
            "border": null,
            "bottom": null,
            "display": null,
            "flex": null,
            "flex_flow": null,
            "grid_area": null,
            "grid_auto_columns": null,
            "grid_auto_flow": null,
            "grid_auto_rows": null,
            "grid_column": null,
            "grid_gap": null,
            "grid_row": null,
            "grid_template_areas": null,
            "grid_template_columns": null,
            "grid_template_rows": null,
            "height": null,
            "justify_content": null,
            "justify_items": null,
            "left": null,
            "margin": null,
            "max_height": null,
            "max_width": null,
            "min_height": null,
            "min_width": null,
            "object_fit": null,
            "object_position": null,
            "order": null,
            "overflow": null,
            "overflow_x": null,
            "overflow_y": null,
            "padding": null,
            "right": null,
            "top": null,
            "visibility": null,
            "width": null
          }
        },
        "2b75bf52886c43d481cebc041da85e06": {
          "model_module": "@jupyter-widgets/base",
          "model_module_version": "1.2.0",
          "model_name": "LayoutModel",
          "state": {
            "_model_module": "@jupyter-widgets/base",
            "_model_module_version": "1.2.0",
            "_model_name": "LayoutModel",
            "_view_count": null,
            "_view_module": "@jupyter-widgets/base",
            "_view_module_version": "1.2.0",
            "_view_name": "LayoutView",
            "align_content": null,
            "align_items": null,
            "align_self": null,
            "border": null,
            "bottom": null,
            "display": null,
            "flex": null,
            "flex_flow": null,
            "grid_area": null,
            "grid_auto_columns": null,
            "grid_auto_flow": null,
            "grid_auto_rows": null,
            "grid_column": null,
            "grid_gap": null,
            "grid_row": null,
            "grid_template_areas": null,
            "grid_template_columns": null,
            "grid_template_rows": null,
            "height": null,
            "justify_content": null,
            "justify_items": null,
            "left": null,
            "margin": null,
            "max_height": null,
            "max_width": null,
            "min_height": null,
            "min_width": null,
            "object_fit": null,
            "object_position": null,
            "order": null,
            "overflow": null,
            "overflow_x": null,
            "overflow_y": null,
            "padding": null,
            "right": null,
            "top": null,
            "visibility": null,
            "width": null
          }
        },
        "30fe934c714346dcbbcd8d448870cc56": {
          "model_module": "@jupyter-widgets/base",
          "model_module_version": "1.2.0",
          "model_name": "LayoutModel",
          "state": {
            "_model_module": "@jupyter-widgets/base",
            "_model_module_version": "1.2.0",
            "_model_name": "LayoutModel",
            "_view_count": null,
            "_view_module": "@jupyter-widgets/base",
            "_view_module_version": "1.2.0",
            "_view_name": "LayoutView",
            "align_content": null,
            "align_items": null,
            "align_self": null,
            "border": null,
            "bottom": null,
            "display": null,
            "flex": null,
            "flex_flow": null,
            "grid_area": null,
            "grid_auto_columns": null,
            "grid_auto_flow": null,
            "grid_auto_rows": null,
            "grid_column": null,
            "grid_gap": null,
            "grid_row": null,
            "grid_template_areas": null,
            "grid_template_columns": null,
            "grid_template_rows": null,
            "height": null,
            "justify_content": null,
            "justify_items": null,
            "left": null,
            "margin": null,
            "max_height": null,
            "max_width": null,
            "min_height": null,
            "min_width": null,
            "object_fit": null,
            "object_position": null,
            "order": null,
            "overflow": null,
            "overflow_x": null,
            "overflow_y": null,
            "padding": null,
            "right": null,
            "top": null,
            "visibility": null,
            "width": null
          }
        },
        "3411c4eae52e40ac96aa580335e5382f": {
          "model_module": "@jupyter-widgets/controls",
          "model_module_version": "1.5.0",
          "model_name": "DescriptionStyleModel",
          "state": {
            "_model_module": "@jupyter-widgets/controls",
            "_model_module_version": "1.5.0",
            "_model_name": "DescriptionStyleModel",
            "_view_count": null,
            "_view_module": "@jupyter-widgets/base",
            "_view_module_version": "1.2.0",
            "_view_name": "StyleView",
            "description_width": ""
          }
        },
        "39e0a18bb70542c4a4b9a3f8849ed3f5": {
          "model_module": "@jupyter-widgets/base",
          "model_module_version": "1.2.0",
          "model_name": "LayoutModel",
          "state": {
            "_model_module": "@jupyter-widgets/base",
            "_model_module_version": "1.2.0",
            "_model_name": "LayoutModel",
            "_view_count": null,
            "_view_module": "@jupyter-widgets/base",
            "_view_module_version": "1.2.0",
            "_view_name": "LayoutView",
            "align_content": null,
            "align_items": null,
            "align_self": null,
            "border": null,
            "bottom": null,
            "display": null,
            "flex": null,
            "flex_flow": null,
            "grid_area": null,
            "grid_auto_columns": null,
            "grid_auto_flow": null,
            "grid_auto_rows": null,
            "grid_column": null,
            "grid_gap": null,
            "grid_row": null,
            "grid_template_areas": null,
            "grid_template_columns": null,
            "grid_template_rows": null,
            "height": null,
            "justify_content": null,
            "justify_items": null,
            "left": null,
            "margin": null,
            "max_height": null,
            "max_width": null,
            "min_height": null,
            "min_width": null,
            "object_fit": null,
            "object_position": null,
            "order": null,
            "overflow": null,
            "overflow_x": null,
            "overflow_y": null,
            "padding": null,
            "right": null,
            "top": null,
            "visibility": null,
            "width": null
          }
        },
        "3af080894f0b41b7873e5b291caeda44": {
          "model_module": "@jupyter-widgets/controls",
          "model_module_version": "1.5.0",
          "model_name": "HTMLModel",
          "state": {
            "_dom_classes": [],
            "_model_module": "@jupyter-widgets/controls",
            "_model_module_version": "1.5.0",
            "_model_name": "HTMLModel",
            "_view_count": null,
            "_view_module": "@jupyter-widgets/controls",
            "_view_module_version": "1.5.0",
            "_view_name": "HTMLView",
            "description": "",
            "description_tooltip": null,
            "layout": "IPY_MODEL_511d0ee308d346a2a442e943fe4dce41",
            "placeholder": "​",
            "style": "IPY_MODEL_91be68d8c02b4d9996155856de872f84",
            "value": "Downloading data: 100%"
          }
        },
        "3f3eb5f289dc4dd79696e948813015a2": {
          "model_module": "@jupyter-widgets/controls",
          "model_module_version": "1.5.0",
          "model_name": "HTMLModel",
          "state": {
            "_dom_classes": [],
            "_model_module": "@jupyter-widgets/controls",
            "_model_module_version": "1.5.0",
            "_model_name": "HTMLModel",
            "_view_count": null,
            "_view_module": "@jupyter-widgets/controls",
            "_view_module_version": "1.5.0",
            "_view_name": "HTMLView",
            "description": "",
            "description_tooltip": null,
            "layout": "IPY_MODEL_2b052b7d80be4055884ff04a89119f57",
            "placeholder": "​",
            "style": "IPY_MODEL_439251714f2343a4a0160e1687ca5505",
            "value": "Downloading builder script: "
          }
        },
        "4173f4b9372e4d2d8dfe1fc4a20a3234": {
          "model_module": "@jupyter-widgets/base",
          "model_module_version": "1.2.0",
          "model_name": "LayoutModel",
          "state": {
            "_model_module": "@jupyter-widgets/base",
            "_model_module_version": "1.2.0",
            "_model_name": "LayoutModel",
            "_view_count": null,
            "_view_module": "@jupyter-widgets/base",
            "_view_module_version": "1.2.0",
            "_view_name": "LayoutView",
            "align_content": null,
            "align_items": null,
            "align_self": null,
            "border": null,
            "bottom": null,
            "display": null,
            "flex": null,
            "flex_flow": null,
            "grid_area": null,
            "grid_auto_columns": null,
            "grid_auto_flow": null,
            "grid_auto_rows": null,
            "grid_column": null,
            "grid_gap": null,
            "grid_row": null,
            "grid_template_areas": null,
            "grid_template_columns": null,
            "grid_template_rows": null,
            "height": null,
            "justify_content": null,
            "justify_items": null,
            "left": null,
            "margin": null,
            "max_height": null,
            "max_width": null,
            "min_height": null,
            "min_width": null,
            "object_fit": null,
            "object_position": null,
            "order": null,
            "overflow": null,
            "overflow_x": null,
            "overflow_y": null,
            "padding": null,
            "right": null,
            "top": null,
            "visibility": null,
            "width": null
          }
        },
        "439251714f2343a4a0160e1687ca5505": {
          "model_module": "@jupyter-widgets/controls",
          "model_module_version": "1.5.0",
          "model_name": "DescriptionStyleModel",
          "state": {
            "_model_module": "@jupyter-widgets/controls",
            "_model_module_version": "1.5.0",
            "_model_name": "DescriptionStyleModel",
            "_view_count": null,
            "_view_module": "@jupyter-widgets/base",
            "_view_module_version": "1.2.0",
            "_view_name": "StyleView",
            "description_width": ""
          }
        },
        "448423fca9884abc92b1ec92fb147d37": {
          "model_module": "@jupyter-widgets/controls",
          "model_module_version": "1.5.0",
          "model_name": "FloatProgressModel",
          "state": {
            "_dom_classes": [],
            "_model_module": "@jupyter-widgets/controls",
            "_model_module_version": "1.5.0",
            "_model_name": "FloatProgressModel",
            "_view_count": null,
            "_view_module": "@jupyter-widgets/controls",
            "_view_module_version": "1.5.0",
            "_view_name": "ProgressView",
            "bar_style": "success",
            "description": "",
            "description_tooltip": null,
            "layout": "IPY_MODEL_846533fb1a5d4d2bb304869d80503109",
            "max": 1445,
            "min": 0,
            "orientation": "horizontal",
            "style": "IPY_MODEL_1df444cf8eed49c4bcecf66cf3749ee9",
            "value": 1445
          }
        },
        "46b8db59bffe4666b702412bdd59924a": {
          "model_module": "@jupyter-widgets/controls",
          "model_module_version": "1.5.0",
          "model_name": "FloatProgressModel",
          "state": {
            "_dom_classes": [],
            "_model_module": "@jupyter-widgets/controls",
            "_model_module_version": "1.5.0",
            "_model_name": "FloatProgressModel",
            "_view_count": null,
            "_view_module": "@jupyter-widgets/controls",
            "_view_module_version": "1.5.0",
            "_view_name": "ProgressView",
            "bar_style": "success",
            "description": "",
            "description_tooltip": null,
            "layout": "IPY_MODEL_7bee836d6b8f4b0c9ba8f2a7887293b3",
            "max": 452,
            "min": 0,
            "orientation": "horizontal",
            "style": "IPY_MODEL_225de94ebb1e4529b9884480b8352a01",
            "value": 452
          }
        },
        "48349b534e08425dbcf8d68063a8f862": {
          "model_module": "@jupyter-widgets/controls",
          "model_module_version": "1.5.0",
          "model_name": "HBoxModel",
          "state": {
            "_dom_classes": [],
            "_model_module": "@jupyter-widgets/controls",
            "_model_module_version": "1.5.0",
            "_model_name": "HBoxModel",
            "_view_count": null,
            "_view_module": "@jupyter-widgets/controls",
            "_view_module_version": "1.5.0",
            "_view_name": "HBoxView",
            "box_style": "",
            "children": [
              "IPY_MODEL_7f434a0e7bbb475dbfd44137fb01f08a",
              "IPY_MODEL_448423fca9884abc92b1ec92fb147d37",
              "IPY_MODEL_812c4daa46e840d5b4b8e89217702c9c"
            ],
            "layout": "IPY_MODEL_b86f6b4af5a240968e33ddc2ec09d9a4"
          }
        },
        "4aef418296c049339ae0c2442a16ebfe": {
          "model_module": "@jupyter-widgets/controls",
          "model_module_version": "1.5.0",
          "model_name": "FloatProgressModel",
          "state": {
            "_dom_classes": [],
            "_model_module": "@jupyter-widgets/controls",
            "_model_module_version": "1.5.0",
            "_model_name": "FloatProgressModel",
            "_view_count": null,
            "_view_module": "@jupyter-widgets/controls",
            "_view_module_version": "1.5.0",
            "_view_name": "ProgressView",
            "bar_style": "success",
            "description": "",
            "description_tooltip": null,
            "layout": "IPY_MODEL_da4460d1e4b144b2a310d029327c7894",
            "max": 681890,
            "min": 0,
            "orientation": "horizontal",
            "style": "IPY_MODEL_eda93e8f13f64a42b3bc4c8723113f61",
            "value": 681890
          }
        },
        "4b2a305a168649eb905d851ffbb6b829": {
          "model_module": "@jupyter-widgets/controls",
          "model_module_version": "1.5.0",
          "model_name": "HBoxModel",
          "state": {
            "_dom_classes": [],
            "_model_module": "@jupyter-widgets/controls",
            "_model_module_version": "1.5.0",
            "_model_name": "HBoxModel",
            "_view_count": null,
            "_view_module": "@jupyter-widgets/controls",
            "_view_module_version": "1.5.0",
            "_view_name": "HBoxView",
            "box_style": "",
            "children": [
              "IPY_MODEL_3af080894f0b41b7873e5b291caeda44",
              "IPY_MODEL_4aef418296c049339ae0c2442a16ebfe",
              "IPY_MODEL_eeb82365750743728187c3b5c5e3040c"
            ],
            "layout": "IPY_MODEL_086e8a7f0c39406bada1f59f8777ef15"
          }
        },
        "511d0ee308d346a2a442e943fe4dce41": {
          "model_module": "@jupyter-widgets/base",
          "model_module_version": "1.2.0",
          "model_name": "LayoutModel",
          "state": {
            "_model_module": "@jupyter-widgets/base",
            "_model_module_version": "1.2.0",
            "_model_name": "LayoutModel",
            "_view_count": null,
            "_view_module": "@jupyter-widgets/base",
            "_view_module_version": "1.2.0",
            "_view_name": "LayoutView",
            "align_content": null,
            "align_items": null,
            "align_self": null,
            "border": null,
            "bottom": null,
            "display": null,
            "flex": null,
            "flex_flow": null,
            "grid_area": null,
            "grid_auto_columns": null,
            "grid_auto_flow": null,
            "grid_auto_rows": null,
            "grid_column": null,
            "grid_gap": null,
            "grid_row": null,
            "grid_template_areas": null,
            "grid_template_columns": null,
            "grid_template_rows": null,
            "height": null,
            "justify_content": null,
            "justify_items": null,
            "left": null,
            "margin": null,
            "max_height": null,
            "max_width": null,
            "min_height": null,
            "min_width": null,
            "object_fit": null,
            "object_position": null,
            "order": null,
            "overflow": null,
            "overflow_x": null,
            "overflow_y": null,
            "padding": null,
            "right": null,
            "top": null,
            "visibility": null,
            "width": null
          }
        },
        "55684cbc918644b3bb7da1f27dbd2a73": {
          "model_module": "@jupyter-widgets/controls",
          "model_module_version": "1.5.0",
          "model_name": "HTMLModel",
          "state": {
            "_dom_classes": [],
            "_model_module": "@jupyter-widgets/controls",
            "_model_module_version": "1.5.0",
            "_model_name": "HTMLModel",
            "_view_count": null,
            "_view_module": "@jupyter-widgets/controls",
            "_view_module_version": "1.5.0",
            "_view_name": "HTMLView",
            "description": "",
            "description_tooltip": null,
            "layout": "IPY_MODEL_4173f4b9372e4d2d8dfe1fc4a20a3234",
            "placeholder": "​",
            "style": "IPY_MODEL_ae971f83dc164506be41cfcd0c4b38a2",
            "value": " 362/362 [00:00&lt;00:00, 6701.05it/s]"
          }
        },
        "58f2b0cb021648b5a693f5dfafe5566f": {
          "model_module": "@jupyter-widgets/controls",
          "model_module_version": "1.5.0",
          "model_name": "HTMLModel",
          "state": {
            "_dom_classes": [],
            "_model_module": "@jupyter-widgets/controls",
            "_model_module_version": "1.5.0",
            "_model_name": "HTMLModel",
            "_view_count": null,
            "_view_module": "@jupyter-widgets/controls",
            "_view_module_version": "1.5.0",
            "_view_name": "HTMLView",
            "description": "",
            "description_tooltip": null,
            "layout": "IPY_MODEL_5a2e4366d39a41d29661854f74f1894a",
            "placeholder": "​",
            "style": "IPY_MODEL_c81fe9b7f2aa437e976a34b97f7c3bd1",
            "value": "100%"
          }
        },
        "5a2e4366d39a41d29661854f74f1894a": {
          "model_module": "@jupyter-widgets/base",
          "model_module_version": "1.2.0",
          "model_name": "LayoutModel",
          "state": {
            "_model_module": "@jupyter-widgets/base",
            "_model_module_version": "1.2.0",
            "_model_name": "LayoutModel",
            "_view_count": null,
            "_view_module": "@jupyter-widgets/base",
            "_view_module_version": "1.2.0",
            "_view_name": "LayoutView",
            "align_content": null,
            "align_items": null,
            "align_self": null,
            "border": null,
            "bottom": null,
            "display": null,
            "flex": null,
            "flex_flow": null,
            "grid_area": null,
            "grid_auto_columns": null,
            "grid_auto_flow": null,
            "grid_auto_rows": null,
            "grid_column": null,
            "grid_gap": null,
            "grid_row": null,
            "grid_template_areas": null,
            "grid_template_columns": null,
            "grid_template_rows": null,
            "height": null,
            "justify_content": null,
            "justify_items": null,
            "left": null,
            "margin": null,
            "max_height": null,
            "max_width": null,
            "min_height": null,
            "min_width": null,
            "object_fit": null,
            "object_position": null,
            "order": null,
            "overflow": null,
            "overflow_x": null,
            "overflow_y": null,
            "padding": null,
            "right": null,
            "top": null,
            "visibility": null,
            "width": null
          }
        },
        "5b3583dced8f4a69a73261fb69472b67": {
          "model_module": "@jupyter-widgets/controls",
          "model_module_version": "1.5.0",
          "model_name": "HBoxModel",
          "state": {
            "_dom_classes": [],
            "_model_module": "@jupyter-widgets/controls",
            "_model_module_version": "1.5.0",
            "_model_name": "HBoxModel",
            "_view_count": null,
            "_view_module": "@jupyter-widgets/controls",
            "_view_module_version": "1.5.0",
            "_view_name": "HBoxView",
            "box_style": "",
            "children": [
              "IPY_MODEL_c0754b36891e4ebabede6d511bc1f6f4",
              "IPY_MODEL_e521f82ffb4447e98d6b1df8093cc2b4",
              "IPY_MODEL_82f144b6faa346d290b4d81162dbfc69"
            ],
            "layout": "IPY_MODEL_853be4d34b2e4f04934360489ff19ab9"
          }
        },
        "5be43c170816475184e568e61c108a9e": {
          "model_module": "@jupyter-widgets/base",
          "model_module_version": "1.2.0",
          "model_name": "LayoutModel",
          "state": {
            "_model_module": "@jupyter-widgets/base",
            "_model_module_version": "1.2.0",
            "_model_name": "LayoutModel",
            "_view_count": null,
            "_view_module": "@jupyter-widgets/base",
            "_view_module_version": "1.2.0",
            "_view_name": "LayoutView",
            "align_content": null,
            "align_items": null,
            "align_self": null,
            "border": null,
            "bottom": null,
            "display": null,
            "flex": null,
            "flex_flow": null,
            "grid_area": null,
            "grid_auto_columns": null,
            "grid_auto_flow": null,
            "grid_auto_rows": null,
            "grid_column": null,
            "grid_gap": null,
            "grid_row": null,
            "grid_template_areas": null,
            "grid_template_columns": null,
            "grid_template_rows": null,
            "height": null,
            "justify_content": null,
            "justify_items": null,
            "left": null,
            "margin": null,
            "max_height": null,
            "max_width": null,
            "min_height": null,
            "min_width": null,
            "object_fit": null,
            "object_position": null,
            "order": null,
            "overflow": null,
            "overflow_x": null,
            "overflow_y": null,
            "padding": null,
            "right": null,
            "top": null,
            "visibility": null,
            "width": null
          }
        },
        "5e40faeefcd345758f541679bb929854": {
          "model_module": "@jupyter-widgets/controls",
          "model_module_version": "1.5.0",
          "model_name": "HBoxModel",
          "state": {
            "_dom_classes": [],
            "_model_module": "@jupyter-widgets/controls",
            "_model_module_version": "1.5.0",
            "_model_name": "HBoxModel",
            "_view_count": null,
            "_view_module": "@jupyter-widgets/controls",
            "_view_module_version": "1.5.0",
            "_view_name": "HBoxView",
            "box_style": "",
            "children": [
              "IPY_MODEL_9948313f4f5046a9b02a541fe8067723",
              "IPY_MODEL_fe1d5fae301e4233bafff9f6f4bd3c8c",
              "IPY_MODEL_55684cbc918644b3bb7da1f27dbd2a73"
            ],
            "layout": "IPY_MODEL_39e0a18bb70542c4a4b9a3f8849ed3f5"
          }
        },
        "609b4461e98241088dfaec87ab9d8425": {
          "model_module": "@jupyter-widgets/base",
          "model_module_version": "1.2.0",
          "model_name": "LayoutModel",
          "state": {
            "_model_module": "@jupyter-widgets/base",
            "_model_module_version": "1.2.0",
            "_model_name": "LayoutModel",
            "_view_count": null,
            "_view_module": "@jupyter-widgets/base",
            "_view_module_version": "1.2.0",
            "_view_name": "LayoutView",
            "align_content": null,
            "align_items": null,
            "align_self": null,
            "border": null,
            "bottom": null,
            "display": null,
            "flex": null,
            "flex_flow": null,
            "grid_area": null,
            "grid_auto_columns": null,
            "grid_auto_flow": null,
            "grid_auto_rows": null,
            "grid_column": null,
            "grid_gap": null,
            "grid_row": null,
            "grid_template_areas": null,
            "grid_template_columns": null,
            "grid_template_rows": null,
            "height": null,
            "justify_content": null,
            "justify_items": null,
            "left": null,
            "margin": null,
            "max_height": null,
            "max_width": null,
            "min_height": null,
            "min_width": null,
            "object_fit": null,
            "object_position": null,
            "order": null,
            "overflow": null,
            "overflow_x": null,
            "overflow_y": null,
            "padding": null,
            "right": null,
            "top": null,
            "visibility": null,
            "width": null
          }
        },
        "70121bfc030d4d6fb5ad91559c731336": {
          "model_module": "@jupyter-widgets/controls",
          "model_module_version": "1.5.0",
          "model_name": "HBoxModel",
          "state": {
            "_dom_classes": [],
            "_model_module": "@jupyter-widgets/controls",
            "_model_module_version": "1.5.0",
            "_model_name": "HBoxModel",
            "_view_count": null,
            "_view_module": "@jupyter-widgets/controls",
            "_view_module_version": "1.5.0",
            "_view_name": "HBoxView",
            "box_style": "",
            "children": [
              "IPY_MODEL_58f2b0cb021648b5a693f5dfafe5566f",
              "IPY_MODEL_46b8db59bffe4666b702412bdd59924a",
              "IPY_MODEL_cbddbb06d67246278592f9d2bf964a68"
            ],
            "layout": "IPY_MODEL_609b4461e98241088dfaec87ab9d8425"
          }
        },
        "70bb62dacde1425986c9bed313ae31c6": {
          "model_module": "@jupyter-widgets/controls",
          "model_module_version": "1.5.0",
          "model_name": "HTMLModel",
          "state": {
            "_dom_classes": [],
            "_model_module": "@jupyter-widgets/controls",
            "_model_module_version": "1.5.0",
            "_model_name": "HTMLModel",
            "_view_count": null,
            "_view_module": "@jupyter-widgets/controls",
            "_view_module_version": "1.5.0",
            "_view_name": "HTMLView",
            "description": "",
            "description_tooltip": null,
            "layout": "IPY_MODEL_0bee177f590040bf9c26811aeb192f4b",
            "placeholder": "​",
            "style": "IPY_MODEL_283fa5a46bee4689a8f1b9940e01d925",
            "value": " 700/2264 [00:00&lt;00:00, 6998.30 examples/s]"
          }
        },
        "72f26dc301e3462593beb98110c2eb84": {
          "model_module": "@jupyter-widgets/controls",
          "model_module_version": "1.5.0",
          "model_name": "ProgressStyleModel",
          "state": {
            "_model_module": "@jupyter-widgets/controls",
            "_model_module_version": "1.5.0",
            "_model_name": "ProgressStyleModel",
            "_view_count": null,
            "_view_module": "@jupyter-widgets/base",
            "_view_module_version": "1.2.0",
            "_view_name": "StyleView",
            "bar_color": null,
            "description_width": ""
          }
        },
        "7bee836d6b8f4b0c9ba8f2a7887293b3": {
          "model_module": "@jupyter-widgets/base",
          "model_module_version": "1.2.0",
          "model_name": "LayoutModel",
          "state": {
            "_model_module": "@jupyter-widgets/base",
            "_model_module_version": "1.2.0",
            "_model_name": "LayoutModel",
            "_view_count": null,
            "_view_module": "@jupyter-widgets/base",
            "_view_module_version": "1.2.0",
            "_view_name": "LayoutView",
            "align_content": null,
            "align_items": null,
            "align_self": null,
            "border": null,
            "bottom": null,
            "display": null,
            "flex": null,
            "flex_flow": null,
            "grid_area": null,
            "grid_auto_columns": null,
            "grid_auto_flow": null,
            "grid_auto_rows": null,
            "grid_column": null,
            "grid_gap": null,
            "grid_row": null,
            "grid_template_areas": null,
            "grid_template_columns": null,
            "grid_template_rows": null,
            "height": null,
            "justify_content": null,
            "justify_items": null,
            "left": null,
            "margin": null,
            "max_height": null,
            "max_width": null,
            "min_height": null,
            "min_width": null,
            "object_fit": null,
            "object_position": null,
            "order": null,
            "overflow": null,
            "overflow_x": null,
            "overflow_y": null,
            "padding": null,
            "right": null,
            "top": null,
            "visibility": null,
            "width": null
          }
        },
        "7ee79e4c5f17432db9b849842b839ba8": {
          "model_module": "@jupyter-widgets/base",
          "model_module_version": "1.2.0",
          "model_name": "LayoutModel",
          "state": {
            "_model_module": "@jupyter-widgets/base",
            "_model_module_version": "1.2.0",
            "_model_name": "LayoutModel",
            "_view_count": null,
            "_view_module": "@jupyter-widgets/base",
            "_view_module_version": "1.2.0",
            "_view_name": "LayoutView",
            "align_content": null,
            "align_items": null,
            "align_self": null,
            "border": null,
            "bottom": null,
            "display": null,
            "flex": null,
            "flex_flow": null,
            "grid_area": null,
            "grid_auto_columns": null,
            "grid_auto_flow": null,
            "grid_auto_rows": null,
            "grid_column": null,
            "grid_gap": null,
            "grid_row": null,
            "grid_template_areas": null,
            "grid_template_columns": null,
            "grid_template_rows": null,
            "height": null,
            "justify_content": null,
            "justify_items": null,
            "left": null,
            "margin": null,
            "max_height": null,
            "max_width": null,
            "min_height": null,
            "min_width": null,
            "object_fit": null,
            "object_position": null,
            "order": null,
            "overflow": null,
            "overflow_x": null,
            "overflow_y": null,
            "padding": null,
            "right": null,
            "top": null,
            "visibility": null,
            "width": null
          }
        },
        "7f434a0e7bbb475dbfd44137fb01f08a": {
          "model_module": "@jupyter-widgets/controls",
          "model_module_version": "1.5.0",
          "model_name": "HTMLModel",
          "state": {
            "_dom_classes": [],
            "_model_module": "@jupyter-widgets/controls",
            "_model_module_version": "1.5.0",
            "_model_name": "HTMLModel",
            "_view_count": null,
            "_view_module": "@jupyter-widgets/controls",
            "_view_module_version": "1.5.0",
            "_view_name": "HTMLView",
            "description": "",
            "description_tooltip": null,
            "layout": "IPY_MODEL_84f5e227df904f32b2415967314e5285",
            "placeholder": "​",
            "style": "IPY_MODEL_1d2b3c5ef9204ffc9b5743d835f6de20",
            "value": "100%"
          }
        },
        "812c4daa46e840d5b4b8e89217702c9c": {
          "model_module": "@jupyter-widgets/controls",
          "model_module_version": "1.5.0",
          "model_name": "HTMLModel",
          "state": {
            "_dom_classes": [],
            "_model_module": "@jupyter-widgets/controls",
            "_model_module_version": "1.5.0",
            "_model_name": "HTMLModel",
            "_view_count": null,
            "_view_module": "@jupyter-widgets/controls",
            "_view_module_version": "1.5.0",
            "_view_name": "HTMLView",
            "description": "",
            "description_tooltip": null,
            "layout": "IPY_MODEL_c92efebbb54b4685a55cc4bcb1602112",
            "placeholder": "​",
            "style": "IPY_MODEL_cf7daa35d07e4a5b9c9d1cc85b647d0e",
            "value": " 1445/1445 [00:00&lt;00:00, 33056.46it/s]"
          }
        },
        "82f144b6faa346d290b4d81162dbfc69": {
          "model_module": "@jupyter-widgets/controls",
          "model_module_version": "1.5.0",
          "model_name": "HTMLModel",
          "state": {
            "_dom_classes": [],
            "_model_module": "@jupyter-widgets/controls",
            "_model_module_version": "1.5.0",
            "_model_name": "HTMLModel",
            "_view_count": null,
            "_view_module": "@jupyter-widgets/controls",
            "_view_module_version": "1.5.0",
            "_view_name": "HTMLView",
            "description": "",
            "description_tooltip": null,
            "layout": "IPY_MODEL_5be43c170816475184e568e61c108a9e",
            "placeholder": "​",
            "style": "IPY_MODEL_a8150cd5c44e4e7aaaec253ce8597337",
            "value": " 13.9k/? [00:00&lt;00:00, 184kB/s]"
          }
        },
        "846533fb1a5d4d2bb304869d80503109": {
          "model_module": "@jupyter-widgets/base",
          "model_module_version": "1.2.0",
          "model_name": "LayoutModel",
          "state": {
            "_model_module": "@jupyter-widgets/base",
            "_model_module_version": "1.2.0",
            "_model_name": "LayoutModel",
            "_view_count": null,
            "_view_module": "@jupyter-widgets/base",
            "_view_module_version": "1.2.0",
            "_view_name": "LayoutView",
            "align_content": null,
            "align_items": null,
            "align_self": null,
            "border": null,
            "bottom": null,
            "display": null,
            "flex": null,
            "flex_flow": null,
            "grid_area": null,
            "grid_auto_columns": null,
            "grid_auto_flow": null,
            "grid_auto_rows": null,
            "grid_column": null,
            "grid_gap": null,
            "grid_row": null,
            "grid_template_areas": null,
            "grid_template_columns": null,
            "grid_template_rows": null,
            "height": null,
            "justify_content": null,
            "justify_items": null,
            "left": null,
            "margin": null,
            "max_height": null,
            "max_width": null,
            "min_height": null,
            "min_width": null,
            "object_fit": null,
            "object_position": null,
            "order": null,
            "overflow": null,
            "overflow_x": null,
            "overflow_y": null,
            "padding": null,
            "right": null,
            "top": null,
            "visibility": null,
            "width": null
          }
        },
        "84f5e227df904f32b2415967314e5285": {
          "model_module": "@jupyter-widgets/base",
          "model_module_version": "1.2.0",
          "model_name": "LayoutModel",
          "state": {
            "_model_module": "@jupyter-widgets/base",
            "_model_module_version": "1.2.0",
            "_model_name": "LayoutModel",
            "_view_count": null,
            "_view_module": "@jupyter-widgets/base",
            "_view_module_version": "1.2.0",
            "_view_name": "LayoutView",
            "align_content": null,
            "align_items": null,
            "align_self": null,
            "border": null,
            "bottom": null,
            "display": null,
            "flex": null,
            "flex_flow": null,
            "grid_area": null,
            "grid_auto_columns": null,
            "grid_auto_flow": null,
            "grid_auto_rows": null,
            "grid_column": null,
            "grid_gap": null,
            "grid_row": null,
            "grid_template_areas": null,
            "grid_template_columns": null,
            "grid_template_rows": null,
            "height": null,
            "justify_content": null,
            "justify_items": null,
            "left": null,
            "margin": null,
            "max_height": null,
            "max_width": null,
            "min_height": null,
            "min_width": null,
            "object_fit": null,
            "object_position": null,
            "order": null,
            "overflow": null,
            "overflow_x": null,
            "overflow_y": null,
            "padding": null,
            "right": null,
            "top": null,
            "visibility": null,
            "width": null
          }
        },
        "853be4d34b2e4f04934360489ff19ab9": {
          "model_module": "@jupyter-widgets/base",
          "model_module_version": "1.2.0",
          "model_name": "LayoutModel",
          "state": {
            "_model_module": "@jupyter-widgets/base",
            "_model_module_version": "1.2.0",
            "_model_name": "LayoutModel",
            "_view_count": null,
            "_view_module": "@jupyter-widgets/base",
            "_view_module_version": "1.2.0",
            "_view_name": "LayoutView",
            "align_content": null,
            "align_items": null,
            "align_self": null,
            "border": null,
            "bottom": null,
            "display": null,
            "flex": null,
            "flex_flow": null,
            "grid_area": null,
            "grid_auto_columns": null,
            "grid_auto_flow": null,
            "grid_auto_rows": null,
            "grid_column": null,
            "grid_gap": null,
            "grid_row": null,
            "grid_template_areas": null,
            "grid_template_columns": null,
            "grid_template_rows": null,
            "height": null,
            "justify_content": null,
            "justify_items": null,
            "left": null,
            "margin": null,
            "max_height": null,
            "max_width": null,
            "min_height": null,
            "min_width": null,
            "object_fit": null,
            "object_position": null,
            "order": null,
            "overflow": null,
            "overflow_x": null,
            "overflow_y": null,
            "padding": null,
            "right": null,
            "top": null,
            "visibility": null,
            "width": null
          }
        },
        "883862d4a2ef4661a5243821e3fc7e7f": {
          "model_module": "@jupyter-widgets/controls",
          "model_module_version": "1.5.0",
          "model_name": "HBoxModel",
          "state": {
            "_dom_classes": [],
            "_model_module": "@jupyter-widgets/controls",
            "_model_module_version": "1.5.0",
            "_model_name": "HBoxModel",
            "_view_count": null,
            "_view_module": "@jupyter-widgets/controls",
            "_view_module_version": "1.5.0",
            "_view_name": "HBoxView",
            "box_style": "",
            "children": [
              "IPY_MODEL_3f3eb5f289dc4dd79696e948813015a2",
              "IPY_MODEL_eab17f982697403b96a750092972279d",
              "IPY_MODEL_c2da3837568a4f50987f0d16fbe6d3ba"
            ],
            "layout": "IPY_MODEL_2b75bf52886c43d481cebc041da85e06"
          }
        },
        "91be68d8c02b4d9996155856de872f84": {
          "model_module": "@jupyter-widgets/controls",
          "model_module_version": "1.5.0",
          "model_name": "DescriptionStyleModel",
          "state": {
            "_model_module": "@jupyter-widgets/controls",
            "_model_module_version": "1.5.0",
            "_model_name": "DescriptionStyleModel",
            "_view_count": null,
            "_view_module": "@jupyter-widgets/base",
            "_view_module_version": "1.2.0",
            "_view_name": "StyleView",
            "description_width": ""
          }
        },
        "9948313f4f5046a9b02a541fe8067723": {
          "model_module": "@jupyter-widgets/controls",
          "model_module_version": "1.5.0",
          "model_name": "HTMLModel",
          "state": {
            "_dom_classes": [],
            "_model_module": "@jupyter-widgets/controls",
            "_model_module_version": "1.5.0",
            "_model_name": "HTMLModel",
            "_view_count": null,
            "_view_module": "@jupyter-widgets/controls",
            "_view_module_version": "1.5.0",
            "_view_name": "HTMLView",
            "description": "",
            "description_tooltip": null,
            "layout": "IPY_MODEL_30fe934c714346dcbbcd8d448870cc56",
            "placeholder": "​",
            "style": "IPY_MODEL_e5a1c687690d4f1a96ddf13dfc4f0609",
            "value": "100%"
          }
        },
        "9b196b2f76cb4d92a66a7d0e98c44bcd": {
          "model_module": "@jupyter-widgets/controls",
          "model_module_version": "1.5.0",
          "model_name": "DescriptionStyleModel",
          "state": {
            "_model_module": "@jupyter-widgets/controls",
            "_model_module_version": "1.5.0",
            "_model_name": "DescriptionStyleModel",
            "_view_count": null,
            "_view_module": "@jupyter-widgets/base",
            "_view_module_version": "1.2.0",
            "_view_name": "StyleView",
            "description_width": ""
          }
        },
        "a02343d8d7234cca89e4fa7e2468cde2": {
          "model_module": "@jupyter-widgets/base",
          "model_module_version": "1.2.0",
          "model_name": "LayoutModel",
          "state": {
            "_model_module": "@jupyter-widgets/base",
            "_model_module_version": "1.2.0",
            "_model_name": "LayoutModel",
            "_view_count": null,
            "_view_module": "@jupyter-widgets/base",
            "_view_module_version": "1.2.0",
            "_view_name": "LayoutView",
            "align_content": null,
            "align_items": null,
            "align_self": null,
            "border": null,
            "bottom": null,
            "display": null,
            "flex": null,
            "flex_flow": null,
            "grid_area": null,
            "grid_auto_columns": null,
            "grid_auto_flow": null,
            "grid_auto_rows": null,
            "grid_column": null,
            "grid_gap": null,
            "grid_row": null,
            "grid_template_areas": null,
            "grid_template_columns": null,
            "grid_template_rows": null,
            "height": null,
            "justify_content": null,
            "justify_items": null,
            "left": null,
            "margin": null,
            "max_height": null,
            "max_width": null,
            "min_height": null,
            "min_width": null,
            "object_fit": null,
            "object_position": null,
            "order": null,
            "overflow": null,
            "overflow_x": null,
            "overflow_y": null,
            "padding": null,
            "right": null,
            "top": null,
            "visibility": null,
            "width": null
          }
        },
        "a21f58c4f1434dfba3b864e00e8f281e": {
          "model_module": "@jupyter-widgets/controls",
          "model_module_version": "1.5.0",
          "model_name": "DescriptionStyleModel",
          "state": {
            "_model_module": "@jupyter-widgets/controls",
            "_model_module_version": "1.5.0",
            "_model_name": "DescriptionStyleModel",
            "_view_count": null,
            "_view_module": "@jupyter-widgets/base",
            "_view_module_version": "1.2.0",
            "_view_name": "StyleView",
            "description_width": ""
          }
        },
        "a8150cd5c44e4e7aaaec253ce8597337": {
          "model_module": "@jupyter-widgets/controls",
          "model_module_version": "1.5.0",
          "model_name": "DescriptionStyleModel",
          "state": {
            "_model_module": "@jupyter-widgets/controls",
            "_model_module_version": "1.5.0",
            "_model_name": "DescriptionStyleModel",
            "_view_count": null,
            "_view_module": "@jupyter-widgets/base",
            "_view_module_version": "1.2.0",
            "_view_name": "StyleView",
            "description_width": ""
          }
        },
        "ab9db57f5b5d45dc9e7890437420b3b1": {
          "model_module": "@jupyter-widgets/controls",
          "model_module_version": "1.5.0",
          "model_name": "HBoxModel",
          "state": {
            "_dom_classes": [],
            "_model_module": "@jupyter-widgets/controls",
            "_model_module_version": "1.5.0",
            "_model_name": "HBoxModel",
            "_view_count": null,
            "_view_module": "@jupyter-widgets/controls",
            "_view_module_version": "1.5.0",
            "_view_name": "HBoxView",
            "box_style": "",
            "children": [
              "IPY_MODEL_26bdbab498fa4bf1bf6412296ea8574f",
              "IPY_MODEL_0c6ae522e11c426e88546462d8b9eb62",
              "IPY_MODEL_70bb62dacde1425986c9bed313ae31c6"
            ],
            "layout": "IPY_MODEL_dee205a463514767bacd748ccd6b4932"
          }
        },
        "ae971f83dc164506be41cfcd0c4b38a2": {
          "model_module": "@jupyter-widgets/controls",
          "model_module_version": "1.5.0",
          "model_name": "DescriptionStyleModel",
          "state": {
            "_model_module": "@jupyter-widgets/controls",
            "_model_module_version": "1.5.0",
            "_model_name": "DescriptionStyleModel",
            "_view_count": null,
            "_view_module": "@jupyter-widgets/base",
            "_view_module_version": "1.2.0",
            "_view_name": "StyleView",
            "description_width": ""
          }
        },
        "b7c6875183db45c4b5800f4679036e10": {
          "model_module": "@jupyter-widgets/base",
          "model_module_version": "1.2.0",
          "model_name": "LayoutModel",
          "state": {
            "_model_module": "@jupyter-widgets/base",
            "_model_module_version": "1.2.0",
            "_model_name": "LayoutModel",
            "_view_count": null,
            "_view_module": "@jupyter-widgets/base",
            "_view_module_version": "1.2.0",
            "_view_name": "LayoutView",
            "align_content": null,
            "align_items": null,
            "align_self": null,
            "border": null,
            "bottom": null,
            "display": null,
            "flex": null,
            "flex_flow": null,
            "grid_area": null,
            "grid_auto_columns": null,
            "grid_auto_flow": null,
            "grid_auto_rows": null,
            "grid_column": null,
            "grid_gap": null,
            "grid_row": null,
            "grid_template_areas": null,
            "grid_template_columns": null,
            "grid_template_rows": null,
            "height": null,
            "justify_content": null,
            "justify_items": null,
            "left": null,
            "margin": null,
            "max_height": null,
            "max_width": null,
            "min_height": null,
            "min_width": null,
            "object_fit": null,
            "object_position": null,
            "order": null,
            "overflow": null,
            "overflow_x": null,
            "overflow_y": null,
            "padding": null,
            "right": null,
            "top": null,
            "visibility": null,
            "width": null
          }
        },
        "b86f6b4af5a240968e33ddc2ec09d9a4": {
          "model_module": "@jupyter-widgets/base",
          "model_module_version": "1.2.0",
          "model_name": "LayoutModel",
          "state": {
            "_model_module": "@jupyter-widgets/base",
            "_model_module_version": "1.2.0",
            "_model_name": "LayoutModel",
            "_view_count": null,
            "_view_module": "@jupyter-widgets/base",
            "_view_module_version": "1.2.0",
            "_view_name": "LayoutView",
            "align_content": null,
            "align_items": null,
            "align_self": null,
            "border": null,
            "bottom": null,
            "display": null,
            "flex": null,
            "flex_flow": null,
            "grid_area": null,
            "grid_auto_columns": null,
            "grid_auto_flow": null,
            "grid_auto_rows": null,
            "grid_column": null,
            "grid_gap": null,
            "grid_row": null,
            "grid_template_areas": null,
            "grid_template_columns": null,
            "grid_template_rows": null,
            "height": null,
            "justify_content": null,
            "justify_items": null,
            "left": null,
            "margin": null,
            "max_height": null,
            "max_width": null,
            "min_height": null,
            "min_width": null,
            "object_fit": null,
            "object_position": null,
            "order": null,
            "overflow": null,
            "overflow_x": null,
            "overflow_y": null,
            "padding": null,
            "right": null,
            "top": null,
            "visibility": null,
            "width": null
          }
        },
        "c0754b36891e4ebabede6d511bc1f6f4": {
          "model_module": "@jupyter-widgets/controls",
          "model_module_version": "1.5.0",
          "model_name": "HTMLModel",
          "state": {
            "_dom_classes": [],
            "_model_module": "@jupyter-widgets/controls",
            "_model_module_version": "1.5.0",
            "_model_name": "HTMLModel",
            "_view_count": null,
            "_view_module": "@jupyter-widgets/controls",
            "_view_module_version": "1.5.0",
            "_view_name": "HTMLView",
            "description": "",
            "description_tooltip": null,
            "layout": "IPY_MODEL_7ee79e4c5f17432db9b849842b839ba8",
            "placeholder": "​",
            "style": "IPY_MODEL_c34c811d8a4a40b29ec08b52cdbb2903",
            "value": "Downloading metadata: "
          }
        },
        "c2da3837568a4f50987f0d16fbe6d3ba": {
          "model_module": "@jupyter-widgets/controls",
          "model_module_version": "1.5.0",
          "model_name": "HTMLModel",
          "state": {
            "_dom_classes": [],
            "_model_module": "@jupyter-widgets/controls",
            "_model_module_version": "1.5.0",
            "_model_name": "HTMLModel",
            "_view_count": null,
            "_view_module": "@jupyter-widgets/controls",
            "_view_module_version": "1.5.0",
            "_view_name": "HTMLView",
            "description": "",
            "description_tooltip": null,
            "layout": "IPY_MODEL_0c24745b30bb4769b239cdc88cf61699",
            "placeholder": "​",
            "style": "IPY_MODEL_0a58f214f94b40c88ebf9eac65d44b13",
            "value": " 6.07k/? [00:00&lt;00:00, 157kB/s]"
          }
        },
        "c34c811d8a4a40b29ec08b52cdbb2903": {
          "model_module": "@jupyter-widgets/controls",
          "model_module_version": "1.5.0",
          "model_name": "DescriptionStyleModel",
          "state": {
            "_model_module": "@jupyter-widgets/controls",
            "_model_module_version": "1.5.0",
            "_model_name": "DescriptionStyleModel",
            "_view_count": null,
            "_view_module": "@jupyter-widgets/base",
            "_view_module_version": "1.2.0",
            "_view_name": "StyleView",
            "description_width": ""
          }
        },
        "c81fe9b7f2aa437e976a34b97f7c3bd1": {
          "model_module": "@jupyter-widgets/controls",
          "model_module_version": "1.5.0",
          "model_name": "DescriptionStyleModel",
          "state": {
            "_model_module": "@jupyter-widgets/controls",
            "_model_module_version": "1.5.0",
            "_model_name": "DescriptionStyleModel",
            "_view_count": null,
            "_view_module": "@jupyter-widgets/base",
            "_view_module_version": "1.2.0",
            "_view_name": "StyleView",
            "description_width": ""
          }
        },
        "c92efebbb54b4685a55cc4bcb1602112": {
          "model_module": "@jupyter-widgets/base",
          "model_module_version": "1.2.0",
          "model_name": "LayoutModel",
          "state": {
            "_model_module": "@jupyter-widgets/base",
            "_model_module_version": "1.2.0",
            "_model_name": "LayoutModel",
            "_view_count": null,
            "_view_module": "@jupyter-widgets/base",
            "_view_module_version": "1.2.0",
            "_view_name": "LayoutView",
            "align_content": null,
            "align_items": null,
            "align_self": null,
            "border": null,
            "bottom": null,
            "display": null,
            "flex": null,
            "flex_flow": null,
            "grid_area": null,
            "grid_auto_columns": null,
            "grid_auto_flow": null,
            "grid_auto_rows": null,
            "grid_column": null,
            "grid_gap": null,
            "grid_row": null,
            "grid_template_areas": null,
            "grid_template_columns": null,
            "grid_template_rows": null,
            "height": null,
            "justify_content": null,
            "justify_items": null,
            "left": null,
            "margin": null,
            "max_height": null,
            "max_width": null,
            "min_height": null,
            "min_width": null,
            "object_fit": null,
            "object_position": null,
            "order": null,
            "overflow": null,
            "overflow_x": null,
            "overflow_y": null,
            "padding": null,
            "right": null,
            "top": null,
            "visibility": null,
            "width": null
          }
        },
        "cbddbb06d67246278592f9d2bf964a68": {
          "model_module": "@jupyter-widgets/controls",
          "model_module_version": "1.5.0",
          "model_name": "HTMLModel",
          "state": {
            "_dom_classes": [],
            "_model_module": "@jupyter-widgets/controls",
            "_model_module_version": "1.5.0",
            "_model_name": "HTMLModel",
            "_view_count": null,
            "_view_module": "@jupyter-widgets/controls",
            "_view_module_version": "1.5.0",
            "_view_name": "HTMLView",
            "description": "",
            "description_tooltip": null,
            "layout": "IPY_MODEL_b7c6875183db45c4b5800f4679036e10",
            "placeholder": "​",
            "style": "IPY_MODEL_a21f58c4f1434dfba3b864e00e8f281e",
            "value": " 452/452 [00:00&lt;00:00, 6911.48it/s]"
          }
        },
        "cf7daa35d07e4a5b9c9d1cc85b647d0e": {
          "model_module": "@jupyter-widgets/controls",
          "model_module_version": "1.5.0",
          "model_name": "DescriptionStyleModel",
          "state": {
            "_model_module": "@jupyter-widgets/controls",
            "_model_module_version": "1.5.0",
            "_model_name": "DescriptionStyleModel",
            "_view_count": null,
            "_view_module": "@jupyter-widgets/base",
            "_view_module_version": "1.2.0",
            "_view_name": "StyleView",
            "description_width": ""
          }
        },
        "d74f467059f44062aa6edf5cbdedba82": {
          "model_module": "@jupyter-widgets/base",
          "model_module_version": "1.2.0",
          "model_name": "LayoutModel",
          "state": {
            "_model_module": "@jupyter-widgets/base",
            "_model_module_version": "1.2.0",
            "_model_name": "LayoutModel",
            "_view_count": null,
            "_view_module": "@jupyter-widgets/base",
            "_view_module_version": "1.2.0",
            "_view_name": "LayoutView",
            "align_content": null,
            "align_items": null,
            "align_self": null,
            "border": null,
            "bottom": null,
            "display": null,
            "flex": null,
            "flex_flow": null,
            "grid_area": null,
            "grid_auto_columns": null,
            "grid_auto_flow": null,
            "grid_auto_rows": null,
            "grid_column": null,
            "grid_gap": null,
            "grid_row": null,
            "grid_template_areas": null,
            "grid_template_columns": null,
            "grid_template_rows": null,
            "height": null,
            "justify_content": null,
            "justify_items": null,
            "left": null,
            "margin": null,
            "max_height": null,
            "max_width": null,
            "min_height": null,
            "min_width": null,
            "object_fit": null,
            "object_position": null,
            "order": null,
            "overflow": null,
            "overflow_x": null,
            "overflow_y": null,
            "padding": null,
            "right": null,
            "top": null,
            "visibility": null,
            "width": null
          }
        },
        "d7e9eaa90f394a348da47b9ad8ec7576": {
          "model_module": "@jupyter-widgets/base",
          "model_module_version": "1.2.0",
          "model_name": "LayoutModel",
          "state": {
            "_model_module": "@jupyter-widgets/base",
            "_model_module_version": "1.2.0",
            "_model_name": "LayoutModel",
            "_view_count": null,
            "_view_module": "@jupyter-widgets/base",
            "_view_module_version": "1.2.0",
            "_view_name": "LayoutView",
            "align_content": null,
            "align_items": null,
            "align_self": null,
            "border": null,
            "bottom": null,
            "display": null,
            "flex": null,
            "flex_flow": null,
            "grid_area": null,
            "grid_auto_columns": null,
            "grid_auto_flow": null,
            "grid_auto_rows": null,
            "grid_column": null,
            "grid_gap": null,
            "grid_row": null,
            "grid_template_areas": null,
            "grid_template_columns": null,
            "grid_template_rows": null,
            "height": null,
            "justify_content": null,
            "justify_items": null,
            "left": null,
            "margin": null,
            "max_height": null,
            "max_width": null,
            "min_height": null,
            "min_width": null,
            "object_fit": null,
            "object_position": null,
            "order": null,
            "overflow": null,
            "overflow_x": null,
            "overflow_y": null,
            "padding": null,
            "right": null,
            "top": null,
            "visibility": null,
            "width": null
          }
        },
        "d8a38915ca874382b1c9c9c11858d653": {
          "model_module": "@jupyter-widgets/base",
          "model_module_version": "1.2.0",
          "model_name": "LayoutModel",
          "state": {
            "_model_module": "@jupyter-widgets/base",
            "_model_module_version": "1.2.0",
            "_model_name": "LayoutModel",
            "_view_count": null,
            "_view_module": "@jupyter-widgets/base",
            "_view_module_version": "1.2.0",
            "_view_name": "LayoutView",
            "align_content": null,
            "align_items": null,
            "align_self": null,
            "border": null,
            "bottom": null,
            "display": null,
            "flex": null,
            "flex_flow": null,
            "grid_area": null,
            "grid_auto_columns": null,
            "grid_auto_flow": null,
            "grid_auto_rows": null,
            "grid_column": null,
            "grid_gap": null,
            "grid_row": null,
            "grid_template_areas": null,
            "grid_template_columns": null,
            "grid_template_rows": null,
            "height": null,
            "justify_content": null,
            "justify_items": null,
            "left": null,
            "margin": null,
            "max_height": null,
            "max_width": null,
            "min_height": null,
            "min_width": null,
            "object_fit": null,
            "object_position": null,
            "order": null,
            "overflow": null,
            "overflow_x": null,
            "overflow_y": null,
            "padding": null,
            "right": null,
            "top": null,
            "visibility": null,
            "width": null
          }
        },
        "da4460d1e4b144b2a310d029327c7894": {
          "model_module": "@jupyter-widgets/base",
          "model_module_version": "1.2.0",
          "model_name": "LayoutModel",
          "state": {
            "_model_module": "@jupyter-widgets/base",
            "_model_module_version": "1.2.0",
            "_model_name": "LayoutModel",
            "_view_count": null,
            "_view_module": "@jupyter-widgets/base",
            "_view_module_version": "1.2.0",
            "_view_name": "LayoutView",
            "align_content": null,
            "align_items": null,
            "align_self": null,
            "border": null,
            "bottom": null,
            "display": null,
            "flex": null,
            "flex_flow": null,
            "grid_area": null,
            "grid_auto_columns": null,
            "grid_auto_flow": null,
            "grid_auto_rows": null,
            "grid_column": null,
            "grid_gap": null,
            "grid_row": null,
            "grid_template_areas": null,
            "grid_template_columns": null,
            "grid_template_rows": null,
            "height": null,
            "justify_content": null,
            "justify_items": null,
            "left": null,
            "margin": null,
            "max_height": null,
            "max_width": null,
            "min_height": null,
            "min_width": null,
            "object_fit": null,
            "object_position": null,
            "order": null,
            "overflow": null,
            "overflow_x": null,
            "overflow_y": null,
            "padding": null,
            "right": null,
            "top": null,
            "visibility": null,
            "width": null
          }
        },
        "dee205a463514767bacd748ccd6b4932": {
          "model_module": "@jupyter-widgets/base",
          "model_module_version": "1.2.0",
          "model_name": "LayoutModel",
          "state": {
            "_model_module": "@jupyter-widgets/base",
            "_model_module_version": "1.2.0",
            "_model_name": "LayoutModel",
            "_view_count": null,
            "_view_module": "@jupyter-widgets/base",
            "_view_module_version": "1.2.0",
            "_view_name": "LayoutView",
            "align_content": null,
            "align_items": null,
            "align_self": null,
            "border": null,
            "bottom": null,
            "display": null,
            "flex": null,
            "flex_flow": null,
            "grid_area": null,
            "grid_auto_columns": null,
            "grid_auto_flow": null,
            "grid_auto_rows": null,
            "grid_column": null,
            "grid_gap": null,
            "grid_row": null,
            "grid_template_areas": null,
            "grid_template_columns": null,
            "grid_template_rows": null,
            "height": null,
            "justify_content": null,
            "justify_items": null,
            "left": null,
            "margin": null,
            "max_height": null,
            "max_width": null,
            "min_height": null,
            "min_width": null,
            "object_fit": null,
            "object_position": null,
            "order": null,
            "overflow": null,
            "overflow_x": null,
            "overflow_y": null,
            "padding": null,
            "right": null,
            "top": null,
            "visibility": null,
            "width": null
          }
        },
        "e521f82ffb4447e98d6b1df8093cc2b4": {
          "model_module": "@jupyter-widgets/controls",
          "model_module_version": "1.5.0",
          "model_name": "FloatProgressModel",
          "state": {
            "_dom_classes": [],
            "_model_module": "@jupyter-widgets/controls",
            "_model_module_version": "1.5.0",
            "_model_name": "FloatProgressModel",
            "_view_count": null,
            "_view_module": "@jupyter-widgets/controls",
            "_view_module_version": "1.5.0",
            "_view_name": "ProgressView",
            "bar_style": "success",
            "description": "",
            "description_tooltip": null,
            "layout": "IPY_MODEL_e8156a81d6484e80acd7a89d6abad582",
            "max": 1927,
            "min": 0,
            "orientation": "horizontal",
            "style": "IPY_MODEL_72f26dc301e3462593beb98110c2eb84",
            "value": 1927
          }
        },
        "e5a1c687690d4f1a96ddf13dfc4f0609": {
          "model_module": "@jupyter-widgets/controls",
          "model_module_version": "1.5.0",
          "model_name": "DescriptionStyleModel",
          "state": {
            "_model_module": "@jupyter-widgets/controls",
            "_model_module_version": "1.5.0",
            "_model_name": "DescriptionStyleModel",
            "_view_count": null,
            "_view_module": "@jupyter-widgets/base",
            "_view_module_version": "1.2.0",
            "_view_name": "StyleView",
            "description_width": ""
          }
        },
        "e8156a81d6484e80acd7a89d6abad582": {
          "model_module": "@jupyter-widgets/base",
          "model_module_version": "1.2.0",
          "model_name": "LayoutModel",
          "state": {
            "_model_module": "@jupyter-widgets/base",
            "_model_module_version": "1.2.0",
            "_model_name": "LayoutModel",
            "_view_count": null,
            "_view_module": "@jupyter-widgets/base",
            "_view_module_version": "1.2.0",
            "_view_name": "LayoutView",
            "align_content": null,
            "align_items": null,
            "align_self": null,
            "border": null,
            "bottom": null,
            "display": null,
            "flex": null,
            "flex_flow": null,
            "grid_area": null,
            "grid_auto_columns": null,
            "grid_auto_flow": null,
            "grid_auto_rows": null,
            "grid_column": null,
            "grid_gap": null,
            "grid_row": null,
            "grid_template_areas": null,
            "grid_template_columns": null,
            "grid_template_rows": null,
            "height": null,
            "justify_content": null,
            "justify_items": null,
            "left": null,
            "margin": null,
            "max_height": null,
            "max_width": null,
            "min_height": null,
            "min_width": null,
            "object_fit": null,
            "object_position": null,
            "order": null,
            "overflow": null,
            "overflow_x": null,
            "overflow_y": null,
            "padding": null,
            "right": null,
            "top": null,
            "visibility": null,
            "width": null
          }
        },
        "eab17f982697403b96a750092972279d": {
          "model_module": "@jupyter-widgets/controls",
          "model_module_version": "1.5.0",
          "model_name": "FloatProgressModel",
          "state": {
            "_dom_classes": [],
            "_model_module": "@jupyter-widgets/controls",
            "_model_module_version": "1.5.0",
            "_model_name": "FloatProgressModel",
            "_view_count": null,
            "_view_module": "@jupyter-widgets/controls",
            "_view_module_version": "1.5.0",
            "_view_name": "ProgressView",
            "bar_style": "success",
            "description": "",
            "description_tooltip": null,
            "layout": "IPY_MODEL_a02343d8d7234cca89e4fa7e2468cde2",
            "max": 2608,
            "min": 0,
            "orientation": "horizontal",
            "style": "IPY_MODEL_25b706f197cc4f398f6e93958af941e7",
            "value": 2608
          }
        },
        "eda93e8f13f64a42b3bc4c8723113f61": {
          "model_module": "@jupyter-widgets/controls",
          "model_module_version": "1.5.0",
          "model_name": "ProgressStyleModel",
          "state": {
            "_model_module": "@jupyter-widgets/controls",
            "_model_module_version": "1.5.0",
            "_model_name": "ProgressStyleModel",
            "_view_count": null,
            "_view_module": "@jupyter-widgets/base",
            "_view_module_version": "1.2.0",
            "_view_name": "StyleView",
            "bar_color": null,
            "description_width": ""
          }
        },
        "eeb82365750743728187c3b5c5e3040c": {
          "model_module": "@jupyter-widgets/controls",
          "model_module_version": "1.5.0",
          "model_name": "HTMLModel",
          "state": {
            "_dom_classes": [],
            "_model_module": "@jupyter-widgets/controls",
            "_model_module_version": "1.5.0",
            "_model_name": "HTMLModel",
            "_view_count": null,
            "_view_module": "@jupyter-widgets/controls",
            "_view_module_version": "1.5.0",
            "_view_name": "HTMLView",
            "description": "",
            "description_tooltip": null,
            "layout": "IPY_MODEL_d74f467059f44062aa6edf5cbdedba82",
            "placeholder": "​",
            "style": "IPY_MODEL_3411c4eae52e40ac96aa580335e5382f",
            "value": " 682k/682k [00:00&lt;00:00, 5.38MB/s]"
          }
        },
        "fdbc9abf2fcc4fe8bea49e0b2566ceff": {
          "model_module": "@jupyter-widgets/base",
          "model_module_version": "1.2.0",
          "model_name": "LayoutModel",
          "state": {
            "_model_module": "@jupyter-widgets/base",
            "_model_module_version": "1.2.0",
            "_model_name": "LayoutModel",
            "_view_count": null,
            "_view_module": "@jupyter-widgets/base",
            "_view_module_version": "1.2.0",
            "_view_name": "LayoutView",
            "align_content": null,
            "align_items": null,
            "align_self": null,
            "border": null,
            "bottom": null,
            "display": null,
            "flex": null,
            "flex_flow": null,
            "grid_area": null,
            "grid_auto_columns": null,
            "grid_auto_flow": null,
            "grid_auto_rows": null,
            "grid_column": null,
            "grid_gap": null,
            "grid_row": null,
            "grid_template_areas": null,
            "grid_template_columns": null,
            "grid_template_rows": null,
            "height": null,
            "justify_content": null,
            "justify_items": null,
            "left": null,
            "margin": null,
            "max_height": null,
            "max_width": null,
            "min_height": null,
            "min_width": null,
            "object_fit": null,
            "object_position": null,
            "order": null,
            "overflow": null,
            "overflow_x": null,
            "overflow_y": null,
            "padding": null,
            "right": null,
            "top": null,
            "visibility": null,
            "width": null
          }
        },
        "fe1d5fae301e4233bafff9f6f4bd3c8c": {
          "model_module": "@jupyter-widgets/controls",
          "model_module_version": "1.5.0",
          "model_name": "FloatProgressModel",
          "state": {
            "_dom_classes": [],
            "_model_module": "@jupyter-widgets/controls",
            "_model_module_version": "1.5.0",
            "_model_name": "FloatProgressModel",
            "_view_count": null,
            "_view_module": "@jupyter-widgets/controls",
            "_view_module_version": "1.5.0",
            "_view_name": "ProgressView",
            "bar_style": "success",
            "description": "",
            "description_tooltip": null,
            "layout": "IPY_MODEL_d7e9eaa90f394a348da47b9ad8ec7576",
            "max": 362,
            "min": 0,
            "orientation": "horizontal",
            "style": "IPY_MODEL_00b572f571994a4a95973157a5f105b1",
            "value": 362
          }
        }
      }
    }
  },
  "nbformat": 4,
  "nbformat_minor": 0
}
