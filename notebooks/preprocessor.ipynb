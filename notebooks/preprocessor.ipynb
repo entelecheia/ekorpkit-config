{
  "cells": [
    {
      "cell_type": "markdown",
      "metadata": {
        "id": "view-in-github",
        "colab_type": "text"
      },
      "source": [
        "<a href=\"https://colab.research.google.com/github/entelecheia/ekorpkit-config/blob/main/notebooks/preprocessor.ipynb\" target=\"_parent\"><img src=\"https://colab.research.google.com/assets/colab-badge.svg\" alt=\"Open In Colab\"/></a>"
      ]
    },
    {
      "cell_type": "markdown",
      "metadata": {
        "id": "AESO0odcxhzs"
      },
      "source": [
        "# Compose an ekorpkit config"
      ]
    },
    {
      "cell_type": "code",
      "source": [
        "%%capture\n",
        "%pip install ekorpkit[tokenize]"
      ],
      "metadata": {
        "id": "EJ0AoNl-xif_"
      },
      "execution_count": 1,
      "outputs": []
    },
    {
      "cell_type": "code",
      "execution_count": 2,
      "metadata": {
        "id": "NCRWYIjixhzu"
      },
      "outputs": [],
      "source": [
        "# import ekorpkit.ekonf as eKonf\n",
        "from ekorpkit import eKonf\n",
        "from pprint import pprint"
      ]
    },
    {
      "cell_type": "markdown",
      "metadata": {
        "id": "dOpN8AxSxhzv"
      },
      "source": [
        "## Instantiating a tokenizer/normalizer"
      ]
    },
    {
      "cell_type": "code",
      "execution_count": 3,
      "metadata": {
        "id": "pr-XntKnxhzv",
        "outputId": "b9b31dd4-cef5-4d13-b738-c8598653f5aa",
        "colab": {
          "base_uri": "https://localhost:8080/"
        }
      },
      "outputs": [
        {
          "output_type": "stream",
          "name": "stdout",
          "text": [
            "{'_target_': 'ekorpkit.preprocessors.tokenizer.MecabTokenizer',\n",
            " 'extract': {'no_space_for_non_nouns': False,\n",
            "             'noun_postags': ['NNG', 'NNP', 'XSN', 'SL', 'XR', 'NNB', 'NR'],\n",
            "             'stop_postags': ['SP'],\n",
            "             'stopwords': None,\n",
            "             'stopwords_path': None},\n",
            " 'mecab': {'backend': 'mecab-python3', 'userdic_path': None, 'verbose': False},\n",
            " 'normalize': None,\n",
            " 'tokenize': {'concat_surface_and_pos': True,\n",
            "              'flatten': True,\n",
            "              'include_whitespace_token': True,\n",
            "              'lowercase': False,\n",
            "              'punct_postags': ['SF', 'SP', 'SSO', 'SSC', 'SY'],\n",
            "              'tokenize_each_word': False,\n",
            "              'userdic_path': None,\n",
            "              'wordpieces_prefix': '##'},\n",
            " 'tokenize_article': {'return_typ': 'str', 'sentence_separator': '\\\\n'},\n",
            " 'verbose': False}\n"
          ]
        },
        {
          "output_type": "stream",
          "name": "stderr",
          "text": [
            "[ekorpkit]: Initializing mecab...\n"
          ]
        }
      ],
      "source": [
        "config_group='preprocessor/tokenizer=mecab'\n",
        "cfg = eKonf.compose(config_group=config_group)\n",
        "pprint(cfg)\n",
        "mecab = eKonf.instantiate(cfg)"
      ]
    },
    {
      "cell_type": "code",
      "execution_count": 4,
      "metadata": {
        "id": "kQS1jvbtxhzw",
        "outputId": "bd6238de-8acd-4831-b844-3c19a7f46643",
        "colab": {
          "base_uri": "https://localhost:8080/"
        }
      },
      "outputs": [
        {
          "output_type": "stream",
          "name": "stdout",
          "text": [
            "['IMF/SL', '가/JKS', ' /SP', '推定/NNG', '한/XSA+ETM', ' /SP', '우리나라/NNG', '의/JKG', ' /SP', 'GDP/SL', '갭/NNG', '률/XSN', '은/JX', ' /SP', '今年/NNG', '에/JKB', '도/JX', ' /SP', '소폭/NNG', '의/JKG', ' /SP', '마이너스/NNG', '(/SSO', '−)/SY', '를/JKO', ' /SP', '持續/NNG', '하/XSV', '고/EC', ' /SP', '있/VX', '다/EF', './SF']\n"
          ]
        }
      ],
      "source": [
        "text = 'IMF가 推定한 우리나라의 GDP갭률은 今年에도 소폭의 마이너스(−)를 持續하고 있다.'\n",
        "tokens = mecab.tokenize(text)\n",
        "print(tokens)"
      ]
    },
    {
      "cell_type": "code",
      "execution_count": 5,
      "metadata": {
        "id": "AILXTmH0xhzw",
        "outputId": "ef940a80-fbe5-4f8f-93fc-07c17d158877",
        "colab": {
          "base_uri": "https://localhost:8080/"
        }
      },
      "outputs": [
        {
          "output_type": "stream",
          "name": "stdout",
          "text": [
            "{'_target_': 'ekorpkit.preprocessors.normalizer.Normalizer',\n",
            " 'ftfy': {'decode_inconsistent_utf8': True,\n",
            "          'fix_c1_controls': True,\n",
            "          'fix_character_width': True,\n",
            "          'fix_encoding': True,\n",
            "          'fix_latin_ligatures': True,\n",
            "          'fix_line_breaks': True,\n",
            "          'fix_surrogates': True,\n",
            "          'max_decode_length': 1000000,\n",
            "          'normalization': 'NFKC',\n",
            "          'remove_control_chars': True,\n",
            "          'remove_terminal_escapes': True,\n",
            "          'replace_lossy_sequences': True,\n",
            "          'restore_byte_a0': True,\n",
            "          'uncurl_quotes': True,\n",
            "          'unescape_html': True},\n",
            " 'hanja2hangle': True,\n",
            " 'num_repeats': 2,\n",
            " 'spaces': {'collapse_whitespaces': True,\n",
            "            'fix_whitespaces': True,\n",
            "            'num_spaces_for_tab': 4,\n",
            "            'replace_tabs': True,\n",
            "            'strip': True},\n",
            " 'special_characters': {'fix_ellipsis': True,\n",
            "                        'fix_emoticons': False,\n",
            "                        'fix_hyphens': True,\n",
            "                        'fix_slashes': True,\n",
            "                        'fix_tildes': True,\n",
            "                        'regular_parentheses_only': False,\n",
            "                        'single_quotes_only': False}}\n"
          ]
        }
      ],
      "source": [
        "config_group='preprocessor/normalizer=formal_ko'\n",
        "cfg_norm = eKonf.compose(config_group=config_group)\n",
        "pprint(cfg_norm)\n",
        "norm = eKonf.instantiate(cfg_norm)"
      ]
    },
    {
      "cell_type": "code",
      "execution_count": 6,
      "metadata": {
        "id": "jyCeGRbQxhzx",
        "outputId": "85bfa904-0158-45fb-a100-c5a68dcaf876",
        "colab": {
          "base_uri": "https://localhost:8080/",
          "height": 35
        }
      },
      "outputs": [
        {
          "output_type": "execute_result",
          "data": {
            "text/plain": [
              "'IMF가 추정한 우리나라의 GDP갭률은 금년에도 소폭의 마이너스(-)를 지속하고 있다.'"
            ],
            "application/vnd.google.colaboratory.intrinsic+json": {
              "type": "string"
            }
          },
          "metadata": {},
          "execution_count": 6
        }
      ],
      "source": [
        "norm(text)"
      ]
    },
    {
      "cell_type": "code",
      "execution_count": 7,
      "metadata": {
        "id": "rk5g7W_rxhzx",
        "outputId": "ae2d48e1-d085-486a-b7d6-bcfb870e124f",
        "colab": {
          "base_uri": "https://localhost:8080/"
        }
      },
      "outputs": [
        {
          "output_type": "stream",
          "name": "stderr",
          "text": [
            "[ekorpkit]: Initializing mecab...\n"
          ]
        },
        {
          "output_type": "stream",
          "name": "stdout",
          "text": [
            "['IMF/SL', '가/JKS', ' /SP', '추정/NNG', '한/XSA+ETM', ' /SP', '우리나라/NNG', '의/JKG', ' /SP', 'GDP/SL', '갭/NNG', '률/XSN', '은/JX', ' /SP', '금년/NNG', '에/JKB', '도/JX', ' /SP', '소폭/NNG', '의/JKG', ' /SP', '마이너스/NNG', '(/SSO', '-)/SY', '를/JKO', ' /SP', '지속/NNG', '하/XSV', '고/EC', ' /SP', '있/VX', '다/EF', './SF']\n"
          ]
        }
      ],
      "source": [
        "config_group='preprocessor/tokenizer=mecab'\n",
        "cfg = eKonf.compose(config_group=config_group)\n",
        "mecab = eKonf.instantiate(cfg, normalize=norm)\n",
        "tokens = mecab.tokenize(text)\n",
        "print(tokens)"
      ]
    },
    {
      "cell_type": "code",
      "execution_count": 8,
      "metadata": {
        "id": "y52Oosfgxhzx",
        "outputId": "bcf98699-ab22-4845-ff3c-c6752eee1f3c",
        "colab": {
          "base_uri": "https://localhost:8080/"
        }
      },
      "outputs": [
        {
          "output_type": "stream",
          "name": "stderr",
          "text": [
            "[ekorpkit]: Initializing mecab...\n"
          ]
        },
        {
          "output_type": "stream",
          "name": "stdout",
          "text": [
            "['IMF/SL', '가/JKS', ' /SP', '추정/NNG', '한/XSA+ETM', ' /SP', '우리나라/NNG', '의/JKG', ' /SP', 'GDP/SL', '갭/NNG', '률/XSN', '은/JX', ' /SP', '금년/NNG', '에/JKB', '도/JX', ' /SP', '소폭/NNG', '의/JKG', ' /SP', '마이너스/NNG', '(/SSO', '-)/SY', '를/JKO', ' /SP', '지속/NNG', '하/XSV', '고/EC', ' /SP', '있/VX', '다/EF', './SF']\n"
          ]
        }
      ],
      "source": [
        "config_group='preprocessor/tokenizer=mecab'\n",
        "cfg = eKonf.compose(config_group=config_group)\n",
        "cfg['normalize'] = cfg_norm\n",
        "mecab = eKonf.instantiate(cfg)\n",
        "tokens = mecab.tokenize(text)\n",
        "print(tokens)"
      ]
    },
    {
      "cell_type": "code",
      "execution_count": 9,
      "metadata": {
        "id": "Q5lKddOdxhzy",
        "outputId": "6447d31d-101c-4477-e71a-164644b89841",
        "colab": {
          "base_uri": "https://localhost:8080/"
        }
      },
      "outputs": [
        {
          "output_type": "stream",
          "name": "stdout",
          "text": [
            "['IMF', '추정', '우리나라', 'GDP', '갭', '률', '금년', '소폭', '마이너스', '지속']\n"
          ]
        }
      ],
      "source": [
        "print(mecab.nouns(text))"
      ]
    },
    {
      "cell_type": "code",
      "execution_count": 10,
      "metadata": {
        "id": "brcgZsI6xhzy",
        "outputId": "0cebd969-ea54-4bfc-f2ec-f3f06b19e407",
        "colab": {
          "base_uri": "https://localhost:8080/"
        }
      },
      "outputs": [
        {
          "output_type": "stream",
          "name": "stdout",
          "text": [
            "['IMF', '가', '추정', '한', '우리나라', '의', 'GDP', '갭', '률', '은', '금년', '에', '도', '소폭', '의', '마이너스', '(', '-)', '를', '지속', '하', '고', '있', '다', '.']\n"
          ]
        }
      ],
      "source": [
        "print(mecab.morphs(text))"
      ]
    },
    {
      "cell_type": "code",
      "execution_count": 11,
      "metadata": {
        "id": "aKJQXk_Jxhzy",
        "outputId": "310bd41a-50cc-4f9d-bede-4b3c4a5b998e",
        "colab": {
          "base_uri": "https://localhost:8080/"
        }
      },
      "outputs": [
        {
          "output_type": "stream",
          "name": "stderr",
          "text": [
            "[ekorpkit]: Initializing Pynori...\n"
          ]
        },
        {
          "output_type": "stream",
          "name": "stdout",
          "text": [
            "['imf/SL', '가/JKS', ' /SP', '推定/NNG', '한/XSV+ETM', ' /SP', '우리나라/NNG', '의/JKG', ' /SP', 'gdp/SL', '갭/NNG', '률/XSN', '은/JX', ' /SP', '今年/NNG', '에/JKB', '도/JX', ' /SP', '소폭/NNG', '의/JKG', ' /SP', '마이너스/NNG', '(/SSO', '−/SY', ')/SSC', '를/JKO', ' /SP', '持續/NNG', '하/XSA', '고/EC', ' /SP', '있/VX', '다/EF', './SF']\n"
          ]
        }
      ],
      "source": [
        "config_group='preprocessor/tokenizer=pynori'\n",
        "cfg = eKonf.compose(config_group=config_group)\n",
        "nori = eKonf.instantiate(cfg)\n",
        "tokens = nori.tokenize(text)\n",
        "print(tokens)"
      ]
    },
    {
      "cell_type": "code",
      "source": [
        "%%capture\n",
        "%pip install transformers"
      ],
      "metadata": {
        "id": "8EisRT7Wx6yI"
      },
      "execution_count": 14,
      "outputs": []
    },
    {
      "cell_type": "code",
      "execution_count": 21,
      "metadata": {
        "id": "R8dyYkI-xhzy",
        "outputId": "54fced0e-d22e-40d2-8b9e-acc883ea0b2c",
        "colab": {
          "base_uri": "https://localhost:8080/"
        }
      },
      "outputs": [
        {
          "output_type": "stream",
          "name": "stderr",
          "text": [
            "[ekorpkit]: Initializing BertWordPieceTokenizer...\n"
          ]
        },
        {
          "output_type": "stream",
          "name": "stdout",
          "text": [
            "['일본', '##기', '##상', '##청', '##과', '태', '##평', '##양', '##지', '##진', '##해', '##일', '##경', '##보', '##센', '##터', '##는', '3월', '11일', '오', '##후', '2', '##시', '49', '##분', '##경', '##에', '일본', '동', '##해', '##안', '##을', '비', '##롯', '##하여', '대', '##만', ',', '알', '##래', '##스', '##카', ',', '하', '##와', '##이', ',', '괌', ',', '캘', '##리', '##포', '##니아', ',', '칠', '##레', '등', '태', '##평', '##양', '연', '##안', '50', '##여', '국가', '##에', '지', '##진', '##해', '##일', '주의', '##보', '##와', '경', '##보를', '발', '##령', '##하였다', '.', '다', '##행', '##히', '##도', '우', '##리', '##나라', '##는', '지', '##진', '##발', '##생', '##위', '##치', '##로부터', '1', ',', '000', '##km', '이상', '떨', '##어진', '##데', '##다', '일본', '열', '##도가', '가', '##로', '##막', '##아', '지', '##진', '##해', '##일', '##이', '도', '##달', '##하지', '않았다', '.', '지', '##진', '##해', '##일', '##은', '일본', '소', '##마', '##항', '##에', '7', '.', '3', '##m', ',', '카', '##마', '##이', '##시', '##항', '##에', '4', '.', '1', '##m', ',', '미', '##야', '##코', '##항', '##에', '4', '##m', '등', '일본', '동', '##해', '##안', '전', '##역', '##에서', '관', '##측', '##되었다', '.', '지', '##진', '##해', '##일', '##이', '원', '##해', '##로', '전', '##파', '##되면서', '대', '##만', '(', '19', '##시', '40', '##분', ')', '에서', '소', '##규', '##모', '지', '##진', '##해', '##일', '##과', '하', '##와', '##이', '섬', '##에서', '1', '.', '4', '##m', '(', '23', '##시', '9', '##분', ')', '의', '지', '##진', '##해', '##일', '##이', '관', '##측', '##되었다', '.', '다음', '##날', '##인', '3월', '12일', '새', '##벽', '1', '##시', '57', '##분', '##경', '##에는', '진', '##앙', '##지로', '##부터', '약', '7', ',', '500', '##km', '떨', '##어진', '캘', '##리', '##포', '##니아', '크', '##레', '##센', '##트', '##시', '##티', '##에서', '2', '.', '2', '##m', '##의', '지', '##진', '##해', '##일', '##이', '관', '##측', '##되었다', '.']\n"
          ]
        }
      ],
      "source": [
        "config_group='preprocessor/tokenizer=bwp'\n",
        "cfg = eKonf.compose(config_group=config_group)\n",
        "cfg['normalize'] = cfg_norm\n",
        "cfg['bwp']['pretrained_model_name_or_path'] = 'bert-base-multilingual-cased'\n",
        "bwp = eKonf.instantiate(cfg)\n",
        "tokens = bwp.tokenize(text)\n",
        "print(tokens)"
      ]
    },
    {
      "cell_type": "code",
      "execution_count": 22,
      "metadata": {
        "id": "hr7nDHJrxhzz",
        "outputId": "0141f9cd-408a-41fb-8b52-d0cc1630cd8c",
        "colab": {
          "base_uri": "https://localhost:8080/"
        }
      },
      "outputs": [
        {
          "output_type": "stream",
          "name": "stderr",
          "text": [
            "[ekorpkit]: Initializing BertWordPieceTokenizer...\n"
          ]
        },
        {
          "output_type": "stream",
          "name": "stdout",
          "text": [
            "['일본', '##기', '##상', '##청', '##과', '태평양', '##지', '##진', '##해', '##일', '##경', '##보', '##센터', '##는', '3', '##월', '11', '##일', '오후', '2', '##시', '49', '##분', '##경', '##에', '일본', '동해', '##안', '##을', '비롯', '##하여', '대만', ',', '알', '##래스', '##카', ',', '하와이', ',', '괌', ',', '캘리포니아', ',', '칠레', '등', '태평양', '연안', '50', '##여', '국가', '##에', '지진', '##해', '##일', '주의', '##보', '##와', '경보', '##를', '발령', '##하', '##였', '##다', '.', '다행히', '##도', '우리나라', '##는', '지진', '##발', '##생', '##위치', '##로', '##부터', '1', ',', '000', '##k', '##m', '이상', '떨어진', '##데', '##다', '일본', '열', '##도', '##가', '가로막', '##아', '지진', '##해', '##일', '##이', '도달', '##하', '##지', '않', '##았', '##다', '.', '지진', '##해', '##일', '##은', '일본', '소마', '##항', '##에', '7', '.', '3', '##m', ',', '카마', '##이', '##시', '##항', '##에', '4', '.', '1', '##m', ',', '미야', '##코', '##항', '##에', '4', '##m', '등', '일본', '동해', '##안', '전역', '##에', '##서', '관측', '##되', '##었', '##다', '.', '지진', '##해', '##일', '##이', '원', '##해', '##로', '전파', '##되', '##면', '##서', '대만', '(', '19', '##시', '40', '##분', ')', '에서', '소규모', '지진', '##해', '##일', '##과', '하와이', '섬', '##에', '##서', '1', '.', '4', '##m', '(', '23', '##시', '9', '##분', ')', '의', '지진', '##해', '##일', '##이', '관측', '##되', '##었', '##다', '.', '다음', '##날', '##인', '3', '##월', '12', '##일', '새벽', '1', '##시', '57', '##분', '##경', '##에', '##는', '진', '##앙', '##지', '##로', '##부터', '약', '7', ',', '500', '##k', '##m', '떨어진', '캘리포니아', '크레', '##센트', '##시티', '##에', '##서', '2', '.', '2', '##m', '##의', '지진', '##해', '##일', '##이', '관측', '##되', '##었', '##다', '.']\n"
          ]
        }
      ],
      "source": [
        "config_group='preprocessor/tokenizer=bwp'\n",
        "cfg = eKonf.compose(config_group=config_group)\n",
        "cfg['normalize'] = cfg_norm\n",
        "cfg['bwp']['pretrained_model_name_or_path'] = 'entelecheia/ekonbert-base'\n",
        "bwp = eKonf.instantiate(cfg)\n",
        "tokens = bwp.tokenize(text)\n",
        "print(tokens)"
      ]
    },
    {
      "cell_type": "markdown",
      "metadata": {
        "id": "J3ArtjWbxhzz"
      },
      "source": [
        "## Instantiating a segmenter"
      ]
    },
    {
      "cell_type": "code",
      "execution_count": 23,
      "metadata": {
        "id": "ha_NApxNxhzz"
      },
      "outputs": [],
      "source": [
        "config_group='preprocessor/segmenter=pysbd'\n",
        "cfg_seg = eKonf.compose(config_group=config_group)\n",
        "seg = eKonf.instantiate(cfg_seg)"
      ]
    },
    {
      "cell_type": "code",
      "execution_count": 24,
      "metadata": {
        "id": "BVrOsArPxhzz",
        "outputId": "53e1c6dd-d3bc-4f5f-b9ae-72bfba9387ad",
        "colab": {
          "base_uri": "https://localhost:8080/"
        }
      },
      "outputs": [
        {
          "output_type": "execute_result",
          "data": {
            "text/plain": [
              "['For strains harboring the pYV plasmid and Yop-encoding plasmids, bacteria were grown with aeration at 26 °C overnight in broth supplemented with 2.5 mm CaCl2 and 100 μg/ml ampicillin and then subcultured and grown at 26 °C until A600 of 0.2. ',\n",
              " 'At this point, the cultures were shifted to 37 °C and aerated for 1 h. ',\n",
              " 'A multiplicity of infection of 50:1 was used for YPIII(p-) incubations, and a multiplicity of infection of 25:1 was used for other derivatives. ',\n",
              " 'For the pYopE-expressing plasmid, 0.1 mm isopropyl-β-d-thiogalactopyranoside was supplemented during infection to induce YopE expression.']"
            ]
          },
          "metadata": {},
          "execution_count": 24
        }
      ],
      "source": [
        "text = \"For strains harboring the pYV plasmid and Yop-encoding plasmids, bacteria were grown with aeration at 26 °C overnight in broth supplemented with 2.5 mm CaCl2 and 100 μg/ml ampicillin and then subcultured and grown at 26 °C until A600 of 0.2. At this point, the cultures were shifted to 37 °C and aerated for 1 h. A multiplicity of infection of 50:1 was used for YPIII(p-) incubations, and a multiplicity of infection of 25:1 was used for other derivatives. For the pYopE-expressing plasmid, 0.1 mm isopropyl-β-d-thiogalactopyranoside was supplemented during infection to induce YopE expression.\"\n",
        "seg(text)"
      ]
    },
    {
      "cell_type": "code",
      "execution_count": 25,
      "metadata": {
        "id": "n7ENfuH-xhzz"
      },
      "outputs": [],
      "source": [
        "config_group='preprocessor/segmenter=kss'\n",
        "cfg_seg = eKonf.compose(config_group=config_group)\n",
        "seg = eKonf.instantiate(cfg_seg)"
      ]
    },
    {
      "cell_type": "code",
      "execution_count": 26,
      "metadata": {
        "id": "Hu4Bu7p1xhz0",
        "outputId": "91c68fdd-e037-4dac-b406-cce01ad0fc86",
        "colab": {
          "base_uri": "https://localhost:8080/"
        }
      },
      "outputs": [
        {
          "output_type": "execute_result",
          "data": {
            "text/plain": [
              "['일본기상청과 태평양지진해일경보센터는 3월 11일 오후 2시 49분경에 일본 동해안을 비롯하여 대만, 알래스카, 하와이, 괌, 캘리포니아, 칠레 등 태평양 연안 50여 국가에 지진해일 주의보와 경보를 발령하였다.',\n",
              " '다행히도 우리나라는 지진발생위치로부터 1,000km 이상 떨어진데다 일본 열도가 가로막아 지진해일이 도달하지 않았다.',\n",
              " '지진해일은 일본 소마항에 7.3m, 카마이시항에 4.1m, 미야코항에 4m 등 일본 동해안 전역에서 관측되었다.',\n",
              " '지진해일이 원해로 전파되면서 대만(19시 40분)에서 소규모 지진해일과 하와이 섬에서 1.4m(23시 9분)의 지진해일이 관측되었다.',\n",
              " '다음날인 3월 12일 새벽 1시 57분경에는 진앙지로부터 약 7,500km 떨어진 캘리포니아 크레센트시티에서 2.2m의 지진해일이 관측되었다.']"
            ]
          },
          "metadata": {},
          "execution_count": 26
        }
      ],
      "source": [
        "text = \"일본기상청과 태평양지진해일경보센터는 3월 11일 오후 2시 49분경에 일본 동해안을 비롯하여 대만, 알래스카, 하와이, 괌, 캘리포니아, 칠레 등 태평양 연안 50여 국가에 지진해일 주의보와 경보를 발령하였다. 다행히도 우리나라는 지진발생위치로부터 1,000km 이상 떨어진데다 일본 열도가 가로막아 지진해일이 도달하지 않았다. 지진해일은 일본 소마항에 7.3m, 카마이시항에 4.1m, 미야코항에 4m 등 일본 동해안 전역에서 관측되었다. 지진해일이 원해로 전파되면서 대만(19시 40분)에서 소규모 지진해일과 하와이 섬에서 1.4m(23시 9분)의 지진해일이 관측되었다. 다음날인 3월 12일 새벽 1시 57분경에는 진앙지로부터 약 7,500km 떨어진 캘리포니아 크레센트시티에서 2.2m의 지진해일이 관측되었다.\"\n",
        "seg(text)"
      ]
    },
    {
      "cell_type": "code",
      "execution_count": null,
      "metadata": {
        "id": "XCf6Jhtgxhz0"
      },
      "outputs": [],
      "source": [
        ""
      ]
    }
  ],
  "metadata": {
    "interpreter": {
      "hash": "f869af7787e6a1c49e09e367fc6e1b81d93d1c6583b43249c80edc047bd13cb2"
    },
    "kernelspec": {
      "display_name": "Python 3.8.12 64-bit ('ekonml38')",
      "language": "python",
      "name": "python3"
    },
    "language_info": {
      "codemirror_mode": {
        "name": "ipython",
        "version": 3
      },
      "file_extension": ".py",
      "mimetype": "text/x-python",
      "name": "python",
      "nbconvert_exporter": "python",
      "pygments_lexer": "ipython3",
      "version": "3.8.12"
    },
    "orig_nbformat": 4,
    "colab": {
      "name": "preprocessor.ipynb",
      "provenance": [],
      "include_colab_link": true
    }
  },
  "nbformat": 4,
  "nbformat_minor": 0
}