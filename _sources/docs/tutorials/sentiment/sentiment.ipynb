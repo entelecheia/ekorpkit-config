{
 "cells": [
  {
   "cell_type": "markdown",
   "metadata": {
    "id": "AESO0odcxhzs"
   },
   "source": [
    "# LM Dictionary vs. finbert vs. T5"
   ]
  },
  {
   "cell_type": "markdown",
   "metadata": {
    "colab_type": "text",
    "id": "view-in-github"
   },
   "source": [
    "<a href=\"https://colab.research.google.com/github/entelecheia/ekorpkit-config/blob/main/notebooks/sentiment/financial_phrasebank_t5.ipynb\" target=\"_parent\"><img src=\"https://colab.research.google.com/assets/colab-badge.svg\" alt=\"Open In Colab\"/></a>"
   ]
  },
  {
   "cell_type": "code",
   "execution_count": 1,
   "metadata": {
    "id": "EJ0AoNl-xif_"
   },
   "outputs": [],
   "source": [
    "# %%capture\n",
    "# %pip install ekorpkit[model,tokenize,dataset]==0.1.27"
   ]
  },
  {
   "cell_type": "markdown",
   "metadata": {
    "id": "pzjBtQqpnqcy"
   },
   "source": [
    "## Prepare `financial_phrasebank` dataset"
   ]
  },
  {
   "cell_type": "code",
   "execution_count": 4,
   "metadata": {
    "colab": {
     "base_uri": "https://localhost:8080/"
    },
    "id": "RdpBCIbBny8z",
    "outputId": "0b8e14c5-ba5c-4782-dcf8-e86524138efd"
   },
   "outputs": [
    {
     "name": "stderr",
     "output_type": "stream",
     "text": [
      "downloading: 100%|##########| 115k/115k [00:00<00:00, 7.26MiB/s]\n"
     ]
    },
    {
     "data": {
      "text/plain": [
       "{'name': 'financial_phrasebank',\n",
       " 'domain': 'econ',\n",
       " 'task': 'classification',\n",
       " 'lang': 'en',\n",
       " 'column_info': {'keys': {'id': 'id', 'text': 'text'},\n",
       "  'data': {'id': 'int', 'labels': 'str', 'text': 'str'}},\n",
       " 'splits': {'train': {'name': 'train',\n",
       "   'dataset_name': 'financial_phrasebank',\n",
       "   'data_file': 'financial_phrasebank-train.csv',\n",
       "   'num_examples': 1445,\n",
       "   'num_bytes': 176485,\n",
       "   'num_bytes_median': 112.0,\n",
       "   'num_bytes_max': 315,\n",
       "   'num_bytes_min': 15,\n",
       "   'human_bytes': '172.35 KiB'},\n",
       "  'test': {'name': 'test',\n",
       "   'dataset_name': 'financial_phrasebank',\n",
       "   'data_file': 'financial_phrasebank-test.csv',\n",
       "   'num_examples': 452,\n",
       "   'num_bytes': 55518,\n",
       "   'num_bytes_median': 110.0,\n",
       "   'num_bytes_max': 296,\n",
       "   'num_bytes_min': 11,\n",
       "   'human_bytes': '54.22 KiB'},\n",
       "  'dev': {'name': 'dev',\n",
       "   'dataset_name': 'financial_phrasebank',\n",
       "   'data_file': 'financial_phrasebank-dev.csv',\n",
       "   'num_examples': 362,\n",
       "   'num_bytes': 43404,\n",
       "   'num_bytes_median': 109.0,\n",
       "   'num_bytes_max': 296,\n",
       "   'num_bytes_min': 9,\n",
       "   'human_bytes': '42.39 KiB'}},\n",
       " 'num_examples': 2259,\n",
       " 'size_in_bytes': 275407,\n",
       " 'size_in_human_bytes': '268.95 KiB',\n",
       " 'data_files': {'train': 'financial_phrasebank-train.csv',\n",
       "  'test': 'financial_phrasebank-test.csv',\n",
       "  'dev': 'financial_phrasebank-dev.csv'},\n",
       " 'meta_files': {},\n",
       " 'data_files_modified': '2022-04-22 03:18:20',\n",
       " 'info_updated': '2022-04-22 03:18:20'}"
      ]
     },
     "execution_count": 4,
     "metadata": {},
     "output_type": "execute_result"
    }
   ],
   "source": [
    "from ekorpkit import eKonf\n",
    "\n",
    "ds_cfg = eKonf.compose(config_group='dataset=dataset')\n",
    "ds_cfg['name'] = 'financial_phrasebank'\n",
    "ds_cfg.data_dir = \"${cached_path:'https://github.com/entelecheia/ekorpkit-config/raw/main/data/financial_phrasebank.zip',true,false}\"\n",
    "ds_cfg.use_name_as_subdir = True\n",
    "ds = eKonf.instantiate(ds_cfg)\n",
    "ds.info"
   ]
  },
  {
   "cell_type": "markdown",
   "metadata": {
    "id": "dOpN8AxSxhzv"
   },
   "source": [
    "## Compose a config for the LM sentiment analyser class"
   ]
  },
  {
   "cell_type": "code",
   "execution_count": 5,
   "metadata": {
    "id": "w7F_qmC8nUue"
   },
   "outputs": [],
   "source": [
    "from ekorpkit import eKonf\n",
    "\n",
    "config_group='model/sentiment=lm'\n",
    "model_cfg = eKonf.compose(config_group=config_group)\n",
    "model_cfg.preprocessor.tokenizer.nltk.lemmatize = True"
   ]
  },
  {
   "cell_type": "markdown",
   "metadata": {
    "id": "U26yEB4gotyT"
   },
   "source": [
    "## Instantiating a sentiment analyser class with `financial_phrasebank` dataset"
   ]
  },
  {
   "cell_type": "code",
   "execution_count": 6,
   "metadata": {
    "colab": {
     "base_uri": "https://localhost:8080/",
     "height": 1000,
     "referenced_widgets": [
      "98d3daeac3be453d9b44a5053a7abe6a",
      "5ee05bf96c1f463aa509c16a7395c463",
      "fe195a0b0fda444195955889592bc45d",
      "f3dea9dfc37142049fd737f8a50ec026",
      "9ac22990f27c49f993d88d3ce48eb3d1",
      "77888040987d46e9ab75f84604fa5f3d",
      "0e708cb7b3ca4c3e929fd2e18774ad4a",
      "cb40768df2e947c6ac166b516caec7a0",
      "01236e6336c24feaa8d7f0ff5d21f85b",
      "153558da0003458e81b24369e30bb336",
      "58e26bce8bd14bb39260dffde0d0ed03",
      "c9778ba2f46f4642a2711338c26326ad",
      "1939e0c2882d4cbe9c16769dca5adacf",
      "fd4d844e984c404f8bd6ccb8557d704c",
      "3456fc79473744bd984e0b44ce6a2f05",
      "1add5a42907f439eaee6e66c5f138448",
      "bfe773099e5a47babe3b38f20d507fea",
      "01c9d41660994ba39d8d8ccf1d8e6519",
      "e6b0949807e84cf698ef7988867a557c",
      "817a64b1ca944b2cbafaf50debae77df",
      "17a21cff535d4d73be349d58006aff71",
      "cca29ad5f884456a865889ec15f57a4e",
      "298b15837d004c49ae71e0f97af12583",
      "c55169f8451a452e83d69bb1ea45cbde",
      "732ec6cb7017488eae53280001311c0d",
      "777e5c0fe59e4949997339bafe3b8add",
      "43f4cbd0d15040269fcb84cc2637939a",
      "cde1ed6117fc47d18d4422f1e1f46ca6",
      "51386331618f4eb0870e722625c6bbd8",
      "7da2dc345f174083af474ad6fd2be411",
      "480c016aec26423a9bf317787a09fdb0",
      "bcccaa6e2f624e998c05e8816d856e19",
      "3215e7b5c35a499b8311c4ad23b24052"
     ]
    },
    "id": "SEBHqvYvnUui",
    "outputId": "ae90c601-0991-46c0-9d7c-157dbc48b06b"
   },
   "outputs": [
    {
     "name": "stdout",
     "output_type": "stream",
     "text": [
      "{'autoload': True,\n",
      " 'column_info': {'data': {'id': 'int', 'labels': 'str', 'text': 'str'},\n",
      "                 'keys': {'id': 'id', 'text': 'text'}},\n",
      " 'data_dir': '/root/.ekorpkit/.cache/cached_path/49a839699a03cebce770185da2650f8f9617b2a6b123483c9dd844fc72152cbf.93114266beb1264222949b1d3eb5704095408b3d0edee605c8ff6ece6921f321-extracted',\n",
      " 'data_files': {'dev': 'financial_phrasebank-dev.csv',\n",
      "                'test': 'financial_phrasebank-test.csv',\n",
      "                'train': 'financial_phrasebank-train.csv'},\n",
      " 'data_files_modified': '2022-04-22 03:18:20',\n",
      " 'domain': 'econ',\n",
      " 'filetype': 'csv',\n",
      " 'info_updated': '2022-04-22 03:18:20',\n",
      " 'lang': 'en',\n",
      " 'meta_files': {},\n",
      " 'name': 'financial_phrasebank',\n",
      " 'num_examples': 2259,\n",
      " 'size_in_bytes': 275407,\n",
      " 'size_in_human_bytes': '268.95 KiB',\n",
      " 'splits': {'dev': {'data_file': 'financial_phrasebank-dev.csv',\n",
      "                    'dataset_name': 'financial_phrasebank',\n",
      "                    'human_bytes': '42.39 KiB',\n",
      "                    'name': 'dev',\n",
      "                    'num_bytes': 43404,\n",
      "                    'num_bytes_max': 296,\n",
      "                    'num_bytes_median': 109.0,\n",
      "                    'num_bytes_min': 9,\n",
      "                    'num_examples': 362},\n",
      "            'test': {'data_file': 'financial_phrasebank-test.csv',\n",
      "                     'dataset_name': 'financial_phrasebank',\n",
      "                     'human_bytes': '54.22 KiB',\n",
      "                     'name': 'test',\n",
      "                     'num_bytes': 55518,\n",
      "                     'num_bytes_max': 296,\n",
      "                     'num_bytes_median': 110.0,\n",
      "                     'num_bytes_min': 11,\n",
      "                     'num_examples': 452},\n",
      "            'train': {'data_file': 'financial_phrasebank-train.csv',\n",
      "                      'dataset_name': 'financial_phrasebank',\n",
      "                      'human_bytes': '172.35 KiB',\n",
      "                      'name': 'train',\n",
      "                      'num_bytes': 176485,\n",
      "                      'num_bytes_max': 315,\n",
      "                      'num_bytes_median': 112.0,\n",
      "                      'num_bytes_min': 15,\n",
      "                      'num_examples': 1445}},\n",
      " 'task': 'classification',\n",
      " 'use_name_as_subdir': True,\n",
      " 'verbose': True}\n"
     ]
    },
    {
     "data": {
      "application/vnd.jupyter.widget-view+json": {
       "model_id": "98d3daeac3be453d9b44a5053a7abe6a",
       "version_major": 2,
       "version_minor": 0
      },
      "text/plain": [
       "Predicting [text]:   0%|          | 0/1445 [00:00<?, ?it/s]"
      ]
     },
     "metadata": {},
     "output_type": "display_data"
    },
    {
     "name": "stdout",
     "output_type": "stream",
     "text": [
      " >> saved dataframe to ./data/predict/financial_phrasebank-train.parquet\n"
     ]
    },
    {
     "data": {
      "application/vnd.jupyter.widget-view+json": {
       "model_id": "c9778ba2f46f4642a2711338c26326ad",
       "version_major": 2,
       "version_minor": 0
      },
      "text/plain": [
       "Predicting [text]:   0%|          | 0/452 [00:00<?, ?it/s]"
      ]
     },
     "metadata": {},
     "output_type": "display_data"
    },
    {
     "name": "stdout",
     "output_type": "stream",
     "text": [
      " >> saved dataframe to ./data/predict/financial_phrasebank-test.parquet\n"
     ]
    },
    {
     "data": {
      "application/vnd.jupyter.widget-view+json": {
       "model_id": "298b15837d004c49ae71e0f97af12583",
       "version_major": 2,
       "version_minor": 0
      },
      "text/plain": [
       "Predicting [text]:   0%|          | 0/362 [00:00<?, ?it/s]"
      ]
     },
     "metadata": {},
     "output_type": "display_data"
    },
    {
     "name": "stdout",
     "output_type": "stream",
     "text": [
      " >> saved dataframe to ./data/predict/financial_phrasebank-dev.parquet\n"
     ]
    },
    {
     "data": {
      "text/plain": [
       "{'train':         id    labels                                               text  \\\n",
       " 0      655   neutral  Customers in a wide range of industries use ou...   \n",
       " 1      634   neutral  The writing and publication of Lemmink+ñinen -...   \n",
       " 2     1030   neutral  Sullivan said some of the boards `` really inv...   \n",
       " 3      317  positive  The six breweries recorded a 5.2 percent growt...   \n",
       " 4      868  positive  In the second quarter of 2010 , the company 's...   \n",
       " ...    ...       ...                                                ...   \n",
       " 1440   136  positive  In the fourth quarter of 2009 , Orion 's net p...   \n",
       " 1441  2170  negative  Profit for the period totalled EUR 1.1 mn , do...   \n",
       " 1442   344  positive  The diluted loss per share narrowed to EUR 0.2...   \n",
       " 1443   573   neutral  LKAB , headquartered in Lulea , Sweden , is a ...   \n",
       " 1444  1768   neutral  The EBRD is using its own funds to provide a 2...   \n",
       " \n",
       "       split  polarity  subjectivity polarity_label  uncertainty  \n",
       " 0     train  0.000000      0.000000        neutral          0.0  \n",
       " 1     train  0.999999      0.045455       positive          0.0  \n",
       " 2     train  0.000000      0.000000        neutral          0.0  \n",
       " 3     train  0.000000      0.000000        neutral          0.0  \n",
       " 4     train -0.999999      0.034483       negative          0.0  \n",
       " ...     ...       ...           ...            ...          ...  \n",
       " 1440  train  0.000000      0.000000        neutral          0.0  \n",
       " 1441  train  0.000000      0.000000        neutral          0.0  \n",
       " 1442  train -0.999999      0.076923       negative          0.0  \n",
       " 1443  train  0.000000      0.000000        neutral          0.0  \n",
       " 1444  train  0.000000      0.000000        neutral          0.0  \n",
       " \n",
       " [1445 rows x 8 columns],\n",
       " 'test':        id    labels                                               text split  \\\n",
       " 0     505   neutral  Los Angeles-based Pacific Office Properties Tr...  test   \n",
       " 1     783  positive  Investors will continue being interested in th...  test   \n",
       " 2    2253  negative  Repeats sees 2008 operating profit down y-y ( ...  test   \n",
       " 3    1374   neutral  The acquisition was financed with $ 2.56 billi...  test   \n",
       " 4     243  positive  Profit per share was EUR 1.03 , up from EUR 0....  test   \n",
       " ..    ...       ...                                                ...   ...   \n",
       " 447   605   neutral  The commission said the hydrogen peroxide and ...  test   \n",
       " 448  2258  negative  Sales in Finland decreased by 2.0 % , and inte...  test   \n",
       " 449   254  positive  The earnings per share for the quarter came in...  test   \n",
       " 450  1390   neutral  The company can not give up palm oil altogethe...  test   \n",
       " 451   181  positive  Pretax profit rose to EUR 1,019 mn from EUR 1,...  test   \n",
       " \n",
       "      polarity  subjectivity polarity_label  uncertainty  \n",
       " 0         0.0           0.0        neutral          0.0  \n",
       " 1         0.0           0.0        neutral          0.0  \n",
       " 2         0.0           0.0        neutral          0.0  \n",
       " 3         0.0           0.0        neutral          0.0  \n",
       " 4         0.0           0.0        neutral          0.0  \n",
       " ..        ...           ...            ...          ...  \n",
       " 447       0.0           0.0        neutral          0.0  \n",
       " 448       0.0           0.0        neutral          0.0  \n",
       " 449       0.0           0.0        neutral          0.0  \n",
       " 450       0.0           0.0        neutral          0.0  \n",
       " 451       0.0           0.0        neutral          0.0  \n",
       " \n",
       " [452 rows x 8 columns],\n",
       " 'dev':        id    labels                                               text split  \\\n",
       " 0    1449   neutral       The identity of the buyer is not yet known .   dev   \n",
       " 1     165  positive  Operating profit rose to EUR 3.2 mn from EUR 1...   dev   \n",
       " 2    1334   neutral  Previously , Grimaldi held a 46.43 pct stake i...   dev   \n",
       " 3     907   neutral  A total of $ 78 million will be invested in th...   dev   \n",
       " 4    1371   neutral  The 19,200-square metre technology center is l...   dev   \n",
       " ..    ...       ...                                                ...   ...   \n",
       " 357  1120   neutral  Under a preliminary estimation , the technolog...   dev   \n",
       " 358   404  positive  Operating profit improved by 27 % to EUR 579.8...   dev   \n",
       " 359  1708   neutral  Rohwedder Group is an automotive supplies , te...   dev   \n",
       " 360   225  positive  In January-September 2007 , the group 's net s...   dev   \n",
       " 361  1008   neutral  Payment of shares shall be effected on subscri...   dev   \n",
       " \n",
       "      polarity  subjectivity polarity_label  uncertainty  \n",
       " 0    0.000000      0.000000        neutral     0.000000  \n",
       " 1    0.000000      0.000000        neutral     0.000000  \n",
       " 2    0.000000      0.000000        neutral     0.000000  \n",
       " 3    0.000000      0.000000        neutral     0.000000  \n",
       " 4    0.000000      0.000000        neutral     0.000000  \n",
       " ..        ...           ...            ...          ...  \n",
       " 357  0.000000      0.000000        neutral     0.066667  \n",
       " 358  0.999999      0.058824       positive     0.000000  \n",
       " 359  0.000000      0.000000        neutral     0.000000  \n",
       " 360  0.000000      0.000000        neutral     0.000000  \n",
       " 361  0.000000      0.000000        neutral     0.000000  \n",
       " \n",
       " [362 rows x 8 columns]}"
      ]
     },
     "execution_count": 6,
     "metadata": {},
     "output_type": "execute_result"
    }
   ],
   "source": [
    "cfg = eKonf.compose(config_group='pipeline=pipeline')\n",
    "cfg.verbose = True\n",
    "cfg.dataset = ds_cfg\n",
    "cfg._pipeline_ = ['predict']\n",
    "cfg.predict.model = model_cfg\n",
    "cfg.predict.output_dir = \"./data/predict\"\n",
    "cfg.predict.output_file = f'{ds_cfg.name}.parquet'\n",
    "cfg.num_workers = 1\n",
    "df = eKonf.instantiate(cfg)\n",
    "df"
   ]
  },
  {
   "cell_type": "code",
   "execution_count": 7,
   "metadata": {
    "colab": {
     "base_uri": "https://localhost:8080/"
    },
    "id": "MS2eYHjSnUui",
    "outputId": "7a96479e-2df7-4472-f501-49835eef4eb9"
   },
   "outputs": [
    {
     "name": "stdout",
     "output_type": "stream",
     "text": [
      "./data/predict\n",
      "financial_phrasebank.parquet\n"
     ]
    }
   ],
   "source": [
    "print(cfg.predict.output_dir)\n",
    "print(cfg.predict.output_file)"
   ]
  },
  {
   "cell_type": "code",
   "execution_count": 8,
   "metadata": {
    "colab": {
     "base_uri": "https://localhost:8080/",
     "height": 685
    },
    "id": "pPrQSwo1nUui",
    "outputId": "30d92652-2ab2-48e7-bfeb-8501e55dbc5e"
   },
   "outputs": [
    {
     "name": "stdout",
     "output_type": "stream",
     "text": [
      "Loading 3 dataframes from ['./data/predict/financial_phrasebank-train.parquet', './data/predict/financial_phrasebank-test.parquet', './data/predict/financial_phrasebank-dev.parquet']\n",
      "Accuracy:  0.6418769366976538\n",
      "Precison:  0.6332357082536276\n",
      "Recall:  0.6418769366976538\n",
      "F1 Score:  0.5976583790508804\n",
      "Model Report: \n",
      "___________________________________________________\n",
      "              precision    recall  f1-score   support\n",
      "\n",
      "    negative       0.38      0.36      0.37       303\n",
      "     neutral       0.68      0.89      0.77      1386\n",
      "    positive       0.65      0.19      0.29       570\n",
      "\n",
      "    accuracy                           0.64      2259\n",
      "   macro avg       0.57      0.48      0.48      2259\n",
      "weighted avg       0.63      0.64      0.60      2259\n",
      "\n"
     ]
    },
    {
     "data": {
      "image/png": "[encoded data removed]",
      "text/plain": [
       "<Figure size 720x360 with 2 Axes>"
      ]
     },
     "metadata": {},
     "output_type": "display_data"
    }
   ],
   "source": [
    "eval_cfg = eKonf.compose(config_group='model/eval=classification')\n",
    "eval_cfg.to_eval.actual = 'labels'\n",
    "eval_cfg.to_eval.predicted = 'polarity_label'\n",
    "eval_cfg.to_eval.labels = ['positive','neutral','negative']\n",
    "eval_cfg.data_dir = './data/predict'\n",
    "eval_cfg.data_file = 'financial_phrasebank-*.parquet'\n",
    "eval_cfg.output_dir = './data/eval'\n",
    "# eval_cfg.method.average = None\n",
    "# eKonf.print(eval_cfg)\n",
    "eKonf.instantiate(eval_cfg)"
   ]
  },
  {
   "cell_type": "markdown",
   "metadata": {
    "id": "3uhF3cDynUuj",
    "outputId": "a50d12e1-9ab3-4496-af54-cae58051f1ed"
   },
   "source": [
    "## Instantiating a transformer classficiation model with `financial_phrasebank` dataset"
   ]
  },
  {
   "cell_type": "code",
   "execution_count": 10,
   "metadata": {
    "colab": {
     "base_uri": "https://localhost:8080/",
     "height": 1000,
     "referenced_widgets": [
      "25b2d15afaa84f588cda51e5dc7a29d5",
      "f7015732f95d4e8fbc75f045ff35b24d",
      "89e7d07c7422492480e58ca178296f7f",
      "7e5ece198ecc4010a3e600c02add4421",
      "1cea0648d38d4d9fa1d7eb3d75d50e9a",
      "89ddd567b6c04934b1ba9339b1f4db23",
      "e304ce2737f341e693298f7d153f1a8e",
      "c5518928583d47c28e2bea2f98fe9926",
      "38653edbaa0e415b9b62a2ca7278364b",
      "e5ccbf26e5f6494498d7241462a0f7a0",
      "676ce4b5eefb472ea432dab8fcb872a4",
      "0d12d52d5fe2445c97e04a450651ad23",
      "c2e99f3e0e1b465ca35ca0e6f2c9be00",
      "f6cbd16d7d354ba587ecb6936b0d4d2c",
      "22eec9f473c043e7bd8c1501eb3cf998",
      "baefe6a40a3942eb9004931feb47b8ce",
      "e31e57369fc94c50b80909373eb0cb7f",
      "b2483e9a1691414db951f31ae2175f9c",
      "311ea35a5285482eb7c22ba4a49993a6",
      "a1dbb25eadf64c31af6e5e0aa7950763",
      "0622ab783e1743b0b480233d78703fd3",
      "92b52a0d8a32412f9536e89045f9515b",
      "89968b05a09f4bf9a2c2e488a61917dd",
      "45b03c71817c43cbb1358de1457ad05d",
      "60e8436363844e3aa01eda8ae38e2f67",
      "9ccd3882da5c4426953f5455f8959bb1",
      "46e343ae4cab4402b78688830cabee3e",
      "a317983022c8410fb54753f4fc08c9a0",
      "27d9f4a57cb64c20bbf0d71e983b9696",
      "b6f6258d31e74c6d90e31a3e7bb9ae5e",
      "047f08c3f2964c578d82c272f8801cb8",
      "664540f2f93144db9480db9b01bb0a7a",
      "03a359fba6374965b4dfb4e502497952",
      "06f00aef004544dbb433eb66e610208d",
      "f63d7dc9e2ce4edc87151e97cede7e30",
      "077b5ee6de7843d99ae0cabf3bc1d100",
      "1fcd1624ff7f4eb0a47353bbdc4f52be",
      "e55300dbf4d049d6a88be12da0fc5116",
      "a923cd4c68094d18b9211bbb1c37e93a",
      "073848139deb41d1b1c91d30c9be1d52",
      "3f1768adbafa49d488a7b9e6970f2e26",
      "6ed566df4aaa4c6c9355df4d2555ec4e",
      "5213e2722a8b4598b5f246fcf509c7c1",
      "9332e85e04504096a3f32e2ad06586e9",
      "12e79026e3564b65bba74bf0b91bd4b9",
      "51069eac73034aeb9a80b6f67cc9ed15",
      "f82e84210b9d4f128ab40eaf39a7f632",
      "7b4ab34502044390ab9d368ac3c2a781",
      "fdc588b2165641f6a91545bee31d571a",
      "30db2a28db4e4989af858c6496bb7949",
      "b3328ea3cef342fe9c3e74f5a964bb59",
      "a614290ba7044b53970afb260f92ff11",
      "881b584e9ad240bc83ef7eb5750a4bc5",
      "f48f8b9749b94d68be1e7654eb0ff23a",
      "02d11213898f45d7b496d287897c83ac",
      "18bf1b86815c4739af05a19b10869d47",
      "fc146726ca904cc49808640e2f1b5320",
      "11240a70fbba4be68a41e20e99980a28",
      "dee2257bd47d4a60987899eb8a0c2bac",
      "553e116d2b954553af4ddec4c07ee62f",
      "d4c77274b80948ff9db6923a8f8c0c31",
      "3a9af4131ad24c3aa89e3d598814331d",
      "55d4e4b016cd43caa388c898e247fb89",
      "a0283fc5b2284e8c87c3979d91c749b7",
      "6b6bc559f85b4c3c88d67b950ecf3cad",
      "23686ac620384e5188110818aefd412c",
      "c14fd814d58b4532ac5fb2913900de38",
      "6560dee8a0a14c1990a13e6837fc626e",
      "1108aa2cdcba46db85086b33eca5bc73",
      "9991c133d8f547f4b13193fea2e2467c",
      "1185f07e236f47299845d639584abb40",
      "e1de101007424e059d8b37cd8cc2482b",
      "fee0e8c97cb140dda41aee7fc951d4c2",
      "c5d86ebf1a974e469ab05db7aba2a7c8",
      "28debee44b8d4b6794003d02a614811d",
      "5f0e169a9b9f46a5a74fc16656558540",
      "41073b4c1ab84879a8d57d3b9430fba3",
      "8758f2b2330c44b89bd81f85f4ea17ec",
      "ff5c277faecf41c289581e48cd237cd6",
      "fdf710ab9a114be59f106e35e42da3fd",
      "93d41a84ab3e4c509d0fc095a0b30013",
      "249af493b1724c3897f28ff64bdadd15",
      "8314fdc0077b4b4aba73f65eaa8add98",
      "527976f3875241659b3f1bc214832c7b",
      "5efbecdb351240b490efd9de319841f0",
      "e843c2ddc1d64df0951b6eea0d3e9a5c",
      "c3ea99fdd42b4c4090d6855bec03f005",
      "0263a829d8f742599cd7d284670cda64",
      "717028c6592e4a009c682b31315c4b3b",
      "206dc1c5ce324abd84daa1ccd06c686d",
      "bff4f68e77a3454e8d812ec9472dbb3c",
      "7144e8d53b7c4cca9c7c7105451304d8",
      "0a3670b1573348f7b2e74675e3b06905",
      "37e4cfa4b2ea4122a9795e145e4b803b",
      "70a68e2277a54df2a3075b79ba37cd83",
      "8be0a6afc7dc49e4b4c65ce536d282f1",
      "870012c9a7cd44678250a2d13308bd3a",
      "b759b6a53f12482a9980bad415f1b2c4",
      "33c80bfb3794432384e631606b83ed52",
      "0681c9641aa3470593a3b3d463cf45bc",
      "ad9cc439b971474d83f4c4f198a85d8f",
      "c54a6db54d2a4d379ba615980c3ee95c",
      "53803b974b23414e8a4948438217cb14",
      "da56752d8e2543e397d3f05f9c046498",
      "38858a2e6ae446e5a6bb90ad57651bc3",
      "3cca4a6a386c413e91d7da91c3e0dfd9",
      "028c92dd29114acab0d9d54ce164bf73",
      "7473ac288e7a47efabd0a9b4b34e2e41",
      "eede37df3e01451eaf41c89520029fca",
      "7b5a2f1f6eeb4d5bb5487a97cb7a8c20",
      "88082f8d9ec9488594a46f342adfa99d",
      "002a5b27a0d04a52b90db961913cc857",
      "b3958b6e46b040b49bf3b7b40f2581f0",
      "b6e5bd7b3d0d4cff88fb86a9f234cdf9",
      "2a776b147a23429dbc777184d73ee927",
      "81dbecedb6e742ddb6652decbd131b81",
      "c8e9efa30ba34ac292024c0a8fea6cfb",
      "a530728703394affab5d98c105a3d7e1",
      "ff6f745714934560a2895f5c0e33b0cb",
      "3b101280042349d092778b8788eb8c23",
      "367449d63b2f4bc08c49786b301c802d",
      "e3afc31e530c446997132977339e3a74",
      "21fb5baf9b344649bc8133d6460397fc",
      "afcbea10e97f41a6a94cb1149d6f5244",
      "464c7a8184bd46ce839af89c8581d906",
      "94cf55ecd05742b6ac78c3d4142549b0",
      "03dfdeea1d6444d699a849b1db3fafe6",
      "317479f9eb3544d4a350e075b81d3fbb",
      "6af90e0bf0904e32a208fc816285e14a"
     ]
    },
    "id": "i9__LTKOnUuj",
    "outputId": "bcf2613d-c5f5-495e-a43b-2bdcd459bcb9"
   },
   "outputs": [
    {
     "data": {
      "application/vnd.jupyter.widget-view+json": {
       "model_id": "25b2d15afaa84f588cda51e5dc7a29d5",
       "version_major": 2,
       "version_minor": 0
      },
      "text/plain": [
       "Downloading:   0%|          | 0.00/758 [00:00<?, ?B/s]"
      ]
     },
     "metadata": {},
     "output_type": "display_data"
    },
    {
     "data": {
      "application/vnd.jupyter.widget-view+json": {
       "model_id": "0d12d52d5fe2445c97e04a450651ad23",
       "version_major": 2,
       "version_minor": 0
      },
      "text/plain": [
       "Downloading:   0%|          | 0.00/418M [00:00<?, ?B/s]"
      ]
     },
     "metadata": {},
     "output_type": "display_data"
    },
    {
     "data": {
      "application/vnd.jupyter.widget-view+json": {
       "model_id": "89968b05a09f4bf9a2c2e488a61917dd",
       "version_major": 2,
       "version_minor": 0
      },
      "text/plain": [
       "Downloading:   0%|          | 0.00/252 [00:00<?, ?B/s]"
      ]
     },
     "metadata": {},
     "output_type": "display_data"
    },
    {
     "data": {
      "application/vnd.jupyter.widget-view+json": {
       "model_id": "06f00aef004544dbb433eb66e610208d",
       "version_major": 2,
       "version_minor": 0
      },
      "text/plain": [
       "Downloading:   0%|          | 0.00/226k [00:00<?, ?B/s]"
      ]
     },
     "metadata": {},
     "output_type": "display_data"
    },
    {
     "data": {
      "application/vnd.jupyter.widget-view+json": {
       "model_id": "12e79026e3564b65bba74bf0b91bd4b9",
       "version_major": 2,
       "version_minor": 0
      },
      "text/plain": [
       "Downloading:   0%|          | 0.00/112 [00:00<?, ?B/s]"
      ]
     },
     "metadata": {},
     "output_type": "display_data"
    },
    {
     "data": {
      "application/vnd.jupyter.widget-view+json": {
       "model_id": "18bf1b86815c4739af05a19b10869d47",
       "version_major": 2,
       "version_minor": 0
      },
      "text/plain": [
       "  0%|          | 0/1445 [00:00<?, ?it/s]"
      ]
     },
     "metadata": {},
     "output_type": "display_data"
    },
    {
     "name": "stderr",
     "output_type": "stream",
     "text": [
      "/usr/local/lib/python3.7/dist-packages/transformers/optimization.py:309: FutureWarning: This implementation of AdamW is deprecated and will be removed in a future version. Use the PyTorch implementation torch.optim.AdamW instead, or set `no_deprecation_warning=True` to disable this warning\n",
      "  FutureWarning,\n"
     ]
    },
    {
     "data": {
      "application/vnd.jupyter.widget-view+json": {
       "model_id": "c14fd814d58b4532ac5fb2913900de38",
       "version_major": 2,
       "version_minor": 0
      },
      "text/plain": [
       "Epoch:   0%|          | 0/2 [00:00<?, ?it/s]"
      ]
     },
     "metadata": {},
     "output_type": "display_data"
    },
    {
     "data": {
      "application/javascript": [
       "\n",
       "        window._wandbApiKey = new Promise((resolve, reject) => {\n",
       "            function loadScript(url) {\n",
       "            return new Promise(function(resolve, reject) {\n",
       "                let newScript = document.createElement(\"script\");\n",
       "                newScript.onerror = reject;\n",
       "                newScript.onload = resolve;\n",
       "                document.body.appendChild(newScript);\n",
       "                newScript.src = url;\n",
       "            });\n",
       "            }\n",
       "            loadScript(\"https://cdn.jsdelivr.net/npm/postmate/build/postmate.min.js\").then(() => {\n",
       "            const iframe = document.createElement('iframe')\n",
       "            iframe.style.cssText = \"width:0;height:0;border:none\"\n",
       "            document.body.appendChild(iframe)\n",
       "            const handshake = new Postmate({\n",
       "                container: iframe,\n",
       "                url: 'https://wandb.ai/authorize'\n",
       "            });\n",
       "            const timeout = setTimeout(() => reject(\"Couldn't auto authenticate\"), 5000)\n",
       "            handshake.then(function(child) {\n",
       "                child.on('authorize', data => {\n",
       "                    clearTimeout(timeout)\n",
       "                    resolve(data)\n",
       "                });\n",
       "            });\n",
       "            })\n",
       "        });\n",
       "    "
      ],
      "text/plain": [
       "<IPython.core.display.Javascript object>"
      ]
     },
     "metadata": {},
     "output_type": "display_data"
    },
    {
     "name": "stderr",
     "output_type": "stream",
     "text": [
      "\u001b[34m\u001b[1mwandb\u001b[0m: You can find your API key in your browser here: https://wandb.ai/authorize\n"
     ]
    },
    {
     "name": "stdout",
     "output_type": "stream",
     "text": [
      "wandb: Paste an API key from your profile and hit enter, or press ctrl+c to quit: ··········\n"
     ]
    },
    {
     "name": "stderr",
     "output_type": "stream",
     "text": [
      "\u001b[34m\u001b[1mwandb\u001b[0m: Appending key for api.wandb.ai to your netrc file: /root/.netrc\n"
     ]
    },
    {
     "name": "stdout",
     "output_type": "stream",
     "text": [
      "huggingface/tokenizers: The current process just got forked, after parallelism has already been used. Disabling parallelism to avoid deadlocks...\n",
      "To disable this warning, you can either:\n",
      "\t- Avoid using `tokenizers` before the fork if possible\n",
      "\t- Explicitly set the environment variable TOKENIZERS_PARALLELISM=(true | false)\n",
      "huggingface/tokenizers: The current process just got forked, after parallelism has already been used. Disabling parallelism to avoid deadlocks...\n",
      "To disable this warning, you can either:\n",
      "\t- Avoid using `tokenizers` before the fork if possible\n",
      "\t- Explicitly set the environment variable TOKENIZERS_PARALLELISM=(true | false)\n"
     ]
    },
    {
     "data": {
      "text/html": [
       "Tracking run with wandb version 0.12.16"
      ],
      "text/plain": [
       "<IPython.core.display.HTML object>"
      ]
     },
     "metadata": {},
     "output_type": "display_data"
    },
    {
     "data": {
      "text/html": [
       "Run data is saved locally in <code>/root/.ekorpkit/projects/default/outputs/default-model/finbert/wandb/run-20220505_095742-160s8iov</code>"
      ],
      "text/plain": [
       "<IPython.core.display.HTML object>"
      ]
     },
     "metadata": {},
     "output_type": "display_data"
    },
    {
     "data": {
      "text/html": [
       "Syncing run <strong><a href=\"https://wandb.ai/entelecheia/default-model/runs/160s8iov\" target=\"_blank\">grievous-jawa-15</a></strong> to <a href=\"https://wandb.ai/entelecheia/default-model\" target=\"_blank\">Weights & Biases</a> (<a href=\"https://wandb.me/run\" target=\"_blank\">docs</a>)<br/>"
      ],
      "text/plain": [
       "<IPython.core.display.HTML object>"
      ]
     },
     "metadata": {},
     "output_type": "display_data"
    },
    {
     "data": {
      "application/vnd.jupyter.widget-view+json": {
       "model_id": "8758f2b2330c44b89bd81f85f4ea17ec",
       "version_major": 2,
       "version_minor": 0
      },
      "text/plain": [
       "Running Epoch 0 of 2:   0%|          | 0/46 [00:00<?, ?it/s]"
      ]
     },
     "metadata": {},
     "output_type": "display_data"
    },
    {
     "data": {
      "application/vnd.jupyter.widget-view+json": {
       "model_id": "717028c6592e4a009c682b31315c4b3b",
       "version_major": 2,
       "version_minor": 0
      },
      "text/plain": [
       "Running Epoch 1 of 2:   0%|          | 0/46 [00:00<?, ?it/s]"
      ]
     },
     "metadata": {},
     "output_type": "display_data"
    },
    {
     "data": {
      "application/vnd.jupyter.widget-view+json": {
       "model_id": "0681c9641aa3470593a3b3d463cf45bc",
       "version_major": 2,
       "version_minor": 0
      },
      "text/plain": [
       "  0%|          | 0/452 [00:00<?, ?it/s]"
      ]
     },
     "metadata": {},
     "output_type": "display_data"
    },
    {
     "data": {
      "application/vnd.jupyter.widget-view+json": {
       "model_id": "88082f8d9ec9488594a46f342adfa99d",
       "version_major": 2,
       "version_minor": 0
      },
      "text/plain": [
       "Running Evaluation:   0%|          | 0/15 [00:00<?, ?it/s]"
      ]
     },
     "metadata": {},
     "output_type": "display_data"
    },
    {
     "data": {
      "text/html": [
       "Finishing last run (ID:160s8iov) before initializing another..."
      ],
      "text/plain": [
       "<IPython.core.display.HTML object>"
      ]
     },
     "metadata": {},
     "output_type": "display_data"
    },
    {
     "data": {
      "text/html": [
       "Waiting for W&B process to finish... <strong style=\"color:green\">(success).</strong>"
      ],
      "text/plain": [
       "<IPython.core.display.HTML object>"
      ]
     },
     "metadata": {},
     "output_type": "display_data"
    },
    {
     "data": {
      "application/vnd.jupyter.widget-view+json": {
       "model_id": "e3afc31e530c446997132977339e3a74",
       "version_major": 2,
       "version_minor": 0
      },
      "text/plain": [
       "VBox(children=(Label(value='0.001 MB of 0.001 MB uploaded (0.000 MB deduped)\\r'), FloatProgress(value=1.0, max…"
      ]
     },
     "metadata": {},
     "output_type": "display_data"
    },
    {
     "data": {
      "text/html": [
       "<style>\n",
       "    table.wandb td:nth-child(1) { padding: 0 10px; text-align: left ; width: auto;} td:nth-child(2) {text-align: left ; width: 100%}\n",
       "    .wandb-row { display: flex; flex-direction: row; flex-wrap: wrap; justify-content: flex-start; width: 100% }\n",
       "    .wandb-col { display: flex; flex-direction: column; flex-basis: 100%; flex: 1; padding: 10px; }\n",
       "    </style>\n",
       "<div class=\"wandb-row\"><div class=\"wandb-col\"><h3>Run history:</h3><br/><table class=\"wandb\"><tr><td>Training loss</td><td>▁</td></tr><tr><td>acc</td><td>▁█</td></tr><tr><td>eval_loss</td><td>█▁</td></tr><tr><td>global_step</td><td>▁▂█</td></tr><tr><td>lr</td><td>▁</td></tr><tr><td>mcc</td><td>▁█</td></tr><tr><td>train_loss</td><td>▁█</td></tr></table><br/></div><div class=\"wandb-col\"><h3>Run summary:</h3><br/><table class=\"wandb\"><tr><td>Training loss</td><td>0.5635</td></tr><tr><td>acc</td><td>0.83425</td></tr><tr><td>eval_loss</td><td>0.39305</td></tr><tr><td>global_step</td><td>92</td></tr><tr><td>lr</td><td>2e-05</td></tr><tr><td>mcc</td><td>0.69657</td></tr><tr><td>train_loss</td><td>0.22582</td></tr></table><br/></div></div>"
      ],
      "text/plain": [
       "<IPython.core.display.HTML object>"
      ]
     },
     "metadata": {},
     "output_type": "display_data"
    },
    {
     "data": {
      "text/html": [
       "Synced <strong style=\"color:#cdcd00\">grievous-jawa-15</strong>: <a href=\"https://wandb.ai/entelecheia/default-model/runs/160s8iov\" target=\"_blank\">https://wandb.ai/entelecheia/default-model/runs/160s8iov</a><br/>Synced 4 W&B file(s), 0 media file(s), 0 artifact file(s) and 0 other file(s)"
      ],
      "text/plain": [
       "<IPython.core.display.HTML object>"
      ]
     },
     "metadata": {},
     "output_type": "display_data"
    },
    {
     "data": {
      "text/html": [
       "Find logs at: <code>/root/.ekorpkit/projects/default/outputs/default-model/finbert/wandb/run-20220505_095742-160s8iov/logs</code>"
      ],
      "text/plain": [
       "<IPython.core.display.HTML object>"
      ]
     },
     "metadata": {},
     "output_type": "display_data"
    },
    {
     "data": {
      "text/html": [
       "Successfully finished last run (ID:160s8iov). Initializing new run:<br/>"
      ],
      "text/plain": [
       "<IPython.core.display.HTML object>"
      ]
     },
     "metadata": {},
     "output_type": "display_data"
    },
    {
     "name": "stdout",
     "output_type": "stream",
     "text": [
      "huggingface/tokenizers: The current process just got forked, after parallelism has already been used. Disabling parallelism to avoid deadlocks...\n",
      "To disable this warning, you can either:\n",
      "\t- Avoid using `tokenizers` before the fork if possible\n",
      "\t- Explicitly set the environment variable TOKENIZERS_PARALLELISM=(true | false)\n"
     ]
    },
    {
     "data": {
      "text/html": [
       "Tracking run with wandb version 0.12.16"
      ],
      "text/plain": [
       "<IPython.core.display.HTML object>"
      ]
     },
     "metadata": {},
     "output_type": "display_data"
    },
    {
     "data": {
      "text/html": [
       "Run data is saved locally in <code>/root/.ekorpkit/projects/default/outputs/default-model/finbert/wandb/run-20220505_100228-1ul16vuo</code>"
      ],
      "text/plain": [
       "<IPython.core.display.HTML object>"
      ]
     },
     "metadata": {},
     "output_type": "display_data"
    },
    {
     "data": {
      "text/html": [
       "Syncing run <strong><a href=\"https://wandb.ai/entelecheia/default-model/runs/1ul16vuo\" target=\"_blank\">galactic-force-16</a></strong> to <a href=\"https://wandb.ai/entelecheia/default-model\" target=\"_blank\">Weights & Biases</a> (<a href=\"https://wandb.me/run\" target=\"_blank\">docs</a>)<br/>"
      ],
      "text/plain": [
       "<IPython.core.display.HTML object>"
      ]
     },
     "metadata": {},
     "output_type": "display_data"
    },
    {
     "data": {
      "text/plain": [
       "<ekorpkit.models.transformer.simple.SimpleClassification at 0x7f2178919c10>"
      ]
     },
     "execution_count": 10,
     "metadata": {},
     "output_type": "execute_result"
    }
   ],
   "source": [
    "overrides=[\n",
    "    '+model/transformer=simple_classification',\n",
    "    '+model/transformer/pretrained=finbert',\n",
    "]\n",
    "model_cfg = eKonf.compose(overrides=overrides, config_group='model/transformer=simple_classification')\n",
    "model_cfg.dataset = ds_cfg\n",
    "model_cfg.verbose = False\n",
    "model_cfg.config.num_train_epochs = 2\n",
    "model_cfg.config.max_seq_length = 256\n",
    "model_cfg.config.train_batch_size = 32\n",
    "model_cfg.config.eval_batch_size = 32\n",
    "model_cfg.labels = ['positive','neutral','negative']\n",
    "model_cfg._call_ = ['train']\n",
    "eKonf.instantiate(model_cfg)"
   ]
  },
  {
   "cell_type": "code",
   "execution_count": 11,
   "metadata": {
    "colab": {
     "base_uri": "https://localhost:8080/",
     "height": 729,
     "referenced_widgets": [
      "596ef1ab7ee64964a457a9d9215fefde",
      "2a74cb5f539b41c1b981f26ef353e8ae",
      "3499c94de2ad4ddead0de1466f4b2d9a",
      "845ecb3e87854b429c1412156b507f01",
      "a7798838c3494f2580e6ae13bcee16a9",
      "dd452aac0200496390256fb806e4aae9",
      "9eb363e387ce494eaeee895c552c93d3",
      "12f9a6e877e34773bf661951a981d9bf",
      "ed81d7597e6b40018bbb081089f95dcb",
      "04a86381ac6241dd8ece5fc30e5d2990",
      "41230ea1a8414c9a9f547479bbfb71a8",
      "0b5cc1d3611e44899babbf2e22931b0c",
      "32dc22965da44535b62c1767315b4a76",
      "e360883f1c9946a2964e2b9be8a1d069",
      "a4dd4680227442b2aea41a4626d46131",
      "d3c4e5efd7d74c7fb5b28fcf2fcb1a46",
      "a393c25d365040018ccdcce992b4c1a2",
      "861f33cdc81d40dcacd183320d798656",
      "2f2dd94e8aa14d6dbade7b9656a6f1bc",
      "444a70d3286f4275ac14feb5ac778538",
      "b8802f24f78042f48b0a3fd4fa7bb690",
      "7099d87c43334d2ab3d44cb221e9ce61"
     ]
    },
    "id": "haXvOqiOrFJD",
    "outputId": "7bb4e010-b580-4596-a7ae-70a654aba5c9"
   },
   "outputs": [
    {
     "data": {
      "application/vnd.jupyter.widget-view+json": {
       "model_id": "596ef1ab7ee64964a457a9d9215fefde",
       "version_major": 2,
       "version_minor": 0
      },
      "text/plain": [
       "  0%|          | 0/452 [00:00<?, ?it/s]"
      ]
     },
     "metadata": {},
     "output_type": "display_data"
    },
    {
     "data": {
      "application/vnd.jupyter.widget-view+json": {
       "model_id": "0b5cc1d3611e44899babbf2e22931b0c",
       "version_major": 2,
       "version_minor": 0
      },
      "text/plain": [
       "  0%|          | 0/15 [00:00<?, ?it/s]"
      ]
     },
     "metadata": {},
     "output_type": "display_data"
    },
    {
     "name": "stdout",
     "output_type": "stream",
     "text": [
      "Accuracy:  0.8230088495575221\n",
      "Precison:  0.858906145289853\n",
      "Recall:  0.8230088495575221\n",
      "F1 Score:  0.8058759358010397\n",
      "Model Report: \n",
      "___________________________________________________\n",
      "              precision    recall  f1-score   support\n",
      "\n",
      "    negative       1.00      0.25      0.39        61\n",
      "     neutral       0.93      0.95      0.94       277\n",
      "    positive       0.61      0.83      0.71       114\n",
      "\n",
      "    accuracy                           0.82       452\n",
      "   macro avg       0.85      0.68      0.68       452\n",
      "weighted avg       0.86      0.82      0.81       452\n",
      "\n"
     ]
    },
    {
     "data": {
      "text/plain": [
       "<ekorpkit.models.transformer.simple.SimpleClassification at 0x7f2170cf1250>"
      ]
     },
     "execution_count": 11,
     "metadata": {},
     "output_type": "execute_result"
    },
    {
     "data": {
      "image/png": "[encoded data removed]",
      "text/plain": [
       "<Figure size 720x360 with 2 Axes>"
      ]
     },
     "metadata": {},
     "output_type": "display_data"
    }
   ],
   "source": [
    "overrides=[\n",
    "    '+model/transformer=simple_classification',\n",
    "    '+model/transformer/pretrained=finbert',\n",
    "]\n",
    "model_cfg = eKonf.compose(overrides=overrides, config_group='model/transformer=simple_classification')\n",
    "model_cfg.dataset = ds_cfg\n",
    "model_cfg.verbose = False\n",
    "model_cfg.config.num_train_epochs = 2\n",
    "model_cfg.config.max_seq_length = 256\n",
    "model_cfg.config.train_batch_size = 32\n",
    "model_cfg.config.eval_batch_size = 32\n",
    "model_cfg.labels = ['positive','neutral','negative']\n",
    "model_cfg._call_ = ['eval']\n",
    "eKonf.instantiate(model_cfg)"
   ]
  },
  {
   "cell_type": "markdown",
   "metadata": {
    "id": "aJE7rczy139h"
   },
   "source": [
    "## Instantiating a T5 classficiation model with `financial_phrasebank` dataset"
   ]
  },
  {
   "cell_type": "code",
   "execution_count": 12,
   "metadata": {
    "colab": {
     "base_uri": "https://localhost:8080/",
     "height": 1000,
     "referenced_widgets": [
      "c27071661fd0477e833e6c0766528de9",
      "9816bf6519a54bd0839f890a7ccc3f69",
      "d9bec0eabea846b6ae3d73ba51cbbb2e",
      "330f39206b584d43bfe88f1a96e41418",
      "eb7ba6871d19435283af5a12c37cae80",
      "fbd3016045564e28a4b2ea77d917ccdb",
      "22296efa0d6347acbbd155c2b7b0f31a",
      "e32f107cfce5463cb98cfbc891ef0f80",
      "1afcc006e6cb4130bb12ef4b959a1284",
      "9a5f6598bc53485091dcbb0a3a8f0fec",
      "c75cd9886af14bd1aa8447f13359d094",
      "6db8d8627eef4cff97b8f0f609537ad9",
      "d01dbb1575ed4207ba2d5e3e0b47430d",
      "71f5d4a636fd45c7a5de4ed62d258e29",
      "8cb4f28626e14b52a23dc5171a75fbf6",
      "23a5e9c6bfc942f596709d3e47442234",
      "2968c15689cd4133b7f13cd0b4c35617",
      "99e932f1bb1f413781f7f0489b9b75cc",
      "453185313b024e13b7e1845f014d224e",
      "db55306707104a829d05bf8f37b6ea50",
      "1dff5db3e56048d78b9b3f253498d4a8",
      "787f807b082a43c5b0002b91366a3f74",
      "dceeb23cf11e4cc99a5bb99973f52ad7",
      "ccaec052b16b4ed882677d661367bc26",
      "75bf32d9d2cf4bea8610ad0acbf76c16",
      "8d6ff125fc9940f6b2ef9da8894ddff2",
      "2136e396a3684fbfbd175193ddb388e1",
      "869159c94f2947d99855ede359fc05bb",
      "a16e7da4f19b405698d03905fc655805",
      "2f04f7874fa44f409fec8072b59ea4b2",
      "c2b84e16998f47fd9552865507ac734f",
      "5b6b0042493d400ebff78a6153237acf",
      "7179d8093bf14423bb5b9f15605299b9",
      "cd4b6454bea94019b588a0c540ce5209",
      "bc84efa999c944378910bd0a04bd6205",
      "7a487d4f517b41828b9f912edfa69785",
      "d8724400d30c4f9da6bb1e7c9e8d7482",
      "a55f7469e1da4c4490656ea389cb9664",
      "9a698877e51b447fbbd2d8e045333811",
      "f653fc55d44548d2ab354221a3d25223",
      "efc6d3a810644dce9fa99c4c5c051c36",
      "a464801451684332b546f9dfc84415f2",
      "b23ed336194d4d7aa81dd9fe63ca2ac8",
      "66cf1f0b4d854f04bb49dfeefafb8452",
      "179e2dc0dc904500ae903a1b1a45c28d",
      "86bd81fa28134c95811d3f8abb803b99",
      "55238d4e78644b45971a7c0089348f81",
      "a5fe75f09c814d25907b44b50bf5dba6",
      "d4e6f5cfb0a04009b231dc55495cdf9b",
      "9cbf7b10c4244b458a0b0373bb3e3bcf",
      "fddf67cf40da4d6d8193b4959681f595",
      "a63a6796a4094ccebc31d183c54fd43a",
      "fbcc798e5cb842d0b334cedd26ccaf85",
      "4e2932303bb64b5aae71ff0ea1914f1f",
      "3cef028152e54ed3a885569aec4a4b1c",
      "cbbec2832a9749b5967ee57672cf4c18",
      "0f837860d31e4fa7ad3be8a2f8d5b5d0",
      "28132e41da74460e93a52766e1c7df4b",
      "a990b83d9e7d4e8f8f3e3bcef3c8696c",
      "8e97a9fe29d043fa8f26795be7d55bf3",
      "d870dd6d05fe44d38247410a867015f6",
      "31914e2d95ee41d0b94e2a1f134b9421",
      "a9c2c71c8daa4eac8017c4b1ff12f432",
      "655c7476dfa047978cd25cd1a7fb5dce",
      "f5f300d1f33346b6b8edfc3672c4ba3c",
      "b2655a40540c4e01a8443a7c57cc9d6d",
      "c7e27427243e4a2399669c4b8ea3d8b3",
      "48c70fde227e4feb9639f40939331ad3",
      "62a909ee09e144b685670d533b64f70a",
      "e0e9cc4060264b1f8e5148f12a893342",
      "99084737eadb474786af5eb4bd7cc57a",
      "97868574b327461d96fc6cd19d47798a",
      "e6b3221fc0eb4aac849d4d78af3cd333",
      "fcdd49622134436384ff24b190c50d6f",
      "b4923b32c61b4a718cd40747e476bc15",
      "5ada48683de94f00a968ddd27bac789a",
      "49927f1a6e68466982c40ae9760ec1e5",
      "74312ca94f004115a0348260f0aed0f8",
      "6002318dbaa1404fac99d8234ddbcf69",
      "f6e65d823de340518fc257a61baf313c",
      "1394946d05824751acd18d1c94f9e1ee",
      "732a401997c041bf9a1d063f916ef415",
      "24a2dfb8cdff48108737f638bbb9a9f6",
      "c41febf8f50c4bbfbca70b9f92b660fd",
      "4daae17e28754b40b41a73ef39af0ae3",
      "0ffd1c5dce4b44f9b2d333f95ff3ca2e",
      "ae93f34d600d4acf96f8860a2e5143b1",
      "4f560d7fbb214225abd0433ec34f7683",
      "a34d3dc0b62e4e41ae76e27a6292e274",
      "549b3826f95d416e9de7b964ee549c9c",
      "33ec626de57c46919f7fc66ce1426de4",
      "efedc6abd67f4c7381f08153e9713468",
      "1b6ec6709d7f426e82e06224cc6b59b4",
      "5c4e7550eaa54f368e377f58ea17a3b0",
      "c32e27eb968d41c094194e2338adcdb0",
      "cf4e01567bc840a4a587de01953ea86c",
      "6731fb6d35a14f489de3cf8c64ac36c9",
      "0e5f922235804536858da248f16fe21a",
      "68fb6fb764144ecdb729891346351817",
      "94e800b5d3ed489b872c153a68c5c27e",
      "698e31982157448691c9086380033afd",
      "2dc5e2d71bb340799eb4917a14cf6d53",
      "ec5b052ebfe44dfd979ca7c237b56130",
      "4ce9fea00588490db041818f3007653e",
      "1ccab9b0b46141c09c5841cc7412c10e",
      "0f73118584d949e6bd40b42100784d00",
      "4a481c46677048fca9c1e8bbf075cd53",
      "5dbf262641004b1a9ecd099862e7521a",
      "aec9b22996ad46b399e55d9820625484",
      "cc0ec6c5829a468db5d957c88828a76e",
      "698636b6c3f74cf58f0e07e8267001b9",
      "b537095e0728430093a6c4480d3909ca",
      "93cd309006ad4f33a6f8023df316660a",
      "7bb31ab884e54d6ab66a67395199bd1b",
      "c258ba6d0c2545af9782ccee350815a2",
      "416586ecafbb496ba9c6d47273f22308",
      "a5f9f3840166422399f9f7e61d802ad7",
      "89d8990fd7ca44b1b394c83194eee3ba",
      "1f41755e7e40400bbf6bddd00c3e2774",
      "6f57b0f70f604afd9e6529ee236c7291",
      "774769e04c5d4eb2bce00bbff1a57b70",
      "d36af2c82897415fa9ce87313877f405",
      "3b2c74e318014eecbbe38c718ffd065c",
      "c404465330074baea15a3c1331dc20d4",
      "4c2f72f69e284e418d7d199eb6301023",
      "64509317dbd14bc68047871933e5aa0b",
      "8e678ecfb40a4f198758b32b2a39bf6f",
      "68b8550ada934780b908926af2d395d9",
      "b0b27963f80c4918b7c1e6f0ae4072bf",
      "0885cbe16c7a4d26a506757b77dce53d",
      "6b0e8182ebf443319424ebd478a4553d",
      "97fa6d8a443541d7bb8f8d8c60003a06",
      "f37da849fb3d4478ad243efb75995d22",
      "dcba7ab91fa24494b7efe80ae23ad464",
      "1092785525f14169816efe8a3f15e3ef",
      "97a453b615f8478ea6d80f8570dde35a",
      "0aff77510a574daebf869dc7ab1a9d55",
      "29c16c2fdefc465f8061df8449927e2d",
      "da2c765031e846879d4795dab7d2a540",
      "5b1c626e85b64febb1e970ea14286654"
     ]
    },
    "id": "SHvUcxWQ139h",
    "outputId": "b72a6441-6817-4c25-c985-f8cc10ad8124"
   },
   "outputs": [
    {
     "data": {
      "application/vnd.jupyter.widget-view+json": {
       "model_id": "c27071661fd0477e833e6c0766528de9",
       "version_major": 2,
       "version_minor": 0
      },
      "text/plain": [
       "Downloading:   0%|          | 0.00/1.17k [00:00<?, ?B/s]"
      ]
     },
     "metadata": {},
     "output_type": "display_data"
    },
    {
     "data": {
      "application/vnd.jupyter.widget-view+json": {
       "model_id": "6db8d8627eef4cff97b8f0f609537ad9",
       "version_major": 2,
       "version_minor": 0
      },
      "text/plain": [
       "Downloading:   0%|          | 0.00/850M [00:00<?, ?B/s]"
      ]
     },
     "metadata": {},
     "output_type": "display_data"
    },
    {
     "data": {
      "application/vnd.jupyter.widget-view+json": {
       "model_id": "dceeb23cf11e4cc99a5bb99973f52ad7",
       "version_major": 2,
       "version_minor": 0
      },
      "text/plain": [
       "Downloading:   0%|          | 0.00/773k [00:00<?, ?B/s]"
      ]
     },
     "metadata": {},
     "output_type": "display_data"
    },
    {
     "data": {
      "application/vnd.jupyter.widget-view+json": {
       "model_id": "cd4b6454bea94019b588a0c540ce5209",
       "version_major": 2,
       "version_minor": 0
      },
      "text/plain": [
       "  0%|          | 0/1445 [00:00<?, ?it/s]"
      ]
     },
     "metadata": {},
     "output_type": "display_data"
    },
    {
     "data": {
      "application/vnd.jupyter.widget-view+json": {
       "model_id": "179e2dc0dc904500ae903a1b1a45c28d",
       "version_major": 2,
       "version_minor": 0
      },
      "text/plain": [
       "Epoch:   0%|          | 0/2 [00:00<?, ?it/s]"
      ]
     },
     "metadata": {},
     "output_type": "display_data"
    },
    {
     "data": {
      "text/html": [
       "Finishing last run (ID:1ul16vuo) before initializing another..."
      ],
      "text/plain": [
       "<IPython.core.display.HTML object>"
      ]
     },
     "metadata": {},
     "output_type": "display_data"
    },
    {
     "data": {
      "text/html": [
       "Waiting for W&B process to finish... <strong style=\"color:green\">(success).</strong>"
      ],
      "text/plain": [
       "<IPython.core.display.HTML object>"
      ]
     },
     "metadata": {},
     "output_type": "display_data"
    },
    {
     "data": {
      "application/vnd.jupyter.widget-view+json": {
       "model_id": "cbbec2832a9749b5967ee57672cf4c18",
       "version_major": 2,
       "version_minor": 0
      },
      "text/plain": [
       "VBox(children=(Label(value='0.002 MB of 0.002 MB uploaded (0.000 MB deduped)\\r'), FloatProgress(value=1.0, max…"
      ]
     },
     "metadata": {},
     "output_type": "display_data"
    },
    {
     "data": {
      "text/html": [
       "Synced <strong style=\"color:#cdcd00\">galactic-force-16</strong>: <a href=\"https://wandb.ai/entelecheia/default-model/runs/1ul16vuo\" target=\"_blank\">https://wandb.ai/entelecheia/default-model/runs/1ul16vuo</a><br/>Synced 5 W&B file(s), 1 media file(s), 1 artifact file(s) and 0 other file(s)"
      ],
      "text/plain": [
       "<IPython.core.display.HTML object>"
      ]
     },
     "metadata": {},
     "output_type": "display_data"
    },
    {
     "data": {
      "text/html": [
       "Find logs at: <code>/root/.ekorpkit/projects/default/outputs/default-model/finbert/wandb/run-20220505_100228-1ul16vuo/logs</code>"
      ],
      "text/plain": [
       "<IPython.core.display.HTML object>"
      ]
     },
     "metadata": {},
     "output_type": "display_data"
    },
    {
     "data": {
      "text/html": [
       "Successfully finished last run (ID:1ul16vuo). Initializing new run:<br/>"
      ],
      "text/plain": [
       "<IPython.core.display.HTML object>"
      ]
     },
     "metadata": {},
     "output_type": "display_data"
    },
    {
     "name": "stdout",
     "output_type": "stream",
     "text": [
      "huggingface/tokenizers: The current process just got forked, after parallelism has already been used. Disabling parallelism to avoid deadlocks...\n",
      "To disable this warning, you can either:\n",
      "\t- Avoid using `tokenizers` before the fork if possible\n",
      "\t- Explicitly set the environment variable TOKENIZERS_PARALLELISM=(true | false)\n"
     ]
    },
    {
     "data": {
      "text/html": [
       "Tracking run with wandb version 0.12.16"
      ],
      "text/plain": [
       "<IPython.core.display.HTML object>"
      ]
     },
     "metadata": {},
     "output_type": "display_data"
    },
    {
     "data": {
      "text/html": [
       "Run data is saved locally in <code>/root/.ekorpkit/projects/default/outputs/default-model/t5-base/wandb/run-20220505_100444-lre7gsjy</code>"
      ],
      "text/plain": [
       "<IPython.core.display.HTML object>"
      ]
     },
     "metadata": {},
     "output_type": "display_data"
    },
    {
     "data": {
      "text/html": [
       "Syncing run <strong><a href=\"https://wandb.ai/entelecheia/default-model/runs/lre7gsjy\" target=\"_blank\">clone-council-17</a></strong> to <a href=\"https://wandb.ai/entelecheia/default-model\" target=\"_blank\">Weights & Biases</a> (<a href=\"https://wandb.me/run\" target=\"_blank\">docs</a>)<br/>"
      ],
      "text/plain": [
       "<IPython.core.display.HTML object>"
      ]
     },
     "metadata": {},
     "output_type": "display_data"
    },
    {
     "data": {
      "application/vnd.jupyter.widget-view+json": {
       "model_id": "655c7476dfa047978cd25cd1a7fb5dce",
       "version_major": 2,
       "version_minor": 0
      },
      "text/plain": [
       "Running Epoch 0 of 2:   0%|          | 0/181 [00:00<?, ?it/s]"
      ]
     },
     "metadata": {},
     "output_type": "display_data"
    },
    {
     "data": {
      "application/vnd.jupyter.widget-view+json": {
       "model_id": "b4923b32c61b4a718cd40747e476bc15",
       "version_major": 2,
       "version_minor": 0
      },
      "text/plain": [
       "  0%|          | 0/362 [00:00<?, ?it/s]"
      ]
     },
     "metadata": {},
     "output_type": "display_data"
    },
    {
     "data": {
      "application/vnd.jupyter.widget-view+json": {
       "model_id": "0ffd1c5dce4b44f9b2d333f95ff3ca2e",
       "version_major": 2,
       "version_minor": 0
      },
      "text/plain": [
       "Running Epoch 1 of 2:   0%|          | 0/181 [00:00<?, ?it/s]"
      ]
     },
     "metadata": {},
     "output_type": "display_data"
    },
    {
     "data": {
      "application/vnd.jupyter.widget-view+json": {
       "model_id": "6731fb6d35a14f489de3cf8c64ac36c9",
       "version_major": 2,
       "version_minor": 0
      },
      "text/plain": [
       "  0%|          | 0/362 [00:00<?, ?it/s]"
      ]
     },
     "metadata": {},
     "output_type": "display_data"
    },
    {
     "data": {
      "application/vnd.jupyter.widget-view+json": {
       "model_id": "5dbf262641004b1a9ecd099862e7521a",
       "version_major": 2,
       "version_minor": 0
      },
      "text/plain": [
       "  0%|          | 0/452 [00:00<?, ?it/s]"
      ]
     },
     "metadata": {},
     "output_type": "display_data"
    },
    {
     "data": {
      "application/vnd.jupyter.widget-view+json": {
       "model_id": "1f41755e7e40400bbf6bddd00c3e2774",
       "version_major": 2,
       "version_minor": 0
      },
      "text/plain": [
       "Running Evaluation:   0%|          | 0/57 [00:00<?, ?it/s]"
      ]
     },
     "metadata": {},
     "output_type": "display_data"
    },
    {
     "name": "stdout",
     "output_type": "stream",
     "text": [
      "{'eval_loss': 0.06524399673199105}\n"
     ]
    },
    {
     "data": {
      "application/vnd.jupyter.widget-view+json": {
       "model_id": "0885cbe16c7a4d26a506757b77dce53d",
       "version_major": 2,
       "version_minor": 0
      },
      "text/plain": [
       "Generating outputs:   0%|          | 0/57 [00:00<?, ?it/s]"
      ]
     },
     "metadata": {},
     "output_type": "display_data"
    },
    {
     "name": "stdout",
     "output_type": "stream",
     "text": [
      "Accuracy:  0.9734513274336283\n",
      "Precison:  0.9741327574769587\n",
      "Recall:  0.9734513274336283\n",
      "F1 Score:  0.9734779147330259\n",
      "Model Report: \n",
      "___________________________________________________\n",
      "              precision    recall  f1-score   support\n",
      "\n",
      "    negative       0.98      0.92      0.95        61\n",
      "     neutral       0.99      0.98      0.99       277\n",
      "    positive       0.93      0.98      0.96       114\n",
      "\n",
      "    accuracy                           0.97       452\n",
      "   macro avg       0.97      0.96      0.96       452\n",
      "weighted avg       0.97      0.97      0.97       452\n",
      "\n"
     ]
    },
    {
     "data": {
      "text/plain": [
       "<ekorpkit.models.transformer.simple_t5.SimpleT5 at 0x7f217076e710>"
      ]
     },
     "execution_count": 12,
     "metadata": {},
     "output_type": "execute_result"
    },
    {
     "data": {
      "image/png": "[encoded data removed]",
      "text/plain": [
       "<Figure size 720x360 with 2 Axes>"
      ]
     },
     "metadata": {},
     "output_type": "display_data"
    }
   ],
   "source": [
    "overrides=[\n",
    "    '+model/transformer=simple_t5_classification',\n",
    "    '+model/transformer/pretrained=t5-base',\n",
    "]\n",
    "model_cfg = eKonf.compose(overrides=overrides, config_group='model/transformer=simple_t5_classification')\n",
    "model_cfg.dataset = ds_cfg\n",
    "model_cfg.verbose = False\n",
    "model_cfg.config.num_train_epochs = 2\n",
    "model_cfg.config.max_seq_length = 256\n",
    "model_cfg.config.train_batch_size = 8\n",
    "model_cfg.config.eval_batch_size = 8\n",
    "model_cfg.labels = ['positive','neutral','negative']\n",
    "model_cfg._call_ = ['train', 'eval']\n",
    "eKonf.instantiate(model_cfg)"
   ]
  },
  {
   "cell_type": "code",
   "execution_count": null,
   "metadata": {
    "id": "R9b2w0_s139h"
   },
   "outputs": [],
   "source": []
  }
 ],
 "metadata": {
  "accelerator": "GPU",
  "colab": {
   "include_colab_link": true,
   "name": "preprocessor.ipynb",
   "provenance": []
  },
  "interpreter": {
   "hash": "f869af7787e6a1c49e09e367fc6e1b81d93d1c6583b43249c80edc047bd13cb2"
  },
  "kernelspec": {
   "display_name": "Python 3",
   "language": "python",
   "name": "python3"
  },
  "language_info": {
   "codemirror_mode": {
    "name": "ipython",
    "version": 3
   },
   "file_extension": ".py",
   "mimetype": "text/x-python",
   "name": "python",
   "nbconvert_exporter": "python",
   "pygments_lexer": "ipython3",
   "version": "3.8.8"
  },
  "widgets": {
   "application/vnd.jupyter.widget-state+json": {
    "state": {},
    "version_major": 2,
    "version_minor": 0
   }
  }
 },
 "nbformat": 4,
 "nbformat_minor": 1
}
