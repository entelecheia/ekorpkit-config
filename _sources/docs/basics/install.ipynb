{
 "cells": [
  {
   "cell_type": "markdown",
   "id": "9d119af1",
   "metadata": {},
   "source": [
    "(file-types:myst-notebooks)=\n",
    "# Installation\n",
    "\n",
    "Install the latest version of ekorpit:\n",
    "\n",
    "```bash\n",
    "pip install -U ekorpkit\n",
    "```\n",
    "\n",
    "To install all extra dependencies,\n",
    "\n",
    "```bash\n",
    "pip install ekorpkit[all]\n",
    "```\n",
    "\n",
    "## Extra dependency keys"
   ]
  },
  {
   "cell_type": "code",
   "execution_count": 1,
   "id": "1f742afb",
   "metadata": {},
   "outputs": [
    {
     "data": {
      "text/plain": [
       "{'all',\n",
       " 'beautifulsoup4',\n",
       " 'bok',\n",
       " 'cssutils',\n",
       " 'database',\n",
       " 'dataset',\n",
       " 'datasets',\n",
       " 'datasketch',\n",
       " 'doc',\n",
       " 'edgar',\n",
       " 'emoji',\n",
       " 'exhaustive',\n",
       " 'fasttext-langdetect',\n",
       " 'fetch',\n",
       " 'fomc',\n",
       " 'fred',\n",
       " 'fredapi',\n",
       " 'ftfy',\n",
       " 'fugashi',\n",
       " 'google-api-python-client',\n",
       " 'google-cloud-storage',\n",
       " 'guesslang',\n",
       " 'html',\n",
       " 'html-to-json',\n",
       " 'hwp',\n",
       " 'joblib',\n",
       " 'jsonlines',\n",
       " 'jsonpath-ng',\n",
       " 'kaleido',\n",
       " 'langdetect',\n",
       " 'loky',\n",
       " 'lsh',\n",
       " 'mail',\n",
       " 'mail-parser',\n",
       " 'matplotlib',\n",
       " 'mecab',\n",
       " 'mecab-ko-dic',\n",
       " 'mecab-python3',\n",
       " 'model',\n",
       " 'modin',\n",
       " 'namu-wiki-extractor',\n",
       " 'nltk',\n",
       " 'numba',\n",
       " 'orjson',\n",
       " 'p_tqdm',\n",
       " 'pandas',\n",
       " 'parser',\n",
       " 'pathos',\n",
       " 'pdfplumber',\n",
       " 'plotly',\n",
       " 'pubmed',\n",
       " 'pubmed_parser',\n",
       " 'py7zr',\n",
       " 'pyLDAvis',\n",
       " 'pyhwp',\n",
       " 'pymongo',\n",
       " 'pynori',\n",
       " 'pysbd',\n",
       " 'pysimdjson',\n",
       " 'ray',\n",
       " 'rich',\n",
       " 'sacremoses',\n",
       " 'seaborn',\n",
       " 'simpletransformers',\n",
       " 'soynlp',\n",
       " 'tensorflow',\n",
       " 'tensorflow-datasets',\n",
       " 'tokenize',\n",
       " 'tokenize-en',\n",
       " 'tomotopy',\n",
       " 'topic',\n",
       " 'transformers',\n",
       " 'visualize',\n",
       " 'wget',\n",
       " 'wiki',\n",
       " 'wikiextractor',\n",
       " 'wordcloud',\n",
       " 'zstandard'}"
      ]
     },
     "execution_count": 1,
     "metadata": {},
     "output_type": "execute_result"
    }
   ],
   "source": [
    "from ekorpkit import eKonf\n",
    "\n",
    "eKonf.dependencies(\"keys\")"
   ]
  },
  {
   "cell_type": "markdown",
   "id": "15e92bd9",
   "metadata": {},
   "source": [
    "### Extra dependencies\n",
    "\n",
    "- all"
   ]
  },
  {
   "cell_type": "code",
   "execution_count": 2,
   "id": "b041992b",
   "metadata": {},
   "outputs": [
    {
     "data": {
      "text/plain": [
       "{'beautifulsoup4',\n",
       " 'cssutils',\n",
       " 'datasets',\n",
       " 'datasketch',\n",
       " 'emoji',\n",
       " 'fredapi',\n",
       " 'ftfy',\n",
       " 'fugashi',\n",
       " 'google-api-python-client',\n",
       " 'google-cloud-storage>=2.0.0',\n",
       " 'html-to-json',\n",
       " 'joblib',\n",
       " 'jsonlines',\n",
       " 'jsonpath-ng',\n",
       " 'kaleido',\n",
       " 'loky',\n",
       " 'lsh',\n",
       " 'matplotlib',\n",
       " 'mecab-ko-dic',\n",
       " 'mecab-python3',\n",
       " 'nltk',\n",
       " 'orjson',\n",
       " 'p_tqdm',\n",
       " 'pathos',\n",
       " 'plotly',\n",
       " 'py7zr',\n",
       " 'pyLDAvis',\n",
       " 'pynori',\n",
       " 'pysbd',\n",
       " 'pysimdjson',\n",
       " 'rich',\n",
       " 'sacremoses',\n",
       " 'seaborn',\n",
       " 'simpletransformers',\n",
       " 'soynlp',\n",
       " 'tensorflow',\n",
       " 'tomotopy',\n",
       " 'wget',\n",
       " 'wordcloud',\n",
       " 'zstandard'}"
      ]
     },
     "execution_count": 2,
     "metadata": {},
     "output_type": "execute_result"
    }
   ],
   "source": [
    "from ekorpkit import eKonf\n",
    "\n",
    "eKonf.dependencies(\"all\")"
   ]
  },
  {
   "cell_type": "markdown",
   "id": "ece32bfa",
   "metadata": {},
   "source": [
    "- tokenize"
   ]
  },
  {
   "cell_type": "code",
   "execution_count": 3,
   "id": "d9b96920",
   "metadata": {},
   "outputs": [
    {
     "data": {
      "text/plain": [
       "{'emoji',\n",
       " 'ftfy',\n",
       " 'fugashi',\n",
       " 'mecab-ko-dic',\n",
       " 'mecab-python3',\n",
       " 'nltk',\n",
       " 'pynori',\n",
       " 'pysbd',\n",
       " 'sacremoses',\n",
       " 'soynlp'}"
      ]
     },
     "execution_count": 3,
     "metadata": {},
     "output_type": "execute_result"
    }
   ],
   "source": [
    "from ekorpkit import eKonf\n",
    "\n",
    "eKonf.dependencies(\"tokenize\")"
   ]
  }
 ],
 "metadata": {
  "jupytext": {
   "formats": "md:myst",
   "text_representation": {
    "extension": ".md",
    "format_name": "myst"
   }
  },
  "kernelspec": {
   "display_name": "Python 3",
   "language": "python",
   "name": "python3"
  },
  "language_info": {
   "codemirror_mode": {
    "name": "ipython",
    "version": 3
   },
   "file_extension": ".py",
   "mimetype": "text/x-python",
   "name": "python",
   "nbconvert_exporter": "python",
   "pygments_lexer": "ipython3",
   "version": "3.8.12"
  },
  "source_map": [
   11,
   30,
   34,
   40,
   44,
   48
  ]
 },
 "nbformat": 4,
 "nbformat_minor": 5
}