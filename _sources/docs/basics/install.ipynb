{
 "cells": [
  {
   "cell_type": "markdown",
   "id": "b788fa81",
   "metadata": {},
   "source": [
    "(file-types:myst-notebooks)=\n",
    "# Installation\n",
    "\n",
    "Install the latest version of ekorpit:\n",
    "\n",
    "```bash\n",
    "pip install -U ekorpkit\n",
    "```\n",
    "\n",
    "To install all extra dependencies,\n",
    "\n",
    "```bash\n",
    "pip install ekorpkit[all]\n",
    "```"
   ]
  },
  {
   "cell_type": "code",
   "execution_count": null,
   "id": "697827f1",
   "metadata": {
    "tags": [
     "mytag"
    ]
   },
   "outputs": [],
   "source": [
    "print(\"A python cell\")"
   ]
  }
 ],
 "metadata": {
  "jupytext": {
   "formats": "md:myst",
   "text_representation": {
    "extension": ".md",
    "format_name": "myst"
   }
  },
  "kernelspec": {
   "display_name": "Python 3",
   "language": "python",
   "name": "python3"
  },
  "source_map": [
   11,
   28
  ]
 },
 "nbformat": 4,
 "nbformat_minor": 5
}