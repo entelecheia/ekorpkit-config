{
 "cells": [
  {
   "cell_type": "markdown",
   "id": "8452d668",
   "metadata": {},
   "source": [
    "# Usage\n",
    "\n",
    "## Via Command Line Interface (CLI)\n",
    "\n",
    "```bash\n",
    "ekorpkit --config-dir /workspace/data/ekorpkit-config/config \\\n",
    "    project=esgml \\\n",
    "    dir.workspace=/workspace \\\n",
    "    num_workers=1 \\\n",
    "    cmd=fetch_builtin_corpus \\\n",
    "    +corpus/builtin=_dummy_fomc_minutes \\\n",
    "    corpus.io.fetch.calculate_stats=true \\\n",
    "    corpus.io.fetch.preprocess_text=true \\\n",
    "    corpus.io.fetch.overwrite=false \\\n",
    "    corpus.io.fetch.force_download=false\n",
    "```\n",
    "\n",
    "### CLI Help\n",
    "\n",
    "To see the available configurations for CLI, run the command:\n",
    "\n",
    "```bash\n",
    "ekorpkit --help\n",
    "```\n",
    "\n",
    "## Via Python\n",
    "\n",
    "There are more examples in the [notebooks](https://github.com/entelecheia/ekorpkit-config/tree/main/notebooks) folder of the [ekorpkit-config](https://github.com/entelecheia/ekorpkit-config.git)\n",
    "\n",
    "### Compose an ekorpkit config\n",
    "\n",
    "```python\n",
    "from ekorpkit import eKonf\n",
    "cfg = eKonf.compose()\n",
    "print('Config type:', type(cfg))\n",
    "eKonf.pprint(cfg)\n",
    "```\n",
    "\n",
    "### Instantiating objects with an ekorpkit config\n",
    "\n",
    "#### compose a config for the nltk class"
   ]
  },
  {
   "cell_type": "code",
   "execution_count": 1,
   "id": "531f35b6",
   "metadata": {},
   "outputs": [
    {
     "name": "stdout",
     "output_type": "stream",
     "text": [
      "{'_target_': 'ekorpkit.preprocessors.tokenizer.NLTKTokenizer',\n",
      " 'extract': {'no_space_for_non_nouns': False,\n",
      "             'noun_postags': ['NN', 'NNP', 'NNS', 'NNPS'],\n",
      "             'postags': None,\n",
      "             'stop_postags': ['.']},\n",
      " 'nltk': {'lemmatize': False,\n",
      "          'lemmatizer': {'_target_': 'nltk.stem.WordNetLemmatizer'},\n",
      "          'stem': True,\n",
      "          'stemmer': {'_target_': 'nltk.stem.PorterStemmer'}},\n",
      " 'normalize': None,\n",
      " 'return_as_list': False,\n",
      " 'stopwords': {'_target_': 'ekorpkit.preprocessors.stopwords.Stopwords',\n",
      "               'lowercase': True,\n",
      "               'name': 'stopwords',\n",
      "               'nltk_stopwords': 'english',\n",
      "               'stopwords': None,\n",
      "               'stopwords_path': None,\n",
      "               'verbose': False},\n",
      " 'stopwords_path': None,\n",
      " 'tagset': None,\n",
      " 'tokenize': {'concat_surface_and_pos': True,\n",
      "              'flatten': True,\n",
      "              'include_whitespace_token': True,\n",
      "              'lowercase': False,\n",
      "              'punct_postags': ['SF', 'SP', 'SSO', 'SSC', 'SY'],\n",
      "              'tokenize_each_word': False,\n",
      "              'userdic_path': None,\n",
      "              'wordpieces_prefix': '##'},\n",
      " 'tokenize_article': {'sentence_separator': '\\\\n'},\n",
      " 'verbose': False}\n"
     ]
    }
   ],
   "source": [
    "from ekorpkit import eKonf\n",
    "config_group='preprocessor/tokenizer=nltk'\n",
    "cfg = eKonf.compose(config_group=config_group)\n",
    "eKonf.pprint(cfg)\n",
    "nltk = eKonf.instantiate(cfg)"
   ]
  },
  {
   "cell_type": "code",
   "execution_count": 2,
   "id": "b1f4a12a",
   "metadata": {},
   "outputs": [
    {
     "data": {
      "text/plain": [
       "['i/PRP',\n",
       " 'shall/MD',\n",
       " 'reemphas/VB',\n",
       " 'some/DT',\n",
       " 'of/IN',\n",
       " 'those/DT',\n",
       " 'thought/NNS',\n",
       " 'today/NN',\n",
       " 'in/IN',\n",
       " 'the/DT',\n",
       " 'context/NN',\n",
       " 'of/IN',\n",
       " 'legisl/JJ',\n",
       " 'propos/NNS',\n",
       " 'that/WDT',\n",
       " 'are/VBP',\n",
       " 'now/RB',\n",
       " 'befor/IN',\n",
       " 'the/DT',\n",
       " 'current/JJ',\n",
       " 'congress/NNP',\n",
       " './.']"
      ]
     },
     "execution_count": 2,
     "metadata": {},
     "output_type": "execute_result"
    }
   ],
   "source": [
    "text = \"I shall reemphasize some of those thoughts today in the context of legislative proposals that are now before the current Congress.\"\n",
    "nltk.tokenize(text)"
   ]
  },
  {
   "cell_type": "code",
   "execution_count": 3,
   "id": "5e72c2fd",
   "metadata": {},
   "outputs": [
    {
     "data": {
      "text/plain": [
       "['thought', 'today', 'context', 'propos', 'congress']"
      ]
     },
     "execution_count": 3,
     "metadata": {},
     "output_type": "execute_result"
    }
   ],
   "source": [
    " nltk.nouns(text)"
   ]
  },
  {
   "cell_type": "markdown",
   "id": "46c10568",
   "metadata": {},
   "source": [
    "#### compose a config for the mecab class"
   ]
  },
  {
   "cell_type": "code",
   "execution_count": 4,
   "id": "676d573e",
   "metadata": {},
   "outputs": [
    {
     "name": "stdout",
     "output_type": "stream",
     "text": [
      "{'_target_': 'ekorpkit.preprocessors.tokenizer.MecabTokenizer',\n",
      " 'extract': {'no_space_for_non_nouns': False,\n",
      "             'noun_postags': ['NNG', 'NNP', 'XSN', 'SL', 'XR', 'NNB', 'NR'],\n",
      "             'postags': None,\n",
      "             'stop_postags': ['SP']},\n",
      " 'mecab': {'backend': 'mecab-python3', 'userdic_path': None, 'verbose': False},\n",
      " 'normalize': None,\n",
      " 'return_as_list': False,\n",
      " 'stopwords': {'_target_': 'ekorpkit.preprocessors.stopwords.Stopwords',\n",
      "               'lowercase': True,\n",
      "               'name': 'stopwords',\n",
      "               'nltk_stopwords': 'english',\n",
      "               'stopwords': None,\n",
      "               'stopwords_path': None,\n",
      "               'verbose': False},\n",
      " 'stopwords_path': None,\n",
      " 'tagset': None,\n",
      " 'tokenize': {'concat_surface_and_pos': True,\n",
      "              'flatten': True,\n",
      "              'include_whitespace_token': True,\n",
      "              'lowercase': False,\n",
      "              'punct_postags': ['SF', 'SP', 'SSO', 'SSC', 'SY'],\n",
      "              'tokenize_each_word': False,\n",
      "              'userdic_path': None,\n",
      "              'wordpieces_prefix': '##'},\n",
      " 'tokenize_article': {'sentence_separator': '\\\\n'},\n",
      " 'verbose': False}\n"
     ]
    }
   ],
   "source": [
    "config_group='preprocessor/tokenizer=mecab'\n",
    "cfg = eKonf.compose(config_group=config_group)\n",
    "eKonf.pprint(cfg)"
   ]
  },
  {
   "cell_type": "markdown",
   "id": "02abe091",
   "metadata": {},
   "source": [
    "#### intantiate a mecab config and tokenize a text"
   ]
  },
  {
   "cell_type": "code",
   "execution_count": 5,
   "id": "da42666f",
   "metadata": {},
   "outputs": [
    {
     "data": {
      "text/plain": [
       "['IMF/SL',\n",
       " '가/JKS',\n",
       " ' /SP',\n",
       " '推定/NNG',\n",
       " '한/XSA+ETM',\n",
       " ' /SP',\n",
       " '우리나라/NNG',\n",
       " '의/JKG',\n",
       " ' /SP',\n",
       " 'GDP/SL',\n",
       " '갭/NNG',\n",
       " '률/XSN',\n",
       " '은/JX',\n",
       " ' /SP',\n",
       " '今年/NNG',\n",
       " '에/JKB',\n",
       " '도/JX',\n",
       " ' /SP',\n",
       " '소폭/NNG',\n",
       " '의/JKG',\n",
       " ' /SP',\n",
       " '마이너스/NNG',\n",
       " '(/SSO',\n",
       " '−)/SY',\n",
       " '를/JKO',\n",
       " ' /SP',\n",
       " '持續/NNG',\n",
       " '하/XSV',\n",
       " '고/EC',\n",
       " ' /SP',\n",
       " '있/VX',\n",
       " '다/EF',\n",
       " './SF']"
      ]
     },
     "execution_count": 5,
     "metadata": {},
     "output_type": "execute_result"
    }
   ],
   "source": [
    "mecab = eKonf.instantiate(cfg)\n",
    "text = 'IMF가 推定한 우리나라의 GDP갭률은 今年에도 소폭의 마이너스(−)를 持續하고 있다.'\n",
    "mecab.tokenize(text)"
   ]
  },
  {
   "cell_type": "markdown",
   "id": "31ebe27e",
   "metadata": {},
   "source": [
    "#### compose and instantiate a `formal_ko` config for the normalizer class"
   ]
  },
  {
   "cell_type": "code",
   "execution_count": 6,
   "id": "04c474e3",
   "metadata": {},
   "outputs": [
    {
     "data": {
      "text/plain": [
       "'IMF가 추정한 우리나라의 GDP갭률은 금년에도 소폭의 마이너스(-)를 지속하고 있다.'"
      ]
     },
     "execution_count": 6,
     "metadata": {},
     "output_type": "execute_result"
    }
   ],
   "source": [
    "config_group='preprocessor/normalizer=formal_ko'\n",
    "cfg_norm = eKonf.compose(config_group=config_group)\n",
    "norm = eKonf.instantiate(cfg_norm)\n",
    "norm(text)"
   ]
  },
  {
   "cell_type": "markdown",
   "id": "b8a480d2",
   "metadata": {},
   "source": [
    "#### instantiate a mecab config with the above normalizer config"
   ]
  },
  {
   "cell_type": "code",
   "execution_count": 7,
   "id": "f0e03ceb",
   "metadata": {},
   "outputs": [
    {
     "data": {
      "text/plain": [
       "['IMF/SL',\n",
       " '가/JKS',\n",
       " ' /SP',\n",
       " '추정/NNG',\n",
       " '한/XSA+ETM',\n",
       " ' /SP',\n",
       " '우리나라/NNG',\n",
       " '의/JKG',\n",
       " ' /SP',\n",
       " 'GDP/SL',\n",
       " '갭/NNG',\n",
       " '률/XSN',\n",
       " '은/JX',\n",
       " ' /SP',\n",
       " '금년/NNG',\n",
       " '에/JKB',\n",
       " '도/JX',\n",
       " ' /SP',\n",
       " '소폭/NNG',\n",
       " '의/JKG',\n",
       " ' /SP',\n",
       " '마이너스/NNG',\n",
       " '(/SSO',\n",
       " '-)/SY',\n",
       " '를/JKO',\n",
       " ' /SP',\n",
       " '지속/NNG',\n",
       " '하/XSV',\n",
       " '고/EC',\n",
       " ' /SP',\n",
       " '있/VX',\n",
       " '다/EF',\n",
       " './SF']"
      ]
     },
     "execution_count": 7,
     "metadata": {},
     "output_type": "execute_result"
    }
   ],
   "source": [
    "config_group='preprocessor/tokenizer=mecab'\n",
    "cfg = eKonf.compose(config_group=config_group)\n",
    "cfg.normalize = cfg_norm\n",
    "mecab = eKonf.instantiate(cfg)\n",
    "mecab.tokenize(text)"
   ]
  }
 ],
 "metadata": {
  "jupytext": {
   "formats": "md:myst",
   "text_representation": {
    "extension": ".md",
    "format_name": "myst"
   }
  },
  "kernelspec": {
   "display_name": "Python 3",
   "language": "python",
   "name": "python3"
  },
  "language_info": {
   "codemirror_mode": {
    "name": "ipython",
    "version": 3
   },
   "file_extension": ".py",
   "mimetype": "text/x-python",
   "name": "python",
   "nbconvert_exporter": "python",
   "pygments_lexer": "ipython3",
   "version": "3.8.12"
  },
  "source_map": [
   11,
   55,
   63,
   68,
   70,
   74,
   78,
   82,
   86,
   90,
   95,
   99
  ]
 },
 "nbformat": 4,
 "nbformat_minor": 5
}